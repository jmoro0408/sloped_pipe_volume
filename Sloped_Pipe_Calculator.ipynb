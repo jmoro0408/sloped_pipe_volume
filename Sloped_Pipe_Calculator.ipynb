{
  "nbformat": 4,
  "nbformat_minor": 0,
  "metadata": {
    "colab": {
      "name": "Sloped_Pipe_Calculator.ipynb",
      "provenance": [],
      "authorship_tag": "ABX9TyMdU8RTD0N59KtpJ4aohFYk",
      "include_colab_link": true
    },
    "kernelspec": {
      "name": "python3",
      "display_name": "Python 3"
    },
    "language_info": {
      "name": "python"
    },
    "widgets": {
      "application/vnd.jupyter.widget-state+json": {
        "a9d99610ace54d9db1156f9d99e67cf1": {
          "model_module": "@jupyter-widgets/controls",
          "model_name": "VBoxModel",
          "model_module_version": "1.5.0",
          "state": {
            "_view_name": "VBoxView",
            "_dom_classes": [],
            "_model_name": "VBoxModel",
            "_view_module": "@jupyter-widgets/controls",
            "_model_module_version": "1.5.0",
            "_view_count": null,
            "_view_module_version": "1.5.0",
            "box_style": "",
            "layout": "IPY_MODEL_b826da05ca094654aefbfc004f57b50a",
            "_model_module": "@jupyter-widgets/controls",
            "children": [
              "IPY_MODEL_fda9ffa653334c6a83b57787db338be9",
              "IPY_MODEL_acc963561f844fa28c708a934ec7ff37",
              "IPY_MODEL_21fa0c1d883d43909cefce9b10292029",
              "IPY_MODEL_c40ffa0324774401bca77d6844b261bb",
              "IPY_MODEL_92c2428f278b42d999e152cbd45df569",
              "IPY_MODEL_8945535d94204f07aedb66028a08eba1"
            ]
          }
        },
        "b826da05ca094654aefbfc004f57b50a": {
          "model_module": "@jupyter-widgets/base",
          "model_name": "LayoutModel",
          "model_module_version": "1.2.0",
          "state": {
            "_view_name": "LayoutView",
            "grid_template_rows": null,
            "right": null,
            "justify_content": null,
            "_view_module": "@jupyter-widgets/base",
            "overflow": null,
            "_model_module_version": "1.2.0",
            "_view_count": null,
            "flex_flow": null,
            "width": null,
            "min_width": null,
            "border": null,
            "align_items": null,
            "bottom": null,
            "_model_module": "@jupyter-widgets/base",
            "top": null,
            "grid_column": null,
            "overflow_y": null,
            "overflow_x": null,
            "grid_auto_flow": null,
            "grid_area": null,
            "grid_template_columns": null,
            "flex": null,
            "_model_name": "LayoutModel",
            "justify_items": null,
            "grid_row": null,
            "max_height": null,
            "align_content": null,
            "visibility": null,
            "align_self": null,
            "height": null,
            "min_height": null,
            "padding": null,
            "grid_auto_rows": null,
            "grid_gap": null,
            "max_width": null,
            "order": null,
            "_view_module_version": "1.2.0",
            "grid_template_areas": null,
            "object_position": null,
            "object_fit": null,
            "grid_auto_columns": null,
            "margin": null,
            "display": null,
            "left": null
          }
        },
        "fda9ffa653334c6a83b57787db338be9": {
          "model_module": "@jupyter-widgets/controls",
          "model_name": "HBoxModel",
          "model_module_version": "1.5.0",
          "state": {
            "_view_name": "HBoxView",
            "_dom_classes": [],
            "_model_name": "HBoxModel",
            "_view_module": "@jupyter-widgets/controls",
            "_model_module_version": "1.5.0",
            "_view_count": null,
            "_view_module_version": "1.5.0",
            "box_style": "",
            "layout": "IPY_MODEL_818e31d00e6e40b3bd4923f299ea7eaa",
            "_model_module": "@jupyter-widgets/controls",
            "children": [
              "IPY_MODEL_33f425927de849c3a9637dee5f2045a1",
              "IPY_MODEL_1b3c5f952a8f431392e5a287208e9ef9"
            ]
          }
        },
        "acc963561f844fa28c708a934ec7ff37": {
          "model_module": "@jupyter-widgets/controls",
          "model_name": "HBoxModel",
          "model_module_version": "1.5.0",
          "state": {
            "_view_name": "HBoxView",
            "_dom_classes": [],
            "_model_name": "HBoxModel",
            "_view_module": "@jupyter-widgets/controls",
            "_model_module_version": "1.5.0",
            "_view_count": null,
            "_view_module_version": "1.5.0",
            "box_style": "",
            "layout": "IPY_MODEL_f82ac63968924d77a8c8083949c11f2f",
            "_model_module": "@jupyter-widgets/controls",
            "children": [
              "IPY_MODEL_f58b9fef334448c38138100aa4846d8d",
              "IPY_MODEL_fb4ad20210f94ddeb5c1c235d4f35537"
            ]
          }
        },
        "21fa0c1d883d43909cefce9b10292029": {
          "model_module": "@jupyter-widgets/controls",
          "model_name": "HBoxModel",
          "model_module_version": "1.5.0",
          "state": {
            "_view_name": "HBoxView",
            "_dom_classes": [],
            "_model_name": "HBoxModel",
            "_view_module": "@jupyter-widgets/controls",
            "_model_module_version": "1.5.0",
            "_view_count": null,
            "_view_module_version": "1.5.0",
            "box_style": "",
            "layout": "IPY_MODEL_9b16d4ab1c3549dab3b4a9ecb0885a57",
            "_model_module": "@jupyter-widgets/controls",
            "children": [
              "IPY_MODEL_e805716505fc40b29abc4801318f83d5"
            ]
          }
        },
        "c40ffa0324774401bca77d6844b261bb": {
          "model_module": "@jupyter-widgets/controls",
          "model_name": "HBoxModel",
          "model_module_version": "1.5.0",
          "state": {
            "_view_name": "HBoxView",
            "_dom_classes": [],
            "_model_name": "HBoxModel",
            "_view_module": "@jupyter-widgets/controls",
            "_model_module_version": "1.5.0",
            "_view_count": null,
            "_view_module_version": "1.5.0",
            "box_style": "",
            "layout": "IPY_MODEL_426a2e412c834fdaa840a5929e209f03",
            "_model_module": "@jupyter-widgets/controls",
            "children": [
              "IPY_MODEL_fb0e1447b1604bb794918cf9f9b93065",
              "IPY_MODEL_34efc360ac4748e1aaf93cd9176dd958"
            ]
          }
        },
        "92c2428f278b42d999e152cbd45df569": {
          "model_module": "@jupyter-widgets/controls",
          "model_name": "HBoxModel",
          "model_module_version": "1.5.0",
          "state": {
            "_view_name": "HBoxView",
            "_dom_classes": [],
            "_model_name": "HBoxModel",
            "_view_module": "@jupyter-widgets/controls",
            "_model_module_version": "1.5.0",
            "_view_count": null,
            "_view_module_version": "1.5.0",
            "box_style": "",
            "layout": "IPY_MODEL_e18a0871ed664e9e879515e146eeec1a",
            "_model_module": "@jupyter-widgets/controls",
            "children": [
              "IPY_MODEL_e533b78f3ca841cfa4b428a32bfdfb8a",
              "IPY_MODEL_4fd0fade34614a1aad1224c2376ac7b3"
            ]
          }
        },
        "8945535d94204f07aedb66028a08eba1": {
          "model_module": "@jupyter-widgets/controls",
          "model_name": "HBoxModel",
          "model_module_version": "1.5.0",
          "state": {
            "_view_name": "HBoxView",
            "_dom_classes": [],
            "_model_name": "HBoxModel",
            "_view_module": "@jupyter-widgets/controls",
            "_model_module_version": "1.5.0",
            "_view_count": null,
            "_view_module_version": "1.5.0",
            "box_style": "",
            "layout": "IPY_MODEL_879ecf129135404fb0daa668b05304b9",
            "_model_module": "@jupyter-widgets/controls",
            "children": [
              "IPY_MODEL_1ed1fce8bfc948828d0dd9a2b7e90458",
              "IPY_MODEL_c89390cbf9f24a57b5666e427480a4de"
            ]
          }
        },
        "818e31d00e6e40b3bd4923f299ea7eaa": {
          "model_module": "@jupyter-widgets/base",
          "model_name": "LayoutModel",
          "model_module_version": "1.2.0",
          "state": {
            "_view_name": "LayoutView",
            "grid_template_rows": null,
            "right": null,
            "justify_content": null,
            "_view_module": "@jupyter-widgets/base",
            "overflow": null,
            "_model_module_version": "1.2.0",
            "_view_count": null,
            "flex_flow": null,
            "width": null,
            "min_width": null,
            "border": null,
            "align_items": null,
            "bottom": null,
            "_model_module": "@jupyter-widgets/base",
            "top": null,
            "grid_column": null,
            "overflow_y": null,
            "overflow_x": null,
            "grid_auto_flow": null,
            "grid_area": null,
            "grid_template_columns": null,
            "flex": null,
            "_model_name": "LayoutModel",
            "justify_items": null,
            "grid_row": null,
            "max_height": null,
            "align_content": null,
            "visibility": null,
            "align_self": null,
            "height": null,
            "min_height": null,
            "padding": null,
            "grid_auto_rows": null,
            "grid_gap": null,
            "max_width": null,
            "order": null,
            "_view_module_version": "1.2.0",
            "grid_template_areas": null,
            "object_position": null,
            "object_fit": null,
            "grid_auto_columns": null,
            "margin": null,
            "display": null,
            "left": null
          }
        },
        "33f425927de849c3a9637dee5f2045a1": {
          "model_module": "@jupyter-widgets/controls",
          "model_name": "LabelModel",
          "model_module_version": "1.5.0",
          "state": {
            "_view_name": "LabelView",
            "style": "IPY_MODEL_759ad3375c364bff86cf945e18e3c17c",
            "_dom_classes": [],
            "description": "",
            "_model_name": "LabelModel",
            "placeholder": "​",
            "_view_module": "@jupyter-widgets/controls",
            "_model_module_version": "1.5.0",
            "value": "Lower End Pipe Invert Elevation (mGeodetic):",
            "_view_count": null,
            "_view_module_version": "1.5.0",
            "description_tooltip": null,
            "_model_module": "@jupyter-widgets/controls",
            "layout": "IPY_MODEL_057f118bbc744dbeb69c1ac47ce5880d"
          }
        },
        "1b3c5f952a8f431392e5a287208e9ef9": {
          "model_module": "@jupyter-widgets/controls",
          "model_name": "BoundedFloatTextModel",
          "model_module_version": "1.5.0",
          "state": {
            "_view_name": "FloatTextView",
            "style": "IPY_MODEL_9c81217a7643400c8367fd40672d8c06",
            "_dom_classes": [],
            "description": "",
            "_model_name": "BoundedFloatTextModel",
            "max": 1000000,
            "_view_module": "@jupyter-widgets/controls",
            "_model_module_version": "1.5.0",
            "value": 0,
            "_view_count": null,
            "disabled": false,
            "_view_module_version": "1.5.0",
            "min": 0,
            "continuous_update": false,
            "step": 0.1,
            "description_tooltip": null,
            "_model_module": "@jupyter-widgets/controls",
            "layout": "IPY_MODEL_2f8d909fb15344acb1d701f792f170df"
          }
        },
        "f82ac63968924d77a8c8083949c11f2f": {
          "model_module": "@jupyter-widgets/base",
          "model_name": "LayoutModel",
          "model_module_version": "1.2.0",
          "state": {
            "_view_name": "LayoutView",
            "grid_template_rows": null,
            "right": null,
            "justify_content": null,
            "_view_module": "@jupyter-widgets/base",
            "overflow": null,
            "_model_module_version": "1.2.0",
            "_view_count": null,
            "flex_flow": null,
            "width": null,
            "min_width": null,
            "border": null,
            "align_items": null,
            "bottom": null,
            "_model_module": "@jupyter-widgets/base",
            "top": null,
            "grid_column": null,
            "overflow_y": null,
            "overflow_x": null,
            "grid_auto_flow": null,
            "grid_area": null,
            "grid_template_columns": null,
            "flex": null,
            "_model_name": "LayoutModel",
            "justify_items": null,
            "grid_row": null,
            "max_height": null,
            "align_content": null,
            "visibility": null,
            "align_self": null,
            "height": null,
            "min_height": null,
            "padding": null,
            "grid_auto_rows": null,
            "grid_gap": null,
            "max_width": null,
            "order": null,
            "_view_module_version": "1.2.0",
            "grid_template_areas": null,
            "object_position": null,
            "object_fit": null,
            "grid_auto_columns": null,
            "margin": null,
            "display": null,
            "left": null
          }
        },
        "f58b9fef334448c38138100aa4846d8d": {
          "model_module": "@jupyter-widgets/controls",
          "model_name": "LabelModel",
          "model_module_version": "1.5.0",
          "state": {
            "_view_name": "LabelView",
            "style": "IPY_MODEL_923fd346ecf24c93a4f71ee0d3bbdaa1",
            "_dom_classes": [],
            "description": "",
            "_model_name": "LabelModel",
            "placeholder": "​",
            "_view_module": "@jupyter-widgets/controls",
            "_model_module_version": "1.5.0",
            "value": "Pipe diameter (m):",
            "_view_count": null,
            "_view_module_version": "1.5.0",
            "description_tooltip": null,
            "_model_module": "@jupyter-widgets/controls",
            "layout": "IPY_MODEL_02c8a2ad951a4c9c8f7b705e1417d12e"
          }
        },
        "fb4ad20210f94ddeb5c1c235d4f35537": {
          "model_module": "@jupyter-widgets/controls",
          "model_name": "BoundedFloatTextModel",
          "model_module_version": "1.5.0",
          "state": {
            "_view_name": "FloatTextView",
            "style": "IPY_MODEL_c165d6ea58d249a29b7b12290fd20bad",
            "_dom_classes": [],
            "description": "",
            "_model_name": "BoundedFloatTextModel",
            "max": 1000000,
            "_view_module": "@jupyter-widgets/controls",
            "_model_module_version": "1.5.0",
            "value": 2,
            "_view_count": null,
            "disabled": false,
            "_view_module_version": "1.5.0",
            "min": 0,
            "continuous_update": false,
            "step": 0.1,
            "description_tooltip": null,
            "_model_module": "@jupyter-widgets/controls",
            "layout": "IPY_MODEL_5b938f80fe664d3cbe67793324e1a1d9"
          }
        },
        "9b16d4ab1c3549dab3b4a9ecb0885a57": {
          "model_module": "@jupyter-widgets/base",
          "model_name": "LayoutModel",
          "model_module_version": "1.2.0",
          "state": {
            "_view_name": "LayoutView",
            "grid_template_rows": null,
            "right": null,
            "justify_content": null,
            "_view_module": "@jupyter-widgets/base",
            "overflow": null,
            "_model_module_version": "1.2.0",
            "_view_count": null,
            "flex_flow": null,
            "width": null,
            "min_width": null,
            "border": null,
            "align_items": null,
            "bottom": null,
            "_model_module": "@jupyter-widgets/base",
            "top": null,
            "grid_column": null,
            "overflow_y": null,
            "overflow_x": null,
            "grid_auto_flow": null,
            "grid_area": null,
            "grid_template_columns": null,
            "flex": null,
            "_model_name": "LayoutModel",
            "justify_items": null,
            "grid_row": null,
            "max_height": null,
            "align_content": null,
            "visibility": null,
            "align_self": null,
            "height": null,
            "min_height": null,
            "padding": null,
            "grid_auto_rows": null,
            "grid_gap": null,
            "max_width": null,
            "order": null,
            "_view_module_version": "1.2.0",
            "grid_template_areas": null,
            "object_position": null,
            "object_fit": null,
            "grid_auto_columns": null,
            "margin": null,
            "display": null,
            "left": null
          }
        },
        "e805716505fc40b29abc4801318f83d5": {
          "model_module": "@jupyter-widgets/controls",
          "model_name": "FloatSliderModel",
          "model_module_version": "1.5.0",
          "state": {
            "_view_name": "FloatSliderView",
            "style": "IPY_MODEL_8a52cf7e384a4b07b313906c1b284141",
            "_dom_classes": [],
            "description": "Grade %:",
            "step": 0.01,
            "_model_name": "FloatSliderModel",
            "orientation": "horizontal",
            "max": 5,
            "_view_module": "@jupyter-widgets/controls",
            "_model_module_version": "1.5.0",
            "value": 0.2,
            "_view_count": null,
            "disabled": false,
            "_view_module_version": "1.5.0",
            "min": 0,
            "continuous_update": false,
            "readout_format": ".1f",
            "description_tooltip": null,
            "readout": true,
            "_model_module": "@jupyter-widgets/controls",
            "layout": "IPY_MODEL_bb8b31fce1aa4fdeac9abe8af92c9a0b"
          }
        },
        "426a2e412c834fdaa840a5929e209f03": {
          "model_module": "@jupyter-widgets/base",
          "model_name": "LayoutModel",
          "model_module_version": "1.2.0",
          "state": {
            "_view_name": "LayoutView",
            "grid_template_rows": null,
            "right": null,
            "justify_content": null,
            "_view_module": "@jupyter-widgets/base",
            "overflow": null,
            "_model_module_version": "1.2.0",
            "_view_count": null,
            "flex_flow": null,
            "width": null,
            "min_width": null,
            "border": null,
            "align_items": null,
            "bottom": null,
            "_model_module": "@jupyter-widgets/base",
            "top": null,
            "grid_column": null,
            "overflow_y": null,
            "overflow_x": null,
            "grid_auto_flow": null,
            "grid_area": null,
            "grid_template_columns": null,
            "flex": null,
            "_model_name": "LayoutModel",
            "justify_items": null,
            "grid_row": null,
            "max_height": null,
            "align_content": null,
            "visibility": null,
            "align_self": null,
            "height": null,
            "min_height": null,
            "padding": null,
            "grid_auto_rows": null,
            "grid_gap": null,
            "max_width": null,
            "order": null,
            "_view_module_version": "1.2.0",
            "grid_template_areas": null,
            "object_position": null,
            "object_fit": null,
            "grid_auto_columns": null,
            "margin": null,
            "display": null,
            "left": null
          }
        },
        "fb0e1447b1604bb794918cf9f9b93065": {
          "model_module": "@jupyter-widgets/controls",
          "model_name": "LabelModel",
          "model_module_version": "1.5.0",
          "state": {
            "_view_name": "LabelView",
            "style": "IPY_MODEL_3707be4cf8144ad8a569fd5effe594c3",
            "_dom_classes": [],
            "description": "",
            "_model_name": "LabelModel",
            "placeholder": "​",
            "_view_module": "@jupyter-widgets/controls",
            "_model_module_version": "1.5.0",
            "value": "Pipe length (m):",
            "_view_count": null,
            "_view_module_version": "1.5.0",
            "description_tooltip": null,
            "_model_module": "@jupyter-widgets/controls",
            "layout": "IPY_MODEL_050da2ea0357451e85cfdfd20fb2967a"
          }
        },
        "34efc360ac4748e1aaf93cd9176dd958": {
          "model_module": "@jupyter-widgets/controls",
          "model_name": "BoundedFloatTextModel",
          "model_module_version": "1.5.0",
          "state": {
            "_view_name": "FloatTextView",
            "style": "IPY_MODEL_86becef9f07443ea89880cc20342b0b9",
            "_dom_classes": [],
            "description": "",
            "_model_name": "BoundedFloatTextModel",
            "max": 1000000,
            "_view_module": "@jupyter-widgets/controls",
            "_model_module_version": "1.5.0",
            "value": 200,
            "_view_count": null,
            "disabled": false,
            "_view_module_version": "1.5.0",
            "min": 0,
            "continuous_update": false,
            "step": 0.1,
            "description_tooltip": null,
            "_model_module": "@jupyter-widgets/controls",
            "layout": "IPY_MODEL_8769194b278a403cad24e6d49753fce3"
          }
        },
        "e18a0871ed664e9e879515e146eeec1a": {
          "model_module": "@jupyter-widgets/base",
          "model_name": "LayoutModel",
          "model_module_version": "1.2.0",
          "state": {
            "_view_name": "LayoutView",
            "grid_template_rows": null,
            "right": null,
            "justify_content": null,
            "_view_module": "@jupyter-widgets/base",
            "overflow": null,
            "_model_module_version": "1.2.0",
            "_view_count": null,
            "flex_flow": null,
            "width": null,
            "min_width": null,
            "border": null,
            "align_items": null,
            "bottom": null,
            "_model_module": "@jupyter-widgets/base",
            "top": null,
            "grid_column": null,
            "overflow_y": null,
            "overflow_x": null,
            "grid_auto_flow": null,
            "grid_area": null,
            "grid_template_columns": null,
            "flex": null,
            "_model_name": "LayoutModel",
            "justify_items": null,
            "grid_row": null,
            "max_height": null,
            "align_content": null,
            "visibility": null,
            "align_self": null,
            "height": null,
            "min_height": null,
            "padding": null,
            "grid_auto_rows": null,
            "grid_gap": null,
            "max_width": null,
            "order": null,
            "_view_module_version": "1.2.0",
            "grid_template_areas": null,
            "object_position": null,
            "object_fit": null,
            "grid_auto_columns": null,
            "margin": null,
            "display": null,
            "left": null
          }
        },
        "e533b78f3ca841cfa4b428a32bfdfb8a": {
          "model_module": "@jupyter-widgets/controls",
          "model_name": "LabelModel",
          "model_module_version": "1.5.0",
          "state": {
            "_view_name": "LabelView",
            "style": "IPY_MODEL_143c65dcf38449be9c06e3845ffbee9d",
            "_dom_classes": [],
            "description": "",
            "_model_name": "LabelModel",
            "placeholder": "​",
            "_view_module": "@jupyter-widgets/controls",
            "_model_module_version": "1.5.0",
            "value": "Liquid Density (kg/m3):",
            "_view_count": null,
            "_view_module_version": "1.5.0",
            "description_tooltip": null,
            "_model_module": "@jupyter-widgets/controls",
            "layout": "IPY_MODEL_becf2817176244048a85145b04d3e73d"
          }
        },
        "4fd0fade34614a1aad1224c2376ac7b3": {
          "model_module": "@jupyter-widgets/controls",
          "model_name": "BoundedFloatTextModel",
          "model_module_version": "1.5.0",
          "state": {
            "_view_name": "FloatTextView",
            "style": "IPY_MODEL_f9a6c6d1d6184bebba5335bed1a6db25",
            "_dom_classes": [],
            "description": "",
            "_model_name": "BoundedFloatTextModel",
            "max": 1000000,
            "_view_module": "@jupyter-widgets/controls",
            "_model_module_version": "1.5.0",
            "value": 998,
            "_view_count": null,
            "disabled": false,
            "_view_module_version": "1.5.0",
            "min": 0,
            "continuous_update": false,
            "step": 0.1,
            "description_tooltip": null,
            "_model_module": "@jupyter-widgets/controls",
            "layout": "IPY_MODEL_92f563915cf64cbcbb4a0b4e9ab0d27b"
          }
        },
        "879ecf129135404fb0daa668b05304b9": {
          "model_module": "@jupyter-widgets/base",
          "model_name": "LayoutModel",
          "model_module_version": "1.2.0",
          "state": {
            "_view_name": "LayoutView",
            "grid_template_rows": null,
            "right": null,
            "justify_content": null,
            "_view_module": "@jupyter-widgets/base",
            "overflow": null,
            "_model_module_version": "1.2.0",
            "_view_count": null,
            "flex_flow": null,
            "width": null,
            "min_width": null,
            "border": null,
            "align_items": null,
            "bottom": null,
            "_model_module": "@jupyter-widgets/base",
            "top": null,
            "grid_column": null,
            "overflow_y": null,
            "overflow_x": null,
            "grid_auto_flow": null,
            "grid_area": null,
            "grid_template_columns": null,
            "flex": null,
            "_model_name": "LayoutModel",
            "justify_items": null,
            "grid_row": null,
            "max_height": null,
            "align_content": null,
            "visibility": null,
            "align_self": null,
            "height": null,
            "min_height": null,
            "padding": null,
            "grid_auto_rows": null,
            "grid_gap": null,
            "max_width": null,
            "order": null,
            "_view_module_version": "1.2.0",
            "grid_template_areas": null,
            "object_position": null,
            "object_fit": null,
            "grid_auto_columns": null,
            "margin": null,
            "display": null,
            "left": null
          }
        },
        "1ed1fce8bfc948828d0dd9a2b7e90458": {
          "model_module": "@jupyter-widgets/controls",
          "model_name": "LabelModel",
          "model_module_version": "1.5.0",
          "state": {
            "_view_name": "LabelView",
            "style": "IPY_MODEL_c2368e9315c54189968e26cf49e99bf5",
            "_dom_classes": [],
            "description": "",
            "_model_name": "LabelModel",
            "placeholder": "​",
            "_view_module": "@jupyter-widgets/controls",
            "_model_module_version": "1.5.0",
            "value": "Liquid at pipe lower elevation (m):",
            "_view_count": null,
            "_view_module_version": "1.5.0",
            "description_tooltip": null,
            "_model_module": "@jupyter-widgets/controls",
            "layout": "IPY_MODEL_62f1a89fcf4e425899c31975940c6169"
          }
        },
        "c89390cbf9f24a57b5666e427480a4de": {
          "model_module": "@jupyter-widgets/controls",
          "model_name": "BoundedFloatTextModel",
          "model_module_version": "1.5.0",
          "state": {
            "_view_name": "FloatTextView",
            "style": "IPY_MODEL_5881195c30f640f992898d3768eeae35",
            "_dom_classes": [],
            "description": "",
            "_model_name": "BoundedFloatTextModel",
            "max": 1000000,
            "_view_module": "@jupyter-widgets/controls",
            "_model_module_version": "1.5.0",
            "value": 1,
            "_view_count": null,
            "disabled": false,
            "_view_module_version": "1.5.0",
            "min": 0,
            "continuous_update": false,
            "step": 0.1,
            "description_tooltip": null,
            "_model_module": "@jupyter-widgets/controls",
            "layout": "IPY_MODEL_0fdb27a85ed640c586a3af1040f7e84a"
          }
        },
        "759ad3375c364bff86cf945e18e3c17c": {
          "model_module": "@jupyter-widgets/controls",
          "model_name": "DescriptionStyleModel",
          "model_module_version": "1.5.0",
          "state": {
            "_view_name": "StyleView",
            "_model_name": "DescriptionStyleModel",
            "description_width": "",
            "_view_module": "@jupyter-widgets/base",
            "_model_module_version": "1.5.0",
            "_view_count": null,
            "_view_module_version": "1.2.0",
            "_model_module": "@jupyter-widgets/controls"
          }
        },
        "057f118bbc744dbeb69c1ac47ce5880d": {
          "model_module": "@jupyter-widgets/base",
          "model_name": "LayoutModel",
          "model_module_version": "1.2.0",
          "state": {
            "_view_name": "LayoutView",
            "grid_template_rows": null,
            "right": null,
            "justify_content": null,
            "_view_module": "@jupyter-widgets/base",
            "overflow": null,
            "_model_module_version": "1.2.0",
            "_view_count": null,
            "flex_flow": null,
            "width": null,
            "min_width": null,
            "border": null,
            "align_items": null,
            "bottom": null,
            "_model_module": "@jupyter-widgets/base",
            "top": null,
            "grid_column": null,
            "overflow_y": null,
            "overflow_x": null,
            "grid_auto_flow": null,
            "grid_area": null,
            "grid_template_columns": null,
            "flex": null,
            "_model_name": "LayoutModel",
            "justify_items": null,
            "grid_row": null,
            "max_height": null,
            "align_content": null,
            "visibility": null,
            "align_self": null,
            "height": null,
            "min_height": null,
            "padding": null,
            "grid_auto_rows": null,
            "grid_gap": null,
            "max_width": null,
            "order": null,
            "_view_module_version": "1.2.0",
            "grid_template_areas": null,
            "object_position": null,
            "object_fit": null,
            "grid_auto_columns": null,
            "margin": null,
            "display": null,
            "left": null
          }
        },
        "9c81217a7643400c8367fd40672d8c06": {
          "model_module": "@jupyter-widgets/controls",
          "model_name": "DescriptionStyleModel",
          "model_module_version": "1.5.0",
          "state": {
            "_view_name": "StyleView",
            "_model_name": "DescriptionStyleModel",
            "description_width": "",
            "_view_module": "@jupyter-widgets/base",
            "_model_module_version": "1.5.0",
            "_view_count": null,
            "_view_module_version": "1.2.0",
            "_model_module": "@jupyter-widgets/controls"
          }
        },
        "2f8d909fb15344acb1d701f792f170df": {
          "model_module": "@jupyter-widgets/base",
          "model_name": "LayoutModel",
          "model_module_version": "1.2.0",
          "state": {
            "_view_name": "LayoutView",
            "grid_template_rows": null,
            "right": null,
            "justify_content": null,
            "_view_module": "@jupyter-widgets/base",
            "overflow": null,
            "_model_module_version": "1.2.0",
            "_view_count": null,
            "flex_flow": null,
            "width": null,
            "min_width": null,
            "border": null,
            "align_items": null,
            "bottom": null,
            "_model_module": "@jupyter-widgets/base",
            "top": null,
            "grid_column": null,
            "overflow_y": null,
            "overflow_x": null,
            "grid_auto_flow": null,
            "grid_area": null,
            "grid_template_columns": null,
            "flex": null,
            "_model_name": "LayoutModel",
            "justify_items": null,
            "grid_row": null,
            "max_height": null,
            "align_content": null,
            "visibility": null,
            "align_self": null,
            "height": null,
            "min_height": null,
            "padding": null,
            "grid_auto_rows": null,
            "grid_gap": null,
            "max_width": null,
            "order": null,
            "_view_module_version": "1.2.0",
            "grid_template_areas": null,
            "object_position": null,
            "object_fit": null,
            "grid_auto_columns": null,
            "margin": null,
            "display": null,
            "left": null
          }
        },
        "923fd346ecf24c93a4f71ee0d3bbdaa1": {
          "model_module": "@jupyter-widgets/controls",
          "model_name": "DescriptionStyleModel",
          "model_module_version": "1.5.0",
          "state": {
            "_view_name": "StyleView",
            "_model_name": "DescriptionStyleModel",
            "description_width": "",
            "_view_module": "@jupyter-widgets/base",
            "_model_module_version": "1.5.0",
            "_view_count": null,
            "_view_module_version": "1.2.0",
            "_model_module": "@jupyter-widgets/controls"
          }
        },
        "02c8a2ad951a4c9c8f7b705e1417d12e": {
          "model_module": "@jupyter-widgets/base",
          "model_name": "LayoutModel",
          "model_module_version": "1.2.0",
          "state": {
            "_view_name": "LayoutView",
            "grid_template_rows": null,
            "right": null,
            "justify_content": null,
            "_view_module": "@jupyter-widgets/base",
            "overflow": null,
            "_model_module_version": "1.2.0",
            "_view_count": null,
            "flex_flow": null,
            "width": null,
            "min_width": null,
            "border": null,
            "align_items": null,
            "bottom": null,
            "_model_module": "@jupyter-widgets/base",
            "top": null,
            "grid_column": null,
            "overflow_y": null,
            "overflow_x": null,
            "grid_auto_flow": null,
            "grid_area": null,
            "grid_template_columns": null,
            "flex": null,
            "_model_name": "LayoutModel",
            "justify_items": null,
            "grid_row": null,
            "max_height": null,
            "align_content": null,
            "visibility": null,
            "align_self": null,
            "height": null,
            "min_height": null,
            "padding": null,
            "grid_auto_rows": null,
            "grid_gap": null,
            "max_width": null,
            "order": null,
            "_view_module_version": "1.2.0",
            "grid_template_areas": null,
            "object_position": null,
            "object_fit": null,
            "grid_auto_columns": null,
            "margin": null,
            "display": null,
            "left": null
          }
        },
        "c165d6ea58d249a29b7b12290fd20bad": {
          "model_module": "@jupyter-widgets/controls",
          "model_name": "DescriptionStyleModel",
          "model_module_version": "1.5.0",
          "state": {
            "_view_name": "StyleView",
            "_model_name": "DescriptionStyleModel",
            "description_width": "",
            "_view_module": "@jupyter-widgets/base",
            "_model_module_version": "1.5.0",
            "_view_count": null,
            "_view_module_version": "1.2.0",
            "_model_module": "@jupyter-widgets/controls"
          }
        },
        "5b938f80fe664d3cbe67793324e1a1d9": {
          "model_module": "@jupyter-widgets/base",
          "model_name": "LayoutModel",
          "model_module_version": "1.2.0",
          "state": {
            "_view_name": "LayoutView",
            "grid_template_rows": null,
            "right": null,
            "justify_content": null,
            "_view_module": "@jupyter-widgets/base",
            "overflow": null,
            "_model_module_version": "1.2.0",
            "_view_count": null,
            "flex_flow": null,
            "width": null,
            "min_width": null,
            "border": null,
            "align_items": null,
            "bottom": null,
            "_model_module": "@jupyter-widgets/base",
            "top": null,
            "grid_column": null,
            "overflow_y": null,
            "overflow_x": null,
            "grid_auto_flow": null,
            "grid_area": null,
            "grid_template_columns": null,
            "flex": null,
            "_model_name": "LayoutModel",
            "justify_items": null,
            "grid_row": null,
            "max_height": null,
            "align_content": null,
            "visibility": null,
            "align_self": null,
            "height": null,
            "min_height": null,
            "padding": null,
            "grid_auto_rows": null,
            "grid_gap": null,
            "max_width": null,
            "order": null,
            "_view_module_version": "1.2.0",
            "grid_template_areas": null,
            "object_position": null,
            "object_fit": null,
            "grid_auto_columns": null,
            "margin": null,
            "display": null,
            "left": null
          }
        },
        "8a52cf7e384a4b07b313906c1b284141": {
          "model_module": "@jupyter-widgets/controls",
          "model_name": "SliderStyleModel",
          "model_module_version": "1.5.0",
          "state": {
            "_view_name": "StyleView",
            "handle_color": null,
            "_model_name": "SliderStyleModel",
            "description_width": "",
            "_view_module": "@jupyter-widgets/base",
            "_model_module_version": "1.5.0",
            "_view_count": null,
            "_view_module_version": "1.2.0",
            "_model_module": "@jupyter-widgets/controls"
          }
        },
        "bb8b31fce1aa4fdeac9abe8af92c9a0b": {
          "model_module": "@jupyter-widgets/base",
          "model_name": "LayoutModel",
          "model_module_version": "1.2.0",
          "state": {
            "_view_name": "LayoutView",
            "grid_template_rows": null,
            "right": null,
            "justify_content": null,
            "_view_module": "@jupyter-widgets/base",
            "overflow": null,
            "_model_module_version": "1.2.0",
            "_view_count": null,
            "flex_flow": null,
            "width": null,
            "min_width": null,
            "border": null,
            "align_items": null,
            "bottom": null,
            "_model_module": "@jupyter-widgets/base",
            "top": null,
            "grid_column": null,
            "overflow_y": null,
            "overflow_x": null,
            "grid_auto_flow": null,
            "grid_area": null,
            "grid_template_columns": null,
            "flex": null,
            "_model_name": "LayoutModel",
            "justify_items": null,
            "grid_row": null,
            "max_height": null,
            "align_content": null,
            "visibility": null,
            "align_self": null,
            "height": null,
            "min_height": null,
            "padding": null,
            "grid_auto_rows": null,
            "grid_gap": null,
            "max_width": null,
            "order": null,
            "_view_module_version": "1.2.0",
            "grid_template_areas": null,
            "object_position": null,
            "object_fit": null,
            "grid_auto_columns": null,
            "margin": null,
            "display": null,
            "left": null
          }
        },
        "3707be4cf8144ad8a569fd5effe594c3": {
          "model_module": "@jupyter-widgets/controls",
          "model_name": "DescriptionStyleModel",
          "model_module_version": "1.5.0",
          "state": {
            "_view_name": "StyleView",
            "_model_name": "DescriptionStyleModel",
            "description_width": "",
            "_view_module": "@jupyter-widgets/base",
            "_model_module_version": "1.5.0",
            "_view_count": null,
            "_view_module_version": "1.2.0",
            "_model_module": "@jupyter-widgets/controls"
          }
        },
        "050da2ea0357451e85cfdfd20fb2967a": {
          "model_module": "@jupyter-widgets/base",
          "model_name": "LayoutModel",
          "model_module_version": "1.2.0",
          "state": {
            "_view_name": "LayoutView",
            "grid_template_rows": null,
            "right": null,
            "justify_content": null,
            "_view_module": "@jupyter-widgets/base",
            "overflow": null,
            "_model_module_version": "1.2.0",
            "_view_count": null,
            "flex_flow": null,
            "width": null,
            "min_width": null,
            "border": null,
            "align_items": null,
            "bottom": null,
            "_model_module": "@jupyter-widgets/base",
            "top": null,
            "grid_column": null,
            "overflow_y": null,
            "overflow_x": null,
            "grid_auto_flow": null,
            "grid_area": null,
            "grid_template_columns": null,
            "flex": null,
            "_model_name": "LayoutModel",
            "justify_items": null,
            "grid_row": null,
            "max_height": null,
            "align_content": null,
            "visibility": null,
            "align_self": null,
            "height": null,
            "min_height": null,
            "padding": null,
            "grid_auto_rows": null,
            "grid_gap": null,
            "max_width": null,
            "order": null,
            "_view_module_version": "1.2.0",
            "grid_template_areas": null,
            "object_position": null,
            "object_fit": null,
            "grid_auto_columns": null,
            "margin": null,
            "display": null,
            "left": null
          }
        },
        "86becef9f07443ea89880cc20342b0b9": {
          "model_module": "@jupyter-widgets/controls",
          "model_name": "DescriptionStyleModel",
          "model_module_version": "1.5.0",
          "state": {
            "_view_name": "StyleView",
            "_model_name": "DescriptionStyleModel",
            "description_width": "",
            "_view_module": "@jupyter-widgets/base",
            "_model_module_version": "1.5.0",
            "_view_count": null,
            "_view_module_version": "1.2.0",
            "_model_module": "@jupyter-widgets/controls"
          }
        },
        "8769194b278a403cad24e6d49753fce3": {
          "model_module": "@jupyter-widgets/base",
          "model_name": "LayoutModel",
          "model_module_version": "1.2.0",
          "state": {
            "_view_name": "LayoutView",
            "grid_template_rows": null,
            "right": null,
            "justify_content": null,
            "_view_module": "@jupyter-widgets/base",
            "overflow": null,
            "_model_module_version": "1.2.0",
            "_view_count": null,
            "flex_flow": null,
            "width": null,
            "min_width": null,
            "border": null,
            "align_items": null,
            "bottom": null,
            "_model_module": "@jupyter-widgets/base",
            "top": null,
            "grid_column": null,
            "overflow_y": null,
            "overflow_x": null,
            "grid_auto_flow": null,
            "grid_area": null,
            "grid_template_columns": null,
            "flex": null,
            "_model_name": "LayoutModel",
            "justify_items": null,
            "grid_row": null,
            "max_height": null,
            "align_content": null,
            "visibility": null,
            "align_self": null,
            "height": null,
            "min_height": null,
            "padding": null,
            "grid_auto_rows": null,
            "grid_gap": null,
            "max_width": null,
            "order": null,
            "_view_module_version": "1.2.0",
            "grid_template_areas": null,
            "object_position": null,
            "object_fit": null,
            "grid_auto_columns": null,
            "margin": null,
            "display": null,
            "left": null
          }
        },
        "143c65dcf38449be9c06e3845ffbee9d": {
          "model_module": "@jupyter-widgets/controls",
          "model_name": "DescriptionStyleModel",
          "model_module_version": "1.5.0",
          "state": {
            "_view_name": "StyleView",
            "_model_name": "DescriptionStyleModel",
            "description_width": "",
            "_view_module": "@jupyter-widgets/base",
            "_model_module_version": "1.5.0",
            "_view_count": null,
            "_view_module_version": "1.2.0",
            "_model_module": "@jupyter-widgets/controls"
          }
        },
        "becf2817176244048a85145b04d3e73d": {
          "model_module": "@jupyter-widgets/base",
          "model_name": "LayoutModel",
          "model_module_version": "1.2.0",
          "state": {
            "_view_name": "LayoutView",
            "grid_template_rows": null,
            "right": null,
            "justify_content": null,
            "_view_module": "@jupyter-widgets/base",
            "overflow": null,
            "_model_module_version": "1.2.0",
            "_view_count": null,
            "flex_flow": null,
            "width": null,
            "min_width": null,
            "border": null,
            "align_items": null,
            "bottom": null,
            "_model_module": "@jupyter-widgets/base",
            "top": null,
            "grid_column": null,
            "overflow_y": null,
            "overflow_x": null,
            "grid_auto_flow": null,
            "grid_area": null,
            "grid_template_columns": null,
            "flex": null,
            "_model_name": "LayoutModel",
            "justify_items": null,
            "grid_row": null,
            "max_height": null,
            "align_content": null,
            "visibility": null,
            "align_self": null,
            "height": null,
            "min_height": null,
            "padding": null,
            "grid_auto_rows": null,
            "grid_gap": null,
            "max_width": null,
            "order": null,
            "_view_module_version": "1.2.0",
            "grid_template_areas": null,
            "object_position": null,
            "object_fit": null,
            "grid_auto_columns": null,
            "margin": null,
            "display": null,
            "left": null
          }
        },
        "f9a6c6d1d6184bebba5335bed1a6db25": {
          "model_module": "@jupyter-widgets/controls",
          "model_name": "DescriptionStyleModel",
          "model_module_version": "1.5.0",
          "state": {
            "_view_name": "StyleView",
            "_model_name": "DescriptionStyleModel",
            "description_width": "",
            "_view_module": "@jupyter-widgets/base",
            "_model_module_version": "1.5.0",
            "_view_count": null,
            "_view_module_version": "1.2.0",
            "_model_module": "@jupyter-widgets/controls"
          }
        },
        "92f563915cf64cbcbb4a0b4e9ab0d27b": {
          "model_module": "@jupyter-widgets/base",
          "model_name": "LayoutModel",
          "model_module_version": "1.2.0",
          "state": {
            "_view_name": "LayoutView",
            "grid_template_rows": null,
            "right": null,
            "justify_content": null,
            "_view_module": "@jupyter-widgets/base",
            "overflow": null,
            "_model_module_version": "1.2.0",
            "_view_count": null,
            "flex_flow": null,
            "width": null,
            "min_width": null,
            "border": null,
            "align_items": null,
            "bottom": null,
            "_model_module": "@jupyter-widgets/base",
            "top": null,
            "grid_column": null,
            "overflow_y": null,
            "overflow_x": null,
            "grid_auto_flow": null,
            "grid_area": null,
            "grid_template_columns": null,
            "flex": null,
            "_model_name": "LayoutModel",
            "justify_items": null,
            "grid_row": null,
            "max_height": null,
            "align_content": null,
            "visibility": null,
            "align_self": null,
            "height": null,
            "min_height": null,
            "padding": null,
            "grid_auto_rows": null,
            "grid_gap": null,
            "max_width": null,
            "order": null,
            "_view_module_version": "1.2.0",
            "grid_template_areas": null,
            "object_position": null,
            "object_fit": null,
            "grid_auto_columns": null,
            "margin": null,
            "display": null,
            "left": null
          }
        },
        "c2368e9315c54189968e26cf49e99bf5": {
          "model_module": "@jupyter-widgets/controls",
          "model_name": "DescriptionStyleModel",
          "model_module_version": "1.5.0",
          "state": {
            "_view_name": "StyleView",
            "_model_name": "DescriptionStyleModel",
            "description_width": "",
            "_view_module": "@jupyter-widgets/base",
            "_model_module_version": "1.5.0",
            "_view_count": null,
            "_view_module_version": "1.2.0",
            "_model_module": "@jupyter-widgets/controls"
          }
        },
        "62f1a89fcf4e425899c31975940c6169": {
          "model_module": "@jupyter-widgets/base",
          "model_name": "LayoutModel",
          "model_module_version": "1.2.0",
          "state": {
            "_view_name": "LayoutView",
            "grid_template_rows": null,
            "right": null,
            "justify_content": null,
            "_view_module": "@jupyter-widgets/base",
            "overflow": null,
            "_model_module_version": "1.2.0",
            "_view_count": null,
            "flex_flow": null,
            "width": null,
            "min_width": null,
            "border": null,
            "align_items": null,
            "bottom": null,
            "_model_module": "@jupyter-widgets/base",
            "top": null,
            "grid_column": null,
            "overflow_y": null,
            "overflow_x": null,
            "grid_auto_flow": null,
            "grid_area": null,
            "grid_template_columns": null,
            "flex": null,
            "_model_name": "LayoutModel",
            "justify_items": null,
            "grid_row": null,
            "max_height": null,
            "align_content": null,
            "visibility": null,
            "align_self": null,
            "height": null,
            "min_height": null,
            "padding": null,
            "grid_auto_rows": null,
            "grid_gap": null,
            "max_width": null,
            "order": null,
            "_view_module_version": "1.2.0",
            "grid_template_areas": null,
            "object_position": null,
            "object_fit": null,
            "grid_auto_columns": null,
            "margin": null,
            "display": null,
            "left": null
          }
        },
        "5881195c30f640f992898d3768eeae35": {
          "model_module": "@jupyter-widgets/controls",
          "model_name": "DescriptionStyleModel",
          "model_module_version": "1.5.0",
          "state": {
            "_view_name": "StyleView",
            "_model_name": "DescriptionStyleModel",
            "description_width": "",
            "_view_module": "@jupyter-widgets/base",
            "_model_module_version": "1.5.0",
            "_view_count": null,
            "_view_module_version": "1.2.0",
            "_model_module": "@jupyter-widgets/controls"
          }
        },
        "0fdb27a85ed640c586a3af1040f7e84a": {
          "model_module": "@jupyter-widgets/base",
          "model_name": "LayoutModel",
          "model_module_version": "1.2.0",
          "state": {
            "_view_name": "LayoutView",
            "grid_template_rows": null,
            "right": null,
            "justify_content": null,
            "_view_module": "@jupyter-widgets/base",
            "overflow": null,
            "_model_module_version": "1.2.0",
            "_view_count": null,
            "flex_flow": null,
            "width": null,
            "min_width": null,
            "border": null,
            "align_items": null,
            "bottom": null,
            "_model_module": "@jupyter-widgets/base",
            "top": null,
            "grid_column": null,
            "overflow_y": null,
            "overflow_x": null,
            "grid_auto_flow": null,
            "grid_area": null,
            "grid_template_columns": null,
            "flex": null,
            "_model_name": "LayoutModel",
            "justify_items": null,
            "grid_row": null,
            "max_height": null,
            "align_content": null,
            "visibility": null,
            "align_self": null,
            "height": null,
            "min_height": null,
            "padding": null,
            "grid_auto_rows": null,
            "grid_gap": null,
            "max_width": null,
            "order": null,
            "_view_module_version": "1.2.0",
            "grid_template_areas": null,
            "object_position": null,
            "object_fit": null,
            "grid_auto_columns": null,
            "margin": null,
            "display": null,
            "left": null
          }
        }
      }
    }
  },
  "cells": [
    {
      "cell_type": "markdown",
      "metadata": {
        "id": "view-in-github",
        "colab_type": "text"
      },
      "source": [
        "<a href=\"https://colab.research.google.com/github/jmoro0408/sloped_pipe_volume/blob/main/Sloped_Pipe_Calculator.ipynb\" target=\"_parent\"><img src=\"https://colab.research.google.com/assets/colab-badge.svg\" alt=\"Open In Colab\"/></a>"
      ]
    },
    {
      "cell_type": "markdown",
      "metadata": {
        "id": "El-QpBcBQDPP"
      },
      "source": [
        "The notebook aims to show Jupyter's interactive plotting capabilites, and mimics the pipe part full calculation provided in Excel"
      ]
    },
    {
      "cell_type": "markdown",
      "metadata": {
        "id": "rRJL7bJAI2R7"
      },
      "source": [
        "## Imports"
      ]
    },
    {
      "cell_type": "code",
      "metadata": {
        "id": "rIhGiMdmPv7L"
      },
      "source": [
        "#@title\n",
        "import numpy as np\n",
        "import scipy as sp\n",
        "from ipywidgets import HBox, Label, widgets, Button, VBox\n",
        "from IPython.display import Markdown as md"
      ],
      "execution_count": 1,
      "outputs": []
    },
    {
      "cell_type": "markdown",
      "metadata": {
        "id": "TFJXjfesWbjY"
      },
      "source": [
        "# Background and Purpose"
      ]
    },
    {
      "cell_type": "markdown",
      "metadata": {
        "id": "YfC6KZuYWdu0"
      },
      "source": [
        "This tool calculates the liquid volume in a partially full horizontal or sloped pipe or tank. \n",
        "\n",
        "It uses the pipe invert elevation, diameter, and water level at the pipe lower level to estimate the volume iof liquid within the pipe. "
      ]
    },
    {
      "cell_type": "code",
      "metadata": {
        "cellView": "form",
        "id": "CzxtK2TDQLrN"
      },
      "source": [
        "#@title Please choose desired units.  { run: \"auto\" }\n",
        "units = \"Metric\" #@param [\"Metric\", \"Imperial\"]\n"
      ],
      "execution_count": 2,
      "outputs": []
    },
    {
      "cell_type": "code",
      "metadata": {
        "id": "ZlXMZEzPcU6y",
        "cellView": "code"
      },
      "source": [
        "#@title\n",
        "# Define Input boxes\n",
        "\n",
        "pipe_invert_elev=widgets.BoundedFloatText(\n",
        "    value=0,\n",
        "    min=0,\n",
        "    max=1e6,\n",
        "    step=0.1,\n",
        "    disabled=False, \n",
        ")\n",
        "pipe_diameter=widgets.BoundedFloatText(\n",
        "    value=2,\n",
        "    min=0,\n",
        "    max=1e6,\n",
        "    step=0.1,\n",
        "    disabled=False, \n",
        ")\n",
        "pipe_length= widgets.BoundedFloatText(\n",
        "    value=200,\n",
        "    min=0,\n",
        "    max=1e6,\n",
        "    step=0.1,\n",
        "    disabled=False, \n",
        ")\n",
        "liquid_density=widgets.BoundedFloatText(\n",
        "    value=998,\n",
        "    min=0,\n",
        "    max=1e6,\n",
        "    step=0.1,\n",
        "    disabled=False, \n",
        ")\n",
        "lower_liquid_level= widgets.BoundedFloatText(\n",
        "    value=1,\n",
        "    min=0,\n",
        "    max=1e6,\n",
        "    step=0.1,\n",
        "    disabled=False, \n",
        ")\n",
        "\n",
        "grade_percent = widgets.FloatSlider(\n",
        "    value=0.2,\n",
        "    min=0,\n",
        "    max=5, #grade % slider\n",
        "    step=0.01,\n",
        "    description='Grade %:',\n",
        "    disabled=False,\n",
        "    continuous_update=True,\n",
        "    orientation='horizontal',\n",
        "    readout=True,\n",
        "    readout_format='.1f',\n",
        ")"
      ],
      "execution_count": 49,
      "outputs": []
    },
    {
      "cell_type": "markdown",
      "metadata": {
        "id": "rT1XwTQkf6U8"
      },
      "source": [
        "Please input the required variables below:"
      ]
    },
    {
      "cell_type": "code",
      "metadata": {
        "colab": {
          "base_uri": "https://localhost:8080/",
          "height": 209,
          "referenced_widgets": [
            "a9d99610ace54d9db1156f9d99e67cf1",
            "b826da05ca094654aefbfc004f57b50a",
            "fda9ffa653334c6a83b57787db338be9",
            "acc963561f844fa28c708a934ec7ff37",
            "21fa0c1d883d43909cefce9b10292029",
            "c40ffa0324774401bca77d6844b261bb",
            "92c2428f278b42d999e152cbd45df569",
            "8945535d94204f07aedb66028a08eba1",
            "818e31d00e6e40b3bd4923f299ea7eaa",
            "33f425927de849c3a9637dee5f2045a1",
            "1b3c5f952a8f431392e5a287208e9ef9",
            "f82ac63968924d77a8c8083949c11f2f",
            "f58b9fef334448c38138100aa4846d8d",
            "fb4ad20210f94ddeb5c1c235d4f35537",
            "9b16d4ab1c3549dab3b4a9ecb0885a57",
            "e805716505fc40b29abc4801318f83d5",
            "426a2e412c834fdaa840a5929e209f03",
            "fb0e1447b1604bb794918cf9f9b93065",
            "34efc360ac4748e1aaf93cd9176dd958",
            "e18a0871ed664e9e879515e146eeec1a",
            "e533b78f3ca841cfa4b428a32bfdfb8a",
            "4fd0fade34614a1aad1224c2376ac7b3",
            "879ecf129135404fb0daa668b05304b9",
            "1ed1fce8bfc948828d0dd9a2b7e90458",
            "c89390cbf9f24a57b5666e427480a4de",
            "759ad3375c364bff86cf945e18e3c17c",
            "057f118bbc744dbeb69c1ac47ce5880d",
            "9c81217a7643400c8367fd40672d8c06",
            "2f8d909fb15344acb1d701f792f170df",
            "923fd346ecf24c93a4f71ee0d3bbdaa1",
            "02c8a2ad951a4c9c8f7b705e1417d12e",
            "c165d6ea58d249a29b7b12290fd20bad",
            "5b938f80fe664d3cbe67793324e1a1d9",
            "8a52cf7e384a4b07b313906c1b284141",
            "bb8b31fce1aa4fdeac9abe8af92c9a0b",
            "3707be4cf8144ad8a569fd5effe594c3",
            "050da2ea0357451e85cfdfd20fb2967a",
            "86becef9f07443ea89880cc20342b0b9",
            "8769194b278a403cad24e6d49753fce3",
            "143c65dcf38449be9c06e3845ffbee9d",
            "becf2817176244048a85145b04d3e73d",
            "f9a6c6d1d6184bebba5335bed1a6db25",
            "92f563915cf64cbcbb4a0b4e9ab0d27b",
            "c2368e9315c54189968e26cf49e99bf5",
            "62f1a89fcf4e425899c31975940c6169",
            "5881195c30f640f992898d3768eeae35",
            "0fdb27a85ed640c586a3af1040f7e84a"
          ]
        },
        "id": "6ixqUb_5agwa",
        "cellView": "code",
        "outputId": "c55383f4-3ce9-4584-fa38-d995a7872632"
      },
      "source": [
        "#@title\n",
        "inputs_boxes= [\n",
        "               HBox([Label('Lower End Pipe Invert Elevation (mGeodetic):'), pipe_invert_elev]), \n",
        "               HBox([Label('Pipe diameter (m):'), pipe_diameter]), \n",
        "               HBox([grade_percent]), \n",
        "               HBox([Label('Pipe length (m):'), pipe_length]), \n",
        "               HBox([Label('Liquid Density (kg/m3):'), liquid_density]),\n",
        "               HBox([Label('Liquid at pipe lower elevation (m):'), lower_liquid_level]),\n",
        "\n",
        "]\n",
        "\n",
        "\n",
        "VBox(inputs_boxes)\n"
      ],
      "execution_count": 40,
      "outputs": [
        {
          "output_type": "display_data",
          "data": {
            "application/vnd.jupyter.widget-view+json": {
              "model_id": "a9d99610ace54d9db1156f9d99e67cf1",
              "version_minor": 0,
              "version_major": 2
            },
            "text/plain": [
              "VBox(children=(HBox(children=(Label(value='Lower End Pipe Invert Elevation (mGeodetic):'), BoundedFloatText(va…"
            ]
          },
          "metadata": {}
        }
      ]
    },
    {
      "cell_type": "code",
      "metadata": {
        "id": "sE4848WpLGNf"
      },
      "source": [
        "pipe_radius = pipe_diameter.value / 2\n",
        "\n",
        "def calculate_tilt_angle(grade_percent = grade_percent):\n",
        "  tilt_angle = np.arctan(grade_percent.value / 100)\n",
        "  tilt_angle = np.degrees(tilt_angle)\n",
        "  return tilt_angle\n",
        "\n",
        "tilt_angle = calculate_tilt_angle()\n",
        "\n",
        "def calculate_pipe_upper_invert(pipe_invert_elev = pipe_invert_elev, tilt_angle = tilt_angle, pipe_length = pipe_length):\n",
        "  pipe_upper_invert = np.sin(np.radians(tilt_angle) * pipe_length.value) + pipe_invert_elev.value\n",
        "  return pipe_upper_invert\n",
        "\n",
        "pipe_upper_invert = calculate_pipe_upper_invert()\n",
        "\n",
        "def calculate_upper_liquid_level(lower_liquid_level = lower_liquid_level, tilt_angle = tilt_angle, pipe_length = pipe_length):\n",
        "  upper_liquid_level = lower_liquid_level.value - (pipe_length.value *np.tan(np.radians(tilt_angle)))\n",
        "  return upper_liquid_level\n",
        "\n",
        "upper_liquid_level = calculate_upper_liquid_level()\n",
        "\n",
        "def calculate_sloped_pipe_volume(pipe_radius=pipe_radius, upper_liquid_level = upper_liquid_level, tilt_angle=tilt_angle, pipe_length = pipe_length.value):\n",
        "  tilt_angle=np.radians(tilt_angle)\n",
        "  _k = 1 - (upper_liquid_level/pipe_radius)\n",
        "  _c = _k - ((pipe_length * np.tan(tilt_angle)/pipe_radius))\n",
        "  integral0 = pipe_radius**3 / np.tan(tilt_angle)\n",
        "  integral1 = _k* np.arccos(_k)\n",
        "  integral2 = (1/3) * (np.sqrt(1 - _k**2)) * (_k**2 +2)\n",
        "  integral3 = _c * np.arccos(_c)\n",
        "  integral4 = (1/3) * (np.sqrt(1 - _c**2)) * (_c**2 +2)\n",
        "  volume = integral0 * (integral1 - integral2 - integral3 + integral4)\n",
        "  return volume\n",
        "\n",
        "sloped_pipe_liquid_volume = calculate_sloped_pipe_volume()"
      ],
      "execution_count": 41,
      "outputs": []
    },
    {
      "cell_type": "markdown",
      "metadata": {
        "id": "edWS20Kie1mN"
      },
      "source": [
        "# Horizontal pipe characteristics"
      ]
    },
    {
      "cell_type": "code",
      "metadata": {
        "id": "Udrbxwffd5eq"
      },
      "source": [
        "pipe_cross_sectional_area = np.pi / 4 *  (pipe_diameter.value**2)\n",
        "total_volume = pipe_cross_sectional_area * pipe_length.value\n",
        "liquid_volume = 0.5 * pipe_radius\n",
        "arc_angle = np.degrees(2* np.arccos(pipe_radius - lower_liquid_level.value) /  pipe_radius)\n",
        "arc_length = pipe_radius * np.radians(arc_angle)\n",
        "chord_length = 2*np.sqrt(lower_liquid_level.value*(2*pipe_radius-lower_liquid_level.value)) \n",
        "pipe_liquid_volume=(0.5*(pipe_radius*arc_length - chord_length*(pipe_radius-lower_liquid_level.value)))*pipe_length.value\n",
        "pipe_air_volume=total_volume-pipe_liquid_volume\n",
        "liquid_fill_percent = (pipe_liquid_volume/total_volume)*100\n",
        "liquid_mass_in_pipe= pipe_liquid_volume*liquid_density.value\n",
        "liquid_cross_section_area = 0.5*(pipe_radius*arc_length-chord_length*(pipe_radius-lower_liquid_level.value))\n",
        "air_cross_section_area = pipe_cross_sectional_area - liquid_cross_section_area"
      ],
      "execution_count": 42,
      "outputs": []
    },
    {
      "cell_type": "markdown",
      "metadata": {
        "id": "gOqwroIIpUYe"
      },
      "source": [
        "# Sloped Pipe Characteristics"
      ]
    },
    {
      "cell_type": "markdown",
      "metadata": {
        "id": "2AzH_i33si-b"
      },
      "source": [
        "## Definitions\n",
        "\n",
        "The volume inside the pipe is defined by the integral:\n",
        "\n",
        "$V = \\frac{R^2}{2} \\theta(x) - \\int_0^L \\! sin\\theta(x) \\, \\mathrm{d}x.$\n",
        "\n",
        "where \n",
        "$\\theta(x)=2\\arccos{\\frac{R-h}{R}}=2\\arccos{\\frac{R-(x\\tan{\\alpha}+h_{0})}{R}}$\n",
        "\n",
        "Substituting in we get:\n",
        "\n"
      ]
    },
    {
      "cell_type": "code",
      "metadata": {
        "id": "qH_jypwNy3n_"
      },
      "source": [
        "#@title\n",
        "sloped_pipe_liquid_volume = calculate_sloped_pipe_volume()\n",
        "sloped_pipe_air_volume = total_volume - sloped_pipe_liquid_volume\n",
        "sloped_pipe_percent_full = sloped_pipe_liquid_volume / total_volume * 100\n",
        "sloped_pipe_liquid_mass = sloped_pipe_liquid_volume * liquid_density.value"
      ],
      "execution_count": 43,
      "outputs": []
    },
    {
      "cell_type": "code",
      "metadata": {
        "colab": {
          "base_uri": "https://localhost:8080/"
        },
        "id": "CdatXGXJ1Eqe",
        "outputId": "abe19d5e-5ecc-49b1-cc5c-859d50d89313"
      },
      "source": [
        "print(f\"The pipe contains {round(sloped_pipe_liquid_volume, 2)} m3 liquid and is {round(sloped_pipe_percent_full, 2)}% full. \\n The mass of liquid inside the pipe is {round(sloped_pipe_liquid_mass,2)}kg \")"
      ],
      "execution_count": 44,
      "outputs": [
        {
          "output_type": "stream",
          "text": [
            "The pipe contains 235.24 m3 liquid and is 37.44% full. \n",
            " The mass of liquid inside the pipe is 234773.29kg \n"
          ],
          "name": "stdout"
        }
      ]
    },
    {
      "cell_type": "markdown",
      "metadata": {
        "id": "ENGZPr3TNKd4"
      },
      "source": [
        "## Interactive"
      ]
    },
    {
      "cell_type": "code",
      "metadata": {
        "id": "89lIWqfANLY9"
      },
      "source": [
        "import pandas as pd\n",
        "import plotly.graph_objects as go"
      ],
      "execution_count": 52,
      "outputs": []
    },
    {
      "cell_type": "code",
      "metadata": {
        "id": "jPZXOI-yPU-n"
      },
      "source": [
        "def build_graph_df(no_points = 100,pipe_length = pipe_length.value, upper_liquid_level = upper_liquid_level,lower_liquid_level = lower_liquid_level.value, pipe_invert_elev = pipe_invert_elev.value, pipe_upper_invert=pipe_upper_invert,pipe_diameter=pipe_diameter.value ):\n",
        "  graph_df = pd.DataFrame(\n",
        "      data = {\n",
        "          \"Pipe Chainage\":np.linspace(0, pipe_length, no_points), \n",
        "          \"Liquid Level\":np.linspace(lower_liquid_level, upper_liquid_level, no_points), \n",
        "          \"Pipe Invert\": np.linspace(pipe_invert_elev, pipe_upper_invert, no_points), \n",
        "          \"Pipe Crown\":np.linspace((pipe_invert_elev + pipe_diameter) , (pipe_upper_invert +pipe_diameter), no_points),\n",
        "          \n",
        "      }\n",
        "  )\n",
        "  graph_df = graph_df.round(3)\n",
        "  return graph_df"
      ],
      "execution_count": 46,
      "outputs": []
    },
    {
      "cell_type": "code",
      "metadata": {
        "id": "UmNstG0vQcAW"
      },
      "source": [
        "graph_df=build_graph_df()"
      ],
      "execution_count": 47,
      "outputs": []
    },
    {
      "cell_type": "code",
      "metadata": {
        "colab": {
          "base_uri": "https://localhost:8080/",
          "height": 542
        },
        "id": "VaXzML6cQc75",
        "outputId": "51d8aed1-17a9-4467-831a-0ee511982247"
      },
      "source": [
        "fig = go.Figure()\n",
        "\n",
        "\n",
        "fig.add_trace(go.Scatter(x=graph_df[\"Pipe Chainage\"], y=graph_df[\"Pipe Invert\"],name = \"Pipe Invert\",showlegend=False, line=dict(color='gray', width=4)))\n",
        "fig.add_trace(go.Scatter(x=graph_df[\"Pipe Chainage\"], y=graph_df[\"Pipe Crown\"] ,name = \"Pipe Crown\",showlegend=False, line=dict(color='gray', width=4)))\n",
        "fig.add_trace(go.Scatter(x=graph_df[\"Pipe Chainage\"], y=graph_df[\"Liquid Level\"], name = \"Liquid Level\",line=dict(color='royalblue', width=4)))\n",
        "\n",
        "\n",
        "fig.update_xaxes(showspikes=True, spikecolor=\"green\")\n",
        "fig.update_yaxes(showspikes=True,spikecolor=\"green\")\n",
        "\n",
        "\n",
        "fig.update_layout(\n",
        "    template = \"simple_white\", \n",
        "    title=\"Liquid Level Along Pipe\",\n",
        "    xaxis_title=\"Pipe Chainage (m)\",\n",
        "    yaxis_title=\"Elevation (mGeodetic)\",\n",
        "    \n",
        "    legend=dict(\n",
        "    orientation=\"h\",\n",
        "    yanchor=\"bottom\",\n",
        "    y=1.02,\n",
        "    xanchor=\"right\",\n",
        "    x=1\n",
        "))\n",
        "\n",
        "\n",
        "sliders = [dict(\n",
        "    active = 10,\n",
        "    currentvalue = {\"prefix\": \"Frequency: \"},\n",
        "    pad = {\"t\": 50},\n",
        "    steps = steps\n",
        ")]"
      ],
      "execution_count": 48,
      "outputs": [
        {
          "output_type": "display_data",
          "data": {
            "text/html": [
              "<html>\n",
              "<head><meta charset=\"utf-8\" /></head>\n",
              "<body>\n",
              "    <div>\n",
              "            <script src=\"https://cdnjs.cloudflare.com/ajax/libs/mathjax/2.7.5/MathJax.js?config=TeX-AMS-MML_SVG\"></script><script type=\"text/javascript\">if (window.MathJax) {MathJax.Hub.Config({SVG: {font: \"STIX-Web\"}});}</script>\n",
              "                <script type=\"text/javascript\">window.PlotlyConfig = {MathJaxConfig: 'local'};</script>\n",
              "        <script src=\"https://cdn.plot.ly/plotly-latest.min.js\"></script>    \n",
              "            <div id=\"5dd3982e-3549-4f0c-8e34-3db3aeda9127\" class=\"plotly-graph-div\" style=\"height:525px; width:100%;\"></div>\n",
              "            <script type=\"text/javascript\">\n",
              "                \n",
              "                    window.PLOTLYENV=window.PLOTLYENV || {};\n",
              "                    \n",
              "                if (document.getElementById(\"5dd3982e-3549-4f0c-8e34-3db3aeda9127\")) {\n",
              "                    Plotly.newPlot(\n",
              "                        '5dd3982e-3549-4f0c-8e34-3db3aeda9127',\n",
              "                        [{\"line\": {\"color\": \"gray\", \"width\": 4}, \"name\": \"Pipe Invert\", \"showlegend\": false, \"type\": \"scatter\", \"x\": [0.0, 2.02, 4.04, 6.061, 8.081, 10.101, 12.121, 14.141, 16.162, 18.182, 20.202, 22.222, 24.242, 26.263, 28.283, 30.303, 32.323, 34.343, 36.364, 38.384, 40.404, 42.424, 44.444, 46.465, 48.485, 50.505, 52.525, 54.545, 56.566, 58.586, 60.606, 62.626, 64.646, 66.667, 68.687, 70.707, 72.727, 74.747, 76.768, 78.788, 80.808, 82.828, 84.848, 86.869, 88.889, 90.909, 92.929, 94.949, 96.97, 98.99, 101.01, 103.03, 105.051, 107.071, 109.091, 111.111, 113.131, 115.152, 117.172, 119.192, 121.212, 123.232, 125.253, 127.273, 129.293, 131.313, 133.333, 135.354, 137.374, 139.394, 141.414, 143.434, 145.455, 147.475, 149.495, 151.515, 153.535, 155.556, 157.576, 159.596, 161.616, 163.636, 165.657, 167.677, 169.697, 171.717, 173.737, 175.758, 177.778, 179.798, 181.818, 183.838, 185.859, 187.879, 189.899, 191.919, 193.939, 195.96, 197.98, 200.0], \"y\": [0.0, 0.004, 0.008, 0.012, 0.016, 0.02, 0.024, 0.028, 0.031, 0.035, 0.039, 0.043, 0.047, 0.051, 0.055, 0.059, 0.063, 0.067, 0.071, 0.075, 0.079, 0.083, 0.087, 0.09, 0.094, 0.098, 0.102, 0.106, 0.11, 0.114, 0.118, 0.122, 0.126, 0.13, 0.134, 0.138, 0.142, 0.146, 0.149, 0.153, 0.157, 0.161, 0.165, 0.169, 0.173, 0.177, 0.181, 0.185, 0.189, 0.193, 0.197, 0.201, 0.205, 0.208, 0.212, 0.216, 0.22, 0.224, 0.228, 0.232, 0.236, 0.24, 0.244, 0.248, 0.252, 0.256, 0.26, 0.264, 0.267, 0.271, 0.275, 0.279, 0.283, 0.287, 0.291, 0.295, 0.299, 0.303, 0.307, 0.311, 0.315, 0.319, 0.323, 0.326, 0.33, 0.334, 0.338, 0.342, 0.346, 0.35, 0.354, 0.358, 0.362, 0.366, 0.37, 0.374, 0.378, 0.382, 0.385, 0.389]}, {\"line\": {\"color\": \"gray\", \"width\": 4}, \"name\": \"Pipe Crown\", \"showlegend\": false, \"type\": \"scatter\", \"x\": [0.0, 2.02, 4.04, 6.061, 8.081, 10.101, 12.121, 14.141, 16.162, 18.182, 20.202, 22.222, 24.242, 26.263, 28.283, 30.303, 32.323, 34.343, 36.364, 38.384, 40.404, 42.424, 44.444, 46.465, 48.485, 50.505, 52.525, 54.545, 56.566, 58.586, 60.606, 62.626, 64.646, 66.667, 68.687, 70.707, 72.727, 74.747, 76.768, 78.788, 80.808, 82.828, 84.848, 86.869, 88.889, 90.909, 92.929, 94.949, 96.97, 98.99, 101.01, 103.03, 105.051, 107.071, 109.091, 111.111, 113.131, 115.152, 117.172, 119.192, 121.212, 123.232, 125.253, 127.273, 129.293, 131.313, 133.333, 135.354, 137.374, 139.394, 141.414, 143.434, 145.455, 147.475, 149.495, 151.515, 153.535, 155.556, 157.576, 159.596, 161.616, 163.636, 165.657, 167.677, 169.697, 171.717, 173.737, 175.758, 177.778, 179.798, 181.818, 183.838, 185.859, 187.879, 189.899, 191.919, 193.939, 195.96, 197.98, 200.0], \"y\": [2.0, 2.004, 2.008, 2.012, 2.016, 2.02, 2.024, 2.028, 2.031, 2.035, 2.039, 2.043, 2.047, 2.051, 2.055, 2.059, 2.063, 2.067, 2.071, 2.075, 2.079, 2.083, 2.087, 2.09, 2.094, 2.098, 2.102, 2.106, 2.11, 2.114, 2.118, 2.122, 2.126, 2.13, 2.134, 2.138, 2.142, 2.146, 2.149, 2.153, 2.157, 2.161, 2.165, 2.169, 2.173, 2.177, 2.181, 2.185, 2.189, 2.193, 2.197, 2.201, 2.205, 2.208, 2.212, 2.216, 2.22, 2.224, 2.228, 2.232, 2.236, 2.24, 2.244, 2.248, 2.252, 2.256, 2.26, 2.264, 2.267, 2.271, 2.275, 2.279, 2.283, 2.287, 2.291, 2.295, 2.299, 2.303, 2.307, 2.311, 2.315, 2.319, 2.323, 2.326, 2.33, 2.334, 2.338, 2.342, 2.346, 2.35, 2.354, 2.358, 2.362, 2.366, 2.37, 2.374, 2.378, 2.382, 2.385, 2.389]}, {\"line\": {\"color\": \"royalblue\", \"width\": 4}, \"name\": \"Liquid Level\", \"type\": \"scatter\", \"x\": [0.0, 2.02, 4.04, 6.061, 8.081, 10.101, 12.121, 14.141, 16.162, 18.182, 20.202, 22.222, 24.242, 26.263, 28.283, 30.303, 32.323, 34.343, 36.364, 38.384, 40.404, 42.424, 44.444, 46.465, 48.485, 50.505, 52.525, 54.545, 56.566, 58.586, 60.606, 62.626, 64.646, 66.667, 68.687, 70.707, 72.727, 74.747, 76.768, 78.788, 80.808, 82.828, 84.848, 86.869, 88.889, 90.909, 92.929, 94.949, 96.97, 98.99, 101.01, 103.03, 105.051, 107.071, 109.091, 111.111, 113.131, 115.152, 117.172, 119.192, 121.212, 123.232, 125.253, 127.273, 129.293, 131.313, 133.333, 135.354, 137.374, 139.394, 141.414, 143.434, 145.455, 147.475, 149.495, 151.515, 153.535, 155.556, 157.576, 159.596, 161.616, 163.636, 165.657, 167.677, 169.697, 171.717, 173.737, 175.758, 177.778, 179.798, 181.818, 183.838, 185.859, 187.879, 189.899, 191.919, 193.939, 195.96, 197.98, 200.0], \"y\": [1.0, 0.996, 0.992, 0.988, 0.984, 0.98, 0.976, 0.972, 0.968, 0.964, 0.96, 0.956, 0.952, 0.947, 0.943, 0.939, 0.935, 0.931, 0.927, 0.923, 0.919, 0.915, 0.911, 0.907, 0.903, 0.899, 0.895, 0.891, 0.887, 0.883, 0.879, 0.875, 0.871, 0.867, 0.863, 0.859, 0.855, 0.851, 0.846, 0.842, 0.838, 0.834, 0.83, 0.826, 0.822, 0.818, 0.814, 0.81, 0.806, 0.802, 0.798, 0.794, 0.79, 0.786, 0.782, 0.778, 0.774, 0.77, 0.766, 0.762, 0.758, 0.754, 0.749, 0.745, 0.741, 0.737, 0.733, 0.729, 0.725, 0.721, 0.717, 0.713, 0.709, 0.705, 0.701, 0.697, 0.693, 0.689, 0.685, 0.681, 0.677, 0.673, 0.669, 0.665, 0.661, 0.657, 0.653, 0.648, 0.644, 0.64, 0.636, 0.632, 0.628, 0.624, 0.62, 0.616, 0.612, 0.608, 0.604, 0.6]}],\n",
              "                        {\"legend\": {\"orientation\": \"h\", \"x\": 1, \"xanchor\": \"right\", \"y\": 1.02, \"yanchor\": \"bottom\"}, \"template\": {\"data\": {\"bar\": [{\"error_x\": {\"color\": \"rgb(36,36,36)\"}, \"error_y\": {\"color\": \"rgb(36,36,36)\"}, \"marker\": {\"line\": {\"color\": \"white\", \"width\": 0.5}}, \"type\": \"bar\"}], \"barpolar\": [{\"marker\": {\"line\": {\"color\": \"white\", \"width\": 0.5}}, \"type\": \"barpolar\"}], \"carpet\": [{\"aaxis\": {\"endlinecolor\": \"rgb(36,36,36)\", \"gridcolor\": \"white\", \"linecolor\": \"white\", \"minorgridcolor\": \"white\", \"startlinecolor\": \"rgb(36,36,36)\"}, \"baxis\": {\"endlinecolor\": \"rgb(36,36,36)\", \"gridcolor\": \"white\", \"linecolor\": \"white\", \"minorgridcolor\": \"white\", \"startlinecolor\": \"rgb(36,36,36)\"}, \"type\": \"carpet\"}], \"choropleth\": [{\"colorbar\": {\"outlinewidth\": 10, \"tickcolor\": \"rgb(36,36,36)\", \"ticklen\": 8, \"ticks\": \"outside\", \"tickwidth\": 2}, \"type\": \"choropleth\"}], \"contour\": [{\"colorbar\": {\"outlinewidth\": 10, \"tickcolor\": \"rgb(36,36,36)\", \"ticklen\": 8, \"ticks\": \"outside\", \"tickwidth\": 2}, \"colorscale\": [[0.0, \"#440154\"], [0.1111111111111111, \"#482878\"], [0.2222222222222222, \"#3e4989\"], [0.3333333333333333, \"#31688e\"], [0.4444444444444444, \"#26828e\"], [0.5555555555555556, \"#1f9e89\"], [0.6666666666666666, \"#35b779\"], [0.7777777777777778, \"#6ece58\"], [0.8888888888888888, \"#b5de2b\"], [1.0, \"#fde725\"]], \"type\": \"contour\"}], \"contourcarpet\": [{\"colorbar\": {\"outlinewidth\": 10, \"tickcolor\": \"rgb(36,36,36)\", \"ticklen\": 8, \"ticks\": \"outside\", \"tickwidth\": 2}, \"type\": \"contourcarpet\"}], \"heatmap\": [{\"colorbar\": {\"outlinewidth\": 10, \"tickcolor\": \"rgb(36,36,36)\", \"ticklen\": 8, \"ticks\": \"outside\", \"tickwidth\": 2}, \"colorscale\": [[0.0, \"#440154\"], [0.1111111111111111, \"#482878\"], [0.2222222222222222, \"#3e4989\"], [0.3333333333333333, \"#31688e\"], [0.4444444444444444, \"#26828e\"], [0.5555555555555556, \"#1f9e89\"], [0.6666666666666666, \"#35b779\"], [0.7777777777777778, \"#6ece58\"], [0.8888888888888888, \"#b5de2b\"], [1.0, \"#fde725\"]], \"type\": \"heatmap\"}], \"heatmapgl\": [{\"colorbar\": {\"outlinewidth\": 10, \"tickcolor\": \"rgb(36,36,36)\", \"ticklen\": 8, \"ticks\": \"outside\", \"tickwidth\": 2}, \"colorscale\": [[0.0, \"#440154\"], [0.1111111111111111, \"#482878\"], [0.2222222222222222, \"#3e4989\"], [0.3333333333333333, \"#31688e\"], [0.4444444444444444, \"#26828e\"], [0.5555555555555556, \"#1f9e89\"], [0.6666666666666666, \"#35b779\"], [0.7777777777777778, \"#6ece58\"], [0.8888888888888888, \"#b5de2b\"], [1.0, \"#fde725\"]], \"type\": \"heatmapgl\"}], \"histogram\": [{\"marker\": {\"line\": {\"color\": \"white\", \"width\": 0.6}}, \"type\": \"histogram\"}], \"histogram2d\": [{\"colorbar\": {\"outlinewidth\": 10, \"tickcolor\": \"rgb(36,36,36)\", \"ticklen\": 8, \"ticks\": \"outside\", \"tickwidth\": 2}, \"colorscale\": [[0.0, \"#440154\"], [0.1111111111111111, \"#482878\"], [0.2222222222222222, \"#3e4989\"], [0.3333333333333333, \"#31688e\"], [0.4444444444444444, \"#26828e\"], [0.5555555555555556, \"#1f9e89\"], [0.6666666666666666, \"#35b779\"], [0.7777777777777778, \"#6ece58\"], [0.8888888888888888, \"#b5de2b\"], [1.0, \"#fde725\"]], \"type\": \"histogram2d\"}], \"histogram2dcontour\": [{\"colorbar\": {\"outlinewidth\": 10, \"tickcolor\": \"rgb(36,36,36)\", \"ticklen\": 8, \"ticks\": \"outside\", \"tickwidth\": 2}, \"colorscale\": [[0.0, \"#440154\"], [0.1111111111111111, \"#482878\"], [0.2222222222222222, \"#3e4989\"], [0.3333333333333333, \"#31688e\"], [0.4444444444444444, \"#26828e\"], [0.5555555555555556, \"#1f9e89\"], [0.6666666666666666, \"#35b779\"], [0.7777777777777778, \"#6ece58\"], [0.8888888888888888, \"#b5de2b\"], [1.0, \"#fde725\"]], \"type\": \"histogram2dcontour\"}], \"mesh3d\": [{\"colorbar\": {\"outlinewidth\": 10, \"tickcolor\": \"rgb(36,36,36)\", \"ticklen\": 8, \"ticks\": \"outside\", \"tickwidth\": 2}, \"type\": \"mesh3d\"}], \"parcoords\": [{\"line\": {\"colorbar\": {\"outlinewidth\": 10, \"tickcolor\": \"rgb(36,36,36)\", \"ticklen\": 8, \"ticks\": \"outside\", \"tickwidth\": 2}}, \"type\": \"parcoords\"}], \"pie\": [{\"automargin\": true, \"type\": \"pie\"}], \"scatter\": [{\"marker\": {\"colorbar\": {\"outlinewidth\": 10, \"tickcolor\": \"rgb(36,36,36)\", \"ticklen\": 8, \"ticks\": \"outside\", \"tickwidth\": 2}}, \"type\": \"scatter\"}], \"scatter3d\": [{\"line\": {\"colorbar\": {\"outlinewidth\": 10, \"tickcolor\": \"rgb(36,36,36)\", \"ticklen\": 8, \"ticks\": \"outside\", \"tickwidth\": 2}}, \"marker\": {\"colorbar\": {\"outlinewidth\": 10, \"tickcolor\": \"rgb(36,36,36)\", \"ticklen\": 8, \"ticks\": \"outside\", \"tickwidth\": 2}}, \"type\": \"scatter3d\"}], \"scattercarpet\": [{\"marker\": {\"colorbar\": {\"outlinewidth\": 10, \"tickcolor\": \"rgb(36,36,36)\", \"ticklen\": 8, \"ticks\": \"outside\", \"tickwidth\": 2}}, \"type\": \"scattercarpet\"}], \"scattergeo\": [{\"marker\": {\"colorbar\": {\"outlinewidth\": 10, \"tickcolor\": \"rgb(36,36,36)\", \"ticklen\": 8, \"ticks\": \"outside\", \"tickwidth\": 2}}, \"type\": \"scattergeo\"}], \"scattergl\": [{\"marker\": {\"colorbar\": {\"outlinewidth\": 10, \"tickcolor\": \"rgb(36,36,36)\", \"ticklen\": 8, \"ticks\": \"outside\", \"tickwidth\": 2}}, \"type\": \"scattergl\"}], \"scattermapbox\": [{\"marker\": {\"colorbar\": {\"outlinewidth\": 10, \"tickcolor\": \"rgb(36,36,36)\", \"ticklen\": 8, \"ticks\": \"outside\", \"tickwidth\": 2}}, \"type\": \"scattermapbox\"}], \"scatterpolar\": [{\"marker\": {\"colorbar\": {\"outlinewidth\": 10, \"tickcolor\": \"rgb(36,36,36)\", \"ticklen\": 8, \"ticks\": \"outside\", \"tickwidth\": 2}}, \"type\": \"scatterpolar\"}], \"scatterpolargl\": [{\"marker\": {\"colorbar\": {\"outlinewidth\": 10, \"tickcolor\": \"rgb(36,36,36)\", \"ticklen\": 8, \"ticks\": \"outside\", \"tickwidth\": 2}}, \"type\": \"scatterpolargl\"}], \"scatterternary\": [{\"marker\": {\"colorbar\": {\"outlinewidth\": 10, \"tickcolor\": \"rgb(36,36,36)\", \"ticklen\": 8, \"ticks\": \"outside\", \"tickwidth\": 2}}, \"type\": \"scatterternary\"}], \"surface\": [{\"colorbar\": {\"outlinewidth\": 10, \"tickcolor\": \"rgb(36,36,36)\", \"ticklen\": 8, \"ticks\": \"outside\", \"tickwidth\": 2}, \"colorscale\": [[0.0, \"#440154\"], [0.1111111111111111, \"#482878\"], [0.2222222222222222, \"#3e4989\"], [0.3333333333333333, \"#31688e\"], [0.4444444444444444, \"#26828e\"], [0.5555555555555556, \"#1f9e89\"], [0.6666666666666666, \"#35b779\"], [0.7777777777777778, \"#6ece58\"], [0.8888888888888888, \"#b5de2b\"], [1.0, \"#fde725\"]], \"type\": \"surface\"}], \"table\": [{\"cells\": {\"fill\": {\"color\": \"rgb(237,237,237)\"}, \"line\": {\"color\": \"white\"}}, \"header\": {\"fill\": {\"color\": \"rgb(217,217,217)\"}, \"line\": {\"color\": \"white\"}}, \"type\": \"table\"}]}, \"layout\": {\"annotationdefaults\": {\"arrowhead\": 0, \"arrowwidth\": 1}, \"coloraxis\": {\"colorbar\": {\"outlinewidth\": 10, \"tickcolor\": \"rgb(36,36,36)\", \"ticklen\": 8, \"ticks\": \"outside\", \"tickwidth\": 2}}, \"colorscale\": {\"diverging\": [[0.0, \"rgb(103,0,31)\"], [0.1, \"rgb(178,24,43)\"], [0.2, \"rgb(214,96,77)\"], [0.3, \"rgb(244,165,130)\"], [0.4, \"rgb(253,219,199)\"], [0.5, \"rgb(247,247,247)\"], [0.6, \"rgb(209,229,240)\"], [0.7, \"rgb(146,197,222)\"], [0.8, \"rgb(67,147,195)\"], [0.9, \"rgb(33,102,172)\"], [1.0, \"rgb(5,48,97)\"]], \"sequential\": [[0.0, \"#440154\"], [0.1111111111111111, \"#482878\"], [0.2222222222222222, \"#3e4989\"], [0.3333333333333333, \"#31688e\"], [0.4444444444444444, \"#26828e\"], [0.5555555555555556, \"#1f9e89\"], [0.6666666666666666, \"#35b779\"], [0.7777777777777778, \"#6ece58\"], [0.8888888888888888, \"#b5de2b\"], [1.0, \"#fde725\"]], \"sequentialminus\": [[0.0, \"#440154\"], [0.1111111111111111, \"#482878\"], [0.2222222222222222, \"#3e4989\"], [0.3333333333333333, \"#31688e\"], [0.4444444444444444, \"#26828e\"], [0.5555555555555556, \"#1f9e89\"], [0.6666666666666666, \"#35b779\"], [0.7777777777777778, \"#6ece58\"], [0.8888888888888888, \"#b5de2b\"], [1.0, \"#fde725\"]]}, \"colorway\": [\"#1F77B4\", \"#FF7F0E\", \"#2CA02C\", \"#D62728\", \"#9467BD\", \"#8C564B\", \"#E377C2\", \"#7F7F7F\", \"#BCBD22\", \"#17BECF\"], \"font\": {\"color\": \"rgb(36,36,36)\"}, \"geo\": {\"bgcolor\": \"white\", \"lakecolor\": \"white\", \"landcolor\": \"white\", \"showlakes\": true, \"showland\": true, \"subunitcolor\": \"white\"}, \"hoverlabel\": {\"align\": \"left\"}, \"hovermode\": \"closest\", \"mapbox\": {\"style\": \"light\"}, \"paper_bgcolor\": \"white\", \"plot_bgcolor\": \"white\", \"polar\": {\"angularaxis\": {\"gridcolor\": \"rgb(232,232,232)\", \"linecolor\": \"rgb(36,36,36)\", \"showgrid\": false, \"showline\": true, \"ticks\": \"outside\"}, \"bgcolor\": \"white\", \"radialaxis\": {\"gridcolor\": \"rgb(232,232,232)\", \"linecolor\": \"rgb(36,36,36)\", \"showgrid\": false, \"showline\": true, \"ticks\": \"outside\"}}, \"scene\": {\"xaxis\": {\"backgroundcolor\": \"white\", \"gridcolor\": \"rgb(232,232,232)\", \"gridwidth\": 2, \"linecolor\": \"rgb(36,36,36)\", \"showbackground\": true, \"showgrid\": false, \"showline\": true, \"ticks\": \"outside\", \"zeroline\": false, \"zerolinecolor\": \"rgb(36,36,36)\"}, \"yaxis\": {\"backgroundcolor\": \"white\", \"gridcolor\": \"rgb(232,232,232)\", \"gridwidth\": 2, \"linecolor\": \"rgb(36,36,36)\", \"showbackground\": true, \"showgrid\": false, \"showline\": true, \"ticks\": \"outside\", \"zeroline\": false, \"zerolinecolor\": \"rgb(36,36,36)\"}, \"zaxis\": {\"backgroundcolor\": \"white\", \"gridcolor\": \"rgb(232,232,232)\", \"gridwidth\": 2, \"linecolor\": \"rgb(36,36,36)\", \"showbackground\": true, \"showgrid\": false, \"showline\": true, \"ticks\": \"outside\", \"zeroline\": false, \"zerolinecolor\": \"rgb(36,36,36)\"}}, \"shapedefaults\": {\"fillcolor\": \"black\", \"line\": {\"width\": 0}, \"opacity\": 0.3}, \"ternary\": {\"aaxis\": {\"gridcolor\": \"rgb(232,232,232)\", \"linecolor\": \"rgb(36,36,36)\", \"showgrid\": false, \"showline\": true, \"ticks\": \"outside\"}, \"baxis\": {\"gridcolor\": \"rgb(232,232,232)\", \"linecolor\": \"rgb(36,36,36)\", \"showgrid\": false, \"showline\": true, \"ticks\": \"outside\"}, \"bgcolor\": \"white\", \"caxis\": {\"gridcolor\": \"rgb(232,232,232)\", \"linecolor\": \"rgb(36,36,36)\", \"showgrid\": false, \"showline\": true, \"ticks\": \"outside\"}}, \"title\": {\"x\": 0.05}, \"xaxis\": {\"automargin\": true, \"gridcolor\": \"rgb(232,232,232)\", \"linecolor\": \"rgb(36,36,36)\", \"showgrid\": false, \"showline\": true, \"ticks\": \"outside\", \"title\": {\"standoff\": 15}, \"zeroline\": false, \"zerolinecolor\": \"rgb(36,36,36)\"}, \"yaxis\": {\"automargin\": true, \"gridcolor\": \"rgb(232,232,232)\", \"linecolor\": \"rgb(36,36,36)\", \"showgrid\": false, \"showline\": true, \"ticks\": \"outside\", \"title\": {\"standoff\": 15}, \"zeroline\": false, \"zerolinecolor\": \"rgb(36,36,36)\"}}}, \"title\": {\"text\": \"Liquid Level Along Pipe\"}, \"xaxis\": {\"showspikes\": true, \"spikecolor\": \"green\", \"title\": {\"text\": \"Pipe Chainage (m)\"}}, \"yaxis\": {\"showspikes\": true, \"spikecolor\": \"green\", \"title\": {\"text\": \"Elevation (mGeodetic)\"}}},\n",
              "                        {\"responsive\": true}\n",
              "                    ).then(function(){\n",
              "                            \n",
              "var gd = document.getElementById('5dd3982e-3549-4f0c-8e34-3db3aeda9127');\n",
              "var x = new MutationObserver(function (mutations, observer) {{\n",
              "        var display = window.getComputedStyle(gd).display;\n",
              "        if (!display || display === 'none') {{\n",
              "            console.log([gd, 'removed!']);\n",
              "            Plotly.purge(gd);\n",
              "            observer.disconnect();\n",
              "        }}\n",
              "}});\n",
              "\n",
              "// Listen for the removal of the full notebook cells\n",
              "var notebookContainer = gd.closest('#notebook-container');\n",
              "if (notebookContainer) {{\n",
              "    x.observe(notebookContainer, {childList: true});\n",
              "}}\n",
              "\n",
              "// Listen for the clearing of the current output cell\n",
              "var outputEl = gd.closest('.output');\n",
              "if (outputEl) {{\n",
              "    x.observe(outputEl, {childList: true});\n",
              "}}\n",
              "\n",
              "                        })\n",
              "                };\n",
              "                \n",
              "            </script>\n",
              "        </div>\n",
              "</body>\n",
              "</html>"
            ]
          },
          "metadata": {}
        }
      ]
    },
    {
      "cell_type": "code",
      "metadata": {
        "id": "wPEISX6f48Oi"
      },
      "source": [
        ""
      ],
      "execution_count": 50,
      "outputs": []
    },
    {
      "cell_type": "code",
      "metadata": {
        "id": "5o2wxDKrusk9"
      },
      "source": [
        ""
      ],
      "execution_count": 13,
      "outputs": []
    },
    {
      "cell_type": "code",
      "metadata": {
        "id": "GPRuSpUAusnw"
      },
      "source": [
        ""
      ],
      "execution_count": 13,
      "outputs": []
    },
    {
      "cell_type": "code",
      "metadata": {
        "id": "Tyy4gE3b2jul"
      },
      "source": [
        ""
      ],
      "execution_count": 13,
      "outputs": []
    },
    {
      "cell_type": "code",
      "metadata": {
        "id": "OChZWq90zWvz"
      },
      "source": [
        ""
      ],
      "execution_count": 13,
      "outputs": []
    },
    {
      "cell_type": "code",
      "metadata": {
        "id": "13_i_3QEzWyX"
      },
      "source": [
        ""
      ],
      "execution_count": 13,
      "outputs": []
    },
    {
      "cell_type": "markdown",
      "metadata": {
        "id": "lBUv2e6JutJI"
      },
      "source": [
        "# Old Stuff"
      ]
    },
    {
      "cell_type": "code",
      "metadata": {
        "colab": {
          "base_uri": "https://localhost:8080/",
          "height": 129
        },
        "id": "LRPDFcdZ3dNz",
        "outputId": "d5d63004-6e5c-4f9c-834f-6ee6f0a325dc"
      },
      "source": [
        "grade_percent_slider = widgets.FloatSlider(\n",
        "#     value=grade_percent.value,\n",
        "#     min=0,\n",
        "#     max=5, #grade % slider\n",
        "#     step=0.01,\n",
        "#     description='Grade %:',\n",
        "#     disabled=False,\n",
        "#     continuous_update=False,\n",
        "#     orientation='horizontal',\n",
        "#     readout=True,\n",
        "#     readout_format='.1f',\n",
        "# )\n",
        "# f = go.FigureWidget(fig)"
      ],
      "execution_count": 14,
      "outputs": [
        {
          "output_type": "error",
          "ename": "SyntaxError",
          "evalue": "ignored",
          "traceback": [
            "\u001b[0;36m  File \u001b[0;32m\"<ipython-input-14-57e9cf930eb0>\"\u001b[0;36m, line \u001b[0;32m13\u001b[0m\n\u001b[0;31m    # f = go.FigureWidget(fig)\u001b[0m\n\u001b[0m                              ^\u001b[0m\n\u001b[0;31mSyntaxError\u001b[0m\u001b[0;31m:\u001b[0m unexpected EOF while parsing\n"
          ]
        }
      ]
    },
    {
      "cell_type": "code",
      "metadata": {
        "id": "-M_jGDkd3dQX"
      },
      "source": [
        "# def response(change):\n",
        "#   graph_df=build_graph_df()\n",
        "#   y1 = graph_df[\"Liquid Level\"].values\n",
        "#   y2 = graph_df[\"Pipe Invert\"].values\n",
        "#   y3 = graph_df[\"Pipe Crown\"].values\n",
        "#   with f.batch_update():\n",
        "#     f.data[0].y = y2\n",
        "#     f.data[1].y=y3\n",
        "#     f.data[2] = y1\n",
        "#   f.show()\n"
      ],
      "execution_count": null,
      "outputs": []
    },
    {
      "cell_type": "code",
      "metadata": {
        "id": "0dA1JNcd3dTM"
      },
      "source": [
        "# widgets.VBox([grade_percent_slider])"
      ],
      "execution_count": null,
      "outputs": []
    }
  ]
}