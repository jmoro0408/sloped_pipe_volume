{
  "nbformat": 4,
  "nbformat_minor": 0,
  "metadata": {
    "colab": {
      "name": "many_plots.ipynb",
      "provenance": [],
      "collapsed_sections": [],
      "authorship_tag": "ABX9TyOODMD6ndQkeoOAiVc1lB8s",
      "include_colab_link": true
    },
    "kernelspec": {
      "name": "python3",
      "display_name": "Python 3"
    },
    "language_info": {
      "name": "python"
    }
  },
  "cells": [
    {
      "cell_type": "markdown",
      "metadata": {
        "id": "view-in-github",
        "colab_type": "text"
      },
      "source": [
        "<a href=\"https://colab.research.google.com/github/jmoro0408/sloped_pipe_volume/blob/main/many_plots.ipynb\" target=\"_parent\"><img src=\"https://colab.research.google.com/assets/colab-badge.svg\" alt=\"Open In Colab\"/></a>"
      ]
    },
    {
      "cell_type": "markdown",
      "metadata": {
        "id": "BObLd5mmDMtx"
      },
      "source": [
        "# TODO\n",
        "\n",
        "* Add case where pipe is partially completely full\n",
        "* add plotly table and conditional formatting for grade\n",
        "* link slider to table and air/volume % \n",
        "* add conversion for imperial\n",
        "* add support for user input values"
      ]
    },
    {
      "cell_type": "code",
      "metadata": {
        "id": "LBt0xadom8B2"
      },
      "source": [
        "import numpy as np\n",
        "import pandas as pd\n",
        "import plotly.graph_objects as go\n",
        "from plotly.subplots import make_subplots\n",
        "import warnings\n",
        "pd.options.mode.chained_assignment = None  # default='warn' #disable pandas companing about creating a copy of a df\n",
        "#warnings.filterwarnings('ignore')"
      ],
      "execution_count": 1,
      "outputs": []
    },
    {
      "cell_type": "code",
      "metadata": {
        "id": "0S2sreA-LmqH"
      },
      "source": [
        "# initial values\n",
        "initial_grade_percent = 0.1 #inital grade value\n",
        "maximum_grade_value = 5 #maximum grade (%) to plot \n",
        "pipe_length = 50\n",
        "pipe_diameter = 2\n",
        "pipe_invert_start = -5 #pipe invert at pipe end\n",
        "lower_liquid_level = -3.5 #liquid level elevation at pipe end. this is NOT the relative height of water above the pipe invert\n"
      ],
      "execution_count": 38,
      "outputs": []
    },
    {
      "cell_type": "markdown",
      "metadata": {
        "id": "PtrBzcuMTI_e"
      },
      "source": [
        "# Calculation\n"
      ]
    },
    {
      "cell_type": "code",
      "metadata": {
        "id": "K8LPvcsjVl2F"
      },
      "source": [
        "no_points_to_plot = 100\n",
        "no_grades = np.arange(0,maximum_grade_value, 20 )\n",
        "pipe_chainage = np.linspace(0, pipe_length, no_points_to_plot).tolist()\n",
        "pipe_chainage = [round(elem) for elem in pipe_chainage]\n",
        "relative_lower_liquid_level = np.abs(pipe_invert_start - lower_liquid_level)"
      ],
      "execution_count": 39,
      "outputs": []
    },
    {
      "cell_type": "code",
      "metadata": {
        "id": "JGShLQnTpIaX"
      },
      "source": [
        "def calculate_tilt_angle(initial_grade_percent):\n",
        "  tilt_angle = np.arctan(initial_grade_percent / 100)\n",
        "  tilt_angle = np.degrees(tilt_angle)\n",
        "  \n",
        "  return tilt_angle\n",
        "\n",
        "def calculate_pipe_upper_invert(pipe_invert_elev,tilt_angle,pipe_length):\n",
        "  pipe_upper_invert = np.tan(np.radians(tilt_angle)) * pipe_length + pipe_invert_elev\n",
        "  return pipe_upper_invert\n",
        "\n",
        "def calculate_upper_liquid_level(lower_liquid_level, tilt_angle, pipe_length):\n",
        "  upper_liquid_level = lower_liquid_level\n",
        "  return upper_liquid_level\n",
        "\n",
        "def calculate_total_pipe_volume(pipe_diameter, pipe_length):\n",
        "  pipe_cross_sectional_area = np.pi / 4 * (pipe_diameter**2)\n",
        "  total_volume = pipe_cross_sectional_area * pipe_length\n",
        "  total_volume = round(total_volume, 2)\n",
        "  return total_volume\n",
        "\n",
        "def calculate_sloped_pipe_volume(\n",
        "    pipe_diameter, tilt_angle, pipe_length, relative_lower_liquid_level\n",
        "):\n",
        "    if tilt_angle == 0: tilt_angle =0.001 #angle of zero breaks the np.tan function, so making a close approximation\n",
        "    pipe_radius = pipe_diameter / 2\n",
        "    tilt_angle_radians = np.radians(tilt_angle)\n",
        "    _h0 = relative_lower_liquid_level - (pipe_length * np.tan(tilt_angle_radians))\n",
        "\n",
        "    # \"normal\" case, where both ends have some liquid\n",
        "    if _h0 >= 0:\n",
        "        _lf = pipe_length\n",
        "\n",
        "    # upper end has no liquid - liquid does not reach end of pipe\n",
        "    elif _h0 < 0:\n",
        "        # lower_liquid_level = 0\n",
        "        _lf = pipe_length + _h0 / np.tan(tilt_angle_radians)\n",
        "        _h0 = 0\n",
        "        # assert _lf < pipe_length, \"Liquid fill length cannot be greater than pipe length\"\n",
        "\n",
        "    _h1 = _h0 + (_lf * np.tan(tilt_angle_radians))\n",
        "    # Case where pipe is (at least) partially completely full.\n",
        "    if _h1 > pipe_diameter:\n",
        "        _lt = (_h1 - pipe_diameter) / np.tan(tilt_angle_radians)\n",
        "    else:\n",
        "        _lt = 0\n",
        "\n",
        "    _pipe_length = _lf - _lt\n",
        "\n",
        "    _k = 1 - (_h0 / pipe_radius)\n",
        "    _c = _k - ((_pipe_length * np.tan(tilt_angle_radians)) / pipe_radius)\n",
        "\n",
        "    assert -1 <= _k <= 1, \"k out of range\"\n",
        "    assert -1 <= _c <= 1, \"c out of range\"\n",
        "\n",
        "    integral0 = pipe_radius ** 3 / np.tan(tilt_angle_radians)\n",
        "    integral1 = _k * np.arccos(_k)\n",
        "    integral2 = (1 / 3) * (np.sqrt(1 - (_k ** 2))) * (_k ** 2 + 2)\n",
        "    integral3 = _c * np.arccos(_c)\n",
        "    integral4 = (1 / 3) * (np.sqrt(1 - (_c ** 2))) * (_c ** 2 + 2)\n",
        "    volume = integral0 * (integral1 - integral2 - integral3 + integral4)\n",
        "\n",
        "    if (pipe_radius == relative_lower_liquid_level) and (\n",
        "        tilt_angle == 0\n",
        "    ):  # Pipe is exactly half full and no slope\n",
        "        volume = (pipe_length * np.pi * pipe_radius ** 2) / 2\n",
        "\n",
        "    return volume"
      ],
      "execution_count": 58,
      "outputs": []
    },
    {
      "cell_type": "code",
      "metadata": {
        "id": "i-zByIlnFhs2"
      },
      "source": [
        "tilt_angle = calculate_tilt_angle(initial_grade_percent)\n",
        "upper_pipe_invert = calculate_pipe_upper_invert(pipe_invert_start,tilt_angle,pipe_length)\n",
        "upper_liquid_level = calculate_upper_liquid_level(lower_liquid_level, tilt_angle, pipe_length)"
      ],
      "execution_count": 59,
      "outputs": []
    },
    {
      "cell_type": "code",
      "metadata": {
        "id": "T7IkAkNb0jZt"
      },
      "source": [
        "#create x points along the chainage\n",
        "pipe_invert_points = np.linspace(pipe_invert_start, upper_pipe_invert, no_points_to_plot)"
      ],
      "execution_count": 60,
      "outputs": []
    },
    {
      "cell_type": "code",
      "metadata": {
        "id": "bsT8P2fIroT2"
      },
      "source": [
        "#initial_grade_percent_list = np.linspace(0, maximum_grade_value,no_points_to_plot ) #this will be the slider eventually\n",
        "grade_step = maximum_grade_value**2/100\n",
        "initial_grade_percent_list = np.arange(0, maximum_grade_value+grade_step, step = grade_step )\n",
        "initial_grade_percent_list = np.round(initial_grade_percent_list, 2)"
      ],
      "execution_count": 61,
      "outputs": []
    },
    {
      "cell_type": "code",
      "metadata": {
        "id": "zxm80EhVnNBO"
      },
      "source": [
        "#Building a dictionary that holdes the grade and every respective pipe invert y coordinate \n",
        "pipe_invert_dict = {}\n",
        "for grade in initial_grade_percent_list:\n",
        "  _tilt_angle = calculate_tilt_angle(grade)\n",
        "  _upper_pipe_invert = calculate_pipe_upper_invert(pipe_invert_start, _tilt_angle,pipe_length)\n",
        "  _pipe_invert_points = np.linspace(pipe_invert_start, _upper_pipe_invert, no_points_to_plot)\n",
        "  _pipe_invert_points = np.round(_pipe_invert_points, 2)\n",
        "  _pipe_invert_points = _pipe_invert_points.tolist()\n",
        "  pipe_invert_dict.update({grade:_pipe_invert_points})\n"
      ],
      "execution_count": 62,
      "outputs": []
    },
    {
      "cell_type": "code",
      "metadata": {
        "id": "zKvcfSZF0HSJ"
      },
      "source": [
        "#Building a dictionary that holdes the grade and every respective pipe crown y coordinate \n",
        "# The pipe crown is just the invert + the pipe diameter, so this is easy to build from the invert dict\n",
        "pipe_crown_dict = {}\n",
        "for key, values in pipe_invert_dict.items():\n",
        "  _crown_value = [value + pipe_diameter for value in values]\n",
        "  _crown_value = [round(value, 2) for value in _crown_value]\n",
        "  pipe_crown_dict.update({key:_crown_value})\n"
      ],
      "execution_count": 63,
      "outputs": []
    },
    {
      "cell_type": "code",
      "metadata": {
        "id": "T7S2CX30RYYZ"
      },
      "source": [
        "# Building a dict to hold the respective upper liquid levels at every grade. This is just equal to the lower level as the water level does not move\n",
        "liquid_level_dict = {}\n",
        "for grade in initial_grade_percent_list:\n",
        "  liquid_level_dict.update({grade: [lower_liquid_level] * no_points_to_plot})\n",
        "\n",
        "# for grade in initial_grade_percent_list:\n",
        "#   _tilt_angle = calculate_tilt_angle(grade)\n",
        "#   _upper_liquid_level = calculate_upper_liquid_level(lower_liquid_level, _tilt_angle, pipe_length)\n",
        "#   _upper_liquid_level_points = np.linspace(lower_liquid_level,_upper_liquid_level,  no_points_to_plot)\n",
        "#   _upper_liquid_level_points = _upper_liquid_level_points.tolist()\n",
        "#   liquid_level_dict.update({grade:_upper_liquid_level_points})\n",
        "\n"
      ],
      "execution_count": 64,
      "outputs": []
    },
    {
      "cell_type": "code",
      "metadata": {
        "id": "wVJmFhwjnPPQ"
      },
      "source": [
        "\"\"\"this one is tricky. Trying to make sure any point where the liquid level is below the pipe invert is not plotted. \n",
        "\n",
        "I think there is a neater way to do this but I tried going directly to the go.Figure() object, and to the individual dicts but\n",
        "got lost navigating the nested stucture. This way works for now. \n",
        "\"\"\"\n",
        "\n",
        "pipe_invert_df = pd.DataFrame.from_dict(pipe_invert_dict) #create dataframes from both dicts\n",
        "liquid_level_df = pd.DataFrame.from_dict(liquid_level_dict)\n",
        "\n",
        "for column in pipe_invert_df:\n",
        "  for index in pipe_invert_df.index:\n",
        "    if liquid_level_df[column].iloc[index] < pipe_invert_df[column].iloc[index]: # if liquid level < pipe invert, replace with NaN\n",
        "      liquid_level_df[column].iloc[index] = np.nan\n",
        "\n",
        "liquid_level_dict = liquid_level_df.to_dict(orient = \"list\")\n",
        "\n",
        "del pipe_invert_df, liquid_level_df #dont need these dataframes anymore"
      ],
      "execution_count": 65,
      "outputs": []
    },
    {
      "cell_type": "code",
      "metadata": {
        "id": "Tz9dKo1gUdr8"
      },
      "source": [
        "#Building a doct that holds the pipe volume for each grade %\n",
        "liquid_volume_grade_dict = {}\n",
        "for key, value in liquid_level_dict.items():\n",
        "  _pipe_radius = pipe_diameter/2\n",
        "  _tilt_angle = calculate_tilt_angle(key)\n",
        "  _pipe_volume = calculate_sloped_pipe_volume(pipe_diameter, _tilt_angle, pipe_length, relative_lower_liquid_level)\n",
        "  liquid_volume_grade_dict.update({key:_pipe_volume})\n",
        "\n",
        "\n",
        "liquid_volume_grade_dict = {key: round(liquid_volume_grade_dict[key], 2) for key in liquid_volume_grade_dict} # rouding grades for plotting"
      ],
      "execution_count": 66,
      "outputs": []
    },
    {
      "cell_type": "code",
      "metadata": {
        "id": "kDjNDGJyGkGq"
      },
      "source": [
        "pipe_total_volume = calculate_total_pipe_volume(pipe_diameter, pipe_length)"
      ],
      "execution_count": 67,
      "outputs": []
    },
    {
      "cell_type": "code",
      "metadata": {
        "id": "voVYwU7IKuMZ"
      },
      "source": [
        "air_volume_dict = {} # Volume of air is just toal volume - volume of liquid\n",
        "for key, value in liquid_volume_grade_dict.items():\n",
        "  air_volume_dict.update({key: pipe_total_volume-value})\n",
        "  air_volume_dict = {key: round(air_volume_dict[key], 2) for key in air_volume_dict}"
      ],
      "execution_count": 68,
      "outputs": []
    },
    {
      "cell_type": "code",
      "metadata": {
        "id": "1slIeWQnLPGM"
      },
      "source": [
        "air_liquid_percent_dict = {}\n",
        "for key, value in liquid_volume_grade_dict.items():\n",
        "  _liquid_percent = (liquid_volume_grade_dict[key] / pipe_total_volume) *100\n",
        "  _liquid_percent = round(_liquid_percent,2)\n",
        "  _air_percent = 100 - _liquid_percent\n",
        "  _air_percent = round(_air_percent, 2)\n",
        "  air_liquid_percent_dict.update({key: [_liquid_percent, _air_percent]})\n"
      ],
      "execution_count": 69,
      "outputs": []
    },
    {
      "cell_type": "code",
      "metadata": {
        "id": "aDT0LBSHI6JY"
      },
      "source": [
        "# two lists of air percents and liquid percents makes plotting a whole easier, so just use list comprehension to explode the dict\n",
        "air_percents_list = [list(air_liquid_percent_dict.values())[i][1] for i in range(len(air_liquid_percent_dict.values()))]\n",
        "liquid_percents_list = [list(air_liquid_percent_dict.values())[i][0] for i in range(len(air_liquid_percent_dict.values()))]\n"
      ],
      "execution_count": 70,
      "outputs": []
    },
    {
      "cell_type": "markdown",
      "metadata": {
        "id": "dl0R-PI9SvY_"
      },
      "source": [
        "# Plotting"
      ]
    },
    {
      "cell_type": "code",
      "metadata": {
        "id": "L2XkpqHnSwzM"
      },
      "source": [
        "fig1 = go.Figure()\n",
        "trace_list1 = []\n",
        "trace_list2 = []\n",
        "trace_list3 = []\n",
        "for grade in pipe_invert_dict.keys():\n",
        "  _tilt_angle = round(calculate_tilt_angle(grade),2)\n",
        "  trace_list1.append(go.Scatter(visible = False, \n",
        "                                x=pipe_chainage, \n",
        "                                y=pipe_invert_dict[grade], \n",
        "                                name = \"Pipe Invert\",\n",
        "                                showlegend=False, \n",
        "                                line=dict(color='gray', width=3)))\n",
        "  \n",
        "  trace_list2.append(go.Scatter(visible = False, \n",
        "                                x=pipe_chainage, \n",
        "                                y=pipe_crown_dict[grade], \n",
        "                                name = \"Pipe Crown\",\n",
        "                                showlegend=False, \n",
        "                                line=dict(color='gray', width=3)))\n",
        "  \n",
        "  trace_list3.append(go.Scatter(visible = False, \n",
        "                                x=pipe_chainage, \n",
        "                                y=liquid_level_dict[grade], \n",
        "                                name = \"Liquid Level\", \n",
        "                                line=dict(color='royalblue', width=2)))"
      ],
      "execution_count": 71,
      "outputs": []
    },
    {
      "cell_type": "code",
      "metadata": {
        "colab": {
          "base_uri": "https://localhost:8080/",
          "height": 542
        },
        "id": "ET5-7BCoSznh",
        "outputId": "a0ca93a7-8df4-4ffe-802f-5d4603e4cd06"
      },
      "source": [
        "#Building the slider\n",
        "# in order to capture both the crown and invert moving together with a singler slider step we need to append both traces to a single list\n",
        "\n",
        "num_steps = len(initial_grade_percent_list) #each step = a different grade\n",
        "fig1 = go.Figure(data = trace_list1 + trace_list2+trace_list3)\n",
        "\n",
        "#have to be really careful here. You want the slider to be aware of the ordering of traces, see https://community.plotly.com/t/multiple-traces-with-a-single-slider-in-plotly/16356\n",
        "\n",
        "fig1.data[0].visible = True #this is the pipe invert data\n",
        "fig1.data[num_steps].visible = True #pipe crown data\n",
        "fig1.data[num_steps*2].visible = True #liquid level data\n",
        "\n",
        "\n",
        "# Set initial slider/title index\n",
        "start_index = 0\n",
        "\n",
        "steps = []\n",
        "for i in range(num_steps):\n",
        "  current_grade_value = round(initial_grade_percent_list[i], 2)\n",
        "  step = dict(\n",
        "      method=\"update\", \n",
        "      args = [\n",
        "              {\"visible\":[False] * len(fig1.data)}, \n",
        "              {\"title\":f\"Liquid Level Along Pipe at {current_grade_value} % Grade\"}, \n",
        "              ], \n",
        "              label=str(round(list(pipe_invert_dict.keys())[i],2)))\n",
        "  \n",
        "  step[\"args\"][start_index][\"visible\"][i] = True  # Toggle i'th trace to \"visible\" - pipe invert\n",
        "  step[\"args\"][start_index][\"visible\"][i+num_steps] = True #pipe crown\n",
        "  step[\"args\"][start_index][\"visible\"][i+num_steps*2] = True #liquid level\n",
        "  steps.append(step)\n",
        "\n",
        "sliders = [dict( \n",
        "    active=initial_grade_percent,\n",
        "    currentvalue={\"prefix\": \"Grade: \", \"suffix\": \" %\"},\n",
        "    pad={\"t\": 50},\n",
        "    steps=steps\n",
        ")]\n",
        "\n",
        "fig1.update_layout(\n",
        "    template = \"simple_white\", \n",
        "    title=f\"Liquid Level Along Pipe at {start_index} % Grade\",\n",
        "    xaxis_title=\"Pipe Chainage (m)\",\n",
        "    yaxis_title=\"Elevation (mGeodetic)\",\n",
        "    sliders=sliders,\n",
        "  #Legend info \n",
        "    legend=dict(\n",
        "    orientation=\"h\",\n",
        "    yanchor=\"bottom\",\n",
        "    y=1.02,\n",
        "    xanchor=\"right\",\n",
        "    x=1),\n",
        ")\n",
        "\n",
        "fig1.update_yaxes(range=[min(min(pipe_invert_dict.values()))-1,max(max(pipe_crown_dict.values()))]) #have to lock the y axis, otherwise the axis just updates and the line doesnt \"move\"\n",
        "fig1.update_xaxes(showspikes=True, spikecolor=\"green\", spikesnap=\"cursor\", spikemode=\"across\")\n",
        "fig1.update_yaxes(showspikes=True,spikecolor=\"green\")\n",
        "\n",
        "fig1.show()\n",
        "\n"
      ],
      "execution_count": 72,
      "outputs": [
        {
          "output_type": "display_data",
          "data": {
            "text/html": [
              "<html>\n",
              "<head><meta charset=\"utf-8\" /></head>\n",
              "<body>\n",
              "    <div>\n",
              "            <script src=\"https://cdnjs.cloudflare.com/ajax/libs/mathjax/2.7.5/MathJax.js?config=TeX-AMS-MML_SVG\"></script><script type=\"text/javascript\">if (window.MathJax) {MathJax.Hub.Config({SVG: {font: \"STIX-Web\"}});}</script>\n",
              "                <script type=\"text/javascript\">window.PlotlyConfig = {MathJaxConfig: 'local'};</script>\n",
              "        <script src=\"https://cdn.plot.ly/plotly-latest.min.js\"></script>    \n",
              "            <div id=\"b18de76f-0094-4a7d-9453-ad2766d30c3d\" class=\"plotly-graph-div\" style=\"height:525px; width:100%;\"></div>\n",
              "            <script type=\"text/javascript\">\n",
              "                \n",
              "                    window.PLOTLYENV=window.PLOTLYENV || {};\n",
              "                    \n",
              "                if (document.getElementById(\"b18de76f-0094-4a7d-9453-ad2766d30c3d\")) {\n",
              "                    Plotly.newPlot(\n",
              "                        'b18de76f-0094-4a7d-9453-ad2766d30c3d',\n",
              "                        [{\"line\": {\"color\": \"gray\", \"width\": 3}, \"name\": \"Pipe Invert\", \"showlegend\": false, \"type\": \"scatter\", \"visible\": true, \"x\": [0, 1, 1, 2, 2, 3, 3, 4, 4, 5, 5, 6, 6, 7, 7, 8, 8, 9, 9, 10, 10, 11, 11, 12, 12, 13, 13, 14, 14, 15, 15, 16, 16, 17, 17, 18, 18, 19, 19, 20, 20, 21, 21, 22, 22, 23, 23, 24, 24, 25, 25, 26, 26, 27, 27, 28, 28, 29, 29, 30, 30, 31, 31, 32, 32, 33, 33, 34, 34, 35, 35, 36, 36, 37, 37, 38, 38, 39, 39, 40, 40, 41, 41, 42, 42, 43, 43, 44, 44, 45, 45, 46, 46, 47, 47, 48, 48, 49, 49, 50], \"y\": [-5.0, -5.0, -5.0, -5.0, -5.0, -5.0, -5.0, -5.0, -5.0, -5.0, -5.0, -5.0, -5.0, -5.0, -5.0, -5.0, -5.0, -5.0, -5.0, -5.0, -5.0, -5.0, -5.0, -5.0, -5.0, -5.0, -5.0, -5.0, -5.0, -5.0, -5.0, -5.0, -5.0, -5.0, -5.0, -5.0, -5.0, -5.0, -5.0, -5.0, -5.0, -5.0, -5.0, -5.0, -5.0, -5.0, -5.0, -5.0, -5.0, -5.0, -5.0, -5.0, -5.0, -5.0, -5.0, -5.0, -5.0, -5.0, -5.0, -5.0, -5.0, -5.0, -5.0, -5.0, -5.0, -5.0, -5.0, -5.0, -5.0, -5.0, -5.0, -5.0, -5.0, -5.0, -5.0, -5.0, -5.0, -5.0, -5.0, -5.0, -5.0, -5.0, -5.0, -5.0, -5.0, -5.0, -5.0, -5.0, -5.0, -5.0, -5.0, -5.0, -5.0, -5.0, -5.0, -5.0, -5.0, -5.0, -5.0, -5.0]}, {\"line\": {\"color\": \"gray\", \"width\": 3}, \"name\": \"Pipe Invert\", \"showlegend\": false, \"type\": \"scatter\", \"visible\": false, \"x\": [0, 1, 1, 2, 2, 3, 3, 4, 4, 5, 5, 6, 6, 7, 7, 8, 8, 9, 9, 10, 10, 11, 11, 12, 12, 13, 13, 14, 14, 15, 15, 16, 16, 17, 17, 18, 18, 19, 19, 20, 20, 21, 21, 22, 22, 23, 23, 24, 24, 25, 25, 26, 26, 27, 27, 28, 28, 29, 29, 30, 30, 31, 31, 32, 32, 33, 33, 34, 34, 35, 35, 36, 36, 37, 37, 38, 38, 39, 39, 40, 40, 41, 41, 42, 42, 43, 43, 44, 44, 45, 45, 46, 46, 47, 47, 48, 48, 49, 49, 50], \"y\": [-5.0, -5.0, -5.0, -5.0, -4.99, -4.99, -4.99, -4.99, -4.99, -4.99, -4.99, -4.99, -4.98, -4.98, -4.98, -4.98, -4.98, -4.98, -4.98, -4.98, -4.97, -4.97, -4.97, -4.97, -4.97, -4.97, -4.97, -4.97, -4.96, -4.96, -4.96, -4.96, -4.96, -4.96, -4.96, -4.96, -4.95, -4.95, -4.95, -4.95, -4.95, -4.95, -4.95, -4.95, -4.94, -4.94, -4.94, -4.94, -4.94, -4.94, -4.94, -4.94, -4.93, -4.93, -4.93, -4.93, -4.93, -4.93, -4.93, -4.93, -4.92, -4.92, -4.92, -4.92, -4.92, -4.92, -4.92, -4.92, -4.91, -4.91, -4.91, -4.91, -4.91, -4.91, -4.91, -4.91, -4.9, -4.9, -4.9, -4.9, -4.9, -4.9, -4.9, -4.9, -4.89, -4.89, -4.89, -4.89, -4.89, -4.89, -4.89, -4.89, -4.88, -4.88, -4.88, -4.88, -4.88, -4.88, -4.88, -4.88]}, {\"line\": {\"color\": \"gray\", \"width\": 3}, \"name\": \"Pipe Invert\", \"showlegend\": false, \"type\": \"scatter\", \"visible\": false, \"x\": [0, 1, 1, 2, 2, 3, 3, 4, 4, 5, 5, 6, 6, 7, 7, 8, 8, 9, 9, 10, 10, 11, 11, 12, 12, 13, 13, 14, 14, 15, 15, 16, 16, 17, 17, 18, 18, 19, 19, 20, 20, 21, 21, 22, 22, 23, 23, 24, 24, 25, 25, 26, 26, 27, 27, 28, 28, 29, 29, 30, 30, 31, 31, 32, 32, 33, 33, 34, 34, 35, 35, 36, 36, 37, 37, 38, 38, 39, 39, 40, 40, 41, 41, 42, 42, 43, 43, 44, 44, 45, 45, 46, 46, 47, 47, 48, 48, 49, 49, 50], \"y\": [-5.0, -5.0, -4.99, -4.99, -4.99, -4.99, -4.98, -4.98, -4.98, -4.98, -4.97, -4.97, -4.97, -4.97, -4.96, -4.96, -4.96, -4.96, -4.95, -4.95, -4.95, -4.95, -4.94, -4.94, -4.94, -4.94, -4.93, -4.93, -4.93, -4.93, -4.92, -4.92, -4.92, -4.92, -4.91, -4.91, -4.91, -4.91, -4.9, -4.9, -4.9, -4.9, -4.89, -4.89, -4.89, -4.89, -4.88, -4.88, -4.88, -4.88, -4.87, -4.87, -4.87, -4.87, -4.86, -4.86, -4.86, -4.86, -4.85, -4.85, -4.85, -4.85, -4.84, -4.84, -4.84, -4.84, -4.83, -4.83, -4.83, -4.83, -4.82, -4.82, -4.82, -4.82, -4.81, -4.81, -4.81, -4.81, -4.8, -4.8, -4.8, -4.8, -4.79, -4.79, -4.79, -4.79, -4.78, -4.78, -4.78, -4.78, -4.77, -4.77, -4.77, -4.77, -4.76, -4.76, -4.76, -4.76, -4.75, -4.75]}, {\"line\": {\"color\": \"gray\", \"width\": 3}, \"name\": \"Pipe Invert\", \"showlegend\": false, \"type\": \"scatter\", \"visible\": false, \"x\": [0, 1, 1, 2, 2, 3, 3, 4, 4, 5, 5, 6, 6, 7, 7, 8, 8, 9, 9, 10, 10, 11, 11, 12, 12, 13, 13, 14, 14, 15, 15, 16, 16, 17, 17, 18, 18, 19, 19, 20, 20, 21, 21, 22, 22, 23, 23, 24, 24, 25, 25, 26, 26, 27, 27, 28, 28, 29, 29, 30, 30, 31, 31, 32, 32, 33, 33, 34, 34, 35, 35, 36, 36, 37, 37, 38, 38, 39, 39, 40, 40, 41, 41, 42, 42, 43, 43, 44, 44, 45, 45, 46, 46, 47, 47, 48, 48, 49, 49, 50], \"y\": [-5.0, -5.0, -4.99, -4.99, -4.98, -4.98, -4.98, -4.97, -4.97, -4.97, -4.96, -4.96, -4.95, -4.95, -4.95, -4.94, -4.94, -4.94, -4.93, -4.93, -4.92, -4.92, -4.92, -4.91, -4.91, -4.91, -4.9, -4.9, -4.89, -4.89, -4.89, -4.88, -4.88, -4.88, -4.87, -4.87, -4.86, -4.86, -4.86, -4.85, -4.85, -4.84, -4.84, -4.84, -4.83, -4.83, -4.83, -4.82, -4.82, -4.81, -4.81, -4.81, -4.8, -4.8, -4.8, -4.79, -4.79, -4.78, -4.78, -4.78, -4.77, -4.77, -4.77, -4.76, -4.76, -4.75, -4.75, -4.75, -4.74, -4.74, -4.73, -4.73, -4.73, -4.72, -4.72, -4.72, -4.71, -4.71, -4.7, -4.7, -4.7, -4.69, -4.69, -4.69, -4.68, -4.68, -4.67, -4.67, -4.67, -4.66, -4.66, -4.66, -4.65, -4.65, -4.64, -4.64, -4.64, -4.63, -4.63, -4.62]}, {\"line\": {\"color\": \"gray\", \"width\": 3}, \"name\": \"Pipe Invert\", \"showlegend\": false, \"type\": \"scatter\", \"visible\": false, \"x\": [0, 1, 1, 2, 2, 3, 3, 4, 4, 5, 5, 6, 6, 7, 7, 8, 8, 9, 9, 10, 10, 11, 11, 12, 12, 13, 13, 14, 14, 15, 15, 16, 16, 17, 17, 18, 18, 19, 19, 20, 20, 21, 21, 22, 22, 23, 23, 24, 24, 25, 25, 26, 26, 27, 27, 28, 28, 29, 29, 30, 30, 31, 31, 32, 32, 33, 33, 34, 34, 35, 35, 36, 36, 37, 37, 38, 38, 39, 39, 40, 40, 41, 41, 42, 42, 43, 43, 44, 44, 45, 45, 46, 46, 47, 47, 48, 48, 49, 49, 50], \"y\": [-5.0, -4.99, -4.99, -4.98, -4.98, -4.97, -4.97, -4.96, -4.96, -4.95, -4.95, -4.94, -4.94, -4.93, -4.93, -4.92, -4.92, -4.91, -4.91, -4.9, -4.9, -4.89, -4.89, -4.88, -4.88, -4.87, -4.87, -4.86, -4.86, -4.85, -4.85, -4.84, -4.84, -4.83, -4.83, -4.82, -4.82, -4.81, -4.81, -4.8, -4.8, -4.79, -4.79, -4.78, -4.78, -4.77, -4.77, -4.76, -4.76, -4.75, -4.75, -4.74, -4.74, -4.73, -4.73, -4.72, -4.72, -4.71, -4.71, -4.7, -4.7, -4.69, -4.69, -4.68, -4.68, -4.67, -4.67, -4.66, -4.66, -4.65, -4.65, -4.64, -4.64, -4.63, -4.63, -4.62, -4.62, -4.61, -4.61, -4.6, -4.6, -4.59, -4.59, -4.58, -4.58, -4.57, -4.57, -4.56, -4.56, -4.55, -4.55, -4.54, -4.54, -4.53, -4.53, -4.52, -4.52, -4.51, -4.51, -4.5]}, {\"line\": {\"color\": \"gray\", \"width\": 3}, \"name\": \"Pipe Invert\", \"showlegend\": false, \"type\": \"scatter\", \"visible\": false, \"x\": [0, 1, 1, 2, 2, 3, 3, 4, 4, 5, 5, 6, 6, 7, 7, 8, 8, 9, 9, 10, 10, 11, 11, 12, 12, 13, 13, 14, 14, 15, 15, 16, 16, 17, 17, 18, 18, 19, 19, 20, 20, 21, 21, 22, 22, 23, 23, 24, 24, 25, 25, 26, 26, 27, 27, 28, 28, 29, 29, 30, 30, 31, 31, 32, 32, 33, 33, 34, 34, 35, 35, 36, 36, 37, 37, 38, 38, 39, 39, 40, 40, 41, 41, 42, 42, 43, 43, 44, 44, 45, 45, 46, 46, 47, 47, 48, 48, 49, 49, 50], \"y\": [-5.0, -4.99, -4.99, -4.98, -4.97, -4.97, -4.96, -4.96, -4.95, -4.94, -4.94, -4.93, -4.92, -4.92, -4.91, -4.91, -4.9, -4.89, -4.89, -4.88, -4.87, -4.87, -4.86, -4.85, -4.85, -4.84, -4.84, -4.83, -4.82, -4.82, -4.81, -4.8, -4.8, -4.79, -4.79, -4.78, -4.77, -4.77, -4.76, -4.75, -4.75, -4.74, -4.73, -4.73, -4.72, -4.72, -4.71, -4.7, -4.7, -4.69, -4.68, -4.68, -4.67, -4.67, -4.66, -4.65, -4.65, -4.64, -4.63, -4.63, -4.62, -4.61, -4.61, -4.6, -4.6, -4.59, -4.58, -4.58, -4.57, -4.56, -4.56, -4.55, -4.55, -4.54, -4.53, -4.53, -4.52, -4.51, -4.51, -4.5, -4.49, -4.49, -4.48, -4.48, -4.47, -4.46, -4.46, -4.45, -4.44, -4.44, -4.43, -4.43, -4.42, -4.41, -4.41, -4.4, -4.39, -4.39, -4.38, -4.38]}, {\"line\": {\"color\": \"gray\", \"width\": 3}, \"name\": \"Pipe Invert\", \"showlegend\": false, \"type\": \"scatter\", \"visible\": false, \"x\": [0, 1, 1, 2, 2, 3, 3, 4, 4, 5, 5, 6, 6, 7, 7, 8, 8, 9, 9, 10, 10, 11, 11, 12, 12, 13, 13, 14, 14, 15, 15, 16, 16, 17, 17, 18, 18, 19, 19, 20, 20, 21, 21, 22, 22, 23, 23, 24, 24, 25, 25, 26, 26, 27, 27, 28, 28, 29, 29, 30, 30, 31, 31, 32, 32, 33, 33, 34, 34, 35, 35, 36, 36, 37, 37, 38, 38, 39, 39, 40, 40, 41, 41, 42, 42, 43, 43, 44, 44, 45, 45, 46, 46, 47, 47, 48, 48, 49, 49, 50], \"y\": [-5.0, -4.99, -4.98, -4.98, -4.97, -4.96, -4.95, -4.95, -4.94, -4.93, -4.92, -4.92, -4.91, -4.9, -4.89, -4.89, -4.88, -4.87, -4.86, -4.86, -4.85, -4.84, -4.83, -4.83, -4.82, -4.81, -4.8, -4.8, -4.79, -4.78, -4.77, -4.77, -4.76, -4.75, -4.74, -4.73, -4.73, -4.72, -4.71, -4.7, -4.7, -4.69, -4.68, -4.67, -4.67, -4.66, -4.65, -4.64, -4.64, -4.63, -4.62, -4.61, -4.61, -4.6, -4.59, -4.58, -4.58, -4.57, -4.56, -4.55, -4.55, -4.54, -4.53, -4.52, -4.52, -4.51, -4.5, -4.49, -4.48, -4.48, -4.47, -4.46, -4.45, -4.45, -4.44, -4.43, -4.42, -4.42, -4.41, -4.4, -4.39, -4.39, -4.38, -4.37, -4.36, -4.36, -4.35, -4.34, -4.33, -4.33, -4.32, -4.31, -4.3, -4.3, -4.29, -4.28, -4.27, -4.27, -4.26, -4.25]}, {\"line\": {\"color\": \"gray\", \"width\": 3}, \"name\": \"Pipe Invert\", \"showlegend\": false, \"type\": \"scatter\", \"visible\": false, \"x\": [0, 1, 1, 2, 2, 3, 3, 4, 4, 5, 5, 6, 6, 7, 7, 8, 8, 9, 9, 10, 10, 11, 11, 12, 12, 13, 13, 14, 14, 15, 15, 16, 16, 17, 17, 18, 18, 19, 19, 20, 20, 21, 21, 22, 22, 23, 23, 24, 24, 25, 25, 26, 26, 27, 27, 28, 28, 29, 29, 30, 30, 31, 31, 32, 32, 33, 33, 34, 34, 35, 35, 36, 36, 37, 37, 38, 38, 39, 39, 40, 40, 41, 41, 42, 42, 43, 43, 44, 44, 45, 45, 46, 46, 47, 47, 48, 48, 49, 49, 50], \"y\": [-5.0, -4.99, -4.98, -4.97, -4.96, -4.96, -4.95, -4.94, -4.93, -4.92, -4.91, -4.9, -4.89, -4.89, -4.88, -4.87, -4.86, -4.85, -4.84, -4.83, -4.82, -4.81, -4.81, -4.8, -4.79, -4.78, -4.77, -4.76, -4.75, -4.74, -4.73, -4.73, -4.72, -4.71, -4.7, -4.69, -4.68, -4.67, -4.66, -4.66, -4.65, -4.64, -4.63, -4.62, -4.61, -4.6, -4.59, -4.58, -4.58, -4.57, -4.56, -4.55, -4.54, -4.53, -4.52, -4.51, -4.51, -4.5, -4.49, -4.48, -4.47, -4.46, -4.45, -4.44, -4.43, -4.43, -4.42, -4.41, -4.4, -4.39, -4.38, -4.37, -4.36, -4.35, -4.35, -4.34, -4.33, -4.32, -4.31, -4.3, -4.29, -4.28, -4.28, -4.27, -4.26, -4.25, -4.24, -4.23, -4.22, -4.21, -4.2, -4.2, -4.19, -4.18, -4.17, -4.16, -4.15, -4.14, -4.13, -4.12]}, {\"line\": {\"color\": \"gray\", \"width\": 3}, \"name\": \"Pipe Invert\", \"showlegend\": false, \"type\": \"scatter\", \"visible\": false, \"x\": [0, 1, 1, 2, 2, 3, 3, 4, 4, 5, 5, 6, 6, 7, 7, 8, 8, 9, 9, 10, 10, 11, 11, 12, 12, 13, 13, 14, 14, 15, 15, 16, 16, 17, 17, 18, 18, 19, 19, 20, 20, 21, 21, 22, 22, 23, 23, 24, 24, 25, 25, 26, 26, 27, 27, 28, 28, 29, 29, 30, 30, 31, 31, 32, 32, 33, 33, 34, 34, 35, 35, 36, 36, 37, 37, 38, 38, 39, 39, 40, 40, 41, 41, 42, 42, 43, 43, 44, 44, 45, 45, 46, 46, 47, 47, 48, 48, 49, 49, 50], \"y\": [-5.0, -4.99, -4.98, -4.97, -4.96, -4.95, -4.94, -4.93, -4.92, -4.91, -4.9, -4.89, -4.88, -4.87, -4.86, -4.85, -4.84, -4.83, -4.82, -4.81, -4.8, -4.79, -4.78, -4.77, -4.76, -4.75, -4.74, -4.73, -4.72, -4.71, -4.7, -4.69, -4.68, -4.67, -4.66, -4.65, -4.64, -4.63, -4.62, -4.61, -4.6, -4.59, -4.58, -4.57, -4.56, -4.55, -4.54, -4.53, -4.52, -4.51, -4.49, -4.48, -4.47, -4.46, -4.45, -4.44, -4.43, -4.42, -4.41, -4.4, -4.39, -4.38, -4.37, -4.36, -4.35, -4.34, -4.33, -4.32, -4.31, -4.3, -4.29, -4.28, -4.27, -4.26, -4.25, -4.24, -4.23, -4.22, -4.21, -4.2, -4.19, -4.18, -4.17, -4.16, -4.15, -4.14, -4.13, -4.12, -4.11, -4.1, -4.09, -4.08, -4.07, -4.06, -4.05, -4.04, -4.03, -4.02, -4.01, -4.0]}, {\"line\": {\"color\": \"gray\", \"width\": 3}, \"name\": \"Pipe Invert\", \"showlegend\": false, \"type\": \"scatter\", \"visible\": false, \"x\": [0, 1, 1, 2, 2, 3, 3, 4, 4, 5, 5, 6, 6, 7, 7, 8, 8, 9, 9, 10, 10, 11, 11, 12, 12, 13, 13, 14, 14, 15, 15, 16, 16, 17, 17, 18, 18, 19, 19, 20, 20, 21, 21, 22, 22, 23, 23, 24, 24, 25, 25, 26, 26, 27, 27, 28, 28, 29, 29, 30, 30, 31, 31, 32, 32, 33, 33, 34, 34, 35, 35, 36, 36, 37, 37, 38, 38, 39, 39, 40, 40, 41, 41, 42, 42, 43, 43, 44, 44, 45, 45, 46, 46, 47, 47, 48, 48, 49, 49, 50], \"y\": [-5.0, -4.99, -4.98, -4.97, -4.95, -4.94, -4.93, -4.92, -4.91, -4.9, -4.89, -4.88, -4.86, -4.85, -4.84, -4.83, -4.82, -4.81, -4.8, -4.78, -4.77, -4.76, -4.75, -4.74, -4.73, -4.72, -4.7, -4.69, -4.68, -4.67, -4.66, -4.65, -4.64, -4.62, -4.61, -4.6, -4.59, -4.58, -4.57, -4.56, -4.55, -4.53, -4.52, -4.51, -4.5, -4.49, -4.48, -4.47, -4.45, -4.44, -4.43, -4.42, -4.41, -4.4, -4.39, -4.38, -4.36, -4.35, -4.34, -4.33, -4.32, -4.31, -4.3, -4.28, -4.27, -4.26, -4.25, -4.24, -4.23, -4.22, -4.2, -4.19, -4.18, -4.17, -4.16, -4.15, -4.14, -4.12, -4.11, -4.1, -4.09, -4.08, -4.07, -4.06, -4.05, -4.03, -4.02, -4.01, -4.0, -3.99, -3.98, -3.97, -3.95, -3.94, -3.93, -3.92, -3.91, -3.9, -3.89, -3.88]}, {\"line\": {\"color\": \"gray\", \"width\": 3}, \"name\": \"Pipe Invert\", \"showlegend\": false, \"type\": \"scatter\", \"visible\": false, \"x\": [0, 1, 1, 2, 2, 3, 3, 4, 4, 5, 5, 6, 6, 7, 7, 8, 8, 9, 9, 10, 10, 11, 11, 12, 12, 13, 13, 14, 14, 15, 15, 16, 16, 17, 17, 18, 18, 19, 19, 20, 20, 21, 21, 22, 22, 23, 23, 24, 24, 25, 25, 26, 26, 27, 27, 28, 28, 29, 29, 30, 30, 31, 31, 32, 32, 33, 33, 34, 34, 35, 35, 36, 36, 37, 37, 38, 38, 39, 39, 40, 40, 41, 41, 42, 42, 43, 43, 44, 44, 45, 45, 46, 46, 47, 47, 48, 48, 49, 49, 50], \"y\": [-5.0, -4.99, -4.97, -4.96, -4.95, -4.94, -4.92, -4.91, -4.9, -4.89, -4.87, -4.86, -4.85, -4.84, -4.82, -4.81, -4.8, -4.79, -4.77, -4.76, -4.75, -4.73, -4.72, -4.71, -4.7, -4.68, -4.67, -4.66, -4.65, -4.63, -4.62, -4.61, -4.6, -4.58, -4.57, -4.56, -4.55, -4.53, -4.52, -4.51, -4.49, -4.48, -4.47, -4.46, -4.44, -4.43, -4.42, -4.41, -4.39, -4.38, -4.37, -4.36, -4.34, -4.33, -4.32, -4.31, -4.29, -4.28, -4.27, -4.26, -4.24, -4.23, -4.22, -4.2, -4.19, -4.18, -4.17, -4.15, -4.14, -4.13, -4.12, -4.1, -4.09, -4.08, -4.07, -4.05, -4.04, -4.03, -4.02, -4.0, -3.99, -3.98, -3.96, -3.95, -3.94, -3.93, -3.91, -3.9, -3.89, -3.88, -3.86, -3.85, -3.84, -3.83, -3.81, -3.8, -3.79, -3.78, -3.76, -3.75]}, {\"line\": {\"color\": \"gray\", \"width\": 3}, \"name\": \"Pipe Invert\", \"showlegend\": false, \"type\": \"scatter\", \"visible\": false, \"x\": [0, 1, 1, 2, 2, 3, 3, 4, 4, 5, 5, 6, 6, 7, 7, 8, 8, 9, 9, 10, 10, 11, 11, 12, 12, 13, 13, 14, 14, 15, 15, 16, 16, 17, 17, 18, 18, 19, 19, 20, 20, 21, 21, 22, 22, 23, 23, 24, 24, 25, 25, 26, 26, 27, 27, 28, 28, 29, 29, 30, 30, 31, 31, 32, 32, 33, 33, 34, 34, 35, 35, 36, 36, 37, 37, 38, 38, 39, 39, 40, 40, 41, 41, 42, 42, 43, 43, 44, 44, 45, 45, 46, 46, 47, 47, 48, 48, 49, 49, 50], \"y\": [-5.0, -4.99, -4.97, -4.96, -4.94, -4.93, -4.92, -4.9, -4.89, -4.88, -4.86, -4.85, -4.83, -4.82, -4.81, -4.79, -4.78, -4.76, -4.75, -4.74, -4.72, -4.71, -4.69, -4.68, -4.67, -4.65, -4.64, -4.62, -4.61, -4.6, -4.58, -4.57, -4.56, -4.54, -4.53, -4.51, -4.5, -4.49, -4.47, -4.46, -4.44, -4.43, -4.42, -4.4, -4.39, -4.38, -4.36, -4.35, -4.33, -4.32, -4.31, -4.29, -4.28, -4.26, -4.25, -4.24, -4.22, -4.21, -4.19, -4.18, -4.17, -4.15, -4.14, -4.12, -4.11, -4.1, -4.08, -4.07, -4.06, -4.04, -4.03, -4.01, -4.0, -3.99, -3.97, -3.96, -3.94, -3.93, -3.92, -3.9, -3.89, -3.88, -3.86, -3.85, -3.83, -3.82, -3.81, -3.79, -3.78, -3.76, -3.75, -3.74, -3.72, -3.71, -3.69, -3.68, -3.67, -3.65, -3.64, -3.62]}, {\"line\": {\"color\": \"gray\", \"width\": 3}, \"name\": \"Pipe Invert\", \"showlegend\": false, \"type\": \"scatter\", \"visible\": false, \"x\": [0, 1, 1, 2, 2, 3, 3, 4, 4, 5, 5, 6, 6, 7, 7, 8, 8, 9, 9, 10, 10, 11, 11, 12, 12, 13, 13, 14, 14, 15, 15, 16, 16, 17, 17, 18, 18, 19, 19, 20, 20, 21, 21, 22, 22, 23, 23, 24, 24, 25, 25, 26, 26, 27, 27, 28, 28, 29, 29, 30, 30, 31, 31, 32, 32, 33, 33, 34, 34, 35, 35, 36, 36, 37, 37, 38, 38, 39, 39, 40, 40, 41, 41, 42, 42, 43, 43, 44, 44, 45, 45, 46, 46, 47, 47, 48, 48, 49, 49, 50], \"y\": [-5.0, -4.98, -4.97, -4.95, -4.94, -4.92, -4.91, -4.89, -4.88, -4.86, -4.85, -4.83, -4.82, -4.8, -4.79, -4.77, -4.76, -4.74, -4.73, -4.71, -4.7, -4.68, -4.67, -4.65, -4.64, -4.62, -4.61, -4.59, -4.58, -4.56, -4.55, -4.53, -4.52, -4.5, -4.48, -4.47, -4.45, -4.44, -4.42, -4.41, -4.39, -4.38, -4.36, -4.35, -4.33, -4.32, -4.3, -4.29, -4.27, -4.26, -4.24, -4.23, -4.21, -4.2, -4.18, -4.17, -4.15, -4.14, -4.12, -4.11, -4.09, -4.08, -4.06, -4.05, -4.03, -4.02, -4.0, -3.98, -3.97, -3.95, -3.94, -3.92, -3.91, -3.89, -3.88, -3.86, -3.85, -3.83, -3.82, -3.8, -3.79, -3.77, -3.76, -3.74, -3.73, -3.71, -3.7, -3.68, -3.67, -3.65, -3.64, -3.62, -3.61, -3.59, -3.58, -3.56, -3.55, -3.53, -3.52, -3.5]}, {\"line\": {\"color\": \"gray\", \"width\": 3}, \"name\": \"Pipe Invert\", \"showlegend\": false, \"type\": \"scatter\", \"visible\": false, \"x\": [0, 1, 1, 2, 2, 3, 3, 4, 4, 5, 5, 6, 6, 7, 7, 8, 8, 9, 9, 10, 10, 11, 11, 12, 12, 13, 13, 14, 14, 15, 15, 16, 16, 17, 17, 18, 18, 19, 19, 20, 20, 21, 21, 22, 22, 23, 23, 24, 24, 25, 25, 26, 26, 27, 27, 28, 28, 29, 29, 30, 30, 31, 31, 32, 32, 33, 33, 34, 34, 35, 35, 36, 36, 37, 37, 38, 38, 39, 39, 40, 40, 41, 41, 42, 42, 43, 43, 44, 44, 45, 45, 46, 46, 47, 47, 48, 48, 49, 49, 50], \"y\": [-5.0, -4.98, -4.97, -4.95, -4.93, -4.92, -4.9, -4.89, -4.87, -4.85, -4.84, -4.82, -4.8, -4.79, -4.77, -4.75, -4.74, -4.72, -4.7, -4.69, -4.67, -4.66, -4.64, -4.62, -4.61, -4.59, -4.57, -4.56, -4.54, -4.52, -4.51, -4.49, -4.47, -4.46, -4.44, -4.43, -4.41, -4.39, -4.38, -4.36, -4.34, -4.33, -4.31, -4.29, -4.28, -4.26, -4.24, -4.23, -4.21, -4.2, -4.18, -4.16, -4.15, -4.13, -4.11, -4.1, -4.08, -4.06, -4.05, -4.03, -4.02, -4.0, -3.98, -3.97, -3.95, -3.93, -3.92, -3.9, -3.88, -3.87, -3.85, -3.83, -3.82, -3.8, -3.79, -3.77, -3.75, -3.74, -3.72, -3.7, -3.69, -3.67, -3.65, -3.64, -3.62, -3.6, -3.59, -3.57, -3.56, -3.54, -3.52, -3.51, -3.49, -3.47, -3.46, -3.44, -3.42, -3.41, -3.39, -3.38]}, {\"line\": {\"color\": \"gray\", \"width\": 3}, \"name\": \"Pipe Invert\", \"showlegend\": false, \"type\": \"scatter\", \"visible\": false, \"x\": [0, 1, 1, 2, 2, 3, 3, 4, 4, 5, 5, 6, 6, 7, 7, 8, 8, 9, 9, 10, 10, 11, 11, 12, 12, 13, 13, 14, 14, 15, 15, 16, 16, 17, 17, 18, 18, 19, 19, 20, 20, 21, 21, 22, 22, 23, 23, 24, 24, 25, 25, 26, 26, 27, 27, 28, 28, 29, 29, 30, 30, 31, 31, 32, 32, 33, 33, 34, 34, 35, 35, 36, 36, 37, 37, 38, 38, 39, 39, 40, 40, 41, 41, 42, 42, 43, 43, 44, 44, 45, 45, 46, 46, 47, 47, 48, 48, 49, 49, 50], \"y\": [-5.0, -4.98, -4.96, -4.95, -4.93, -4.91, -4.89, -4.88, -4.86, -4.84, -4.82, -4.81, -4.79, -4.77, -4.75, -4.73, -4.72, -4.7, -4.68, -4.66, -4.65, -4.63, -4.61, -4.59, -4.58, -4.56, -4.54, -4.52, -4.51, -4.49, -4.47, -4.45, -4.43, -4.42, -4.4, -4.38, -4.36, -4.35, -4.33, -4.31, -4.29, -4.28, -4.26, -4.24, -4.22, -4.2, -4.19, -4.17, -4.15, -4.13, -4.12, -4.1, -4.08, -4.06, -4.05, -4.03, -4.01, -3.99, -3.97, -3.96, -3.94, -3.92, -3.9, -3.89, -3.87, -3.85, -3.83, -3.82, -3.8, -3.78, -3.76, -3.74, -3.73, -3.71, -3.69, -3.67, -3.66, -3.64, -3.62, -3.6, -3.59, -3.57, -3.55, -3.53, -3.52, -3.5, -3.48, -3.46, -3.44, -3.43, -3.41, -3.39, -3.37, -3.36, -3.34, -3.32, -3.3, -3.29, -3.27, -3.25]}, {\"line\": {\"color\": \"gray\", \"width\": 3}, \"name\": \"Pipe Invert\", \"showlegend\": false, \"type\": \"scatter\", \"visible\": false, \"x\": [0, 1, 1, 2, 2, 3, 3, 4, 4, 5, 5, 6, 6, 7, 7, 8, 8, 9, 9, 10, 10, 11, 11, 12, 12, 13, 13, 14, 14, 15, 15, 16, 16, 17, 17, 18, 18, 19, 19, 20, 20, 21, 21, 22, 22, 23, 23, 24, 24, 25, 25, 26, 26, 27, 27, 28, 28, 29, 29, 30, 30, 31, 31, 32, 32, 33, 33, 34, 34, 35, 35, 36, 36, 37, 37, 38, 38, 39, 39, 40, 40, 41, 41, 42, 42, 43, 43, 44, 44, 45, 45, 46, 46, 47, 47, 48, 48, 49, 49, 50], \"y\": [-5.0, -4.98, -4.96, -4.94, -4.92, -4.91, -4.89, -4.87, -4.85, -4.83, -4.81, -4.79, -4.77, -4.75, -4.73, -4.72, -4.7, -4.68, -4.66, -4.64, -4.62, -4.6, -4.58, -4.56, -4.55, -4.53, -4.51, -4.49, -4.47, -4.45, -4.43, -4.41, -4.39, -4.38, -4.36, -4.34, -4.32, -4.3, -4.28, -4.26, -4.24, -4.22, -4.2, -4.19, -4.17, -4.15, -4.13, -4.11, -4.09, -4.07, -4.05, -4.03, -4.02, -4.0, -3.98, -3.96, -3.94, -3.92, -3.9, -3.88, -3.86, -3.84, -3.83, -3.81, -3.79, -3.77, -3.75, -3.73, -3.71, -3.69, -3.67, -3.66, -3.64, -3.62, -3.6, -3.58, -3.56, -3.54, -3.52, -3.5, -3.48, -3.47, -3.45, -3.43, -3.41, -3.39, -3.37, -3.35, -3.33, -3.31, -3.3, -3.28, -3.26, -3.24, -3.22, -3.2, -3.18, -3.16, -3.14, -3.12]}, {\"line\": {\"color\": \"gray\", \"width\": 3}, \"name\": \"Pipe Invert\", \"showlegend\": false, \"type\": \"scatter\", \"visible\": false, \"x\": [0, 1, 1, 2, 2, 3, 3, 4, 4, 5, 5, 6, 6, 7, 7, 8, 8, 9, 9, 10, 10, 11, 11, 12, 12, 13, 13, 14, 14, 15, 15, 16, 16, 17, 17, 18, 18, 19, 19, 20, 20, 21, 21, 22, 22, 23, 23, 24, 24, 25, 25, 26, 26, 27, 27, 28, 28, 29, 29, 30, 30, 31, 31, 32, 32, 33, 33, 34, 34, 35, 35, 36, 36, 37, 37, 38, 38, 39, 39, 40, 40, 41, 41, 42, 42, 43, 43, 44, 44, 45, 45, 46, 46, 47, 47, 48, 48, 49, 49, 50], \"y\": [-5.0, -4.98, -4.96, -4.94, -4.92, -4.9, -4.88, -4.86, -4.84, -4.82, -4.8, -4.78, -4.76, -4.74, -4.72, -4.7, -4.68, -4.66, -4.64, -4.62, -4.6, -4.58, -4.56, -4.54, -4.52, -4.49, -4.47, -4.45, -4.43, -4.41, -4.39, -4.37, -4.35, -4.33, -4.31, -4.29, -4.27, -4.25, -4.23, -4.21, -4.19, -4.17, -4.15, -4.13, -4.11, -4.09, -4.07, -4.05, -4.03, -4.01, -3.99, -3.97, -3.95, -3.93, -3.91, -3.89, -3.87, -3.85, -3.83, -3.81, -3.79, -3.77, -3.75, -3.73, -3.71, -3.69, -3.67, -3.65, -3.63, -3.61, -3.59, -3.57, -3.55, -3.53, -3.51, -3.48, -3.46, -3.44, -3.42, -3.4, -3.38, -3.36, -3.34, -3.32, -3.3, -3.28, -3.26, -3.24, -3.22, -3.2, -3.18, -3.16, -3.14, -3.12, -3.1, -3.08, -3.06, -3.04, -3.02, -3.0]}, {\"line\": {\"color\": \"gray\", \"width\": 3}, \"name\": \"Pipe Invert\", \"showlegend\": false, \"type\": \"scatter\", \"visible\": false, \"x\": [0, 1, 1, 2, 2, 3, 3, 4, 4, 5, 5, 6, 6, 7, 7, 8, 8, 9, 9, 10, 10, 11, 11, 12, 12, 13, 13, 14, 14, 15, 15, 16, 16, 17, 17, 18, 18, 19, 19, 20, 20, 21, 21, 22, 22, 23, 23, 24, 24, 25, 25, 26, 26, 27, 27, 28, 28, 29, 29, 30, 30, 31, 31, 32, 32, 33, 33, 34, 34, 35, 35, 36, 36, 37, 37, 38, 38, 39, 39, 40, 40, 41, 41, 42, 42, 43, 43, 44, 44, 45, 45, 46, 46, 47, 47, 48, 48, 49, 49, 50], \"y\": [-5.0, -4.98, -4.96, -4.94, -4.91, -4.89, -4.87, -4.85, -4.83, -4.81, -4.79, -4.76, -4.74, -4.72, -4.7, -4.68, -4.66, -4.64, -4.61, -4.59, -4.57, -4.55, -4.53, -4.51, -4.48, -4.46, -4.44, -4.42, -4.4, -4.38, -4.36, -4.33, -4.31, -4.29, -4.27, -4.25, -4.23, -4.21, -4.18, -4.16, -4.14, -4.12, -4.1, -4.08, -4.06, -4.03, -4.01, -3.99, -3.97, -3.95, -3.93, -3.91, -3.88, -3.86, -3.84, -3.82, -3.8, -3.78, -3.76, -3.73, -3.71, -3.69, -3.67, -3.65, -3.63, -3.6, -3.58, -3.56, -3.54, -3.52, -3.5, -3.48, -3.45, -3.43, -3.41, -3.39, -3.37, -3.35, -3.33, -3.3, -3.28, -3.26, -3.24, -3.22, -3.2, -3.18, -3.15, -3.13, -3.11, -3.09, -3.07, -3.05, -3.03, -3.0, -2.98, -2.96, -2.94, -2.92, -2.9, -2.88]}, {\"line\": {\"color\": \"gray\", \"width\": 3}, \"name\": \"Pipe Invert\", \"showlegend\": false, \"type\": \"scatter\", \"visible\": false, \"x\": [0, 1, 1, 2, 2, 3, 3, 4, 4, 5, 5, 6, 6, 7, 7, 8, 8, 9, 9, 10, 10, 11, 11, 12, 12, 13, 13, 14, 14, 15, 15, 16, 16, 17, 17, 18, 18, 19, 19, 20, 20, 21, 21, 22, 22, 23, 23, 24, 24, 25, 25, 26, 26, 27, 27, 28, 28, 29, 29, 30, 30, 31, 31, 32, 32, 33, 33, 34, 34, 35, 35, 36, 36, 37, 37, 38, 38, 39, 39, 40, 40, 41, 41, 42, 42, 43, 43, 44, 44, 45, 45, 46, 46, 47, 47, 48, 48, 49, 49, 50], \"y\": [-5.0, -4.98, -4.95, -4.93, -4.91, -4.89, -4.86, -4.84, -4.82, -4.8, -4.77, -4.75, -4.73, -4.7, -4.68, -4.66, -4.64, -4.61, -4.59, -4.57, -4.55, -4.52, -4.5, -4.48, -4.45, -4.43, -4.41, -4.39, -4.36, -4.34, -4.32, -4.3, -4.27, -4.25, -4.23, -4.2, -4.18, -4.16, -4.14, -4.11, -4.09, -4.07, -4.05, -4.02, -4.0, -3.98, -3.95, -3.93, -3.91, -3.89, -3.86, -3.84, -3.82, -3.8, -3.77, -3.75, -3.73, -3.7, -3.68, -3.66, -3.64, -3.61, -3.59, -3.57, -3.55, -3.52, -3.5, -3.48, -3.45, -3.43, -3.41, -3.39, -3.36, -3.34, -3.32, -3.3, -3.27, -3.25, -3.23, -3.2, -3.18, -3.16, -3.14, -3.11, -3.09, -3.07, -3.05, -3.02, -3.0, -2.98, -2.95, -2.93, -2.91, -2.89, -2.86, -2.84, -2.82, -2.8, -2.77, -2.75]}, {\"line\": {\"color\": \"gray\", \"width\": 3}, \"name\": \"Pipe Invert\", \"showlegend\": false, \"type\": \"scatter\", \"visible\": false, \"x\": [0, 1, 1, 2, 2, 3, 3, 4, 4, 5, 5, 6, 6, 7, 7, 8, 8, 9, 9, 10, 10, 11, 11, 12, 12, 13, 13, 14, 14, 15, 15, 16, 16, 17, 17, 18, 18, 19, 19, 20, 20, 21, 21, 22, 22, 23, 23, 24, 24, 25, 25, 26, 26, 27, 27, 28, 28, 29, 29, 30, 30, 31, 31, 32, 32, 33, 33, 34, 34, 35, 35, 36, 36, 37, 37, 38, 38, 39, 39, 40, 40, 41, 41, 42, 42, 43, 43, 44, 44, 45, 45, 46, 46, 47, 47, 48, 48, 49, 49, 50], \"y\": [-5.0, -4.98, -4.95, -4.93, -4.9, -4.88, -4.86, -4.83, -4.81, -4.78, -4.76, -4.74, -4.71, -4.69, -4.66, -4.64, -4.62, -4.59, -4.57, -4.54, -4.52, -4.5, -4.47, -4.45, -4.42, -4.4, -4.38, -4.35, -4.33, -4.3, -4.28, -4.26, -4.23, -4.21, -4.18, -4.16, -4.14, -4.11, -4.09, -4.06, -4.04, -4.02, -3.99, -3.97, -3.94, -3.92, -3.9, -3.87, -3.85, -3.82, -3.8, -3.78, -3.75, -3.73, -3.7, -3.68, -3.66, -3.63, -3.61, -3.58, -3.56, -3.54, -3.51, -3.49, -3.46, -3.44, -3.42, -3.39, -3.37, -3.34, -3.32, -3.3, -3.27, -3.25, -3.22, -3.2, -3.18, -3.15, -3.13, -3.1, -3.08, -3.06, -3.03, -3.01, -2.98, -2.96, -2.94, -2.91, -2.89, -2.86, -2.84, -2.82, -2.79, -2.77, -2.74, -2.72, -2.7, -2.67, -2.65, -2.62]}, {\"line\": {\"color\": \"gray\", \"width\": 3}, \"name\": \"Pipe Invert\", \"showlegend\": false, \"type\": \"scatter\", \"visible\": false, \"x\": [0, 1, 1, 2, 2, 3, 3, 4, 4, 5, 5, 6, 6, 7, 7, 8, 8, 9, 9, 10, 10, 11, 11, 12, 12, 13, 13, 14, 14, 15, 15, 16, 16, 17, 17, 18, 18, 19, 19, 20, 20, 21, 21, 22, 22, 23, 23, 24, 24, 25, 25, 26, 26, 27, 27, 28, 28, 29, 29, 30, 30, 31, 31, 32, 32, 33, 33, 34, 34, 35, 35, 36, 36, 37, 37, 38, 38, 39, 39, 40, 40, 41, 41, 42, 42, 43, 43, 44, 44, 45, 45, 46, 46, 47, 47, 48, 48, 49, 49, 50], \"y\": [-5.0, -4.97, -4.95, -4.92, -4.9, -4.87, -4.85, -4.82, -4.8, -4.77, -4.75, -4.72, -4.7, -4.67, -4.65, -4.62, -4.6, -4.57, -4.55, -4.52, -4.49, -4.47, -4.44, -4.42, -4.39, -4.37, -4.34, -4.32, -4.29, -4.27, -4.24, -4.22, -4.19, -4.17, -4.14, -4.12, -4.09, -4.07, -4.04, -4.02, -3.99, -3.96, -3.94, -3.91, -3.89, -3.86, -3.84, -3.81, -3.79, -3.76, -3.74, -3.71, -3.69, -3.66, -3.64, -3.61, -3.59, -3.56, -3.54, -3.51, -3.48, -3.46, -3.43, -3.41, -3.38, -3.36, -3.33, -3.31, -3.28, -3.26, -3.23, -3.21, -3.18, -3.16, -3.13, -3.11, -3.08, -3.06, -3.03, -3.01, -2.98, -2.95, -2.93, -2.9, -2.88, -2.85, -2.83, -2.8, -2.78, -2.75, -2.73, -2.7, -2.68, -2.65, -2.63, -2.6, -2.58, -2.55, -2.53, -2.5]}, {\"line\": {\"color\": \"gray\", \"width\": 3}, \"name\": \"Pipe Crown\", \"showlegend\": false, \"type\": \"scatter\", \"visible\": true, \"x\": [0, 1, 1, 2, 2, 3, 3, 4, 4, 5, 5, 6, 6, 7, 7, 8, 8, 9, 9, 10, 10, 11, 11, 12, 12, 13, 13, 14, 14, 15, 15, 16, 16, 17, 17, 18, 18, 19, 19, 20, 20, 21, 21, 22, 22, 23, 23, 24, 24, 25, 25, 26, 26, 27, 27, 28, 28, 29, 29, 30, 30, 31, 31, 32, 32, 33, 33, 34, 34, 35, 35, 36, 36, 37, 37, 38, 38, 39, 39, 40, 40, 41, 41, 42, 42, 43, 43, 44, 44, 45, 45, 46, 46, 47, 47, 48, 48, 49, 49, 50], \"y\": [-3.0, -3.0, -3.0, -3.0, -3.0, -3.0, -3.0, -3.0, -3.0, -3.0, -3.0, -3.0, -3.0, -3.0, -3.0, -3.0, -3.0, -3.0, -3.0, -3.0, -3.0, -3.0, -3.0, -3.0, -3.0, -3.0, -3.0, -3.0, -3.0, -3.0, -3.0, -3.0, -3.0, -3.0, -3.0, -3.0, -3.0, -3.0, -3.0, -3.0, -3.0, -3.0, -3.0, -3.0, -3.0, -3.0, -3.0, -3.0, -3.0, -3.0, -3.0, -3.0, -3.0, -3.0, -3.0, -3.0, -3.0, -3.0, -3.0, -3.0, -3.0, -3.0, -3.0, -3.0, -3.0, -3.0, -3.0, -3.0, -3.0, -3.0, -3.0, -3.0, -3.0, -3.0, -3.0, -3.0, -3.0, -3.0, -3.0, -3.0, -3.0, -3.0, -3.0, -3.0, -3.0, -3.0, -3.0, -3.0, -3.0, -3.0, -3.0, -3.0, -3.0, -3.0, -3.0, -3.0, -3.0, -3.0, -3.0, -3.0]}, {\"line\": {\"color\": \"gray\", \"width\": 3}, \"name\": \"Pipe Crown\", \"showlegend\": false, \"type\": \"scatter\", \"visible\": false, \"x\": [0, 1, 1, 2, 2, 3, 3, 4, 4, 5, 5, 6, 6, 7, 7, 8, 8, 9, 9, 10, 10, 11, 11, 12, 12, 13, 13, 14, 14, 15, 15, 16, 16, 17, 17, 18, 18, 19, 19, 20, 20, 21, 21, 22, 22, 23, 23, 24, 24, 25, 25, 26, 26, 27, 27, 28, 28, 29, 29, 30, 30, 31, 31, 32, 32, 33, 33, 34, 34, 35, 35, 36, 36, 37, 37, 38, 38, 39, 39, 40, 40, 41, 41, 42, 42, 43, 43, 44, 44, 45, 45, 46, 46, 47, 47, 48, 48, 49, 49, 50], \"y\": [-3.0, -3.0, -3.0, -3.0, -2.99, -2.99, -2.99, -2.99, -2.99, -2.99, -2.99, -2.99, -2.98, -2.98, -2.98, -2.98, -2.98, -2.98, -2.98, -2.98, -2.97, -2.97, -2.97, -2.97, -2.97, -2.97, -2.97, -2.97, -2.96, -2.96, -2.96, -2.96, -2.96, -2.96, -2.96, -2.96, -2.95, -2.95, -2.95, -2.95, -2.95, -2.95, -2.95, -2.95, -2.94, -2.94, -2.94, -2.94, -2.94, -2.94, -2.94, -2.94, -2.93, -2.93, -2.93, -2.93, -2.93, -2.93, -2.93, -2.93, -2.92, -2.92, -2.92, -2.92, -2.92, -2.92, -2.92, -2.92, -2.91, -2.91, -2.91, -2.91, -2.91, -2.91, -2.91, -2.91, -2.9, -2.9, -2.9, -2.9, -2.9, -2.9, -2.9, -2.9, -2.89, -2.89, -2.89, -2.89, -2.89, -2.89, -2.89, -2.89, -2.88, -2.88, -2.88, -2.88, -2.88, -2.88, -2.88, -2.88]}, {\"line\": {\"color\": \"gray\", \"width\": 3}, \"name\": \"Pipe Crown\", \"showlegend\": false, \"type\": \"scatter\", \"visible\": false, \"x\": [0, 1, 1, 2, 2, 3, 3, 4, 4, 5, 5, 6, 6, 7, 7, 8, 8, 9, 9, 10, 10, 11, 11, 12, 12, 13, 13, 14, 14, 15, 15, 16, 16, 17, 17, 18, 18, 19, 19, 20, 20, 21, 21, 22, 22, 23, 23, 24, 24, 25, 25, 26, 26, 27, 27, 28, 28, 29, 29, 30, 30, 31, 31, 32, 32, 33, 33, 34, 34, 35, 35, 36, 36, 37, 37, 38, 38, 39, 39, 40, 40, 41, 41, 42, 42, 43, 43, 44, 44, 45, 45, 46, 46, 47, 47, 48, 48, 49, 49, 50], \"y\": [-3.0, -3.0, -2.99, -2.99, -2.99, -2.99, -2.98, -2.98, -2.98, -2.98, -2.97, -2.97, -2.97, -2.97, -2.96, -2.96, -2.96, -2.96, -2.95, -2.95, -2.95, -2.95, -2.94, -2.94, -2.94, -2.94, -2.93, -2.93, -2.93, -2.93, -2.92, -2.92, -2.92, -2.92, -2.91, -2.91, -2.91, -2.91, -2.9, -2.9, -2.9, -2.9, -2.89, -2.89, -2.89, -2.89, -2.88, -2.88, -2.88, -2.88, -2.87, -2.87, -2.87, -2.87, -2.86, -2.86, -2.86, -2.86, -2.85, -2.85, -2.85, -2.85, -2.84, -2.84, -2.84, -2.84, -2.83, -2.83, -2.83, -2.83, -2.82, -2.82, -2.82, -2.82, -2.81, -2.81, -2.81, -2.81, -2.8, -2.8, -2.8, -2.8, -2.79, -2.79, -2.79, -2.79, -2.78, -2.78, -2.78, -2.78, -2.77, -2.77, -2.77, -2.77, -2.76, -2.76, -2.76, -2.76, -2.75, -2.75]}, {\"line\": {\"color\": \"gray\", \"width\": 3}, \"name\": \"Pipe Crown\", \"showlegend\": false, \"type\": \"scatter\", \"visible\": false, \"x\": [0, 1, 1, 2, 2, 3, 3, 4, 4, 5, 5, 6, 6, 7, 7, 8, 8, 9, 9, 10, 10, 11, 11, 12, 12, 13, 13, 14, 14, 15, 15, 16, 16, 17, 17, 18, 18, 19, 19, 20, 20, 21, 21, 22, 22, 23, 23, 24, 24, 25, 25, 26, 26, 27, 27, 28, 28, 29, 29, 30, 30, 31, 31, 32, 32, 33, 33, 34, 34, 35, 35, 36, 36, 37, 37, 38, 38, 39, 39, 40, 40, 41, 41, 42, 42, 43, 43, 44, 44, 45, 45, 46, 46, 47, 47, 48, 48, 49, 49, 50], \"y\": [-3.0, -3.0, -2.99, -2.99, -2.98, -2.98, -2.98, -2.97, -2.97, -2.97, -2.96, -2.96, -2.95, -2.95, -2.95, -2.94, -2.94, -2.94, -2.93, -2.93, -2.92, -2.92, -2.92, -2.91, -2.91, -2.91, -2.9, -2.9, -2.89, -2.89, -2.89, -2.88, -2.88, -2.88, -2.87, -2.87, -2.86, -2.86, -2.86, -2.85, -2.85, -2.84, -2.84, -2.84, -2.83, -2.83, -2.83, -2.82, -2.82, -2.81, -2.81, -2.81, -2.8, -2.8, -2.8, -2.79, -2.79, -2.78, -2.78, -2.78, -2.77, -2.77, -2.77, -2.76, -2.76, -2.75, -2.75, -2.75, -2.74, -2.74, -2.73, -2.73, -2.73, -2.72, -2.72, -2.72, -2.71, -2.71, -2.7, -2.7, -2.7, -2.69, -2.69, -2.69, -2.68, -2.68, -2.67, -2.67, -2.67, -2.66, -2.66, -2.66, -2.65, -2.65, -2.64, -2.64, -2.64, -2.63, -2.63, -2.62]}, {\"line\": {\"color\": \"gray\", \"width\": 3}, \"name\": \"Pipe Crown\", \"showlegend\": false, \"type\": \"scatter\", \"visible\": false, \"x\": [0, 1, 1, 2, 2, 3, 3, 4, 4, 5, 5, 6, 6, 7, 7, 8, 8, 9, 9, 10, 10, 11, 11, 12, 12, 13, 13, 14, 14, 15, 15, 16, 16, 17, 17, 18, 18, 19, 19, 20, 20, 21, 21, 22, 22, 23, 23, 24, 24, 25, 25, 26, 26, 27, 27, 28, 28, 29, 29, 30, 30, 31, 31, 32, 32, 33, 33, 34, 34, 35, 35, 36, 36, 37, 37, 38, 38, 39, 39, 40, 40, 41, 41, 42, 42, 43, 43, 44, 44, 45, 45, 46, 46, 47, 47, 48, 48, 49, 49, 50], \"y\": [-3.0, -2.99, -2.99, -2.98, -2.98, -2.97, -2.97, -2.96, -2.96, -2.95, -2.95, -2.94, -2.94, -2.93, -2.93, -2.92, -2.92, -2.91, -2.91, -2.9, -2.9, -2.89, -2.89, -2.88, -2.88, -2.87, -2.87, -2.86, -2.86, -2.85, -2.85, -2.84, -2.84, -2.83, -2.83, -2.82, -2.82, -2.81, -2.81, -2.8, -2.8, -2.79, -2.79, -2.78, -2.78, -2.77, -2.77, -2.76, -2.76, -2.75, -2.75, -2.74, -2.74, -2.73, -2.73, -2.72, -2.72, -2.71, -2.71, -2.7, -2.7, -2.69, -2.69, -2.68, -2.68, -2.67, -2.67, -2.66, -2.66, -2.65, -2.65, -2.64, -2.64, -2.63, -2.63, -2.62, -2.62, -2.61, -2.61, -2.6, -2.6, -2.59, -2.59, -2.58, -2.58, -2.57, -2.57, -2.56, -2.56, -2.55, -2.55, -2.54, -2.54, -2.53, -2.53, -2.52, -2.52, -2.51, -2.51, -2.5]}, {\"line\": {\"color\": \"gray\", \"width\": 3}, \"name\": \"Pipe Crown\", \"showlegend\": false, \"type\": \"scatter\", \"visible\": false, \"x\": [0, 1, 1, 2, 2, 3, 3, 4, 4, 5, 5, 6, 6, 7, 7, 8, 8, 9, 9, 10, 10, 11, 11, 12, 12, 13, 13, 14, 14, 15, 15, 16, 16, 17, 17, 18, 18, 19, 19, 20, 20, 21, 21, 22, 22, 23, 23, 24, 24, 25, 25, 26, 26, 27, 27, 28, 28, 29, 29, 30, 30, 31, 31, 32, 32, 33, 33, 34, 34, 35, 35, 36, 36, 37, 37, 38, 38, 39, 39, 40, 40, 41, 41, 42, 42, 43, 43, 44, 44, 45, 45, 46, 46, 47, 47, 48, 48, 49, 49, 50], \"y\": [-3.0, -2.99, -2.99, -2.98, -2.97, -2.97, -2.96, -2.96, -2.95, -2.94, -2.94, -2.93, -2.92, -2.92, -2.91, -2.91, -2.9, -2.89, -2.89, -2.88, -2.87, -2.87, -2.86, -2.85, -2.85, -2.84, -2.84, -2.83, -2.82, -2.82, -2.81, -2.8, -2.8, -2.79, -2.79, -2.78, -2.77, -2.77, -2.76, -2.75, -2.75, -2.74, -2.73, -2.73, -2.72, -2.72, -2.71, -2.7, -2.7, -2.69, -2.68, -2.68, -2.67, -2.67, -2.66, -2.65, -2.65, -2.64, -2.63, -2.63, -2.62, -2.61, -2.61, -2.6, -2.6, -2.59, -2.58, -2.58, -2.57, -2.56, -2.56, -2.55, -2.55, -2.54, -2.53, -2.53, -2.52, -2.51, -2.51, -2.5, -2.49, -2.49, -2.48, -2.48, -2.47, -2.46, -2.46, -2.45, -2.44, -2.44, -2.43, -2.43, -2.42, -2.41, -2.41, -2.4, -2.39, -2.39, -2.38, -2.38]}, {\"line\": {\"color\": \"gray\", \"width\": 3}, \"name\": \"Pipe Crown\", \"showlegend\": false, \"type\": \"scatter\", \"visible\": false, \"x\": [0, 1, 1, 2, 2, 3, 3, 4, 4, 5, 5, 6, 6, 7, 7, 8, 8, 9, 9, 10, 10, 11, 11, 12, 12, 13, 13, 14, 14, 15, 15, 16, 16, 17, 17, 18, 18, 19, 19, 20, 20, 21, 21, 22, 22, 23, 23, 24, 24, 25, 25, 26, 26, 27, 27, 28, 28, 29, 29, 30, 30, 31, 31, 32, 32, 33, 33, 34, 34, 35, 35, 36, 36, 37, 37, 38, 38, 39, 39, 40, 40, 41, 41, 42, 42, 43, 43, 44, 44, 45, 45, 46, 46, 47, 47, 48, 48, 49, 49, 50], \"y\": [-3.0, -2.99, -2.98, -2.98, -2.97, -2.96, -2.95, -2.95, -2.94, -2.93, -2.92, -2.92, -2.91, -2.9, -2.89, -2.89, -2.88, -2.87, -2.86, -2.86, -2.85, -2.84, -2.83, -2.83, -2.82, -2.81, -2.8, -2.8, -2.79, -2.78, -2.77, -2.77, -2.76, -2.75, -2.74, -2.73, -2.73, -2.72, -2.71, -2.7, -2.7, -2.69, -2.68, -2.67, -2.67, -2.66, -2.65, -2.64, -2.64, -2.63, -2.62, -2.61, -2.61, -2.6, -2.59, -2.58, -2.58, -2.57, -2.56, -2.55, -2.55, -2.54, -2.53, -2.52, -2.52, -2.51, -2.5, -2.49, -2.48, -2.48, -2.47, -2.46, -2.45, -2.45, -2.44, -2.43, -2.42, -2.42, -2.41, -2.4, -2.39, -2.39, -2.38, -2.37, -2.36, -2.36, -2.35, -2.34, -2.33, -2.33, -2.32, -2.31, -2.3, -2.3, -2.29, -2.28, -2.27, -2.27, -2.26, -2.25]}, {\"line\": {\"color\": \"gray\", \"width\": 3}, \"name\": \"Pipe Crown\", \"showlegend\": false, \"type\": \"scatter\", \"visible\": false, \"x\": [0, 1, 1, 2, 2, 3, 3, 4, 4, 5, 5, 6, 6, 7, 7, 8, 8, 9, 9, 10, 10, 11, 11, 12, 12, 13, 13, 14, 14, 15, 15, 16, 16, 17, 17, 18, 18, 19, 19, 20, 20, 21, 21, 22, 22, 23, 23, 24, 24, 25, 25, 26, 26, 27, 27, 28, 28, 29, 29, 30, 30, 31, 31, 32, 32, 33, 33, 34, 34, 35, 35, 36, 36, 37, 37, 38, 38, 39, 39, 40, 40, 41, 41, 42, 42, 43, 43, 44, 44, 45, 45, 46, 46, 47, 47, 48, 48, 49, 49, 50], \"y\": [-3.0, -2.99, -2.98, -2.97, -2.96, -2.96, -2.95, -2.94, -2.93, -2.92, -2.91, -2.9, -2.89, -2.89, -2.88, -2.87, -2.86, -2.85, -2.84, -2.83, -2.82, -2.81, -2.81, -2.8, -2.79, -2.78, -2.77, -2.76, -2.75, -2.74, -2.73, -2.73, -2.72, -2.71, -2.7, -2.69, -2.68, -2.67, -2.66, -2.66, -2.65, -2.64, -2.63, -2.62, -2.61, -2.6, -2.59, -2.58, -2.58, -2.57, -2.56, -2.55, -2.54, -2.53, -2.52, -2.51, -2.51, -2.5, -2.49, -2.48, -2.47, -2.46, -2.45, -2.44, -2.43, -2.43, -2.42, -2.41, -2.4, -2.39, -2.38, -2.37, -2.36, -2.35, -2.35, -2.34, -2.33, -2.32, -2.31, -2.3, -2.29, -2.28, -2.28, -2.27, -2.26, -2.25, -2.24, -2.23, -2.22, -2.21, -2.2, -2.2, -2.19, -2.18, -2.17, -2.16, -2.15, -2.14, -2.13, -2.12]}, {\"line\": {\"color\": \"gray\", \"width\": 3}, \"name\": \"Pipe Crown\", \"showlegend\": false, \"type\": \"scatter\", \"visible\": false, \"x\": [0, 1, 1, 2, 2, 3, 3, 4, 4, 5, 5, 6, 6, 7, 7, 8, 8, 9, 9, 10, 10, 11, 11, 12, 12, 13, 13, 14, 14, 15, 15, 16, 16, 17, 17, 18, 18, 19, 19, 20, 20, 21, 21, 22, 22, 23, 23, 24, 24, 25, 25, 26, 26, 27, 27, 28, 28, 29, 29, 30, 30, 31, 31, 32, 32, 33, 33, 34, 34, 35, 35, 36, 36, 37, 37, 38, 38, 39, 39, 40, 40, 41, 41, 42, 42, 43, 43, 44, 44, 45, 45, 46, 46, 47, 47, 48, 48, 49, 49, 50], \"y\": [-3.0, -2.99, -2.98, -2.97, -2.96, -2.95, -2.94, -2.93, -2.92, -2.91, -2.9, -2.89, -2.88, -2.87, -2.86, -2.85, -2.84, -2.83, -2.82, -2.81, -2.8, -2.79, -2.78, -2.77, -2.76, -2.75, -2.74, -2.73, -2.72, -2.71, -2.7, -2.69, -2.68, -2.67, -2.66, -2.65, -2.64, -2.63, -2.62, -2.61, -2.6, -2.59, -2.58, -2.57, -2.56, -2.55, -2.54, -2.53, -2.52, -2.51, -2.49, -2.48, -2.47, -2.46, -2.45, -2.44, -2.43, -2.42, -2.41, -2.4, -2.39, -2.38, -2.37, -2.36, -2.35, -2.34, -2.33, -2.32, -2.31, -2.3, -2.29, -2.28, -2.27, -2.26, -2.25, -2.24, -2.23, -2.22, -2.21, -2.2, -2.19, -2.18, -2.17, -2.16, -2.15, -2.14, -2.13, -2.12, -2.11, -2.1, -2.09, -2.08, -2.07, -2.06, -2.05, -2.04, -2.03, -2.02, -2.01, -2.0]}, {\"line\": {\"color\": \"gray\", \"width\": 3}, \"name\": \"Pipe Crown\", \"showlegend\": false, \"type\": \"scatter\", \"visible\": false, \"x\": [0, 1, 1, 2, 2, 3, 3, 4, 4, 5, 5, 6, 6, 7, 7, 8, 8, 9, 9, 10, 10, 11, 11, 12, 12, 13, 13, 14, 14, 15, 15, 16, 16, 17, 17, 18, 18, 19, 19, 20, 20, 21, 21, 22, 22, 23, 23, 24, 24, 25, 25, 26, 26, 27, 27, 28, 28, 29, 29, 30, 30, 31, 31, 32, 32, 33, 33, 34, 34, 35, 35, 36, 36, 37, 37, 38, 38, 39, 39, 40, 40, 41, 41, 42, 42, 43, 43, 44, 44, 45, 45, 46, 46, 47, 47, 48, 48, 49, 49, 50], \"y\": [-3.0, -2.99, -2.98, -2.97, -2.95, -2.94, -2.93, -2.92, -2.91, -2.9, -2.89, -2.88, -2.86, -2.85, -2.84, -2.83, -2.82, -2.81, -2.8, -2.78, -2.77, -2.76, -2.75, -2.74, -2.73, -2.72, -2.7, -2.69, -2.68, -2.67, -2.66, -2.65, -2.64, -2.62, -2.61, -2.6, -2.59, -2.58, -2.57, -2.56, -2.55, -2.53, -2.52, -2.51, -2.5, -2.49, -2.48, -2.47, -2.45, -2.44, -2.43, -2.42, -2.41, -2.4, -2.39, -2.38, -2.36, -2.35, -2.34, -2.33, -2.32, -2.31, -2.3, -2.28, -2.27, -2.26, -2.25, -2.24, -2.23, -2.22, -2.2, -2.19, -2.18, -2.17, -2.16, -2.15, -2.14, -2.12, -2.11, -2.1, -2.09, -2.08, -2.07, -2.06, -2.05, -2.03, -2.02, -2.01, -2.0, -1.99, -1.98, -1.97, -1.95, -1.94, -1.93, -1.92, -1.91, -1.9, -1.89, -1.88]}, {\"line\": {\"color\": \"gray\", \"width\": 3}, \"name\": \"Pipe Crown\", \"showlegend\": false, \"type\": \"scatter\", \"visible\": false, \"x\": [0, 1, 1, 2, 2, 3, 3, 4, 4, 5, 5, 6, 6, 7, 7, 8, 8, 9, 9, 10, 10, 11, 11, 12, 12, 13, 13, 14, 14, 15, 15, 16, 16, 17, 17, 18, 18, 19, 19, 20, 20, 21, 21, 22, 22, 23, 23, 24, 24, 25, 25, 26, 26, 27, 27, 28, 28, 29, 29, 30, 30, 31, 31, 32, 32, 33, 33, 34, 34, 35, 35, 36, 36, 37, 37, 38, 38, 39, 39, 40, 40, 41, 41, 42, 42, 43, 43, 44, 44, 45, 45, 46, 46, 47, 47, 48, 48, 49, 49, 50], \"y\": [-3.0, -2.99, -2.97, -2.96, -2.95, -2.94, -2.92, -2.91, -2.9, -2.89, -2.87, -2.86, -2.85, -2.84, -2.82, -2.81, -2.8, -2.79, -2.77, -2.76, -2.75, -2.73, -2.72, -2.71, -2.7, -2.68, -2.67, -2.66, -2.65, -2.63, -2.62, -2.61, -2.6, -2.58, -2.57, -2.56, -2.55, -2.53, -2.52, -2.51, -2.49, -2.48, -2.47, -2.46, -2.44, -2.43, -2.42, -2.41, -2.39, -2.38, -2.37, -2.36, -2.34, -2.33, -2.32, -2.31, -2.29, -2.28, -2.27, -2.26, -2.24, -2.23, -2.22, -2.2, -2.19, -2.18, -2.17, -2.15, -2.14, -2.13, -2.12, -2.1, -2.09, -2.08, -2.07, -2.05, -2.04, -2.03, -2.02, -2.0, -1.99, -1.98, -1.96, -1.95, -1.94, -1.93, -1.91, -1.9, -1.89, -1.88, -1.86, -1.85, -1.84, -1.83, -1.81, -1.8, -1.79, -1.78, -1.76, -1.75]}, {\"line\": {\"color\": \"gray\", \"width\": 3}, \"name\": \"Pipe Crown\", \"showlegend\": false, \"type\": \"scatter\", \"visible\": false, \"x\": [0, 1, 1, 2, 2, 3, 3, 4, 4, 5, 5, 6, 6, 7, 7, 8, 8, 9, 9, 10, 10, 11, 11, 12, 12, 13, 13, 14, 14, 15, 15, 16, 16, 17, 17, 18, 18, 19, 19, 20, 20, 21, 21, 22, 22, 23, 23, 24, 24, 25, 25, 26, 26, 27, 27, 28, 28, 29, 29, 30, 30, 31, 31, 32, 32, 33, 33, 34, 34, 35, 35, 36, 36, 37, 37, 38, 38, 39, 39, 40, 40, 41, 41, 42, 42, 43, 43, 44, 44, 45, 45, 46, 46, 47, 47, 48, 48, 49, 49, 50], \"y\": [-3.0, -2.99, -2.97, -2.96, -2.94, -2.93, -2.92, -2.9, -2.89, -2.88, -2.86, -2.85, -2.83, -2.82, -2.81, -2.79, -2.78, -2.76, -2.75, -2.74, -2.72, -2.71, -2.69, -2.68, -2.67, -2.65, -2.64, -2.62, -2.61, -2.6, -2.58, -2.57, -2.56, -2.54, -2.53, -2.51, -2.5, -2.49, -2.47, -2.46, -2.44, -2.43, -2.42, -2.4, -2.39, -2.38, -2.36, -2.35, -2.33, -2.32, -2.31, -2.29, -2.28, -2.26, -2.25, -2.24, -2.22, -2.21, -2.19, -2.18, -2.17, -2.15, -2.14, -2.12, -2.11, -2.1, -2.08, -2.07, -2.06, -2.04, -2.03, -2.01, -2.0, -1.99, -1.97, -1.96, -1.94, -1.93, -1.92, -1.9, -1.89, -1.88, -1.86, -1.85, -1.83, -1.82, -1.81, -1.79, -1.78, -1.76, -1.75, -1.74, -1.72, -1.71, -1.69, -1.68, -1.67, -1.65, -1.64, -1.62]}, {\"line\": {\"color\": \"gray\", \"width\": 3}, \"name\": \"Pipe Crown\", \"showlegend\": false, \"type\": \"scatter\", \"visible\": false, \"x\": [0, 1, 1, 2, 2, 3, 3, 4, 4, 5, 5, 6, 6, 7, 7, 8, 8, 9, 9, 10, 10, 11, 11, 12, 12, 13, 13, 14, 14, 15, 15, 16, 16, 17, 17, 18, 18, 19, 19, 20, 20, 21, 21, 22, 22, 23, 23, 24, 24, 25, 25, 26, 26, 27, 27, 28, 28, 29, 29, 30, 30, 31, 31, 32, 32, 33, 33, 34, 34, 35, 35, 36, 36, 37, 37, 38, 38, 39, 39, 40, 40, 41, 41, 42, 42, 43, 43, 44, 44, 45, 45, 46, 46, 47, 47, 48, 48, 49, 49, 50], \"y\": [-3.0, -2.98, -2.97, -2.95, -2.94, -2.92, -2.91, -2.89, -2.88, -2.86, -2.85, -2.83, -2.82, -2.8, -2.79, -2.77, -2.76, -2.74, -2.73, -2.71, -2.7, -2.68, -2.67, -2.65, -2.64, -2.62, -2.61, -2.59, -2.58, -2.56, -2.55, -2.53, -2.52, -2.5, -2.48, -2.47, -2.45, -2.44, -2.42, -2.41, -2.39, -2.38, -2.36, -2.35, -2.33, -2.32, -2.3, -2.29, -2.27, -2.26, -2.24, -2.23, -2.21, -2.2, -2.18, -2.17, -2.15, -2.14, -2.12, -2.11, -2.09, -2.08, -2.06, -2.05, -2.03, -2.02, -2.0, -1.98, -1.97, -1.95, -1.94, -1.92, -1.91, -1.89, -1.88, -1.86, -1.85, -1.83, -1.82, -1.8, -1.79, -1.77, -1.76, -1.74, -1.73, -1.71, -1.7, -1.68, -1.67, -1.65, -1.64, -1.62, -1.61, -1.59, -1.58, -1.56, -1.55, -1.53, -1.52, -1.5]}, {\"line\": {\"color\": \"gray\", \"width\": 3}, \"name\": \"Pipe Crown\", \"showlegend\": false, \"type\": \"scatter\", \"visible\": false, \"x\": [0, 1, 1, 2, 2, 3, 3, 4, 4, 5, 5, 6, 6, 7, 7, 8, 8, 9, 9, 10, 10, 11, 11, 12, 12, 13, 13, 14, 14, 15, 15, 16, 16, 17, 17, 18, 18, 19, 19, 20, 20, 21, 21, 22, 22, 23, 23, 24, 24, 25, 25, 26, 26, 27, 27, 28, 28, 29, 29, 30, 30, 31, 31, 32, 32, 33, 33, 34, 34, 35, 35, 36, 36, 37, 37, 38, 38, 39, 39, 40, 40, 41, 41, 42, 42, 43, 43, 44, 44, 45, 45, 46, 46, 47, 47, 48, 48, 49, 49, 50], \"y\": [-3.0, -2.98, -2.97, -2.95, -2.93, -2.92, -2.9, -2.89, -2.87, -2.85, -2.84, -2.82, -2.8, -2.79, -2.77, -2.75, -2.74, -2.72, -2.7, -2.69, -2.67, -2.66, -2.64, -2.62, -2.61, -2.59, -2.57, -2.56, -2.54, -2.52, -2.51, -2.49, -2.47, -2.46, -2.44, -2.43, -2.41, -2.39, -2.38, -2.36, -2.34, -2.33, -2.31, -2.29, -2.28, -2.26, -2.24, -2.23, -2.21, -2.2, -2.18, -2.16, -2.15, -2.13, -2.11, -2.1, -2.08, -2.06, -2.05, -2.03, -2.02, -2.0, -1.98, -1.97, -1.95, -1.93, -1.92, -1.9, -1.88, -1.87, -1.85, -1.83, -1.82, -1.8, -1.79, -1.77, -1.75, -1.74, -1.72, -1.7, -1.69, -1.67, -1.65, -1.64, -1.62, -1.6, -1.59, -1.57, -1.56, -1.54, -1.52, -1.51, -1.49, -1.47, -1.46, -1.44, -1.42, -1.41, -1.39, -1.38]}, {\"line\": {\"color\": \"gray\", \"width\": 3}, \"name\": \"Pipe Crown\", \"showlegend\": false, \"type\": \"scatter\", \"visible\": false, \"x\": [0, 1, 1, 2, 2, 3, 3, 4, 4, 5, 5, 6, 6, 7, 7, 8, 8, 9, 9, 10, 10, 11, 11, 12, 12, 13, 13, 14, 14, 15, 15, 16, 16, 17, 17, 18, 18, 19, 19, 20, 20, 21, 21, 22, 22, 23, 23, 24, 24, 25, 25, 26, 26, 27, 27, 28, 28, 29, 29, 30, 30, 31, 31, 32, 32, 33, 33, 34, 34, 35, 35, 36, 36, 37, 37, 38, 38, 39, 39, 40, 40, 41, 41, 42, 42, 43, 43, 44, 44, 45, 45, 46, 46, 47, 47, 48, 48, 49, 49, 50], \"y\": [-3.0, -2.98, -2.96, -2.95, -2.93, -2.91, -2.89, -2.88, -2.86, -2.84, -2.82, -2.81, -2.79, -2.77, -2.75, -2.73, -2.72, -2.7, -2.68, -2.66, -2.65, -2.63, -2.61, -2.59, -2.58, -2.56, -2.54, -2.52, -2.51, -2.49, -2.47, -2.45, -2.43, -2.42, -2.4, -2.38, -2.36, -2.35, -2.33, -2.31, -2.29, -2.28, -2.26, -2.24, -2.22, -2.2, -2.19, -2.17, -2.15, -2.13, -2.12, -2.1, -2.08, -2.06, -2.05, -2.03, -2.01, -1.99, -1.97, -1.96, -1.94, -1.92, -1.9, -1.89, -1.87, -1.85, -1.83, -1.82, -1.8, -1.78, -1.76, -1.74, -1.73, -1.71, -1.69, -1.67, -1.66, -1.64, -1.62, -1.6, -1.59, -1.57, -1.55, -1.53, -1.52, -1.5, -1.48, -1.46, -1.44, -1.43, -1.41, -1.39, -1.37, -1.36, -1.34, -1.32, -1.3, -1.29, -1.27, -1.25]}, {\"line\": {\"color\": \"gray\", \"width\": 3}, \"name\": \"Pipe Crown\", \"showlegend\": false, \"type\": \"scatter\", \"visible\": false, \"x\": [0, 1, 1, 2, 2, 3, 3, 4, 4, 5, 5, 6, 6, 7, 7, 8, 8, 9, 9, 10, 10, 11, 11, 12, 12, 13, 13, 14, 14, 15, 15, 16, 16, 17, 17, 18, 18, 19, 19, 20, 20, 21, 21, 22, 22, 23, 23, 24, 24, 25, 25, 26, 26, 27, 27, 28, 28, 29, 29, 30, 30, 31, 31, 32, 32, 33, 33, 34, 34, 35, 35, 36, 36, 37, 37, 38, 38, 39, 39, 40, 40, 41, 41, 42, 42, 43, 43, 44, 44, 45, 45, 46, 46, 47, 47, 48, 48, 49, 49, 50], \"y\": [-3.0, -2.98, -2.96, -2.94, -2.92, -2.91, -2.89, -2.87, -2.85, -2.83, -2.81, -2.79, -2.77, -2.75, -2.73, -2.72, -2.7, -2.68, -2.66, -2.64, -2.62, -2.6, -2.58, -2.56, -2.55, -2.53, -2.51, -2.49, -2.47, -2.45, -2.43, -2.41, -2.39, -2.38, -2.36, -2.34, -2.32, -2.3, -2.28, -2.26, -2.24, -2.22, -2.2, -2.19, -2.17, -2.15, -2.13, -2.11, -2.09, -2.07, -2.05, -2.03, -2.02, -2.0, -1.98, -1.96, -1.94, -1.92, -1.9, -1.88, -1.86, -1.84, -1.83, -1.81, -1.79, -1.77, -1.75, -1.73, -1.71, -1.69, -1.67, -1.66, -1.64, -1.62, -1.6, -1.58, -1.56, -1.54, -1.52, -1.5, -1.48, -1.47, -1.45, -1.43, -1.41, -1.39, -1.37, -1.35, -1.33, -1.31, -1.3, -1.28, -1.26, -1.24, -1.22, -1.2, -1.18, -1.16, -1.14, -1.12]}, {\"line\": {\"color\": \"gray\", \"width\": 3}, \"name\": \"Pipe Crown\", \"showlegend\": false, \"type\": \"scatter\", \"visible\": false, \"x\": [0, 1, 1, 2, 2, 3, 3, 4, 4, 5, 5, 6, 6, 7, 7, 8, 8, 9, 9, 10, 10, 11, 11, 12, 12, 13, 13, 14, 14, 15, 15, 16, 16, 17, 17, 18, 18, 19, 19, 20, 20, 21, 21, 22, 22, 23, 23, 24, 24, 25, 25, 26, 26, 27, 27, 28, 28, 29, 29, 30, 30, 31, 31, 32, 32, 33, 33, 34, 34, 35, 35, 36, 36, 37, 37, 38, 38, 39, 39, 40, 40, 41, 41, 42, 42, 43, 43, 44, 44, 45, 45, 46, 46, 47, 47, 48, 48, 49, 49, 50], \"y\": [-3.0, -2.98, -2.96, -2.94, -2.92, -2.9, -2.88, -2.86, -2.84, -2.82, -2.8, -2.78, -2.76, -2.74, -2.72, -2.7, -2.68, -2.66, -2.64, -2.62, -2.6, -2.58, -2.56, -2.54, -2.52, -2.49, -2.47, -2.45, -2.43, -2.41, -2.39, -2.37, -2.35, -2.33, -2.31, -2.29, -2.27, -2.25, -2.23, -2.21, -2.19, -2.17, -2.15, -2.13, -2.11, -2.09, -2.07, -2.05, -2.03, -2.01, -1.99, -1.97, -1.95, -1.93, -1.91, -1.89, -1.87, -1.85, -1.83, -1.81, -1.79, -1.77, -1.75, -1.73, -1.71, -1.69, -1.67, -1.65, -1.63, -1.61, -1.59, -1.57, -1.55, -1.53, -1.51, -1.48, -1.46, -1.44, -1.42, -1.4, -1.38, -1.36, -1.34, -1.32, -1.3, -1.28, -1.26, -1.24, -1.22, -1.2, -1.18, -1.16, -1.14, -1.12, -1.1, -1.08, -1.06, -1.04, -1.02, -1.0]}, {\"line\": {\"color\": \"gray\", \"width\": 3}, \"name\": \"Pipe Crown\", \"showlegend\": false, \"type\": \"scatter\", \"visible\": false, \"x\": [0, 1, 1, 2, 2, 3, 3, 4, 4, 5, 5, 6, 6, 7, 7, 8, 8, 9, 9, 10, 10, 11, 11, 12, 12, 13, 13, 14, 14, 15, 15, 16, 16, 17, 17, 18, 18, 19, 19, 20, 20, 21, 21, 22, 22, 23, 23, 24, 24, 25, 25, 26, 26, 27, 27, 28, 28, 29, 29, 30, 30, 31, 31, 32, 32, 33, 33, 34, 34, 35, 35, 36, 36, 37, 37, 38, 38, 39, 39, 40, 40, 41, 41, 42, 42, 43, 43, 44, 44, 45, 45, 46, 46, 47, 47, 48, 48, 49, 49, 50], \"y\": [-3.0, -2.98, -2.96, -2.94, -2.91, -2.89, -2.87, -2.85, -2.83, -2.81, -2.79, -2.76, -2.74, -2.72, -2.7, -2.68, -2.66, -2.64, -2.61, -2.59, -2.57, -2.55, -2.53, -2.51, -2.48, -2.46, -2.44, -2.42, -2.4, -2.38, -2.36, -2.33, -2.31, -2.29, -2.27, -2.25, -2.23, -2.21, -2.18, -2.16, -2.14, -2.12, -2.1, -2.08, -2.06, -2.03, -2.01, -1.99, -1.97, -1.95, -1.93, -1.91, -1.88, -1.86, -1.84, -1.82, -1.8, -1.78, -1.76, -1.73, -1.71, -1.69, -1.67, -1.65, -1.63, -1.6, -1.58, -1.56, -1.54, -1.52, -1.5, -1.48, -1.45, -1.43, -1.41, -1.39, -1.37, -1.35, -1.33, -1.3, -1.28, -1.26, -1.24, -1.22, -1.2, -1.18, -1.15, -1.13, -1.11, -1.09, -1.07, -1.05, -1.03, -1.0, -0.98, -0.96, -0.94, -0.92, -0.9, -0.88]}, {\"line\": {\"color\": \"gray\", \"width\": 3}, \"name\": \"Pipe Crown\", \"showlegend\": false, \"type\": \"scatter\", \"visible\": false, \"x\": [0, 1, 1, 2, 2, 3, 3, 4, 4, 5, 5, 6, 6, 7, 7, 8, 8, 9, 9, 10, 10, 11, 11, 12, 12, 13, 13, 14, 14, 15, 15, 16, 16, 17, 17, 18, 18, 19, 19, 20, 20, 21, 21, 22, 22, 23, 23, 24, 24, 25, 25, 26, 26, 27, 27, 28, 28, 29, 29, 30, 30, 31, 31, 32, 32, 33, 33, 34, 34, 35, 35, 36, 36, 37, 37, 38, 38, 39, 39, 40, 40, 41, 41, 42, 42, 43, 43, 44, 44, 45, 45, 46, 46, 47, 47, 48, 48, 49, 49, 50], \"y\": [-3.0, -2.98, -2.95, -2.93, -2.91, -2.89, -2.86, -2.84, -2.82, -2.8, -2.77, -2.75, -2.73, -2.7, -2.68, -2.66, -2.64, -2.61, -2.59, -2.57, -2.55, -2.52, -2.5, -2.48, -2.45, -2.43, -2.41, -2.39, -2.36, -2.34, -2.32, -2.3, -2.27, -2.25, -2.23, -2.2, -2.18, -2.16, -2.14, -2.11, -2.09, -2.07, -2.05, -2.02, -2.0, -1.98, -1.95, -1.93, -1.91, -1.89, -1.86, -1.84, -1.82, -1.8, -1.77, -1.75, -1.73, -1.7, -1.68, -1.66, -1.64, -1.61, -1.59, -1.57, -1.55, -1.52, -1.5, -1.48, -1.45, -1.43, -1.41, -1.39, -1.36, -1.34, -1.32, -1.3, -1.27, -1.25, -1.23, -1.2, -1.18, -1.16, -1.14, -1.11, -1.09, -1.07, -1.05, -1.02, -1.0, -0.98, -0.95, -0.93, -0.91, -0.89, -0.86, -0.84, -0.82, -0.8, -0.77, -0.75]}, {\"line\": {\"color\": \"gray\", \"width\": 3}, \"name\": \"Pipe Crown\", \"showlegend\": false, \"type\": \"scatter\", \"visible\": false, \"x\": [0, 1, 1, 2, 2, 3, 3, 4, 4, 5, 5, 6, 6, 7, 7, 8, 8, 9, 9, 10, 10, 11, 11, 12, 12, 13, 13, 14, 14, 15, 15, 16, 16, 17, 17, 18, 18, 19, 19, 20, 20, 21, 21, 22, 22, 23, 23, 24, 24, 25, 25, 26, 26, 27, 27, 28, 28, 29, 29, 30, 30, 31, 31, 32, 32, 33, 33, 34, 34, 35, 35, 36, 36, 37, 37, 38, 38, 39, 39, 40, 40, 41, 41, 42, 42, 43, 43, 44, 44, 45, 45, 46, 46, 47, 47, 48, 48, 49, 49, 50], \"y\": [-3.0, -2.98, -2.95, -2.93, -2.9, -2.88, -2.86, -2.83, -2.81, -2.78, -2.76, -2.74, -2.71, -2.69, -2.66, -2.64, -2.62, -2.59, -2.57, -2.54, -2.52, -2.5, -2.47, -2.45, -2.42, -2.4, -2.38, -2.35, -2.33, -2.3, -2.28, -2.26, -2.23, -2.21, -2.18, -2.16, -2.14, -2.11, -2.09, -2.06, -2.04, -2.02, -1.99, -1.97, -1.94, -1.92, -1.9, -1.87, -1.85, -1.82, -1.8, -1.78, -1.75, -1.73, -1.7, -1.68, -1.66, -1.63, -1.61, -1.58, -1.56, -1.54, -1.51, -1.49, -1.46, -1.44, -1.42, -1.39, -1.37, -1.34, -1.32, -1.3, -1.27, -1.25, -1.22, -1.2, -1.18, -1.15, -1.13, -1.1, -1.08, -1.06, -1.03, -1.01, -0.98, -0.96, -0.94, -0.91, -0.89, -0.86, -0.84, -0.82, -0.79, -0.77, -0.74, -0.72, -0.7, -0.67, -0.65, -0.62]}, {\"line\": {\"color\": \"gray\", \"width\": 3}, \"name\": \"Pipe Crown\", \"showlegend\": false, \"type\": \"scatter\", \"visible\": false, \"x\": [0, 1, 1, 2, 2, 3, 3, 4, 4, 5, 5, 6, 6, 7, 7, 8, 8, 9, 9, 10, 10, 11, 11, 12, 12, 13, 13, 14, 14, 15, 15, 16, 16, 17, 17, 18, 18, 19, 19, 20, 20, 21, 21, 22, 22, 23, 23, 24, 24, 25, 25, 26, 26, 27, 27, 28, 28, 29, 29, 30, 30, 31, 31, 32, 32, 33, 33, 34, 34, 35, 35, 36, 36, 37, 37, 38, 38, 39, 39, 40, 40, 41, 41, 42, 42, 43, 43, 44, 44, 45, 45, 46, 46, 47, 47, 48, 48, 49, 49, 50], \"y\": [-3.0, -2.97, -2.95, -2.92, -2.9, -2.87, -2.85, -2.82, -2.8, -2.77, -2.75, -2.72, -2.7, -2.67, -2.65, -2.62, -2.6, -2.57, -2.55, -2.52, -2.49, -2.47, -2.44, -2.42, -2.39, -2.37, -2.34, -2.32, -2.29, -2.27, -2.24, -2.22, -2.19, -2.17, -2.14, -2.12, -2.09, -2.07, -2.04, -2.02, -1.99, -1.96, -1.94, -1.91, -1.89, -1.86, -1.84, -1.81, -1.79, -1.76, -1.74, -1.71, -1.69, -1.66, -1.64, -1.61, -1.59, -1.56, -1.54, -1.51, -1.48, -1.46, -1.43, -1.41, -1.38, -1.36, -1.33, -1.31, -1.28, -1.26, -1.23, -1.21, -1.18, -1.16, -1.13, -1.11, -1.08, -1.06, -1.03, -1.01, -0.98, -0.95, -0.93, -0.9, -0.88, -0.85, -0.83, -0.8, -0.78, -0.75, -0.73, -0.7, -0.68, -0.65, -0.63, -0.6, -0.58, -0.55, -0.53, -0.5]}, {\"line\": {\"color\": \"royalblue\", \"width\": 2}, \"name\": \"Liquid Level\", \"type\": \"scatter\", \"visible\": true, \"x\": [0, 1, 1, 2, 2, 3, 3, 4, 4, 5, 5, 6, 6, 7, 7, 8, 8, 9, 9, 10, 10, 11, 11, 12, 12, 13, 13, 14, 14, 15, 15, 16, 16, 17, 17, 18, 18, 19, 19, 20, 20, 21, 21, 22, 22, 23, 23, 24, 24, 25, 25, 26, 26, 27, 27, 28, 28, 29, 29, 30, 30, 31, 31, 32, 32, 33, 33, 34, 34, 35, 35, 36, 36, 37, 37, 38, 38, 39, 39, 40, 40, 41, 41, 42, 42, 43, 43, 44, 44, 45, 45, 46, 46, 47, 47, 48, 48, 49, 49, 50], \"y\": [-3.5, -3.5, -3.5, -3.5, -3.5, -3.5, -3.5, -3.5, -3.5, -3.5, -3.5, -3.5, -3.5, -3.5, -3.5, -3.5, -3.5, -3.5, -3.5, -3.5, -3.5, -3.5, -3.5, -3.5, -3.5, -3.5, -3.5, -3.5, -3.5, -3.5, -3.5, -3.5, -3.5, -3.5, -3.5, -3.5, -3.5, -3.5, -3.5, -3.5, -3.5, -3.5, -3.5, -3.5, -3.5, -3.5, -3.5, -3.5, -3.5, -3.5, -3.5, -3.5, -3.5, -3.5, -3.5, -3.5, -3.5, -3.5, -3.5, -3.5, -3.5, -3.5, -3.5, -3.5, -3.5, -3.5, -3.5, -3.5, -3.5, -3.5, -3.5, -3.5, -3.5, -3.5, -3.5, -3.5, -3.5, -3.5, -3.5, -3.5, -3.5, -3.5, -3.5, -3.5, -3.5, -3.5, -3.5, -3.5, -3.5, -3.5, -3.5, -3.5, -3.5, -3.5, -3.5, -3.5, -3.5, -3.5, -3.5, -3.5]}, {\"line\": {\"color\": \"royalblue\", \"width\": 2}, \"name\": \"Liquid Level\", \"type\": \"scatter\", \"visible\": false, \"x\": [0, 1, 1, 2, 2, 3, 3, 4, 4, 5, 5, 6, 6, 7, 7, 8, 8, 9, 9, 10, 10, 11, 11, 12, 12, 13, 13, 14, 14, 15, 15, 16, 16, 17, 17, 18, 18, 19, 19, 20, 20, 21, 21, 22, 22, 23, 23, 24, 24, 25, 25, 26, 26, 27, 27, 28, 28, 29, 29, 30, 30, 31, 31, 32, 32, 33, 33, 34, 34, 35, 35, 36, 36, 37, 37, 38, 38, 39, 39, 40, 40, 41, 41, 42, 42, 43, 43, 44, 44, 45, 45, 46, 46, 47, 47, 48, 48, 49, 49, 50], \"y\": [-3.5, -3.5, -3.5, -3.5, -3.5, -3.5, -3.5, -3.5, -3.5, -3.5, -3.5, -3.5, -3.5, -3.5, -3.5, -3.5, -3.5, -3.5, -3.5, -3.5, -3.5, -3.5, -3.5, -3.5, -3.5, -3.5, -3.5, -3.5, -3.5, -3.5, -3.5, -3.5, -3.5, -3.5, -3.5, -3.5, -3.5, -3.5, -3.5, -3.5, -3.5, -3.5, -3.5, -3.5, -3.5, -3.5, -3.5, -3.5, -3.5, -3.5, -3.5, -3.5, -3.5, -3.5, -3.5, -3.5, -3.5, -3.5, -3.5, -3.5, -3.5, -3.5, -3.5, -3.5, -3.5, -3.5, -3.5, -3.5, -3.5, -3.5, -3.5, -3.5, -3.5, -3.5, -3.5, -3.5, -3.5, -3.5, -3.5, -3.5, -3.5, -3.5, -3.5, -3.5, -3.5, -3.5, -3.5, -3.5, -3.5, -3.5, -3.5, -3.5, -3.5, -3.5, -3.5, -3.5, -3.5, -3.5, -3.5, -3.5]}, {\"line\": {\"color\": \"royalblue\", \"width\": 2}, \"name\": \"Liquid Level\", \"type\": \"scatter\", \"visible\": false, \"x\": [0, 1, 1, 2, 2, 3, 3, 4, 4, 5, 5, 6, 6, 7, 7, 8, 8, 9, 9, 10, 10, 11, 11, 12, 12, 13, 13, 14, 14, 15, 15, 16, 16, 17, 17, 18, 18, 19, 19, 20, 20, 21, 21, 22, 22, 23, 23, 24, 24, 25, 25, 26, 26, 27, 27, 28, 28, 29, 29, 30, 30, 31, 31, 32, 32, 33, 33, 34, 34, 35, 35, 36, 36, 37, 37, 38, 38, 39, 39, 40, 40, 41, 41, 42, 42, 43, 43, 44, 44, 45, 45, 46, 46, 47, 47, 48, 48, 49, 49, 50], \"y\": [-3.5, -3.5, -3.5, -3.5, -3.5, -3.5, -3.5, -3.5, -3.5, -3.5, -3.5, -3.5, -3.5, -3.5, -3.5, -3.5, -3.5, -3.5, -3.5, -3.5, -3.5, -3.5, -3.5, -3.5, -3.5, -3.5, -3.5, -3.5, -3.5, -3.5, -3.5, -3.5, -3.5, -3.5, -3.5, -3.5, -3.5, -3.5, -3.5, -3.5, -3.5, -3.5, -3.5, -3.5, -3.5, -3.5, -3.5, -3.5, -3.5, -3.5, -3.5, -3.5, -3.5, -3.5, -3.5, -3.5, -3.5, -3.5, -3.5, -3.5, -3.5, -3.5, -3.5, -3.5, -3.5, -3.5, -3.5, -3.5, -3.5, -3.5, -3.5, -3.5, -3.5, -3.5, -3.5, -3.5, -3.5, -3.5, -3.5, -3.5, -3.5, -3.5, -3.5, -3.5, -3.5, -3.5, -3.5, -3.5, -3.5, -3.5, -3.5, -3.5, -3.5, -3.5, -3.5, -3.5, -3.5, -3.5, -3.5, -3.5]}, {\"line\": {\"color\": \"royalblue\", \"width\": 2}, \"name\": \"Liquid Level\", \"type\": \"scatter\", \"visible\": false, \"x\": [0, 1, 1, 2, 2, 3, 3, 4, 4, 5, 5, 6, 6, 7, 7, 8, 8, 9, 9, 10, 10, 11, 11, 12, 12, 13, 13, 14, 14, 15, 15, 16, 16, 17, 17, 18, 18, 19, 19, 20, 20, 21, 21, 22, 22, 23, 23, 24, 24, 25, 25, 26, 26, 27, 27, 28, 28, 29, 29, 30, 30, 31, 31, 32, 32, 33, 33, 34, 34, 35, 35, 36, 36, 37, 37, 38, 38, 39, 39, 40, 40, 41, 41, 42, 42, 43, 43, 44, 44, 45, 45, 46, 46, 47, 47, 48, 48, 49, 49, 50], \"y\": [-3.5, -3.5, -3.5, -3.5, -3.5, -3.5, -3.5, -3.5, -3.5, -3.5, -3.5, -3.5, -3.5, -3.5, -3.5, -3.5, -3.5, -3.5, -3.5, -3.5, -3.5, -3.5, -3.5, -3.5, -3.5, -3.5, -3.5, -3.5, -3.5, -3.5, -3.5, -3.5, -3.5, -3.5, -3.5, -3.5, -3.5, -3.5, -3.5, -3.5, -3.5, -3.5, -3.5, -3.5, -3.5, -3.5, -3.5, -3.5, -3.5, -3.5, -3.5, -3.5, -3.5, -3.5, -3.5, -3.5, -3.5, -3.5, -3.5, -3.5, -3.5, -3.5, -3.5, -3.5, -3.5, -3.5, -3.5, -3.5, -3.5, -3.5, -3.5, -3.5, -3.5, -3.5, -3.5, -3.5, -3.5, -3.5, -3.5, -3.5, -3.5, -3.5, -3.5, -3.5, -3.5, -3.5, -3.5, -3.5, -3.5, -3.5, -3.5, -3.5, -3.5, -3.5, -3.5, -3.5, -3.5, -3.5, -3.5, -3.5]}, {\"line\": {\"color\": \"royalblue\", \"width\": 2}, \"name\": \"Liquid Level\", \"type\": \"scatter\", \"visible\": false, \"x\": [0, 1, 1, 2, 2, 3, 3, 4, 4, 5, 5, 6, 6, 7, 7, 8, 8, 9, 9, 10, 10, 11, 11, 12, 12, 13, 13, 14, 14, 15, 15, 16, 16, 17, 17, 18, 18, 19, 19, 20, 20, 21, 21, 22, 22, 23, 23, 24, 24, 25, 25, 26, 26, 27, 27, 28, 28, 29, 29, 30, 30, 31, 31, 32, 32, 33, 33, 34, 34, 35, 35, 36, 36, 37, 37, 38, 38, 39, 39, 40, 40, 41, 41, 42, 42, 43, 43, 44, 44, 45, 45, 46, 46, 47, 47, 48, 48, 49, 49, 50], \"y\": [-3.5, -3.5, -3.5, -3.5, -3.5, -3.5, -3.5, -3.5, -3.5, -3.5, -3.5, -3.5, -3.5, -3.5, -3.5, -3.5, -3.5, -3.5, -3.5, -3.5, -3.5, -3.5, -3.5, -3.5, -3.5, -3.5, -3.5, -3.5, -3.5, -3.5, -3.5, -3.5, -3.5, -3.5, -3.5, -3.5, -3.5, -3.5, -3.5, -3.5, -3.5, -3.5, -3.5, -3.5, -3.5, -3.5, -3.5, -3.5, -3.5, -3.5, -3.5, -3.5, -3.5, -3.5, -3.5, -3.5, -3.5, -3.5, -3.5, -3.5, -3.5, -3.5, -3.5, -3.5, -3.5, -3.5, -3.5, -3.5, -3.5, -3.5, -3.5, -3.5, -3.5, -3.5, -3.5, -3.5, -3.5, -3.5, -3.5, -3.5, -3.5, -3.5, -3.5, -3.5, -3.5, -3.5, -3.5, -3.5, -3.5, -3.5, -3.5, -3.5, -3.5, -3.5, -3.5, -3.5, -3.5, -3.5, -3.5, -3.5]}, {\"line\": {\"color\": \"royalblue\", \"width\": 2}, \"name\": \"Liquid Level\", \"type\": \"scatter\", \"visible\": false, \"x\": [0, 1, 1, 2, 2, 3, 3, 4, 4, 5, 5, 6, 6, 7, 7, 8, 8, 9, 9, 10, 10, 11, 11, 12, 12, 13, 13, 14, 14, 15, 15, 16, 16, 17, 17, 18, 18, 19, 19, 20, 20, 21, 21, 22, 22, 23, 23, 24, 24, 25, 25, 26, 26, 27, 27, 28, 28, 29, 29, 30, 30, 31, 31, 32, 32, 33, 33, 34, 34, 35, 35, 36, 36, 37, 37, 38, 38, 39, 39, 40, 40, 41, 41, 42, 42, 43, 43, 44, 44, 45, 45, 46, 46, 47, 47, 48, 48, 49, 49, 50], \"y\": [-3.5, -3.5, -3.5, -3.5, -3.5, -3.5, -3.5, -3.5, -3.5, -3.5, -3.5, -3.5, -3.5, -3.5, -3.5, -3.5, -3.5, -3.5, -3.5, -3.5, -3.5, -3.5, -3.5, -3.5, -3.5, -3.5, -3.5, -3.5, -3.5, -3.5, -3.5, -3.5, -3.5, -3.5, -3.5, -3.5, -3.5, -3.5, -3.5, -3.5, -3.5, -3.5, -3.5, -3.5, -3.5, -3.5, -3.5, -3.5, -3.5, -3.5, -3.5, -3.5, -3.5, -3.5, -3.5, -3.5, -3.5, -3.5, -3.5, -3.5, -3.5, -3.5, -3.5, -3.5, -3.5, -3.5, -3.5, -3.5, -3.5, -3.5, -3.5, -3.5, -3.5, -3.5, -3.5, -3.5, -3.5, -3.5, -3.5, -3.5, -3.5, -3.5, -3.5, -3.5, -3.5, -3.5, -3.5, -3.5, -3.5, -3.5, -3.5, -3.5, -3.5, -3.5, -3.5, -3.5, -3.5, -3.5, -3.5, -3.5]}, {\"line\": {\"color\": \"royalblue\", \"width\": 2}, \"name\": \"Liquid Level\", \"type\": \"scatter\", \"visible\": false, \"x\": [0, 1, 1, 2, 2, 3, 3, 4, 4, 5, 5, 6, 6, 7, 7, 8, 8, 9, 9, 10, 10, 11, 11, 12, 12, 13, 13, 14, 14, 15, 15, 16, 16, 17, 17, 18, 18, 19, 19, 20, 20, 21, 21, 22, 22, 23, 23, 24, 24, 25, 25, 26, 26, 27, 27, 28, 28, 29, 29, 30, 30, 31, 31, 32, 32, 33, 33, 34, 34, 35, 35, 36, 36, 37, 37, 38, 38, 39, 39, 40, 40, 41, 41, 42, 42, 43, 43, 44, 44, 45, 45, 46, 46, 47, 47, 48, 48, 49, 49, 50], \"y\": [-3.5, -3.5, -3.5, -3.5, -3.5, -3.5, -3.5, -3.5, -3.5, -3.5, -3.5, -3.5, -3.5, -3.5, -3.5, -3.5, -3.5, -3.5, -3.5, -3.5, -3.5, -3.5, -3.5, -3.5, -3.5, -3.5, -3.5, -3.5, -3.5, -3.5, -3.5, -3.5, -3.5, -3.5, -3.5, -3.5, -3.5, -3.5, -3.5, -3.5, -3.5, -3.5, -3.5, -3.5, -3.5, -3.5, -3.5, -3.5, -3.5, -3.5, -3.5, -3.5, -3.5, -3.5, -3.5, -3.5, -3.5, -3.5, -3.5, -3.5, -3.5, -3.5, -3.5, -3.5, -3.5, -3.5, -3.5, -3.5, -3.5, -3.5, -3.5, -3.5, -3.5, -3.5, -3.5, -3.5, -3.5, -3.5, -3.5, -3.5, -3.5, -3.5, -3.5, -3.5, -3.5, -3.5, -3.5, -3.5, -3.5, -3.5, -3.5, -3.5, -3.5, -3.5, -3.5, -3.5, -3.5, -3.5, -3.5, -3.5]}, {\"line\": {\"color\": \"royalblue\", \"width\": 2}, \"name\": \"Liquid Level\", \"type\": \"scatter\", \"visible\": false, \"x\": [0, 1, 1, 2, 2, 3, 3, 4, 4, 5, 5, 6, 6, 7, 7, 8, 8, 9, 9, 10, 10, 11, 11, 12, 12, 13, 13, 14, 14, 15, 15, 16, 16, 17, 17, 18, 18, 19, 19, 20, 20, 21, 21, 22, 22, 23, 23, 24, 24, 25, 25, 26, 26, 27, 27, 28, 28, 29, 29, 30, 30, 31, 31, 32, 32, 33, 33, 34, 34, 35, 35, 36, 36, 37, 37, 38, 38, 39, 39, 40, 40, 41, 41, 42, 42, 43, 43, 44, 44, 45, 45, 46, 46, 47, 47, 48, 48, 49, 49, 50], \"y\": [-3.5, -3.5, -3.5, -3.5, -3.5, -3.5, -3.5, -3.5, -3.5, -3.5, -3.5, -3.5, -3.5, -3.5, -3.5, -3.5, -3.5, -3.5, -3.5, -3.5, -3.5, -3.5, -3.5, -3.5, -3.5, -3.5, -3.5, -3.5, -3.5, -3.5, -3.5, -3.5, -3.5, -3.5, -3.5, -3.5, -3.5, -3.5, -3.5, -3.5, -3.5, -3.5, -3.5, -3.5, -3.5, -3.5, -3.5, -3.5, -3.5, -3.5, -3.5, -3.5, -3.5, -3.5, -3.5, -3.5, -3.5, -3.5, -3.5, -3.5, -3.5, -3.5, -3.5, -3.5, -3.5, -3.5, -3.5, -3.5, -3.5, -3.5, -3.5, -3.5, -3.5, -3.5, -3.5, -3.5, -3.5, -3.5, -3.5, -3.5, -3.5, -3.5, -3.5, -3.5, -3.5, -3.5, -3.5, -3.5, -3.5, -3.5, -3.5, -3.5, -3.5, -3.5, -3.5, -3.5, -3.5, -3.5, -3.5, -3.5]}, {\"line\": {\"color\": \"royalblue\", \"width\": 2}, \"name\": \"Liquid Level\", \"type\": \"scatter\", \"visible\": false, \"x\": [0, 1, 1, 2, 2, 3, 3, 4, 4, 5, 5, 6, 6, 7, 7, 8, 8, 9, 9, 10, 10, 11, 11, 12, 12, 13, 13, 14, 14, 15, 15, 16, 16, 17, 17, 18, 18, 19, 19, 20, 20, 21, 21, 22, 22, 23, 23, 24, 24, 25, 25, 26, 26, 27, 27, 28, 28, 29, 29, 30, 30, 31, 31, 32, 32, 33, 33, 34, 34, 35, 35, 36, 36, 37, 37, 38, 38, 39, 39, 40, 40, 41, 41, 42, 42, 43, 43, 44, 44, 45, 45, 46, 46, 47, 47, 48, 48, 49, 49, 50], \"y\": [-3.5, -3.5, -3.5, -3.5, -3.5, -3.5, -3.5, -3.5, -3.5, -3.5, -3.5, -3.5, -3.5, -3.5, -3.5, -3.5, -3.5, -3.5, -3.5, -3.5, -3.5, -3.5, -3.5, -3.5, -3.5, -3.5, -3.5, -3.5, -3.5, -3.5, -3.5, -3.5, -3.5, -3.5, -3.5, -3.5, -3.5, -3.5, -3.5, -3.5, -3.5, -3.5, -3.5, -3.5, -3.5, -3.5, -3.5, -3.5, -3.5, -3.5, -3.5, -3.5, -3.5, -3.5, -3.5, -3.5, -3.5, -3.5, -3.5, -3.5, -3.5, -3.5, -3.5, -3.5, -3.5, -3.5, -3.5, -3.5, -3.5, -3.5, -3.5, -3.5, -3.5, -3.5, -3.5, -3.5, -3.5, -3.5, -3.5, -3.5, -3.5, -3.5, -3.5, -3.5, -3.5, -3.5, -3.5, -3.5, -3.5, -3.5, -3.5, -3.5, -3.5, -3.5, -3.5, -3.5, -3.5, -3.5, -3.5, -3.5]}, {\"line\": {\"color\": \"royalblue\", \"width\": 2}, \"name\": \"Liquid Level\", \"type\": \"scatter\", \"visible\": false, \"x\": [0, 1, 1, 2, 2, 3, 3, 4, 4, 5, 5, 6, 6, 7, 7, 8, 8, 9, 9, 10, 10, 11, 11, 12, 12, 13, 13, 14, 14, 15, 15, 16, 16, 17, 17, 18, 18, 19, 19, 20, 20, 21, 21, 22, 22, 23, 23, 24, 24, 25, 25, 26, 26, 27, 27, 28, 28, 29, 29, 30, 30, 31, 31, 32, 32, 33, 33, 34, 34, 35, 35, 36, 36, 37, 37, 38, 38, 39, 39, 40, 40, 41, 41, 42, 42, 43, 43, 44, 44, 45, 45, 46, 46, 47, 47, 48, 48, 49, 49, 50], \"y\": [-3.5, -3.5, -3.5, -3.5, -3.5, -3.5, -3.5, -3.5, -3.5, -3.5, -3.5, -3.5, -3.5, -3.5, -3.5, -3.5, -3.5, -3.5, -3.5, -3.5, -3.5, -3.5, -3.5, -3.5, -3.5, -3.5, -3.5, -3.5, -3.5, -3.5, -3.5, -3.5, -3.5, -3.5, -3.5, -3.5, -3.5, -3.5, -3.5, -3.5, -3.5, -3.5, -3.5, -3.5, -3.5, -3.5, -3.5, -3.5, -3.5, -3.5, -3.5, -3.5, -3.5, -3.5, -3.5, -3.5, -3.5, -3.5, -3.5, -3.5, -3.5, -3.5, -3.5, -3.5, -3.5, -3.5, -3.5, -3.5, -3.5, -3.5, -3.5, -3.5, -3.5, -3.5, -3.5, -3.5, -3.5, -3.5, -3.5, -3.5, -3.5, -3.5, -3.5, -3.5, -3.5, -3.5, -3.5, -3.5, -3.5, -3.5, -3.5, -3.5, -3.5, -3.5, -3.5, -3.5, -3.5, -3.5, -3.5, -3.5]}, {\"line\": {\"color\": \"royalblue\", \"width\": 2}, \"name\": \"Liquid Level\", \"type\": \"scatter\", \"visible\": false, \"x\": [0, 1, 1, 2, 2, 3, 3, 4, 4, 5, 5, 6, 6, 7, 7, 8, 8, 9, 9, 10, 10, 11, 11, 12, 12, 13, 13, 14, 14, 15, 15, 16, 16, 17, 17, 18, 18, 19, 19, 20, 20, 21, 21, 22, 22, 23, 23, 24, 24, 25, 25, 26, 26, 27, 27, 28, 28, 29, 29, 30, 30, 31, 31, 32, 32, 33, 33, 34, 34, 35, 35, 36, 36, 37, 37, 38, 38, 39, 39, 40, 40, 41, 41, 42, 42, 43, 43, 44, 44, 45, 45, 46, 46, 47, 47, 48, 48, 49, 49, 50], \"y\": [-3.5, -3.5, -3.5, -3.5, -3.5, -3.5, -3.5, -3.5, -3.5, -3.5, -3.5, -3.5, -3.5, -3.5, -3.5, -3.5, -3.5, -3.5, -3.5, -3.5, -3.5, -3.5, -3.5, -3.5, -3.5, -3.5, -3.5, -3.5, -3.5, -3.5, -3.5, -3.5, -3.5, -3.5, -3.5, -3.5, -3.5, -3.5, -3.5, -3.5, -3.5, -3.5, -3.5, -3.5, -3.5, -3.5, -3.5, -3.5, -3.5, -3.5, -3.5, -3.5, -3.5, -3.5, -3.5, -3.5, -3.5, -3.5, -3.5, -3.5, -3.5, -3.5, -3.5, -3.5, -3.5, -3.5, -3.5, -3.5, -3.5, -3.5, -3.5, -3.5, -3.5, -3.5, -3.5, -3.5, -3.5, -3.5, -3.5, -3.5, -3.5, -3.5, -3.5, -3.5, -3.5, -3.5, -3.5, -3.5, -3.5, -3.5, -3.5, -3.5, -3.5, -3.5, -3.5, -3.5, -3.5, -3.5, -3.5, -3.5]}, {\"line\": {\"color\": \"royalblue\", \"width\": 2}, \"name\": \"Liquid Level\", \"type\": \"scatter\", \"visible\": false, \"x\": [0, 1, 1, 2, 2, 3, 3, 4, 4, 5, 5, 6, 6, 7, 7, 8, 8, 9, 9, 10, 10, 11, 11, 12, 12, 13, 13, 14, 14, 15, 15, 16, 16, 17, 17, 18, 18, 19, 19, 20, 20, 21, 21, 22, 22, 23, 23, 24, 24, 25, 25, 26, 26, 27, 27, 28, 28, 29, 29, 30, 30, 31, 31, 32, 32, 33, 33, 34, 34, 35, 35, 36, 36, 37, 37, 38, 38, 39, 39, 40, 40, 41, 41, 42, 42, 43, 43, 44, 44, 45, 45, 46, 46, 47, 47, 48, 48, 49, 49, 50], \"y\": [-3.5, -3.5, -3.5, -3.5, -3.5, -3.5, -3.5, -3.5, -3.5, -3.5, -3.5, -3.5, -3.5, -3.5, -3.5, -3.5, -3.5, -3.5, -3.5, -3.5, -3.5, -3.5, -3.5, -3.5, -3.5, -3.5, -3.5, -3.5, -3.5, -3.5, -3.5, -3.5, -3.5, -3.5, -3.5, -3.5, -3.5, -3.5, -3.5, -3.5, -3.5, -3.5, -3.5, -3.5, -3.5, -3.5, -3.5, -3.5, -3.5, -3.5, -3.5, -3.5, -3.5, -3.5, -3.5, -3.5, -3.5, -3.5, -3.5, -3.5, -3.5, -3.5, -3.5, -3.5, -3.5, -3.5, -3.5, -3.5, -3.5, -3.5, -3.5, -3.5, -3.5, -3.5, -3.5, -3.5, -3.5, -3.5, -3.5, -3.5, -3.5, -3.5, -3.5, -3.5, -3.5, -3.5, -3.5, -3.5, -3.5, -3.5, -3.5, -3.5, -3.5, -3.5, -3.5, -3.5, -3.5, -3.5, -3.5, -3.5]}, {\"line\": {\"color\": \"royalblue\", \"width\": 2}, \"name\": \"Liquid Level\", \"type\": \"scatter\", \"visible\": false, \"x\": [0, 1, 1, 2, 2, 3, 3, 4, 4, 5, 5, 6, 6, 7, 7, 8, 8, 9, 9, 10, 10, 11, 11, 12, 12, 13, 13, 14, 14, 15, 15, 16, 16, 17, 17, 18, 18, 19, 19, 20, 20, 21, 21, 22, 22, 23, 23, 24, 24, 25, 25, 26, 26, 27, 27, 28, 28, 29, 29, 30, 30, 31, 31, 32, 32, 33, 33, 34, 34, 35, 35, 36, 36, 37, 37, 38, 38, 39, 39, 40, 40, 41, 41, 42, 42, 43, 43, 44, 44, 45, 45, 46, 46, 47, 47, 48, 48, 49, 49, 50], \"y\": [-3.5, -3.5, -3.5, -3.5, -3.5, -3.5, -3.5, -3.5, -3.5, -3.5, -3.5, -3.5, -3.5, -3.5, -3.5, -3.5, -3.5, -3.5, -3.5, -3.5, -3.5, -3.5, -3.5, -3.5, -3.5, -3.5, -3.5, -3.5, -3.5, -3.5, -3.5, -3.5, -3.5, -3.5, -3.5, -3.5, -3.5, -3.5, -3.5, -3.5, -3.5, -3.5, -3.5, -3.5, -3.5, -3.5, -3.5, -3.5, -3.5, -3.5, -3.5, -3.5, -3.5, -3.5, -3.5, -3.5, -3.5, -3.5, -3.5, -3.5, -3.5, -3.5, -3.5, -3.5, -3.5, -3.5, -3.5, -3.5, -3.5, -3.5, -3.5, -3.5, -3.5, -3.5, -3.5, -3.5, -3.5, -3.5, -3.5, -3.5, -3.5, -3.5, -3.5, -3.5, -3.5, -3.5, -3.5, -3.5, -3.5, -3.5, -3.5, -3.5, -3.5, -3.5, -3.5, -3.5, -3.5, -3.5, -3.5, -3.5]}, {\"line\": {\"color\": \"royalblue\", \"width\": 2}, \"name\": \"Liquid Level\", \"type\": \"scatter\", \"visible\": false, \"x\": [0, 1, 1, 2, 2, 3, 3, 4, 4, 5, 5, 6, 6, 7, 7, 8, 8, 9, 9, 10, 10, 11, 11, 12, 12, 13, 13, 14, 14, 15, 15, 16, 16, 17, 17, 18, 18, 19, 19, 20, 20, 21, 21, 22, 22, 23, 23, 24, 24, 25, 25, 26, 26, 27, 27, 28, 28, 29, 29, 30, 30, 31, 31, 32, 32, 33, 33, 34, 34, 35, 35, 36, 36, 37, 37, 38, 38, 39, 39, 40, 40, 41, 41, 42, 42, 43, 43, 44, 44, 45, 45, 46, 46, 47, 47, 48, 48, 49, 49, 50], \"y\": [-3.5, -3.5, -3.5, -3.5, -3.5, -3.5, -3.5, -3.5, -3.5, -3.5, -3.5, -3.5, -3.5, -3.5, -3.5, -3.5, -3.5, -3.5, -3.5, -3.5, -3.5, -3.5, -3.5, -3.5, -3.5, -3.5, -3.5, -3.5, -3.5, -3.5, -3.5, -3.5, -3.5, -3.5, -3.5, -3.5, -3.5, -3.5, -3.5, -3.5, -3.5, -3.5, -3.5, -3.5, -3.5, -3.5, -3.5, -3.5, -3.5, -3.5, -3.5, -3.5, -3.5, -3.5, -3.5, -3.5, -3.5, -3.5, -3.5, -3.5, -3.5, -3.5, -3.5, -3.5, -3.5, -3.5, -3.5, -3.5, -3.5, -3.5, -3.5, -3.5, -3.5, -3.5, -3.5, -3.5, -3.5, -3.5, -3.5, -3.5, -3.5, -3.5, -3.5, -3.5, -3.5, -3.5, -3.5, -3.5, -3.5, -3.5, -3.5, -3.5, null, null, null, null, null, null, null, null]}, {\"line\": {\"color\": \"royalblue\", \"width\": 2}, \"name\": \"Liquid Level\", \"type\": \"scatter\", \"visible\": false, \"x\": [0, 1, 1, 2, 2, 3, 3, 4, 4, 5, 5, 6, 6, 7, 7, 8, 8, 9, 9, 10, 10, 11, 11, 12, 12, 13, 13, 14, 14, 15, 15, 16, 16, 17, 17, 18, 18, 19, 19, 20, 20, 21, 21, 22, 22, 23, 23, 24, 24, 25, 25, 26, 26, 27, 27, 28, 28, 29, 29, 30, 30, 31, 31, 32, 32, 33, 33, 34, 34, 35, 35, 36, 36, 37, 37, 38, 38, 39, 39, 40, 40, 41, 41, 42, 42, 43, 43, 44, 44, 45, 45, 46, 46, 47, 47, 48, 48, 49, 49, 50], \"y\": [-3.5, -3.5, -3.5, -3.5, -3.5, -3.5, -3.5, -3.5, -3.5, -3.5, -3.5, -3.5, -3.5, -3.5, -3.5, -3.5, -3.5, -3.5, -3.5, -3.5, -3.5, -3.5, -3.5, -3.5, -3.5, -3.5, -3.5, -3.5, -3.5, -3.5, -3.5, -3.5, -3.5, -3.5, -3.5, -3.5, -3.5, -3.5, -3.5, -3.5, -3.5, -3.5, -3.5, -3.5, -3.5, -3.5, -3.5, -3.5, -3.5, -3.5, -3.5, -3.5, -3.5, -3.5, -3.5, -3.5, -3.5, -3.5, -3.5, -3.5, -3.5, -3.5, -3.5, -3.5, -3.5, -3.5, -3.5, -3.5, -3.5, -3.5, -3.5, -3.5, -3.5, -3.5, -3.5, -3.5, -3.5, -3.5, -3.5, -3.5, -3.5, -3.5, -3.5, -3.5, -3.5, -3.5, null, null, null, null, null, null, null, null, null, null, null, null, null, null]}, {\"line\": {\"color\": \"royalblue\", \"width\": 2}, \"name\": \"Liquid Level\", \"type\": \"scatter\", \"visible\": false, \"x\": [0, 1, 1, 2, 2, 3, 3, 4, 4, 5, 5, 6, 6, 7, 7, 8, 8, 9, 9, 10, 10, 11, 11, 12, 12, 13, 13, 14, 14, 15, 15, 16, 16, 17, 17, 18, 18, 19, 19, 20, 20, 21, 21, 22, 22, 23, 23, 24, 24, 25, 25, 26, 26, 27, 27, 28, 28, 29, 29, 30, 30, 31, 31, 32, 32, 33, 33, 34, 34, 35, 35, 36, 36, 37, 37, 38, 38, 39, 39, 40, 40, 41, 41, 42, 42, 43, 43, 44, 44, 45, 45, 46, 46, 47, 47, 48, 48, 49, 49, 50], \"y\": [-3.5, -3.5, -3.5, -3.5, -3.5, -3.5, -3.5, -3.5, -3.5, -3.5, -3.5, -3.5, -3.5, -3.5, -3.5, -3.5, -3.5, -3.5, -3.5, -3.5, -3.5, -3.5, -3.5, -3.5, -3.5, -3.5, -3.5, -3.5, -3.5, -3.5, -3.5, -3.5, -3.5, -3.5, -3.5, -3.5, -3.5, -3.5, -3.5, -3.5, -3.5, -3.5, -3.5, -3.5, -3.5, -3.5, -3.5, -3.5, -3.5, -3.5, -3.5, -3.5, -3.5, -3.5, -3.5, -3.5, -3.5, -3.5, -3.5, -3.5, -3.5, -3.5, -3.5, -3.5, -3.5, -3.5, -3.5, -3.5, -3.5, -3.5, -3.5, -3.5, -3.5, -3.5, -3.5, -3.5, -3.5, -3.5, -3.5, -3.5, null, null, null, null, null, null, null, null, null, null, null, null, null, null, null, null, null, null, null, null]}, {\"line\": {\"color\": \"royalblue\", \"width\": 2}, \"name\": \"Liquid Level\", \"type\": \"scatter\", \"visible\": false, \"x\": [0, 1, 1, 2, 2, 3, 3, 4, 4, 5, 5, 6, 6, 7, 7, 8, 8, 9, 9, 10, 10, 11, 11, 12, 12, 13, 13, 14, 14, 15, 15, 16, 16, 17, 17, 18, 18, 19, 19, 20, 20, 21, 21, 22, 22, 23, 23, 24, 24, 25, 25, 26, 26, 27, 27, 28, 28, 29, 29, 30, 30, 31, 31, 32, 32, 33, 33, 34, 34, 35, 35, 36, 36, 37, 37, 38, 38, 39, 39, 40, 40, 41, 41, 42, 42, 43, 43, 44, 44, 45, 45, 46, 46, 47, 47, 48, 48, 49, 49, 50], \"y\": [-3.5, -3.5, -3.5, -3.5, -3.5, -3.5, -3.5, -3.5, -3.5, -3.5, -3.5, -3.5, -3.5, -3.5, -3.5, -3.5, -3.5, -3.5, -3.5, -3.5, -3.5, -3.5, -3.5, -3.5, -3.5, -3.5, -3.5, -3.5, -3.5, -3.5, -3.5, -3.5, -3.5, -3.5, -3.5, -3.5, -3.5, -3.5, -3.5, -3.5, -3.5, -3.5, -3.5, -3.5, -3.5, -3.5, -3.5, -3.5, -3.5, -3.5, -3.5, -3.5, -3.5, -3.5, -3.5, -3.5, -3.5, -3.5, -3.5, -3.5, -3.5, -3.5, -3.5, -3.5, -3.5, -3.5, -3.5, -3.5, -3.5, -3.5, -3.5, -3.5, -3.5, -3.5, -3.5, null, null, null, null, null, null, null, null, null, null, null, null, null, null, null, null, null, null, null, null, null, null, null, null, null]}, {\"line\": {\"color\": \"royalblue\", \"width\": 2}, \"name\": \"Liquid Level\", \"type\": \"scatter\", \"visible\": false, \"x\": [0, 1, 1, 2, 2, 3, 3, 4, 4, 5, 5, 6, 6, 7, 7, 8, 8, 9, 9, 10, 10, 11, 11, 12, 12, 13, 13, 14, 14, 15, 15, 16, 16, 17, 17, 18, 18, 19, 19, 20, 20, 21, 21, 22, 22, 23, 23, 24, 24, 25, 25, 26, 26, 27, 27, 28, 28, 29, 29, 30, 30, 31, 31, 32, 32, 33, 33, 34, 34, 35, 35, 36, 36, 37, 37, 38, 38, 39, 39, 40, 40, 41, 41, 42, 42, 43, 43, 44, 44, 45, 45, 46, 46, 47, 47, 48, 48, 49, 49, 50], \"y\": [-3.5, -3.5, -3.5, -3.5, -3.5, -3.5, -3.5, -3.5, -3.5, -3.5, -3.5, -3.5, -3.5, -3.5, -3.5, -3.5, -3.5, -3.5, -3.5, -3.5, -3.5, -3.5, -3.5, -3.5, -3.5, -3.5, -3.5, -3.5, -3.5, -3.5, -3.5, -3.5, -3.5, -3.5, -3.5, -3.5, -3.5, -3.5, -3.5, -3.5, -3.5, -3.5, -3.5, -3.5, -3.5, -3.5, -3.5, -3.5, -3.5, -3.5, -3.5, -3.5, -3.5, -3.5, -3.5, -3.5, -3.5, -3.5, -3.5, -3.5, -3.5, -3.5, -3.5, -3.5, -3.5, -3.5, -3.5, -3.5, -3.5, -3.5, -3.5, null, null, null, null, null, null, null, null, null, null, null, null, null, null, null, null, null, null, null, null, null, null, null, null, null, null, null, null, null]}, {\"line\": {\"color\": \"royalblue\", \"width\": 2}, \"name\": \"Liquid Level\", \"type\": \"scatter\", \"visible\": false, \"x\": [0, 1, 1, 2, 2, 3, 3, 4, 4, 5, 5, 6, 6, 7, 7, 8, 8, 9, 9, 10, 10, 11, 11, 12, 12, 13, 13, 14, 14, 15, 15, 16, 16, 17, 17, 18, 18, 19, 19, 20, 20, 21, 21, 22, 22, 23, 23, 24, 24, 25, 25, 26, 26, 27, 27, 28, 28, 29, 29, 30, 30, 31, 31, 32, 32, 33, 33, 34, 34, 35, 35, 36, 36, 37, 37, 38, 38, 39, 39, 40, 40, 41, 41, 42, 42, 43, 43, 44, 44, 45, 45, 46, 46, 47, 47, 48, 48, 49, 49, 50], \"y\": [-3.5, -3.5, -3.5, -3.5, -3.5, -3.5, -3.5, -3.5, -3.5, -3.5, -3.5, -3.5, -3.5, -3.5, -3.5, -3.5, -3.5, -3.5, -3.5, -3.5, -3.5, -3.5, -3.5, -3.5, -3.5, -3.5, -3.5, -3.5, -3.5, -3.5, -3.5, -3.5, -3.5, -3.5, -3.5, -3.5, -3.5, -3.5, -3.5, -3.5, -3.5, -3.5, -3.5, -3.5, -3.5, -3.5, -3.5, -3.5, -3.5, -3.5, -3.5, -3.5, -3.5, -3.5, -3.5, -3.5, -3.5, -3.5, -3.5, -3.5, -3.5, -3.5, -3.5, -3.5, -3.5, -3.5, -3.5, null, null, null, null, null, null, null, null, null, null, null, null, null, null, null, null, null, null, null, null, null, null, null, null, null, null, null, null, null, null, null, null, null]}, {\"line\": {\"color\": \"royalblue\", \"width\": 2}, \"name\": \"Liquid Level\", \"type\": \"scatter\", \"visible\": false, \"x\": [0, 1, 1, 2, 2, 3, 3, 4, 4, 5, 5, 6, 6, 7, 7, 8, 8, 9, 9, 10, 10, 11, 11, 12, 12, 13, 13, 14, 14, 15, 15, 16, 16, 17, 17, 18, 18, 19, 19, 20, 20, 21, 21, 22, 22, 23, 23, 24, 24, 25, 25, 26, 26, 27, 27, 28, 28, 29, 29, 30, 30, 31, 31, 32, 32, 33, 33, 34, 34, 35, 35, 36, 36, 37, 37, 38, 38, 39, 39, 40, 40, 41, 41, 42, 42, 43, 43, 44, 44, 45, 45, 46, 46, 47, 47, 48, 48, 49, 49, 50], \"y\": [-3.5, -3.5, -3.5, -3.5, -3.5, -3.5, -3.5, -3.5, -3.5, -3.5, -3.5, -3.5, -3.5, -3.5, -3.5, -3.5, -3.5, -3.5, -3.5, -3.5, -3.5, -3.5, -3.5, -3.5, -3.5, -3.5, -3.5, -3.5, -3.5, -3.5, -3.5, -3.5, -3.5, -3.5, -3.5, -3.5, -3.5, -3.5, -3.5, -3.5, -3.5, -3.5, -3.5, -3.5, -3.5, -3.5, -3.5, -3.5, -3.5, -3.5, -3.5, -3.5, -3.5, -3.5, -3.5, -3.5, -3.5, -3.5, -3.5, -3.5, -3.5, -3.5, -3.5, null, null, null, null, null, null, null, null, null, null, null, null, null, null, null, null, null, null, null, null, null, null, null, null, null, null, null, null, null, null, null, null, null, null, null, null, null]}, {\"line\": {\"color\": \"royalblue\", \"width\": 2}, \"name\": \"Liquid Level\", \"type\": \"scatter\", \"visible\": false, \"x\": [0, 1, 1, 2, 2, 3, 3, 4, 4, 5, 5, 6, 6, 7, 7, 8, 8, 9, 9, 10, 10, 11, 11, 12, 12, 13, 13, 14, 14, 15, 15, 16, 16, 17, 17, 18, 18, 19, 19, 20, 20, 21, 21, 22, 22, 23, 23, 24, 24, 25, 25, 26, 26, 27, 27, 28, 28, 29, 29, 30, 30, 31, 31, 32, 32, 33, 33, 34, 34, 35, 35, 36, 36, 37, 37, 38, 38, 39, 39, 40, 40, 41, 41, 42, 42, 43, 43, 44, 44, 45, 45, 46, 46, 47, 47, 48, 48, 49, 49, 50], \"y\": [-3.5, -3.5, -3.5, -3.5, -3.5, -3.5, -3.5, -3.5, -3.5, -3.5, -3.5, -3.5, -3.5, -3.5, -3.5, -3.5, -3.5, -3.5, -3.5, -3.5, -3.5, -3.5, -3.5, -3.5, -3.5, -3.5, -3.5, -3.5, -3.5, -3.5, -3.5, -3.5, -3.5, -3.5, -3.5, -3.5, -3.5, -3.5, -3.5, -3.5, -3.5, -3.5, -3.5, -3.5, -3.5, -3.5, -3.5, -3.5, -3.5, -3.5, -3.5, -3.5, -3.5, -3.5, -3.5, -3.5, -3.5, -3.5, -3.5, -3.5, null, null, null, null, null, null, null, null, null, null, null, null, null, null, null, null, null, null, null, null, null, null, null, null, null, null, null, null, null, null, null, null, null, null, null, null, null, null, null, null]}],\n",
              "                        {\"legend\": {\"orientation\": \"h\", \"x\": 1, \"xanchor\": \"right\", \"y\": 1.02, \"yanchor\": \"bottom\"}, \"sliders\": [{\"active\": 0.1, \"currentvalue\": {\"prefix\": \"Grade: \", \"suffix\": \" %\"}, \"pad\": {\"t\": 50}, \"steps\": [{\"args\": [{\"visible\": [true, false, false, false, false, false, false, false, false, false, false, false, false, false, false, false, false, false, false, false, false, true, false, false, false, false, false, false, false, false, false, false, false, false, false, false, false, false, false, false, false, false, true, false, false, false, false, false, false, false, false, false, false, false, false, false, false, false, false, false, false, false, false]}, {\"title\": \"Liquid Level Along Pipe at 0.0 % Grade\"}], \"label\": \"0.0\", \"method\": \"update\"}, {\"args\": [{\"visible\": [false, true, false, false, false, false, false, false, false, false, false, false, false, false, false, false, false, false, false, false, false, false, true, false, false, false, false, false, false, false, false, false, false, false, false, false, false, false, false, false, false, false, false, true, false, false, false, false, false, false, false, false, false, false, false, false, false, false, false, false, false, false, false]}, {\"title\": \"Liquid Level Along Pipe at 0.25 % Grade\"}], \"label\": \"0.25\", \"method\": \"update\"}, {\"args\": [{\"visible\": [false, false, true, false, false, false, false, false, false, false, false, false, false, false, false, false, false, false, false, false, false, false, false, true, false, false, false, false, false, false, false, false, false, false, false, false, false, false, false, false, false, false, false, false, true, false, false, false, false, false, false, false, false, false, false, false, false, false, false, false, false, false, false]}, {\"title\": \"Liquid Level Along Pipe at 0.5 % Grade\"}], \"label\": \"0.5\", \"method\": \"update\"}, {\"args\": [{\"visible\": [false, false, false, true, false, false, false, false, false, false, false, false, false, false, false, false, false, false, false, false, false, false, false, false, true, false, false, false, false, false, false, false, false, false, false, false, false, false, false, false, false, false, false, false, false, true, false, false, false, false, false, false, false, false, false, false, false, false, false, false, false, false, false]}, {\"title\": \"Liquid Level Along Pipe at 0.75 % Grade\"}], \"label\": \"0.75\", \"method\": \"update\"}, {\"args\": [{\"visible\": [false, false, false, false, true, false, false, false, false, false, false, false, false, false, false, false, false, false, false, false, false, false, false, false, false, true, false, false, false, false, false, false, false, false, false, false, false, false, false, false, false, false, false, false, false, false, true, false, false, false, false, false, false, false, false, false, false, false, false, false, false, false, false]}, {\"title\": \"Liquid Level Along Pipe at 1.0 % Grade\"}], \"label\": \"1.0\", \"method\": \"update\"}, {\"args\": [{\"visible\": [false, false, false, false, false, true, false, false, false, false, false, false, false, false, false, false, false, false, false, false, false, false, false, false, false, false, true, false, false, false, false, false, false, false, false, false, false, false, false, false, false, false, false, false, false, false, false, true, false, false, false, false, false, false, false, false, false, false, false, false, false, false, false]}, {\"title\": \"Liquid Level Along Pipe at 1.25 % Grade\"}], \"label\": \"1.25\", \"method\": \"update\"}, {\"args\": [{\"visible\": [false, false, false, false, false, false, true, false, false, false, false, false, false, false, false, false, false, false, false, false, false, false, false, false, false, false, false, true, false, false, false, false, false, false, false, false, false, false, false, false, false, false, false, false, false, false, false, false, true, false, false, false, false, false, false, false, false, false, false, false, false, false, false]}, {\"title\": \"Liquid Level Along Pipe at 1.5 % Grade\"}], \"label\": \"1.5\", \"method\": \"update\"}, {\"args\": [{\"visible\": [false, false, false, false, false, false, false, true, false, false, false, false, false, false, false, false, false, false, false, false, false, false, false, false, false, false, false, false, true, false, false, false, false, false, false, false, false, false, false, false, false, false, false, false, false, false, false, false, false, true, false, false, false, false, false, false, false, false, false, false, false, false, false]}, {\"title\": \"Liquid Level Along Pipe at 1.75 % Grade\"}], \"label\": \"1.75\", \"method\": \"update\"}, {\"args\": [{\"visible\": [false, false, false, false, false, false, false, false, true, false, false, false, false, false, false, false, false, false, false, false, false, false, false, false, false, false, false, false, false, true, false, false, false, false, false, false, false, false, false, false, false, false, false, false, false, false, false, false, false, false, true, false, false, false, false, false, false, false, false, false, false, false, false]}, {\"title\": \"Liquid Level Along Pipe at 2.0 % Grade\"}], \"label\": \"2.0\", \"method\": \"update\"}, {\"args\": [{\"visible\": [false, false, false, false, false, false, false, false, false, true, false, false, false, false, false, false, false, false, false, false, false, false, false, false, false, false, false, false, false, false, true, false, false, false, false, false, false, false, false, false, false, false, false, false, false, false, false, false, false, false, false, true, false, false, false, false, false, false, false, false, false, false, false]}, {\"title\": \"Liquid Level Along Pipe at 2.25 % Grade\"}], \"label\": \"2.25\", \"method\": \"update\"}, {\"args\": [{\"visible\": [false, false, false, false, false, false, false, false, false, false, true, false, false, false, false, false, false, false, false, false, false, false, false, false, false, false, false, false, false, false, false, true, false, false, false, false, false, false, false, false, false, false, false, false, false, false, false, false, false, false, false, false, true, false, false, false, false, false, false, false, false, false, false]}, {\"title\": \"Liquid Level Along Pipe at 2.5 % Grade\"}], \"label\": \"2.5\", \"method\": \"update\"}, {\"args\": [{\"visible\": [false, false, false, false, false, false, false, false, false, false, false, true, false, false, false, false, false, false, false, false, false, false, false, false, false, false, false, false, false, false, false, false, true, false, false, false, false, false, false, false, false, false, false, false, false, false, false, false, false, false, false, false, false, true, false, false, false, false, false, false, false, false, false]}, {\"title\": \"Liquid Level Along Pipe at 2.75 % Grade\"}], \"label\": \"2.75\", \"method\": \"update\"}, {\"args\": [{\"visible\": [false, false, false, false, false, false, false, false, false, false, false, false, true, false, false, false, false, false, false, false, false, false, false, false, false, false, false, false, false, false, false, false, false, true, false, false, false, false, false, false, false, false, false, false, false, false, false, false, false, false, false, false, false, false, true, false, false, false, false, false, false, false, false]}, {\"title\": \"Liquid Level Along Pipe at 3.0 % Grade\"}], \"label\": \"3.0\", \"method\": \"update\"}, {\"args\": [{\"visible\": [false, false, false, false, false, false, false, false, false, false, false, false, false, true, false, false, false, false, false, false, false, false, false, false, false, false, false, false, false, false, false, false, false, false, true, false, false, false, false, false, false, false, false, false, false, false, false, false, false, false, false, false, false, false, false, true, false, false, false, false, false, false, false]}, {\"title\": \"Liquid Level Along Pipe at 3.25 % Grade\"}], \"label\": \"3.25\", \"method\": \"update\"}, {\"args\": [{\"visible\": [false, false, false, false, false, false, false, false, false, false, false, false, false, false, true, false, false, false, false, false, false, false, false, false, false, false, false, false, false, false, false, false, false, false, false, true, false, false, false, false, false, false, false, false, false, false, false, false, false, false, false, false, false, false, false, false, true, false, false, false, false, false, false]}, {\"title\": \"Liquid Level Along Pipe at 3.5 % Grade\"}], \"label\": \"3.5\", \"method\": \"update\"}, {\"args\": [{\"visible\": [false, false, false, false, false, false, false, false, false, false, false, false, false, false, false, true, false, false, false, false, false, false, false, false, false, false, false, false, false, false, false, false, false, false, false, false, true, false, false, false, false, false, false, false, false, false, false, false, false, false, false, false, false, false, false, false, false, true, false, false, false, false, false]}, {\"title\": \"Liquid Level Along Pipe at 3.75 % Grade\"}], \"label\": \"3.75\", \"method\": \"update\"}, {\"args\": [{\"visible\": [false, false, false, false, false, false, false, false, false, false, false, false, false, false, false, false, true, false, false, false, false, false, false, false, false, false, false, false, false, false, false, false, false, false, false, false, false, true, false, false, false, false, false, false, false, false, false, false, false, false, false, false, false, false, false, false, false, false, true, false, false, false, false]}, {\"title\": \"Liquid Level Along Pipe at 4.0 % Grade\"}], \"label\": \"4.0\", \"method\": \"update\"}, {\"args\": [{\"visible\": [false, false, false, false, false, false, false, false, false, false, false, false, false, false, false, false, false, true, false, false, false, false, false, false, false, false, false, false, false, false, false, false, false, false, false, false, false, false, true, false, false, false, false, false, false, false, false, false, false, false, false, false, false, false, false, false, false, false, false, true, false, false, false]}, {\"title\": \"Liquid Level Along Pipe at 4.25 % Grade\"}], \"label\": \"4.25\", \"method\": \"update\"}, {\"args\": [{\"visible\": [false, false, false, false, false, false, false, false, false, false, false, false, false, false, false, false, false, false, true, false, false, false, false, false, false, false, false, false, false, false, false, false, false, false, false, false, false, false, false, true, false, false, false, false, false, false, false, false, false, false, false, false, false, false, false, false, false, false, false, false, true, false, false]}, {\"title\": \"Liquid Level Along Pipe at 4.5 % Grade\"}], \"label\": \"4.5\", \"method\": \"update\"}, {\"args\": [{\"visible\": [false, false, false, false, false, false, false, false, false, false, false, false, false, false, false, false, false, false, false, true, false, false, false, false, false, false, false, false, false, false, false, false, false, false, false, false, false, false, false, false, true, false, false, false, false, false, false, false, false, false, false, false, false, false, false, false, false, false, false, false, false, true, false]}, {\"title\": \"Liquid Level Along Pipe at 4.75 % Grade\"}], \"label\": \"4.75\", \"method\": \"update\"}, {\"args\": [{\"visible\": [false, false, false, false, false, false, false, false, false, false, false, false, false, false, false, false, false, false, false, false, true, false, false, false, false, false, false, false, false, false, false, false, false, false, false, false, false, false, false, false, false, true, false, false, false, false, false, false, false, false, false, false, false, false, false, false, false, false, false, false, false, false, true]}, {\"title\": \"Liquid Level Along Pipe at 5.0 % Grade\"}], \"label\": \"5.0\", \"method\": \"update\"}]}], \"template\": {\"data\": {\"bar\": [{\"error_x\": {\"color\": \"rgb(36,36,36)\"}, \"error_y\": {\"color\": \"rgb(36,36,36)\"}, \"marker\": {\"line\": {\"color\": \"white\", \"width\": 0.5}}, \"type\": \"bar\"}], \"barpolar\": [{\"marker\": {\"line\": {\"color\": \"white\", \"width\": 0.5}}, \"type\": \"barpolar\"}], \"carpet\": [{\"aaxis\": {\"endlinecolor\": \"rgb(36,36,36)\", \"gridcolor\": \"white\", \"linecolor\": \"white\", \"minorgridcolor\": \"white\", \"startlinecolor\": \"rgb(36,36,36)\"}, \"baxis\": {\"endlinecolor\": \"rgb(36,36,36)\", \"gridcolor\": \"white\", \"linecolor\": \"white\", \"minorgridcolor\": \"white\", \"startlinecolor\": \"rgb(36,36,36)\"}, \"type\": \"carpet\"}], \"choropleth\": [{\"colorbar\": {\"outlinewidth\": 10, \"tickcolor\": \"rgb(36,36,36)\", \"ticklen\": 8, \"ticks\": \"outside\", \"tickwidth\": 2}, \"type\": \"choropleth\"}], \"contour\": [{\"colorbar\": {\"outlinewidth\": 10, \"tickcolor\": \"rgb(36,36,36)\", \"ticklen\": 8, \"ticks\": \"outside\", \"tickwidth\": 2}, \"colorscale\": [[0.0, \"#440154\"], [0.1111111111111111, \"#482878\"], [0.2222222222222222, \"#3e4989\"], [0.3333333333333333, \"#31688e\"], [0.4444444444444444, \"#26828e\"], [0.5555555555555556, \"#1f9e89\"], [0.6666666666666666, \"#35b779\"], [0.7777777777777778, \"#6ece58\"], [0.8888888888888888, \"#b5de2b\"], [1.0, \"#fde725\"]], \"type\": \"contour\"}], \"contourcarpet\": [{\"colorbar\": {\"outlinewidth\": 10, \"tickcolor\": \"rgb(36,36,36)\", \"ticklen\": 8, \"ticks\": \"outside\", \"tickwidth\": 2}, \"type\": \"contourcarpet\"}], \"heatmap\": [{\"colorbar\": {\"outlinewidth\": 10, \"tickcolor\": \"rgb(36,36,36)\", \"ticklen\": 8, \"ticks\": \"outside\", \"tickwidth\": 2}, \"colorscale\": [[0.0, \"#440154\"], [0.1111111111111111, \"#482878\"], [0.2222222222222222, \"#3e4989\"], [0.3333333333333333, \"#31688e\"], [0.4444444444444444, \"#26828e\"], [0.5555555555555556, \"#1f9e89\"], [0.6666666666666666, \"#35b779\"], [0.7777777777777778, \"#6ece58\"], [0.8888888888888888, \"#b5de2b\"], [1.0, \"#fde725\"]], \"type\": \"heatmap\"}], \"heatmapgl\": [{\"colorbar\": {\"outlinewidth\": 10, \"tickcolor\": \"rgb(36,36,36)\", \"ticklen\": 8, \"ticks\": \"outside\", \"tickwidth\": 2}, \"colorscale\": [[0.0, \"#440154\"], [0.1111111111111111, \"#482878\"], [0.2222222222222222, \"#3e4989\"], [0.3333333333333333, \"#31688e\"], [0.4444444444444444, \"#26828e\"], [0.5555555555555556, \"#1f9e89\"], [0.6666666666666666, \"#35b779\"], [0.7777777777777778, \"#6ece58\"], [0.8888888888888888, \"#b5de2b\"], [1.0, \"#fde725\"]], \"type\": \"heatmapgl\"}], \"histogram\": [{\"marker\": {\"line\": {\"color\": \"white\", \"width\": 0.6}}, \"type\": \"histogram\"}], \"histogram2d\": [{\"colorbar\": {\"outlinewidth\": 10, \"tickcolor\": \"rgb(36,36,36)\", \"ticklen\": 8, \"ticks\": \"outside\", \"tickwidth\": 2}, \"colorscale\": [[0.0, \"#440154\"], [0.1111111111111111, \"#482878\"], [0.2222222222222222, \"#3e4989\"], [0.3333333333333333, \"#31688e\"], [0.4444444444444444, \"#26828e\"], [0.5555555555555556, \"#1f9e89\"], [0.6666666666666666, \"#35b779\"], [0.7777777777777778, \"#6ece58\"], [0.8888888888888888, \"#b5de2b\"], [1.0, \"#fde725\"]], \"type\": \"histogram2d\"}], \"histogram2dcontour\": [{\"colorbar\": {\"outlinewidth\": 10, \"tickcolor\": \"rgb(36,36,36)\", \"ticklen\": 8, \"ticks\": \"outside\", \"tickwidth\": 2}, \"colorscale\": [[0.0, \"#440154\"], [0.1111111111111111, \"#482878\"], [0.2222222222222222, \"#3e4989\"], [0.3333333333333333, \"#31688e\"], [0.4444444444444444, \"#26828e\"], [0.5555555555555556, \"#1f9e89\"], [0.6666666666666666, \"#35b779\"], [0.7777777777777778, \"#6ece58\"], [0.8888888888888888, \"#b5de2b\"], [1.0, \"#fde725\"]], \"type\": \"histogram2dcontour\"}], \"mesh3d\": [{\"colorbar\": {\"outlinewidth\": 10, \"tickcolor\": \"rgb(36,36,36)\", \"ticklen\": 8, \"ticks\": \"outside\", \"tickwidth\": 2}, \"type\": \"mesh3d\"}], \"parcoords\": [{\"line\": {\"colorbar\": {\"outlinewidth\": 10, \"tickcolor\": \"rgb(36,36,36)\", \"ticklen\": 8, \"ticks\": \"outside\", \"tickwidth\": 2}}, \"type\": \"parcoords\"}], \"pie\": [{\"automargin\": true, \"type\": \"pie\"}], \"scatter\": [{\"marker\": {\"colorbar\": {\"outlinewidth\": 10, \"tickcolor\": \"rgb(36,36,36)\", \"ticklen\": 8, \"ticks\": \"outside\", \"tickwidth\": 2}}, \"type\": \"scatter\"}], \"scatter3d\": [{\"line\": {\"colorbar\": {\"outlinewidth\": 10, \"tickcolor\": \"rgb(36,36,36)\", \"ticklen\": 8, \"ticks\": \"outside\", \"tickwidth\": 2}}, \"marker\": {\"colorbar\": {\"outlinewidth\": 10, \"tickcolor\": \"rgb(36,36,36)\", \"ticklen\": 8, \"ticks\": \"outside\", \"tickwidth\": 2}}, \"type\": \"scatter3d\"}], \"scattercarpet\": [{\"marker\": {\"colorbar\": {\"outlinewidth\": 10, \"tickcolor\": \"rgb(36,36,36)\", \"ticklen\": 8, \"ticks\": \"outside\", \"tickwidth\": 2}}, \"type\": \"scattercarpet\"}], \"scattergeo\": [{\"marker\": {\"colorbar\": {\"outlinewidth\": 10, \"tickcolor\": \"rgb(36,36,36)\", \"ticklen\": 8, \"ticks\": \"outside\", \"tickwidth\": 2}}, \"type\": \"scattergeo\"}], \"scattergl\": [{\"marker\": {\"colorbar\": {\"outlinewidth\": 10, \"tickcolor\": \"rgb(36,36,36)\", \"ticklen\": 8, \"ticks\": \"outside\", \"tickwidth\": 2}}, \"type\": \"scattergl\"}], \"scattermapbox\": [{\"marker\": {\"colorbar\": {\"outlinewidth\": 10, \"tickcolor\": \"rgb(36,36,36)\", \"ticklen\": 8, \"ticks\": \"outside\", \"tickwidth\": 2}}, \"type\": \"scattermapbox\"}], \"scatterpolar\": [{\"marker\": {\"colorbar\": {\"outlinewidth\": 10, \"tickcolor\": \"rgb(36,36,36)\", \"ticklen\": 8, \"ticks\": \"outside\", \"tickwidth\": 2}}, \"type\": \"scatterpolar\"}], \"scatterpolargl\": [{\"marker\": {\"colorbar\": {\"outlinewidth\": 10, \"tickcolor\": \"rgb(36,36,36)\", \"ticklen\": 8, \"ticks\": \"outside\", \"tickwidth\": 2}}, \"type\": \"scatterpolargl\"}], \"scatterternary\": [{\"marker\": {\"colorbar\": {\"outlinewidth\": 10, \"tickcolor\": \"rgb(36,36,36)\", \"ticklen\": 8, \"ticks\": \"outside\", \"tickwidth\": 2}}, \"type\": \"scatterternary\"}], \"surface\": [{\"colorbar\": {\"outlinewidth\": 10, \"tickcolor\": \"rgb(36,36,36)\", \"ticklen\": 8, \"ticks\": \"outside\", \"tickwidth\": 2}, \"colorscale\": [[0.0, \"#440154\"], [0.1111111111111111, \"#482878\"], [0.2222222222222222, \"#3e4989\"], [0.3333333333333333, \"#31688e\"], [0.4444444444444444, \"#26828e\"], [0.5555555555555556, \"#1f9e89\"], [0.6666666666666666, \"#35b779\"], [0.7777777777777778, \"#6ece58\"], [0.8888888888888888, \"#b5de2b\"], [1.0, \"#fde725\"]], \"type\": \"surface\"}], \"table\": [{\"cells\": {\"fill\": {\"color\": \"rgb(237,237,237)\"}, \"line\": {\"color\": \"white\"}}, \"header\": {\"fill\": {\"color\": \"rgb(217,217,217)\"}, \"line\": {\"color\": \"white\"}}, \"type\": \"table\"}]}, \"layout\": {\"annotationdefaults\": {\"arrowhead\": 0, \"arrowwidth\": 1}, \"coloraxis\": {\"colorbar\": {\"outlinewidth\": 10, \"tickcolor\": \"rgb(36,36,36)\", \"ticklen\": 8, \"ticks\": \"outside\", \"tickwidth\": 2}}, \"colorscale\": {\"diverging\": [[0.0, \"rgb(103,0,31)\"], [0.1, \"rgb(178,24,43)\"], [0.2, \"rgb(214,96,77)\"], [0.3, \"rgb(244,165,130)\"], [0.4, \"rgb(253,219,199)\"], [0.5, \"rgb(247,247,247)\"], [0.6, \"rgb(209,229,240)\"], [0.7, \"rgb(146,197,222)\"], [0.8, \"rgb(67,147,195)\"], [0.9, \"rgb(33,102,172)\"], [1.0, \"rgb(5,48,97)\"]], \"sequential\": [[0.0, \"#440154\"], [0.1111111111111111, \"#482878\"], [0.2222222222222222, \"#3e4989\"], [0.3333333333333333, \"#31688e\"], [0.4444444444444444, \"#26828e\"], [0.5555555555555556, \"#1f9e89\"], [0.6666666666666666, \"#35b779\"], [0.7777777777777778, \"#6ece58\"], [0.8888888888888888, \"#b5de2b\"], [1.0, \"#fde725\"]], \"sequentialminus\": [[0.0, \"#440154\"], [0.1111111111111111, \"#482878\"], [0.2222222222222222, \"#3e4989\"], [0.3333333333333333, \"#31688e\"], [0.4444444444444444, \"#26828e\"], [0.5555555555555556, \"#1f9e89\"], [0.6666666666666666, \"#35b779\"], [0.7777777777777778, \"#6ece58\"], [0.8888888888888888, \"#b5de2b\"], [1.0, \"#fde725\"]]}, \"colorway\": [\"#1F77B4\", \"#FF7F0E\", \"#2CA02C\", \"#D62728\", \"#9467BD\", \"#8C564B\", \"#E377C2\", \"#7F7F7F\", \"#BCBD22\", \"#17BECF\"], \"font\": {\"color\": \"rgb(36,36,36)\"}, \"geo\": {\"bgcolor\": \"white\", \"lakecolor\": \"white\", \"landcolor\": \"white\", \"showlakes\": true, \"showland\": true, \"subunitcolor\": \"white\"}, \"hoverlabel\": {\"align\": \"left\"}, \"hovermode\": \"closest\", \"mapbox\": {\"style\": \"light\"}, \"paper_bgcolor\": \"white\", \"plot_bgcolor\": \"white\", \"polar\": {\"angularaxis\": {\"gridcolor\": \"rgb(232,232,232)\", \"linecolor\": \"rgb(36,36,36)\", \"showgrid\": false, \"showline\": true, \"ticks\": \"outside\"}, \"bgcolor\": \"white\", \"radialaxis\": {\"gridcolor\": \"rgb(232,232,232)\", \"linecolor\": \"rgb(36,36,36)\", \"showgrid\": false, \"showline\": true, \"ticks\": \"outside\"}}, \"scene\": {\"xaxis\": {\"backgroundcolor\": \"white\", \"gridcolor\": \"rgb(232,232,232)\", \"gridwidth\": 2, \"linecolor\": \"rgb(36,36,36)\", \"showbackground\": true, \"showgrid\": false, \"showline\": true, \"ticks\": \"outside\", \"zeroline\": false, \"zerolinecolor\": \"rgb(36,36,36)\"}, \"yaxis\": {\"backgroundcolor\": \"white\", \"gridcolor\": \"rgb(232,232,232)\", \"gridwidth\": 2, \"linecolor\": \"rgb(36,36,36)\", \"showbackground\": true, \"showgrid\": false, \"showline\": true, \"ticks\": \"outside\", \"zeroline\": false, \"zerolinecolor\": \"rgb(36,36,36)\"}, \"zaxis\": {\"backgroundcolor\": \"white\", \"gridcolor\": \"rgb(232,232,232)\", \"gridwidth\": 2, \"linecolor\": \"rgb(36,36,36)\", \"showbackground\": true, \"showgrid\": false, \"showline\": true, \"ticks\": \"outside\", \"zeroline\": false, \"zerolinecolor\": \"rgb(36,36,36)\"}}, \"shapedefaults\": {\"fillcolor\": \"black\", \"line\": {\"width\": 0}, \"opacity\": 0.3}, \"ternary\": {\"aaxis\": {\"gridcolor\": \"rgb(232,232,232)\", \"linecolor\": \"rgb(36,36,36)\", \"showgrid\": false, \"showline\": true, \"ticks\": \"outside\"}, \"baxis\": {\"gridcolor\": \"rgb(232,232,232)\", \"linecolor\": \"rgb(36,36,36)\", \"showgrid\": false, \"showline\": true, \"ticks\": \"outside\"}, \"bgcolor\": \"white\", \"caxis\": {\"gridcolor\": \"rgb(232,232,232)\", \"linecolor\": \"rgb(36,36,36)\", \"showgrid\": false, \"showline\": true, \"ticks\": \"outside\"}}, \"title\": {\"x\": 0.05}, \"xaxis\": {\"automargin\": true, \"gridcolor\": \"rgb(232,232,232)\", \"linecolor\": \"rgb(36,36,36)\", \"showgrid\": false, \"showline\": true, \"ticks\": \"outside\", \"title\": {\"standoff\": 15}, \"zeroline\": false, \"zerolinecolor\": \"rgb(36,36,36)\"}, \"yaxis\": {\"automargin\": true, \"gridcolor\": \"rgb(232,232,232)\", \"linecolor\": \"rgb(36,36,36)\", \"showgrid\": false, \"showline\": true, \"ticks\": \"outside\", \"title\": {\"standoff\": 15}, \"zeroline\": false, \"zerolinecolor\": \"rgb(36,36,36)\"}}}, \"title\": {\"text\": \"Liquid Level Along Pipe at 0 % Grade\"}, \"xaxis\": {\"showspikes\": true, \"spikecolor\": \"green\", \"spikemode\": \"across\", \"spikesnap\": \"cursor\", \"title\": {\"text\": \"Pipe Chainage (m)\"}}, \"yaxis\": {\"range\": [-6.0, -0.5], \"showspikes\": true, \"spikecolor\": \"green\", \"title\": {\"text\": \"Elevation (mGeodetic)\"}}},\n",
              "                        {\"responsive\": true}\n",
              "                    ).then(function(){\n",
              "                            \n",
              "var gd = document.getElementById('b18de76f-0094-4a7d-9453-ad2766d30c3d');\n",
              "var x = new MutationObserver(function (mutations, observer) {{\n",
              "        var display = window.getComputedStyle(gd).display;\n",
              "        if (!display || display === 'none') {{\n",
              "            console.log([gd, 'removed!']);\n",
              "            Plotly.purge(gd);\n",
              "            observer.disconnect();\n",
              "        }}\n",
              "}});\n",
              "\n",
              "// Listen for the removal of the full notebook cells\n",
              "var notebookContainer = gd.closest('#notebook-container');\n",
              "if (notebookContainer) {{\n",
              "    x.observe(notebookContainer, {childList: true});\n",
              "}}\n",
              "\n",
              "// Listen for the clearing of the current output cell\n",
              "var outputEl = gd.closest('.output');\n",
              "if (outputEl) {{\n",
              "    x.observe(outputEl, {childList: true});\n",
              "}}\n",
              "\n",
              "                        })\n",
              "                };\n",
              "                \n",
              "            </script>\n",
              "        </div>\n",
              "</body>\n",
              "</html>"
            ]
          },
          "metadata": {}
        }
      ]
    },
    {
      "cell_type": "code",
      "metadata": {
        "colab": {
          "base_uri": "https://localhost:8080/",
          "height": 517
        },
        "id": "A-pigQpyLXPb",
        "outputId": "345f2cf8-1b18-4899-8269-07d691300ab7"
      },
      "source": [
        "# Plotting \n",
        "fig2_height =500\n",
        "fig2_graph_width = 0.65\n",
        "\n",
        "\n",
        "fig2 = make_subplots(rows = 1, cols = 2, \n",
        "                     column_widths = [fig2_graph_width, 1-fig2_graph_width],\n",
        "                     horizontal_spacing = 0.05,\n",
        "                     specs=[[{\"secondary_y\":True,\"type\":\"xy\"}, {\"secondary_y\":False, \"type\":\"table\"}]]) #\"specs\" arg is tricky. in future go straight to help(make_subplots)\n",
        "\n",
        "\n",
        "# Air/Volume Graph Fig\n",
        "fig2.add_trace(go.Scatter(x=list(air_liquid_percent_dict.keys()), \n",
        "                          y= air_percents_list, \n",
        "                          mode='lines', \n",
        "                          name = \"%  Air\", \n",
        "                          showlegend=True, \n",
        "                          line=dict(color='orange', width=2)), \n",
        "               row=1, col=1)\n",
        "\n",
        "fig2.add_trace(go.Scatter(x=list(air_liquid_percent_dict.keys()), \n",
        "                          y= liquid_percents_list,\n",
        "                          mode='lines', \n",
        "                          name = \"% Liquid\", \n",
        "                          showlegend=True, \n",
        "                          line=dict(color='royalblue', width=2)), \n",
        "               row=1, col=1)\n",
        "\n",
        "fig2.add_trace(go.Scatter(x=list(air_volume_dict.keys()), \n",
        "                          y= list(air_volume_dict.values()),\n",
        "                          mode='lines', \n",
        "                          name = \"Volume air\",\n",
        "                          showlegend=True, \n",
        "                          line=dict(color='orange', width=2, dash = \"dot\")), \n",
        "               row=1, col=1,\n",
        "               secondary_y = True)\n",
        "\n",
        "fig2.add_trace(go.Scatter(x=list(liquid_volume_grade_dict.keys()), \n",
        "                          y= list(liquid_volume_grade_dict.values()),\n",
        "                          mode='lines', \n",
        "                          name = \"Volume liquid\",\n",
        "                          showlegend=True, \n",
        "                          line=dict(color='royalblue', width=2, dash = \"dot\")), \n",
        "               row=1, col=1,\n",
        "               secondary_y = True)\n",
        "\n",
        "\n",
        "#Table Fig\n",
        "header_color = 'lightslategray'\n",
        "row_even_color = 'lightgrey'\n",
        "row_odd_color = 'darkgray'\n",
        "linecolor = \"white\"\n",
        "header_list = [\"Grade (%)\", \"Liquid (m3)\", \"Air (m3)\", \"Liquid (%)\", \"Air (%)\"]\n",
        "\n",
        "\n",
        "\n",
        "fig2.add_trace(\n",
        "    go.Table(\n",
        "      header=dict(\n",
        "          values=header_list,\n",
        "          line_color=linecolor,\n",
        "          fill_color=header_color,\n",
        "          align='right'),\n",
        "    cells=dict(\n",
        "        values=[list(liquid_volume_grade_dict.keys()), # 1st column\n",
        "                list(liquid_volume_grade_dict.values()), #2nd\n",
        "                list(air_volume_dict.values()),#3rd\n",
        "                liquid_percents_list,#4th\n",
        "                air_percents_list],#5th \n",
        "          line_color=linecolor,\n",
        "          fill_color = [[row_odd_color,row_even_color]*len(air_percents_list)],\n",
        "          align='right')\n",
        "    ),\n",
        "    row = 1, col = 2)\n",
        "\n",
        "#Customising fig aesthetics \n",
        "\n",
        "\n",
        "fig2.update_xaxes(showspikes=True, spikecolor=\"green\",spikesnap = \"cursor\", spikemode=\"across\", spikethickness = 2)\n",
        "fig2.update_yaxes(showspikes=True,spikecolor=\"green\",spikesnap = \"cursor\", spikemode=\"across\", spikethickness = 2)\n",
        "\n",
        "\n",
        "fig2.update_layout(\n",
        "    template = \"simple_white\", \n",
        "    title=\"Air/Liquid Volume Split at Various Grades\",\n",
        "    height = fig2_height, \n",
        "    xaxis_title=\"Grade (%)\",\n",
        "\n",
        "    yaxis=dict(\n",
        "    title=\"% Pipe Volume\",\n",
        "    side=\"right\", \n",
        "    range = [0,100]\n",
        "  ),\n",
        "  yaxis2=dict(\n",
        "    title=r\"$\\text {Pipe Volume} \\: (m^3)$\",\n",
        "    anchor=\"free\",\n",
        "    overlaying=\"y\",\n",
        "    side=\"left\", \n",
        "  ),\n",
        "  #Legend info \n",
        "    legend=dict(\n",
        "    orientation=\"h\",\n",
        "    yanchor=\"bottom\",\n",
        "    y=1.02,\n",
        "    xanchor=\"left\",\n",
        "    x=0\n",
        "))\n"
      ],
      "execution_count": 73,
      "outputs": [
        {
          "output_type": "display_data",
          "data": {
            "text/html": [
              "<html>\n",
              "<head><meta charset=\"utf-8\" /></head>\n",
              "<body>\n",
              "    <div>\n",
              "            <script src=\"https://cdnjs.cloudflare.com/ajax/libs/mathjax/2.7.5/MathJax.js?config=TeX-AMS-MML_SVG\"></script><script type=\"text/javascript\">if (window.MathJax) {MathJax.Hub.Config({SVG: {font: \"STIX-Web\"}});}</script>\n",
              "                <script type=\"text/javascript\">window.PlotlyConfig = {MathJaxConfig: 'local'};</script>\n",
              "        <script src=\"https://cdn.plot.ly/plotly-latest.min.js\"></script>    \n",
              "            <div id=\"66101c64-9325-4f72-b78d-f02ad81cfc3c\" class=\"plotly-graph-div\" style=\"height:500px; width:100%;\"></div>\n",
              "            <script type=\"text/javascript\">\n",
              "                \n",
              "                    window.PLOTLYENV=window.PLOTLYENV || {};\n",
              "                    \n",
              "                if (document.getElementById(\"66101c64-9325-4f72-b78d-f02ad81cfc3c\")) {\n",
              "                    Plotly.newPlot(\n",
              "                        '66101c64-9325-4f72-b78d-f02ad81cfc3c',\n",
              "                        [{\"line\": {\"color\": \"orange\", \"width\": 2}, \"mode\": \"lines\", \"name\": \"%  Air\", \"showlegend\": true, \"type\": \"scatter\", \"x\": [0.0, 0.25, 0.5, 0.75, 1.0, 1.25, 1.5, 1.75, 2.0, 2.25, 2.5, 2.75, 3.0, 3.25, 3.5, 3.75, 4.0, 4.25, 4.5, 4.75, 5.0], \"xaxis\": \"x\", \"y\": [19.58, 23.08, 26.76, 30.56, 34.43, 38.34, 42.25, 46.15, 50.0, 53.76, 57.38, 60.82, 63.99, 66.76, 69.14, 71.19, 72.99, 74.59, 76.0, 77.26, 78.4], \"yaxis\": \"y\"}, {\"line\": {\"color\": \"royalblue\", \"width\": 2}, \"mode\": \"lines\", \"name\": \"% Liquid\", \"showlegend\": true, \"type\": \"scatter\", \"x\": [0.0, 0.25, 0.5, 0.75, 1.0, 1.25, 1.5, 1.75, 2.0, 2.25, 2.5, 2.75, 3.0, 3.25, 3.5, 3.75, 4.0, 4.25, 4.5, 4.75, 5.0], \"xaxis\": \"x\", \"y\": [80.42, 76.92, 73.24, 69.44, 65.57, 61.66, 57.75, 53.85, 50.0, 46.24, 42.62, 39.18, 36.01, 33.24, 30.86, 28.81, 27.01, 25.41, 24.0, 22.74, 21.6], \"yaxis\": \"y\"}, {\"line\": {\"color\": \"orange\", \"dash\": \"dot\", \"width\": 2}, \"mode\": \"lines\", \"name\": \"Volume air\", \"showlegend\": true, \"type\": \"scatter\", \"x\": [0.0, 0.25, 0.5, 0.75, 1.0, 1.25, 1.5, 1.75, 2.0, 2.25, 2.5, 2.75, 3.0, 3.25, 3.5, 3.75, 4.0, 4.25, 4.5, 4.75, 5.0], \"xaxis\": \"x\", \"y\": [30.75, 36.26, 42.04, 48.0, 54.08, 60.22, 66.37, 72.5, 78.54, 84.44, 90.13, 95.53, 100.52, 104.87, 108.6, 111.83, 114.66, 117.16, 119.38, 121.36, 123.15], \"yaxis\": \"y2\"}, {\"line\": {\"color\": \"royalblue\", \"dash\": \"dot\", \"width\": 2}, \"mode\": \"lines\", \"name\": \"Volume liquid\", \"showlegend\": true, \"type\": \"scatter\", \"x\": [0.0, 0.25, 0.5, 0.75, 1.0, 1.25, 1.5, 1.75, 2.0, 2.25, 2.5, 2.75, 3.0, 3.25, 3.5, 3.75, 4.0, 4.25, 4.5, 4.75, 5.0], \"xaxis\": \"x\", \"y\": [126.33, 120.82, 115.04, 109.08, 103.0, 96.86, 90.71, 84.58, 78.54, 72.64, 66.95, 61.55, 56.56, 52.21, 48.48, 45.25, 42.42, 39.92, 37.7, 35.72, 33.93], \"yaxis\": \"y2\"}, {\"cells\": {\"align\": \"right\", \"fill\": {\"color\": [[\"darkgray\", \"lightgrey\", \"darkgray\", \"lightgrey\", \"darkgray\", \"lightgrey\", \"darkgray\", \"lightgrey\", \"darkgray\", \"lightgrey\", \"darkgray\", \"lightgrey\", \"darkgray\", \"lightgrey\", \"darkgray\", \"lightgrey\", \"darkgray\", \"lightgrey\", \"darkgray\", \"lightgrey\", \"darkgray\", \"lightgrey\", \"darkgray\", \"lightgrey\", \"darkgray\", \"lightgrey\", \"darkgray\", \"lightgrey\", \"darkgray\", \"lightgrey\", \"darkgray\", \"lightgrey\", \"darkgray\", \"lightgrey\", \"darkgray\", \"lightgrey\", \"darkgray\", \"lightgrey\", \"darkgray\", \"lightgrey\", \"darkgray\", \"lightgrey\"]]}, \"line\": {\"color\": \"white\"}, \"values\": [[0.0, 0.25, 0.5, 0.75, 1.0, 1.25, 1.5, 1.75, 2.0, 2.25, 2.5, 2.75, 3.0, 3.25, 3.5, 3.75, 4.0, 4.25, 4.5, 4.75, 5.0], [126.33, 120.82, 115.04, 109.08, 103.0, 96.86, 90.71, 84.58, 78.54, 72.64, 66.95, 61.55, 56.56, 52.21, 48.48, 45.25, 42.42, 39.92, 37.7, 35.72, 33.93], [30.75, 36.26, 42.04, 48.0, 54.08, 60.22, 66.37, 72.5, 78.54, 84.44, 90.13, 95.53, 100.52, 104.87, 108.6, 111.83, 114.66, 117.16, 119.38, 121.36, 123.15], [80.42, 76.92, 73.24, 69.44, 65.57, 61.66, 57.75, 53.85, 50.0, 46.24, 42.62, 39.18, 36.01, 33.24, 30.86, 28.81, 27.01, 25.41, 24.0, 22.74, 21.6], [19.58, 23.08, 26.76, 30.56, 34.43, 38.34, 42.25, 46.15, 50.0, 53.76, 57.38, 60.82, 63.99, 66.76, 69.14, 71.19, 72.99, 74.59, 76.0, 77.26, 78.4]]}, \"domain\": {\"x\": [0.6285, 0.94], \"y\": [0.0, 1.0]}, \"header\": {\"align\": \"right\", \"fill\": {\"color\": \"lightslategray\"}, \"line\": {\"color\": \"white\"}, \"values\": [\"Grade (%)\", \"Liquid (m3)\", \"Air (m3)\", \"Liquid (%)\", \"Air (%)\"]}, \"type\": \"table\"}],\n",
              "                        {\"height\": 500, \"legend\": {\"orientation\": \"h\", \"x\": 0, \"xanchor\": \"left\", \"y\": 1.02, \"yanchor\": \"bottom\"}, \"template\": {\"data\": {\"bar\": [{\"error_x\": {\"color\": \"rgb(36,36,36)\"}, \"error_y\": {\"color\": \"rgb(36,36,36)\"}, \"marker\": {\"line\": {\"color\": \"white\", \"width\": 0.5}}, \"type\": \"bar\"}], \"barpolar\": [{\"marker\": {\"line\": {\"color\": \"white\", \"width\": 0.5}}, \"type\": \"barpolar\"}], \"carpet\": [{\"aaxis\": {\"endlinecolor\": \"rgb(36,36,36)\", \"gridcolor\": \"white\", \"linecolor\": \"white\", \"minorgridcolor\": \"white\", \"startlinecolor\": \"rgb(36,36,36)\"}, \"baxis\": {\"endlinecolor\": \"rgb(36,36,36)\", \"gridcolor\": \"white\", \"linecolor\": \"white\", \"minorgridcolor\": \"white\", \"startlinecolor\": \"rgb(36,36,36)\"}, \"type\": \"carpet\"}], \"choropleth\": [{\"colorbar\": {\"outlinewidth\": 10, \"tickcolor\": \"rgb(36,36,36)\", \"ticklen\": 8, \"ticks\": \"outside\", \"tickwidth\": 2}, \"type\": \"choropleth\"}], \"contour\": [{\"colorbar\": {\"outlinewidth\": 10, \"tickcolor\": \"rgb(36,36,36)\", \"ticklen\": 8, \"ticks\": \"outside\", \"tickwidth\": 2}, \"colorscale\": [[0.0, \"#440154\"], [0.1111111111111111, \"#482878\"], [0.2222222222222222, \"#3e4989\"], [0.3333333333333333, \"#31688e\"], [0.4444444444444444, \"#26828e\"], [0.5555555555555556, \"#1f9e89\"], [0.6666666666666666, \"#35b779\"], [0.7777777777777778, \"#6ece58\"], [0.8888888888888888, \"#b5de2b\"], [1.0, \"#fde725\"]], \"type\": \"contour\"}], \"contourcarpet\": [{\"colorbar\": {\"outlinewidth\": 10, \"tickcolor\": \"rgb(36,36,36)\", \"ticklen\": 8, \"ticks\": \"outside\", \"tickwidth\": 2}, \"type\": \"contourcarpet\"}], \"heatmap\": [{\"colorbar\": {\"outlinewidth\": 10, \"tickcolor\": \"rgb(36,36,36)\", \"ticklen\": 8, \"ticks\": \"outside\", \"tickwidth\": 2}, \"colorscale\": [[0.0, \"#440154\"], [0.1111111111111111, \"#482878\"], [0.2222222222222222, \"#3e4989\"], [0.3333333333333333, \"#31688e\"], [0.4444444444444444, \"#26828e\"], [0.5555555555555556, \"#1f9e89\"], [0.6666666666666666, \"#35b779\"], [0.7777777777777778, \"#6ece58\"], [0.8888888888888888, \"#b5de2b\"], [1.0, \"#fde725\"]], \"type\": \"heatmap\"}], \"heatmapgl\": [{\"colorbar\": {\"outlinewidth\": 10, \"tickcolor\": \"rgb(36,36,36)\", \"ticklen\": 8, \"ticks\": \"outside\", \"tickwidth\": 2}, \"colorscale\": [[0.0, \"#440154\"], [0.1111111111111111, \"#482878\"], [0.2222222222222222, \"#3e4989\"], [0.3333333333333333, \"#31688e\"], [0.4444444444444444, \"#26828e\"], [0.5555555555555556, \"#1f9e89\"], [0.6666666666666666, \"#35b779\"], [0.7777777777777778, \"#6ece58\"], [0.8888888888888888, \"#b5de2b\"], [1.0, \"#fde725\"]], \"type\": \"heatmapgl\"}], \"histogram\": [{\"marker\": {\"line\": {\"color\": \"white\", \"width\": 0.6}}, \"type\": \"histogram\"}], \"histogram2d\": [{\"colorbar\": {\"outlinewidth\": 10, \"tickcolor\": \"rgb(36,36,36)\", \"ticklen\": 8, \"ticks\": \"outside\", \"tickwidth\": 2}, \"colorscale\": [[0.0, \"#440154\"], [0.1111111111111111, \"#482878\"], [0.2222222222222222, \"#3e4989\"], [0.3333333333333333, \"#31688e\"], [0.4444444444444444, \"#26828e\"], [0.5555555555555556, \"#1f9e89\"], [0.6666666666666666, \"#35b779\"], [0.7777777777777778, \"#6ece58\"], [0.8888888888888888, \"#b5de2b\"], [1.0, \"#fde725\"]], \"type\": \"histogram2d\"}], \"histogram2dcontour\": [{\"colorbar\": {\"outlinewidth\": 10, \"tickcolor\": \"rgb(36,36,36)\", \"ticklen\": 8, \"ticks\": \"outside\", \"tickwidth\": 2}, \"colorscale\": [[0.0, \"#440154\"], [0.1111111111111111, \"#482878\"], [0.2222222222222222, \"#3e4989\"], [0.3333333333333333, \"#31688e\"], [0.4444444444444444, \"#26828e\"], [0.5555555555555556, \"#1f9e89\"], [0.6666666666666666, \"#35b779\"], [0.7777777777777778, \"#6ece58\"], [0.8888888888888888, \"#b5de2b\"], [1.0, \"#fde725\"]], \"type\": \"histogram2dcontour\"}], \"mesh3d\": [{\"colorbar\": {\"outlinewidth\": 10, \"tickcolor\": \"rgb(36,36,36)\", \"ticklen\": 8, \"ticks\": \"outside\", \"tickwidth\": 2}, \"type\": \"mesh3d\"}], \"parcoords\": [{\"line\": {\"colorbar\": {\"outlinewidth\": 10, \"tickcolor\": \"rgb(36,36,36)\", \"ticklen\": 8, \"ticks\": \"outside\", \"tickwidth\": 2}}, \"type\": \"parcoords\"}], \"pie\": [{\"automargin\": true, \"type\": \"pie\"}], \"scatter\": [{\"marker\": {\"colorbar\": {\"outlinewidth\": 10, \"tickcolor\": \"rgb(36,36,36)\", \"ticklen\": 8, \"ticks\": \"outside\", \"tickwidth\": 2}}, \"type\": \"scatter\"}], \"scatter3d\": [{\"line\": {\"colorbar\": {\"outlinewidth\": 10, \"tickcolor\": \"rgb(36,36,36)\", \"ticklen\": 8, \"ticks\": \"outside\", \"tickwidth\": 2}}, \"marker\": {\"colorbar\": {\"outlinewidth\": 10, \"tickcolor\": \"rgb(36,36,36)\", \"ticklen\": 8, \"ticks\": \"outside\", \"tickwidth\": 2}}, \"type\": \"scatter3d\"}], \"scattercarpet\": [{\"marker\": {\"colorbar\": {\"outlinewidth\": 10, \"tickcolor\": \"rgb(36,36,36)\", \"ticklen\": 8, \"ticks\": \"outside\", \"tickwidth\": 2}}, \"type\": \"scattercarpet\"}], \"scattergeo\": [{\"marker\": {\"colorbar\": {\"outlinewidth\": 10, \"tickcolor\": \"rgb(36,36,36)\", \"ticklen\": 8, \"ticks\": \"outside\", \"tickwidth\": 2}}, \"type\": \"scattergeo\"}], \"scattergl\": [{\"marker\": {\"colorbar\": {\"outlinewidth\": 10, \"tickcolor\": \"rgb(36,36,36)\", \"ticklen\": 8, \"ticks\": \"outside\", \"tickwidth\": 2}}, \"type\": \"scattergl\"}], \"scattermapbox\": [{\"marker\": {\"colorbar\": {\"outlinewidth\": 10, \"tickcolor\": \"rgb(36,36,36)\", \"ticklen\": 8, \"ticks\": \"outside\", \"tickwidth\": 2}}, \"type\": \"scattermapbox\"}], \"scatterpolar\": [{\"marker\": {\"colorbar\": {\"outlinewidth\": 10, \"tickcolor\": \"rgb(36,36,36)\", \"ticklen\": 8, \"ticks\": \"outside\", \"tickwidth\": 2}}, \"type\": \"scatterpolar\"}], \"scatterpolargl\": [{\"marker\": {\"colorbar\": {\"outlinewidth\": 10, \"tickcolor\": \"rgb(36,36,36)\", \"ticklen\": 8, \"ticks\": \"outside\", \"tickwidth\": 2}}, \"type\": \"scatterpolargl\"}], \"scatterternary\": [{\"marker\": {\"colorbar\": {\"outlinewidth\": 10, \"tickcolor\": \"rgb(36,36,36)\", \"ticklen\": 8, \"ticks\": \"outside\", \"tickwidth\": 2}}, \"type\": \"scatterternary\"}], \"surface\": [{\"colorbar\": {\"outlinewidth\": 10, \"tickcolor\": \"rgb(36,36,36)\", \"ticklen\": 8, \"ticks\": \"outside\", \"tickwidth\": 2}, \"colorscale\": [[0.0, \"#440154\"], [0.1111111111111111, \"#482878\"], [0.2222222222222222, \"#3e4989\"], [0.3333333333333333, \"#31688e\"], [0.4444444444444444, \"#26828e\"], [0.5555555555555556, \"#1f9e89\"], [0.6666666666666666, \"#35b779\"], [0.7777777777777778, \"#6ece58\"], [0.8888888888888888, \"#b5de2b\"], [1.0, \"#fde725\"]], \"type\": \"surface\"}], \"table\": [{\"cells\": {\"fill\": {\"color\": \"rgb(237,237,237)\"}, \"line\": {\"color\": \"white\"}}, \"header\": {\"fill\": {\"color\": \"rgb(217,217,217)\"}, \"line\": {\"color\": \"white\"}}, \"type\": \"table\"}]}, \"layout\": {\"annotationdefaults\": {\"arrowhead\": 0, \"arrowwidth\": 1}, \"coloraxis\": {\"colorbar\": {\"outlinewidth\": 10, \"tickcolor\": \"rgb(36,36,36)\", \"ticklen\": 8, \"ticks\": \"outside\", \"tickwidth\": 2}}, \"colorscale\": {\"diverging\": [[0.0, \"rgb(103,0,31)\"], [0.1, \"rgb(178,24,43)\"], [0.2, \"rgb(214,96,77)\"], [0.3, \"rgb(244,165,130)\"], [0.4, \"rgb(253,219,199)\"], [0.5, \"rgb(247,247,247)\"], [0.6, \"rgb(209,229,240)\"], [0.7, \"rgb(146,197,222)\"], [0.8, \"rgb(67,147,195)\"], [0.9, \"rgb(33,102,172)\"], [1.0, \"rgb(5,48,97)\"]], \"sequential\": [[0.0, \"#440154\"], [0.1111111111111111, \"#482878\"], [0.2222222222222222, \"#3e4989\"], [0.3333333333333333, \"#31688e\"], [0.4444444444444444, \"#26828e\"], [0.5555555555555556, \"#1f9e89\"], [0.6666666666666666, \"#35b779\"], [0.7777777777777778, \"#6ece58\"], [0.8888888888888888, \"#b5de2b\"], [1.0, \"#fde725\"]], \"sequentialminus\": [[0.0, \"#440154\"], [0.1111111111111111, \"#482878\"], [0.2222222222222222, \"#3e4989\"], [0.3333333333333333, \"#31688e\"], [0.4444444444444444, \"#26828e\"], [0.5555555555555556, \"#1f9e89\"], [0.6666666666666666, \"#35b779\"], [0.7777777777777778, \"#6ece58\"], [0.8888888888888888, \"#b5de2b\"], [1.0, \"#fde725\"]]}, \"colorway\": [\"#1F77B4\", \"#FF7F0E\", \"#2CA02C\", \"#D62728\", \"#9467BD\", \"#8C564B\", \"#E377C2\", \"#7F7F7F\", \"#BCBD22\", \"#17BECF\"], \"font\": {\"color\": \"rgb(36,36,36)\"}, \"geo\": {\"bgcolor\": \"white\", \"lakecolor\": \"white\", \"landcolor\": \"white\", \"showlakes\": true, \"showland\": true, \"subunitcolor\": \"white\"}, \"hoverlabel\": {\"align\": \"left\"}, \"hovermode\": \"closest\", \"mapbox\": {\"style\": \"light\"}, \"paper_bgcolor\": \"white\", \"plot_bgcolor\": \"white\", \"polar\": {\"angularaxis\": {\"gridcolor\": \"rgb(232,232,232)\", \"linecolor\": \"rgb(36,36,36)\", \"showgrid\": false, \"showline\": true, \"ticks\": \"outside\"}, \"bgcolor\": \"white\", \"radialaxis\": {\"gridcolor\": \"rgb(232,232,232)\", \"linecolor\": \"rgb(36,36,36)\", \"showgrid\": false, \"showline\": true, \"ticks\": \"outside\"}}, \"scene\": {\"xaxis\": {\"backgroundcolor\": \"white\", \"gridcolor\": \"rgb(232,232,232)\", \"gridwidth\": 2, \"linecolor\": \"rgb(36,36,36)\", \"showbackground\": true, \"showgrid\": false, \"showline\": true, \"ticks\": \"outside\", \"zeroline\": false, \"zerolinecolor\": \"rgb(36,36,36)\"}, \"yaxis\": {\"backgroundcolor\": \"white\", \"gridcolor\": \"rgb(232,232,232)\", \"gridwidth\": 2, \"linecolor\": \"rgb(36,36,36)\", \"showbackground\": true, \"showgrid\": false, \"showline\": true, \"ticks\": \"outside\", \"zeroline\": false, \"zerolinecolor\": \"rgb(36,36,36)\"}, \"zaxis\": {\"backgroundcolor\": \"white\", \"gridcolor\": \"rgb(232,232,232)\", \"gridwidth\": 2, \"linecolor\": \"rgb(36,36,36)\", \"showbackground\": true, \"showgrid\": false, \"showline\": true, \"ticks\": \"outside\", \"zeroline\": false, \"zerolinecolor\": \"rgb(36,36,36)\"}}, \"shapedefaults\": {\"fillcolor\": \"black\", \"line\": {\"width\": 0}, \"opacity\": 0.3}, \"ternary\": {\"aaxis\": {\"gridcolor\": \"rgb(232,232,232)\", \"linecolor\": \"rgb(36,36,36)\", \"showgrid\": false, \"showline\": true, \"ticks\": \"outside\"}, \"baxis\": {\"gridcolor\": \"rgb(232,232,232)\", \"linecolor\": \"rgb(36,36,36)\", \"showgrid\": false, \"showline\": true, \"ticks\": \"outside\"}, \"bgcolor\": \"white\", \"caxis\": {\"gridcolor\": \"rgb(232,232,232)\", \"linecolor\": \"rgb(36,36,36)\", \"showgrid\": false, \"showline\": true, \"ticks\": \"outside\"}}, \"title\": {\"x\": 0.05}, \"xaxis\": {\"automargin\": true, \"gridcolor\": \"rgb(232,232,232)\", \"linecolor\": \"rgb(36,36,36)\", \"showgrid\": false, \"showline\": true, \"ticks\": \"outside\", \"title\": {\"standoff\": 15}, \"zeroline\": false, \"zerolinecolor\": \"rgb(36,36,36)\"}, \"yaxis\": {\"automargin\": true, \"gridcolor\": \"rgb(232,232,232)\", \"linecolor\": \"rgb(36,36,36)\", \"showgrid\": false, \"showline\": true, \"ticks\": \"outside\", \"title\": {\"standoff\": 15}, \"zeroline\": false, \"zerolinecolor\": \"rgb(36,36,36)\"}}}, \"title\": {\"text\": \"Air/Liquid Volume Split at Various Grades\"}, \"xaxis\": {\"anchor\": \"y\", \"domain\": [0.0, 0.5784999999999999], \"showspikes\": true, \"spikecolor\": \"green\", \"spikemode\": \"across\", \"spikesnap\": \"cursor\", \"spikethickness\": 2, \"title\": {\"text\": \"Grade (%)\"}}, \"yaxis\": {\"anchor\": \"x\", \"domain\": [0.0, 1.0], \"range\": [0, 100], \"showspikes\": true, \"side\": \"right\", \"spikecolor\": \"green\", \"spikemode\": \"across\", \"spikesnap\": \"cursor\", \"spikethickness\": 2, \"title\": {\"text\": \"% Pipe Volume\"}}, \"yaxis2\": {\"anchor\": \"free\", \"overlaying\": \"y\", \"showspikes\": true, \"side\": \"left\", \"spikecolor\": \"green\", \"spikemode\": \"across\", \"spikesnap\": \"cursor\", \"spikethickness\": 2, \"title\": {\"text\": \"$\\\\text {Pipe Volume} \\\\: (m^3)$\"}}},\n",
              "                        {\"responsive\": true}\n",
              "                    ).then(function(){\n",
              "                            \n",
              "var gd = document.getElementById('66101c64-9325-4f72-b78d-f02ad81cfc3c');\n",
              "var x = new MutationObserver(function (mutations, observer) {{\n",
              "        var display = window.getComputedStyle(gd).display;\n",
              "        if (!display || display === 'none') {{\n",
              "            console.log([gd, 'removed!']);\n",
              "            Plotly.purge(gd);\n",
              "            observer.disconnect();\n",
              "        }}\n",
              "}});\n",
              "\n",
              "// Listen for the removal of the full notebook cells\n",
              "var notebookContainer = gd.closest('#notebook-container');\n",
              "if (notebookContainer) {{\n",
              "    x.observe(notebookContainer, {childList: true});\n",
              "}}\n",
              "\n",
              "// Listen for the clearing of the current output cell\n",
              "var outputEl = gd.closest('.output');\n",
              "if (outputEl) {{\n",
              "    x.observe(outputEl, {childList: true});\n",
              "}}\n",
              "\n",
              "                        })\n",
              "                };\n",
              "                \n",
              "            </script>\n",
              "        </div>\n",
              "</body>\n",
              "</html>"
            ]
          },
          "metadata": {}
        }
      ]
    },
    {
      "cell_type": "code",
      "metadata": {
        "id": "ioIc_Kq-M9Vw"
      },
      "source": [
        ""
      ],
      "execution_count": 73,
      "outputs": []
    }
  ]
}