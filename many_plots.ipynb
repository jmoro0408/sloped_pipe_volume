{
  "nbformat": 4,
  "nbformat_minor": 0,
  "metadata": {
    "colab": {
      "name": "many_plots.ipynb",
      "provenance": [],
      "collapsed_sections": [],
      "authorship_tag": "ABX9TyPK6ieVNztCM/7xKVL+ZqHl",
      "include_colab_link": true
    },
    "kernelspec": {
      "name": "python3",
      "display_name": "Python 3"
    },
    "language_info": {
      "name": "python"
    }
  },
  "cells": [
    {
      "cell_type": "markdown",
      "metadata": {
        "id": "view-in-github",
        "colab_type": "text"
      },
      "source": [
        "<a href=\"https://colab.research.google.com/github/jmoro0408/sloped_pipe_volume/blob/main/many_plots.ipynb\" target=\"_parent\"><img src=\"https://colab.research.google.com/assets/colab-badge.svg\" alt=\"Open In Colab\"/></a>"
      ]
    },
    {
      "cell_type": "markdown",
      "metadata": {
        "id": "BObLd5mmDMtx"
      },
      "source": [
        "# TODO\n",
        "\n",
        "* Add case where pipe is partially compeltely full"
      ]
    },
    {
      "cell_type": "code",
      "metadata": {
        "id": "LBt0xadom8B2"
      },
      "source": [
        "import numpy as np\n",
        "import pandas as pd\n",
        "import plotly.graph_objects as go\n",
        "from plotly.subplots import make_subplots\n",
        "import warnings\n",
        "pd.options.mode.chained_assignment = None  # default='warn' #disable pandas companing about creating a copy of a df\n",
        "#warnings.filterwarnings('ignore')"
      ],
      "execution_count": 1,
      "outputs": []
    },
    {
      "cell_type": "code",
      "metadata": {
        "id": "0S2sreA-LmqH"
      },
      "source": [
        "# initial values\n",
        "initial_grade_percent = 0.1 #inital grade value\n",
        "maximum_grade_value = 5 #maximum grade (%) to plot \n",
        "no_grades = 20 #grades will range equally between inital grade value and maximum grade value by this many points\n",
        "pipe_length = 200\n",
        "no_points_to_plot = 100\n",
        "pipe_diameter = 2 \n",
        "pipe_invert_start = 0 #pipe invert at pipe end\n",
        "lower_liquid_level = 1 #liquid level at pipe end\n",
        "\n"
      ],
      "execution_count": 2,
      "outputs": []
    },
    {
      "cell_type": "code",
      "metadata": {
        "id": "K8LPvcsjVl2F"
      },
      "source": [
        "pipe_chainage = np.linspace(0, pipe_length, no_points_to_plot).tolist()\n",
        "pipe_chainage = [round(elem) for elem in pipe_chainage]"
      ],
      "execution_count": 3,
      "outputs": []
    },
    {
      "cell_type": "code",
      "metadata": {
        "id": "JGShLQnTpIaX"
      },
      "source": [
        "def calculate_tilt_angle(initial_grade_percent):\n",
        "  tilt_angle = np.arctan(initial_grade_percent / 100)\n",
        "  tilt_angle = np.degrees(tilt_angle)\n",
        "  return tilt_angle\n",
        "\n",
        "def calculate_pipe_upper_invert(pipe_invert_elev,tilt_angle,pipe_length):\n",
        "  pipe_upper_invert = np.tan(np.radians(tilt_angle)) * pipe_length + pipe_invert_elev\n",
        "  return pipe_upper_invert\n",
        "\n",
        "def calculate_upper_liquid_level(lower_liquid_level, tilt_angle, pipe_length):\n",
        "  upper_liquid_level = lower_liquid_level\n",
        "  return upper_liquid_level\n",
        "\n",
        "def calculate_sloped_pipe_volume(pipe_diameter, tilt_angle, pipe_length, lower_liquid_level):\n",
        "  pipe_radius = pipe_diameter/2\n",
        "  tilt_angle=np.radians(tilt_angle)\n",
        "  _upper_liquid_level = lower_liquid_level - (pipe_length *np.tan(tilt_angle))\n",
        "\n",
        "  # \"normal\" case, where both ends have some liquid\n",
        "  if _upper_liquid_level > 0 :\n",
        "\n",
        "    _h0 = _upper_liquid_level\n",
        "    _lf = pipe_length\n",
        "  \n",
        "  # upper end has no liquid - liquid does not reach end of pipe\n",
        "  else:\n",
        "    #lower_liquid_level = 0\n",
        "    _lf = pipe_length + _upper_liquid_level/np.tan(tilt_angle)\n",
        "    _h0 = 0\n",
        "    assert _lf < pipe_length, \"Liquid fill length cannot be greater than pipe length\"\n",
        "\n",
        "  _h1 = _h0 + (_lf * np.tan(tilt_angle))\n",
        "  # Case where pipe is (at least) partially completely full. \n",
        "  if _h1 > pipe_diameter:\n",
        "    _lt = (_h1 - pipe_diameter) / np.tan(tilt_angle)\n",
        "  else:\n",
        "    _lt = 0\n",
        "\n",
        "  _pipe_length = _lf - _lt\n",
        "  assert _h0 >= 0, \"_h0 must be positive\"\n",
        "\n",
        "  _k = 1 - (_h0/pipe_radius)\n",
        "  _c = _k - ((_pipe_length * np.tan(tilt_angle))/pipe_radius)\n",
        "  \n",
        "  integral0 = pipe_radius**3 / np.tan(tilt_angle)\n",
        "  integral1 = _k* np.arccos(_k)\n",
        "  integral2 = (1/3) * (np.sqrt(1 - (_k**2))) * (_k**2 +2)\n",
        "  integral3 = _c * np.arccos(_c)\n",
        "  integral4 = (1/3) * (np.sqrt(1 - (_c**2))) * (_c**2 +2)\n",
        "  volume = integral0 * (integral1 - integral2 - integral3 + integral4)\n",
        "  \n",
        "  if (pipe_radius == lower_liquid_level) and (tilt_angle == 0): #Pipe is exactly half full and no slope\n",
        "    volume = (pipe_length * np.pi * pipe_radius **2)/2\n",
        "  return volume\n"
      ],
      "execution_count": 4,
      "outputs": []
    },
    {
      "cell_type": "code",
      "metadata": {
        "id": "i-zByIlnFhs2"
      },
      "source": [
        "tilt_angle = calculate_tilt_angle(initial_grade_percent)\n",
        "upper_pipe_invert = calculate_pipe_upper_invert(pipe_invert_start,tilt_angle,pipe_length)\n",
        "upper_liquid_level = calculate_upper_liquid_level(lower_liquid_level, tilt_angle, pipe_length)"
      ],
      "execution_count": 5,
      "outputs": []
    },
    {
      "cell_type": "code",
      "metadata": {
        "id": "T7IkAkNb0jZt"
      },
      "source": [
        "#create x points along the chainage\n",
        "pipe_invert_points = np.linspace(pipe_invert_start, upper_pipe_invert, no_points_to_plot)"
      ],
      "execution_count": 6,
      "outputs": []
    },
    {
      "cell_type": "markdown",
      "metadata": {
        "id": "PwOahy9nMkFx"
      },
      "source": [
        "# multiple plots"
      ]
    },
    {
      "cell_type": "markdown",
      "metadata": {
        "id": "df8272zwMyQa"
      },
      "source": [
        "Need to create plot lines for each grade percentage in slider list"
      ]
    },
    {
      "cell_type": "code",
      "metadata": {
        "id": "bsT8P2fIroT2"
      },
      "source": [
        "initial_grade_percent_list = np.linspace(0, maximum_grade_value, no_grades) #this will be the slider eventually\n",
        "initial_grade_percent_list = np.round(initial_grade_percent_list, 2)"
      ],
      "execution_count": 7,
      "outputs": []
    },
    {
      "cell_type": "code",
      "metadata": {
        "id": "zxm80EhVnNBO"
      },
      "source": [
        "#Building a dictionary that holdes the grade and every respective pipe invert y coordinate \n",
        "pipe_invert_dict = {}\n",
        "for grade in initial_grade_percent_list:\n",
        "  _tilt_angle = calculate_tilt_angle(grade)\n",
        "  _upper_pipe_invert = calculate_pipe_upper_invert(pipe_invert_start, _tilt_angle,pipe_length)\n",
        "  _pipe_invert_points = np.linspace(pipe_invert_start, _upper_pipe_invert, no_points_to_plot)\n",
        "  _pipe_invert_points = np.round(_pipe_invert_points, 2)\n",
        "  _pipe_invert_points = _pipe_invert_points.tolist()\n",
        "  pipe_invert_dict.update({grade:_pipe_invert_points})\n"
      ],
      "execution_count": 8,
      "outputs": []
    },
    {
      "cell_type": "code",
      "metadata": {
        "id": "zKvcfSZF0HSJ"
      },
      "source": [
        "#Building a dictionary that holdes the grade and every respective pipe crown y coordinate \n",
        "# The pipe crown is just the invert + the pipe diameter, so this is easy to build from the invert dict\n",
        "pipe_crown_dict = {}\n",
        "for key, values in pipe_invert_dict.items():\n",
        "  _crown_value = [value + pipe_diameter for value in values]\n",
        "  _crown_value = [round(value, 2) for value in _crown_value]\n",
        "  pipe_crown_dict.update({key:_crown_value})\n"
      ],
      "execution_count": 9,
      "outputs": []
    },
    {
      "cell_type": "code",
      "metadata": {
        "id": "T7S2CX30RYYZ"
      },
      "source": [
        "# Building a dict to hold the respective upper liquid levels at every grade. This is just equal to the lower level as the water level does not move\n",
        "liquid_level_dict = {}\n",
        "for grade in initial_grade_percent_list:\n",
        "  liquid_level_dict.update({grade: [lower_liquid_level] * no_points_to_plot})\n",
        "\n",
        "# for grade in initial_grade_percent_list:\n",
        "#   _tilt_angle = calculate_tilt_angle(grade)\n",
        "#   _upper_liquid_level = calculate_upper_liquid_level(lower_liquid_level, _tilt_angle, pipe_length)\n",
        "#   _upper_liquid_level_points = np.linspace(lower_liquid_level,_upper_liquid_level,  no_points_to_plot)\n",
        "#   _upper_liquid_level_points = _upper_liquid_level_points.tolist()\n",
        "#   liquid_level_dict.update({grade:_upper_liquid_level_points})\n",
        "\n"
      ],
      "execution_count": 10,
      "outputs": []
    },
    {
      "cell_type": "code",
      "metadata": {
        "id": "wVJmFhwjnPPQ"
      },
      "source": [
        "\"\"\"this one is tricky. Trying to make sure any point where the liquid level is below the pipe invert is not plotted. \n",
        "\n",
        "I think there is a neater way to do this but I tried going directly to the go.Figure() object, and to the individual dicts but\n",
        "got lost navigating the nested stucture. This way works for now. \n",
        "\"\"\"\n",
        "\n",
        "pipe_invert_df = pd.DataFrame.from_dict(pipe_invert_dict) #create dataframes from both dicts\n",
        "liquid_level_df = pd.DataFrame.from_dict(liquid_level_dict)\n",
        "\n",
        "for column in pipe_invert_df:\n",
        "  for index in pipe_invert_df.index:\n",
        "    if liquid_level_df[column].iloc[index] < pipe_invert_df[column].iloc[index]: # if liquid level < pipe invert, replace with NaN\n",
        "      liquid_level_df[column].iloc[index] = np.nan\n",
        "\n",
        "liquid_level_dict = liquid_level_df.to_dict(orient = \"list\")\n",
        "\n",
        "del pipe_invert_df, liquid_level_df #dont need these dataframes anymore"
      ],
      "execution_count": 11,
      "outputs": []
    },
    {
      "cell_type": "code",
      "metadata": {
        "id": "xxpHXkiOJy_4"
      },
      "source": [
        "fig1 = go.Figure()\n",
        "trace_list1 = []\n",
        "trace_list2 = []\n",
        "trace_list3 = []\n",
        "for grade in pipe_invert_dict.keys():\n",
        "  _tilt_angle = round(calculate_tilt_angle(grade),2)\n",
        "  trace_list1.append(go.Scatter(visible = False, \n",
        "                                x=pipe_chainage, \n",
        "                                y=pipe_invert_dict[grade], \n",
        "                                name = \"Pipe Invert\",\n",
        "                                showlegend=False, \n",
        "                                line=dict(color='gray', width=2)))\n",
        "  \n",
        "  trace_list2.append(go.Scatter(visible = False, \n",
        "                                x=pipe_chainage, \n",
        "                                y=pipe_crown_dict[grade], \n",
        "                                name = \"Pipe Crown\",\n",
        "                                showlegend=False, \n",
        "                                line=dict(color='gray', width=2)))\n",
        "  \n",
        "  trace_list3.append(go.Scatter(visible = False, \n",
        "                                x=pipe_chainage, \n",
        "                                y=liquid_level_dict[grade], \n",
        "                                name = \"Liquid Level\", \n",
        "                                line=dict(color='royalblue', width=2)))"
      ],
      "execution_count": 12,
      "outputs": []
    },
    {
      "cell_type": "code",
      "metadata": {
        "colab": {
          "base_uri": "https://localhost:8080/",
          "height": 542
        },
        "id": "q9O4DqLnqSeb",
        "outputId": "8d8eb7d7-36b6-4793-8577-ca724a169b07"
      },
      "source": [
        "#Building the slider\n",
        "# in order to capture both the crown and invert moving together with a singler slider step we need to append both traces to a single list\n",
        "\n",
        "num_steps = len(initial_grade_percent_list) #each step = a different grade\n",
        "fig2 = go.Figure(data = trace_list1 + trace_list2+trace_list3)\n",
        "\n",
        "#have to be really careful here. You want the slider to be aware of the ordering of traces, see https://community.plotly.com/t/multiple-traces-with-a-single-slider-in-plotly/16356\n",
        "\n",
        "fig2.data[0].visible = True #this is the pipe invert data\n",
        "fig2.data[num_steps].visible = True #pipe crown data\n",
        "fig2.data[num_steps*2].visible = True #liquid level data\n",
        "\n",
        "\n",
        "# Set initial slider/title index\n",
        "start_index = 0\n",
        "\n",
        "steps = []\n",
        "for i in range(num_steps):\n",
        "  current_grade_value = round(initial_grade_percent_list[i], 2)\n",
        "  step = dict(\n",
        "      method=\"update\", \n",
        "      args = [\n",
        "              {\"visible\":[False] * len(fig2.data)}, \n",
        "              {\"title\":f\"Liquid Level Along Pipe at {current_grade_value} % Grade\"}, \n",
        "              ], \n",
        "              label=str(round(list(pipe_invert_dict.keys())[i],2)))\n",
        "  \n",
        "  step[\"args\"][start_index][\"visible\"][i] = True  # Toggle i'th trace to \"visible\" - pipe invert\n",
        "  step[\"args\"][start_index][\"visible\"][i+num_steps] = True #pipe crown\n",
        "  step[\"args\"][start_index][\"visible\"][i+num_steps*2] = True #liquid level\n",
        "  steps.append(step)\n",
        "\n",
        "sliders = [dict( \n",
        "    active=initial_grade_percent,\n",
        "    currentvalue={\"prefix\": \"Grade: \", \"suffix\": \" %\"},\n",
        "    pad={\"t\": 50},\n",
        "    steps=steps\n",
        ")]\n",
        "\n",
        "fig2.update_layout(\n",
        "    template = \"simple_white\", \n",
        "    title=f\"Liquid Level Along Pipe at {start_index} % Grade\",\n",
        "    xaxis_title=\"Pipe Chainage (m)\",\n",
        "    yaxis_title=\"Elevation (mGeodetic)\",\n",
        "    sliders=sliders,\n",
        "  #Legend info \n",
        "    legend=dict(\n",
        "    orientation=\"h\",\n",
        "    yanchor=\"bottom\",\n",
        "    y=1.02,\n",
        "    xanchor=\"right\",\n",
        "    x=1),\n",
        ")\n",
        "\n",
        "\n",
        "\n",
        "fig2.update_yaxes(range=[min(min(pipe_invert_dict.values()))-1,max(max(pipe_crown_dict.values()))]) #have to lock the y axis, otherwise the axis just updates and the line doesnt \"move\"\n",
        "fig2.update_xaxes(showspikes=True, spikecolor=\"green\", spikesnap=\"cursor\", spikemode=\"across\")\n",
        "fig2.update_yaxes(showspikes=True,spikecolor=\"green\")\n",
        "\n",
        "fig2.show()\n",
        "\n"
      ],
      "execution_count": 13,
      "outputs": [
        {
          "output_type": "display_data",
          "data": {
            "text/html": [
              "<html>\n",
              "<head><meta charset=\"utf-8\" /></head>\n",
              "<body>\n",
              "    <div>\n",
              "            <script src=\"https://cdnjs.cloudflare.com/ajax/libs/mathjax/2.7.5/MathJax.js?config=TeX-AMS-MML_SVG\"></script><script type=\"text/javascript\">if (window.MathJax) {MathJax.Hub.Config({SVG: {font: \"STIX-Web\"}});}</script>\n",
              "                <script type=\"text/javascript\">window.PlotlyConfig = {MathJaxConfig: 'local'};</script>\n",
              "        <script src=\"https://cdn.plot.ly/plotly-latest.min.js\"></script>    \n",
              "            <div id=\"f85bf77f-d2ed-47f0-b628-e1cdbe0e1d59\" class=\"plotly-graph-div\" style=\"height:525px; width:100%;\"></div>\n",
              "            <script type=\"text/javascript\">\n",
              "                \n",
              "                    window.PLOTLYENV=window.PLOTLYENV || {};\n",
              "                    \n",
              "                if (document.getElementById(\"f85bf77f-d2ed-47f0-b628-e1cdbe0e1d59\")) {\n",
              "                    Plotly.newPlot(\n",
              "                        'f85bf77f-d2ed-47f0-b628-e1cdbe0e1d59',\n",
              "                        [{\"line\": {\"color\": \"gray\", \"width\": 2}, \"name\": \"Pipe Invert\", \"showlegend\": false, \"type\": \"scatter\", \"visible\": true, \"x\": [0, 2, 4, 6, 8, 10, 12, 14, 16, 18, 20, 22, 24, 26, 28, 30, 32, 34, 36, 38, 40, 42, 44, 46, 48, 51, 53, 55, 57, 59, 61, 63, 65, 67, 69, 71, 73, 75, 77, 79, 81, 83, 85, 87, 89, 91, 93, 95, 97, 99, 101, 103, 105, 107, 109, 111, 113, 115, 117, 119, 121, 123, 125, 127, 129, 131, 133, 135, 137, 139, 141, 143, 145, 147, 149, 152, 154, 156, 158, 160, 162, 164, 166, 168, 170, 172, 174, 176, 178, 180, 182, 184, 186, 188, 190, 192, 194, 196, 198, 200], \"y\": [0.0, 0.0, 0.0, 0.0, 0.0, 0.0, 0.0, 0.0, 0.0, 0.0, 0.0, 0.0, 0.0, 0.0, 0.0, 0.0, 0.0, 0.0, 0.0, 0.0, 0.0, 0.0, 0.0, 0.0, 0.0, 0.0, 0.0, 0.0, 0.0, 0.0, 0.0, 0.0, 0.0, 0.0, 0.0, 0.0, 0.0, 0.0, 0.0, 0.0, 0.0, 0.0, 0.0, 0.0, 0.0, 0.0, 0.0, 0.0, 0.0, 0.0, 0.0, 0.0, 0.0, 0.0, 0.0, 0.0, 0.0, 0.0, 0.0, 0.0, 0.0, 0.0, 0.0, 0.0, 0.0, 0.0, 0.0, 0.0, 0.0, 0.0, 0.0, 0.0, 0.0, 0.0, 0.0, 0.0, 0.0, 0.0, 0.0, 0.0, 0.0, 0.0, 0.0, 0.0, 0.0, 0.0, 0.0, 0.0, 0.0, 0.0, 0.0, 0.0, 0.0, 0.0, 0.0, 0.0, 0.0, 0.0, 0.0, 0.0]}, {\"line\": {\"color\": \"gray\", \"width\": 2}, \"name\": \"Pipe Invert\", \"showlegend\": false, \"type\": \"scatter\", \"visible\": false, \"x\": [0, 2, 4, 6, 8, 10, 12, 14, 16, 18, 20, 22, 24, 26, 28, 30, 32, 34, 36, 38, 40, 42, 44, 46, 48, 51, 53, 55, 57, 59, 61, 63, 65, 67, 69, 71, 73, 75, 77, 79, 81, 83, 85, 87, 89, 91, 93, 95, 97, 99, 101, 103, 105, 107, 109, 111, 113, 115, 117, 119, 121, 123, 125, 127, 129, 131, 133, 135, 137, 139, 141, 143, 145, 147, 149, 152, 154, 156, 158, 160, 162, 164, 166, 168, 170, 172, 174, 176, 178, 180, 182, 184, 186, 188, 190, 192, 194, 196, 198, 200], \"y\": [0.0, 0.01, 0.01, 0.02, 0.02, 0.03, 0.03, 0.04, 0.04, 0.05, 0.05, 0.06, 0.06, 0.07, 0.07, 0.08, 0.08, 0.09, 0.09, 0.1, 0.11, 0.11, 0.12, 0.12, 0.13, 0.13, 0.14, 0.14, 0.15, 0.15, 0.16, 0.16, 0.17, 0.17, 0.18, 0.18, 0.19, 0.19, 0.2, 0.2, 0.21, 0.22, 0.22, 0.23, 0.23, 0.24, 0.24, 0.25, 0.25, 0.26, 0.26, 0.27, 0.27, 0.28, 0.28, 0.29, 0.29, 0.3, 0.3, 0.31, 0.32, 0.32, 0.33, 0.33, 0.34, 0.34, 0.35, 0.35, 0.36, 0.36, 0.37, 0.37, 0.38, 0.38, 0.39, 0.39, 0.4, 0.4, 0.41, 0.41, 0.42, 0.43, 0.43, 0.44, 0.44, 0.45, 0.45, 0.46, 0.46, 0.47, 0.47, 0.48, 0.48, 0.49, 0.49, 0.5, 0.5, 0.51, 0.51, 0.52]}, {\"line\": {\"color\": \"gray\", \"width\": 2}, \"name\": \"Pipe Invert\", \"showlegend\": false, \"type\": \"scatter\", \"visible\": false, \"x\": [0, 2, 4, 6, 8, 10, 12, 14, 16, 18, 20, 22, 24, 26, 28, 30, 32, 34, 36, 38, 40, 42, 44, 46, 48, 51, 53, 55, 57, 59, 61, 63, 65, 67, 69, 71, 73, 75, 77, 79, 81, 83, 85, 87, 89, 91, 93, 95, 97, 99, 101, 103, 105, 107, 109, 111, 113, 115, 117, 119, 121, 123, 125, 127, 129, 131, 133, 135, 137, 139, 141, 143, 145, 147, 149, 152, 154, 156, 158, 160, 162, 164, 166, 168, 170, 172, 174, 176, 178, 180, 182, 184, 186, 188, 190, 192, 194, 196, 198, 200], \"y\": [0.0, 0.01, 0.02, 0.03, 0.04, 0.05, 0.06, 0.07, 0.09, 0.1, 0.11, 0.12, 0.13, 0.14, 0.15, 0.16, 0.17, 0.18, 0.19, 0.2, 0.21, 0.22, 0.24, 0.25, 0.26, 0.27, 0.28, 0.29, 0.3, 0.31, 0.32, 0.33, 0.34, 0.35, 0.36, 0.37, 0.39, 0.4, 0.41, 0.42, 0.43, 0.44, 0.45, 0.46, 0.47, 0.48, 0.49, 0.5, 0.51, 0.52, 0.54, 0.55, 0.56, 0.57, 0.58, 0.59, 0.6, 0.61, 0.62, 0.63, 0.64, 0.65, 0.66, 0.67, 0.69, 0.7, 0.71, 0.72, 0.73, 0.74, 0.75, 0.76, 0.77, 0.78, 0.79, 0.8, 0.81, 0.82, 0.84, 0.85, 0.86, 0.87, 0.88, 0.89, 0.9, 0.91, 0.92, 0.93, 0.94, 0.95, 0.96, 0.97, 0.99, 1.0, 1.01, 1.02, 1.03, 1.04, 1.05, 1.06]}, {\"line\": {\"color\": \"gray\", \"width\": 2}, \"name\": \"Pipe Invert\", \"showlegend\": false, \"type\": \"scatter\", \"visible\": false, \"x\": [0, 2, 4, 6, 8, 10, 12, 14, 16, 18, 20, 22, 24, 26, 28, 30, 32, 34, 36, 38, 40, 42, 44, 46, 48, 51, 53, 55, 57, 59, 61, 63, 65, 67, 69, 71, 73, 75, 77, 79, 81, 83, 85, 87, 89, 91, 93, 95, 97, 99, 101, 103, 105, 107, 109, 111, 113, 115, 117, 119, 121, 123, 125, 127, 129, 131, 133, 135, 137, 139, 141, 143, 145, 147, 149, 152, 154, 156, 158, 160, 162, 164, 166, 168, 170, 172, 174, 176, 178, 180, 182, 184, 186, 188, 190, 192, 194, 196, 198, 200], \"y\": [0.0, 0.02, 0.03, 0.05, 0.06, 0.08, 0.1, 0.11, 0.13, 0.14, 0.16, 0.18, 0.19, 0.21, 0.22, 0.24, 0.26, 0.27, 0.29, 0.3, 0.32, 0.34, 0.35, 0.37, 0.38, 0.4, 0.41, 0.43, 0.45, 0.46, 0.48, 0.49, 0.51, 0.53, 0.54, 0.56, 0.57, 0.59, 0.61, 0.62, 0.64, 0.65, 0.67, 0.69, 0.7, 0.72, 0.73, 0.75, 0.77, 0.78, 0.8, 0.81, 0.83, 0.85, 0.86, 0.88, 0.89, 0.91, 0.93, 0.94, 0.96, 0.97, 0.99, 1.01, 1.02, 1.04, 1.05, 1.07, 1.09, 1.1, 1.12, 1.13, 1.15, 1.17, 1.18, 1.2, 1.21, 1.23, 1.24, 1.26, 1.28, 1.29, 1.31, 1.32, 1.34, 1.36, 1.37, 1.39, 1.4, 1.42, 1.44, 1.45, 1.47, 1.48, 1.5, 1.52, 1.53, 1.55, 1.56, 1.58]}, {\"line\": {\"color\": \"gray\", \"width\": 2}, \"name\": \"Pipe Invert\", \"showlegend\": false, \"type\": \"scatter\", \"visible\": false, \"x\": [0, 2, 4, 6, 8, 10, 12, 14, 16, 18, 20, 22, 24, 26, 28, 30, 32, 34, 36, 38, 40, 42, 44, 46, 48, 51, 53, 55, 57, 59, 61, 63, 65, 67, 69, 71, 73, 75, 77, 79, 81, 83, 85, 87, 89, 91, 93, 95, 97, 99, 101, 103, 105, 107, 109, 111, 113, 115, 117, 119, 121, 123, 125, 127, 129, 131, 133, 135, 137, 139, 141, 143, 145, 147, 149, 152, 154, 156, 158, 160, 162, 164, 166, 168, 170, 172, 174, 176, 178, 180, 182, 184, 186, 188, 190, 192, 194, 196, 198, 200], \"y\": [0.0, 0.02, 0.04, 0.06, 0.08, 0.11, 0.13, 0.15, 0.17, 0.19, 0.21, 0.23, 0.25, 0.28, 0.3, 0.32, 0.34, 0.36, 0.38, 0.4, 0.42, 0.45, 0.47, 0.49, 0.51, 0.53, 0.55, 0.57, 0.59, 0.62, 0.64, 0.66, 0.68, 0.7, 0.72, 0.74, 0.76, 0.78, 0.81, 0.83, 0.85, 0.87, 0.89, 0.91, 0.93, 0.95, 0.98, 1.0, 1.02, 1.04, 1.06, 1.08, 1.1, 1.12, 1.15, 1.17, 1.19, 1.21, 1.23, 1.25, 1.27, 1.29, 1.32, 1.34, 1.36, 1.38, 1.4, 1.42, 1.44, 1.46, 1.48, 1.51, 1.53, 1.55, 1.57, 1.59, 1.61, 1.63, 1.65, 1.68, 1.7, 1.72, 1.74, 1.76, 1.78, 1.8, 1.82, 1.85, 1.87, 1.89, 1.91, 1.93, 1.95, 1.97, 1.99, 2.02, 2.04, 2.06, 2.08, 2.1]}, {\"line\": {\"color\": \"gray\", \"width\": 2}, \"name\": \"Pipe Invert\", \"showlegend\": false, \"type\": \"scatter\", \"visible\": false, \"x\": [0, 2, 4, 6, 8, 10, 12, 14, 16, 18, 20, 22, 24, 26, 28, 30, 32, 34, 36, 38, 40, 42, 44, 46, 48, 51, 53, 55, 57, 59, 61, 63, 65, 67, 69, 71, 73, 75, 77, 79, 81, 83, 85, 87, 89, 91, 93, 95, 97, 99, 101, 103, 105, 107, 109, 111, 113, 115, 117, 119, 121, 123, 125, 127, 129, 131, 133, 135, 137, 139, 141, 143, 145, 147, 149, 152, 154, 156, 158, 160, 162, 164, 166, 168, 170, 172, 174, 176, 178, 180, 182, 184, 186, 188, 190, 192, 194, 196, 198, 200], \"y\": [0.0, 0.03, 0.05, 0.08, 0.11, 0.13, 0.16, 0.19, 0.21, 0.24, 0.27, 0.29, 0.32, 0.35, 0.37, 0.4, 0.43, 0.45, 0.48, 0.51, 0.53, 0.56, 0.59, 0.61, 0.64, 0.67, 0.69, 0.72, 0.75, 0.77, 0.8, 0.83, 0.85, 0.88, 0.91, 0.93, 0.96, 0.99, 1.01, 1.04, 1.07, 1.09, 1.12, 1.15, 1.17, 1.2, 1.23, 1.25, 1.28, 1.31, 1.33, 1.36, 1.39, 1.41, 1.44, 1.47, 1.49, 1.52, 1.55, 1.57, 1.6, 1.63, 1.65, 1.68, 1.71, 1.73, 1.76, 1.79, 1.81, 1.84, 1.87, 1.89, 1.92, 1.95, 1.97, 2.0, 2.03, 2.05, 2.08, 2.11, 2.13, 2.16, 2.19, 2.21, 2.24, 2.27, 2.29, 2.32, 2.35, 2.37, 2.4, 2.43, 2.45, 2.48, 2.51, 2.53, 2.56, 2.59, 2.61, 2.64]}, {\"line\": {\"color\": \"gray\", \"width\": 2}, \"name\": \"Pipe Invert\", \"showlegend\": false, \"type\": \"scatter\", \"visible\": false, \"x\": [0, 2, 4, 6, 8, 10, 12, 14, 16, 18, 20, 22, 24, 26, 28, 30, 32, 34, 36, 38, 40, 42, 44, 46, 48, 51, 53, 55, 57, 59, 61, 63, 65, 67, 69, 71, 73, 75, 77, 79, 81, 83, 85, 87, 89, 91, 93, 95, 97, 99, 101, 103, 105, 107, 109, 111, 113, 115, 117, 119, 121, 123, 125, 127, 129, 131, 133, 135, 137, 139, 141, 143, 145, 147, 149, 152, 154, 156, 158, 160, 162, 164, 166, 168, 170, 172, 174, 176, 178, 180, 182, 184, 186, 188, 190, 192, 194, 196, 198, 200], \"y\": [0.0, 0.03, 0.06, 0.1, 0.13, 0.16, 0.19, 0.22, 0.26, 0.29, 0.32, 0.35, 0.38, 0.41, 0.45, 0.48, 0.51, 0.54, 0.57, 0.61, 0.64, 0.67, 0.7, 0.73, 0.77, 0.8, 0.83, 0.86, 0.89, 0.93, 0.96, 0.99, 1.02, 1.05, 1.09, 1.12, 1.15, 1.18, 1.21, 1.24, 1.28, 1.31, 1.34, 1.37, 1.4, 1.44, 1.47, 1.5, 1.53, 1.56, 1.6, 1.63, 1.66, 1.69, 1.72, 1.76, 1.79, 1.82, 1.85, 1.88, 1.92, 1.95, 1.98, 2.01, 2.04, 2.07, 2.11, 2.14, 2.17, 2.2, 2.23, 2.27, 2.3, 2.33, 2.36, 2.39, 2.43, 2.46, 2.49, 2.52, 2.55, 2.59, 2.62, 2.65, 2.68, 2.71, 2.75, 2.78, 2.81, 2.84, 2.87, 2.9, 2.94, 2.97, 3.0, 3.03, 3.06, 3.1, 3.13, 3.16]}, {\"line\": {\"color\": \"gray\", \"width\": 2}, \"name\": \"Pipe Invert\", \"showlegend\": false, \"type\": \"scatter\", \"visible\": false, \"x\": [0, 2, 4, 6, 8, 10, 12, 14, 16, 18, 20, 22, 24, 26, 28, 30, 32, 34, 36, 38, 40, 42, 44, 46, 48, 51, 53, 55, 57, 59, 61, 63, 65, 67, 69, 71, 73, 75, 77, 79, 81, 83, 85, 87, 89, 91, 93, 95, 97, 99, 101, 103, 105, 107, 109, 111, 113, 115, 117, 119, 121, 123, 125, 127, 129, 131, 133, 135, 137, 139, 141, 143, 145, 147, 149, 152, 154, 156, 158, 160, 162, 164, 166, 168, 170, 172, 174, 176, 178, 180, 182, 184, 186, 188, 190, 192, 194, 196, 198, 200], \"y\": [0.0, 0.04, 0.07, 0.11, 0.15, 0.19, 0.22, 0.26, 0.3, 0.33, 0.37, 0.41, 0.45, 0.48, 0.52, 0.56, 0.59, 0.63, 0.67, 0.71, 0.74, 0.78, 0.82, 0.85, 0.89, 0.93, 0.97, 1.0, 1.04, 1.08, 1.12, 1.15, 1.19, 1.23, 1.26, 1.3, 1.34, 1.38, 1.41, 1.45, 1.49, 1.52, 1.56, 1.6, 1.64, 1.67, 1.71, 1.75, 1.78, 1.82, 1.86, 1.9, 1.93, 1.97, 2.01, 2.04, 2.08, 2.12, 2.16, 2.19, 2.23, 2.27, 2.3, 2.34, 2.38, 2.42, 2.45, 2.49, 2.53, 2.56, 2.6, 2.64, 2.68, 2.71, 2.75, 2.79, 2.83, 2.86, 2.9, 2.94, 2.97, 3.01, 3.05, 3.09, 3.12, 3.16, 3.2, 3.23, 3.27, 3.31, 3.35, 3.38, 3.42, 3.46, 3.49, 3.53, 3.57, 3.61, 3.64, 3.68]}, {\"line\": {\"color\": \"gray\", \"width\": 2}, \"name\": \"Pipe Invert\", \"showlegend\": false, \"type\": \"scatter\", \"visible\": false, \"x\": [0, 2, 4, 6, 8, 10, 12, 14, 16, 18, 20, 22, 24, 26, 28, 30, 32, 34, 36, 38, 40, 42, 44, 46, 48, 51, 53, 55, 57, 59, 61, 63, 65, 67, 69, 71, 73, 75, 77, 79, 81, 83, 85, 87, 89, 91, 93, 95, 97, 99, 101, 103, 105, 107, 109, 111, 113, 115, 117, 119, 121, 123, 125, 127, 129, 131, 133, 135, 137, 139, 141, 143, 145, 147, 149, 152, 154, 156, 158, 160, 162, 164, 166, 168, 170, 172, 174, 176, 178, 180, 182, 184, 186, 188, 190, 192, 194, 196, 198, 200], \"y\": [0.0, 0.04, 0.09, 0.13, 0.17, 0.21, 0.26, 0.3, 0.34, 0.38, 0.43, 0.47, 0.51, 0.55, 0.6, 0.64, 0.68, 0.72, 0.77, 0.81, 0.85, 0.9, 0.94, 0.98, 1.02, 1.07, 1.11, 1.15, 1.19, 1.24, 1.28, 1.32, 1.36, 1.41, 1.45, 1.49, 1.53, 1.58, 1.62, 1.66, 1.71, 1.75, 1.79, 1.83, 1.88, 1.92, 1.96, 2.0, 2.05, 2.09, 2.13, 2.17, 2.22, 2.26, 2.3, 2.34, 2.39, 2.43, 2.47, 2.51, 2.56, 2.6, 2.64, 2.69, 2.73, 2.77, 2.81, 2.86, 2.9, 2.94, 2.98, 3.03, 3.07, 3.11, 3.15, 3.2, 3.24, 3.28, 3.32, 3.37, 3.41, 3.45, 3.5, 3.54, 3.58, 3.62, 3.67, 3.71, 3.75, 3.79, 3.84, 3.88, 3.92, 3.96, 4.01, 4.05, 4.09, 4.13, 4.18, 4.22]}, {\"line\": {\"color\": \"gray\", \"width\": 2}, \"name\": \"Pipe Invert\", \"showlegend\": false, \"type\": \"scatter\", \"visible\": false, \"x\": [0, 2, 4, 6, 8, 10, 12, 14, 16, 18, 20, 22, 24, 26, 28, 30, 32, 34, 36, 38, 40, 42, 44, 46, 48, 51, 53, 55, 57, 59, 61, 63, 65, 67, 69, 71, 73, 75, 77, 79, 81, 83, 85, 87, 89, 91, 93, 95, 97, 99, 101, 103, 105, 107, 109, 111, 113, 115, 117, 119, 121, 123, 125, 127, 129, 131, 133, 135, 137, 139, 141, 143, 145, 147, 149, 152, 154, 156, 158, 160, 162, 164, 166, 168, 170, 172, 174, 176, 178, 180, 182, 184, 186, 188, 190, 192, 194, 196, 198, 200], \"y\": [0.0, 0.05, 0.1, 0.14, 0.19, 0.24, 0.29, 0.34, 0.38, 0.43, 0.48, 0.53, 0.57, 0.62, 0.67, 0.72, 0.77, 0.81, 0.86, 0.91, 0.96, 1.01, 1.05, 1.1, 1.15, 1.2, 1.24, 1.29, 1.34, 1.39, 1.44, 1.48, 1.53, 1.58, 1.63, 1.68, 1.72, 1.77, 1.82, 1.87, 1.92, 1.96, 2.01, 2.06, 2.11, 2.15, 2.2, 2.25, 2.3, 2.35, 2.39, 2.44, 2.49, 2.54, 2.59, 2.63, 2.68, 2.73, 2.78, 2.82, 2.87, 2.92, 2.97, 3.02, 3.06, 3.11, 3.16, 3.21, 3.26, 3.3, 3.35, 3.4, 3.45, 3.5, 3.54, 3.59, 3.64, 3.69, 3.73, 3.78, 3.83, 3.88, 3.93, 3.97, 4.02, 4.07, 4.12, 4.17, 4.21, 4.26, 4.31, 4.36, 4.4, 4.45, 4.5, 4.55, 4.6, 4.64, 4.69, 4.74]}, {\"line\": {\"color\": \"gray\", \"width\": 2}, \"name\": \"Pipe Invert\", \"showlegend\": false, \"type\": \"scatter\", \"visible\": false, \"x\": [0, 2, 4, 6, 8, 10, 12, 14, 16, 18, 20, 22, 24, 26, 28, 30, 32, 34, 36, 38, 40, 42, 44, 46, 48, 51, 53, 55, 57, 59, 61, 63, 65, 67, 69, 71, 73, 75, 77, 79, 81, 83, 85, 87, 89, 91, 93, 95, 97, 99, 101, 103, 105, 107, 109, 111, 113, 115, 117, 119, 121, 123, 125, 127, 129, 131, 133, 135, 137, 139, 141, 143, 145, 147, 149, 152, 154, 156, 158, 160, 162, 164, 166, 168, 170, 172, 174, 176, 178, 180, 182, 184, 186, 188, 190, 192, 194, 196, 198, 200], \"y\": [0.0, 0.05, 0.11, 0.16, 0.21, 0.27, 0.32, 0.37, 0.43, 0.48, 0.53, 0.58, 0.64, 0.69, 0.74, 0.8, 0.85, 0.9, 0.96, 1.01, 1.06, 1.12, 1.17, 1.22, 1.28, 1.33, 1.38, 1.43, 1.49, 1.54, 1.59, 1.65, 1.7, 1.75, 1.81, 1.86, 1.91, 1.97, 2.02, 2.07, 2.13, 2.18, 2.23, 2.28, 2.34, 2.39, 2.44, 2.5, 2.55, 2.6, 2.66, 2.71, 2.76, 2.82, 2.87, 2.92, 2.98, 3.03, 3.08, 3.13, 3.19, 3.24, 3.29, 3.35, 3.4, 3.45, 3.51, 3.56, 3.61, 3.67, 3.72, 3.77, 3.83, 3.88, 3.93, 3.98, 4.04, 4.09, 4.14, 4.2, 4.25, 4.3, 4.36, 4.41, 4.46, 4.52, 4.57, 4.62, 4.68, 4.73, 4.78, 4.83, 4.89, 4.94, 4.99, 5.05, 5.1, 5.15, 5.21, 5.26]}, {\"line\": {\"color\": \"gray\", \"width\": 2}, \"name\": \"Pipe Invert\", \"showlegend\": false, \"type\": \"scatter\", \"visible\": false, \"x\": [0, 2, 4, 6, 8, 10, 12, 14, 16, 18, 20, 22, 24, 26, 28, 30, 32, 34, 36, 38, 40, 42, 44, 46, 48, 51, 53, 55, 57, 59, 61, 63, 65, 67, 69, 71, 73, 75, 77, 79, 81, 83, 85, 87, 89, 91, 93, 95, 97, 99, 101, 103, 105, 107, 109, 111, 113, 115, 117, 119, 121, 123, 125, 127, 129, 131, 133, 135, 137, 139, 141, 143, 145, 147, 149, 152, 154, 156, 158, 160, 162, 164, 166, 168, 170, 172, 174, 176, 178, 180, 182, 184, 186, 188, 190, 192, 194, 196, 198, 200], \"y\": [0.0, 0.06, 0.12, 0.18, 0.23, 0.29, 0.35, 0.41, 0.47, 0.53, 0.58, 0.64, 0.7, 0.76, 0.82, 0.88, 0.93, 0.99, 1.05, 1.11, 1.17, 1.23, 1.28, 1.34, 1.4, 1.46, 1.52, 1.58, 1.63, 1.69, 1.75, 1.81, 1.87, 1.93, 1.99, 2.04, 2.1, 2.16, 2.22, 2.28, 2.34, 2.39, 2.45, 2.51, 2.57, 2.63, 2.69, 2.74, 2.8, 2.86, 2.92, 2.98, 3.04, 3.09, 3.15, 3.21, 3.27, 3.33, 3.39, 3.44, 3.5, 3.56, 3.62, 3.68, 3.74, 3.79, 3.85, 3.91, 3.97, 4.03, 4.09, 4.15, 4.2, 4.26, 4.32, 4.38, 4.44, 4.5, 4.55, 4.61, 4.67, 4.73, 4.79, 4.85, 4.9, 4.96, 5.02, 5.08, 5.14, 5.2, 5.25, 5.31, 5.37, 5.43, 5.49, 5.55, 5.6, 5.66, 5.72, 5.78]}, {\"line\": {\"color\": \"gray\", \"width\": 2}, \"name\": \"Pipe Invert\", \"showlegend\": false, \"type\": \"scatter\", \"visible\": false, \"x\": [0, 2, 4, 6, 8, 10, 12, 14, 16, 18, 20, 22, 24, 26, 28, 30, 32, 34, 36, 38, 40, 42, 44, 46, 48, 51, 53, 55, 57, 59, 61, 63, 65, 67, 69, 71, 73, 75, 77, 79, 81, 83, 85, 87, 89, 91, 93, 95, 97, 99, 101, 103, 105, 107, 109, 111, 113, 115, 117, 119, 121, 123, 125, 127, 129, 131, 133, 135, 137, 139, 141, 143, 145, 147, 149, 152, 154, 156, 158, 160, 162, 164, 166, 168, 170, 172, 174, 176, 178, 180, 182, 184, 186, 188, 190, 192, 194, 196, 198, 200], \"y\": [0.0, 0.06, 0.13, 0.19, 0.26, 0.32, 0.38, 0.45, 0.51, 0.57, 0.64, 0.7, 0.77, 0.83, 0.89, 0.96, 1.02, 1.09, 1.15, 1.21, 1.28, 1.34, 1.4, 1.47, 1.53, 1.6, 1.66, 1.72, 1.79, 1.85, 1.92, 1.98, 2.04, 2.11, 2.17, 2.23, 2.3, 2.36, 2.43, 2.49, 2.55, 2.62, 2.68, 2.75, 2.81, 2.87, 2.94, 3.0, 3.06, 3.13, 3.19, 3.26, 3.32, 3.38, 3.45, 3.51, 3.57, 3.64, 3.7, 3.77, 3.83, 3.89, 3.96, 4.02, 4.09, 4.15, 4.21, 4.28, 4.34, 4.4, 4.47, 4.53, 4.6, 4.66, 4.72, 4.79, 4.85, 4.92, 4.98, 5.04, 5.11, 5.17, 5.23, 5.3, 5.36, 5.43, 5.49, 5.55, 5.62, 5.68, 5.75, 5.81, 5.87, 5.94, 6.0, 6.06, 6.13, 6.19, 6.26, 6.32]}, {\"line\": {\"color\": \"gray\", \"width\": 2}, \"name\": \"Pipe Invert\", \"showlegend\": false, \"type\": \"scatter\", \"visible\": false, \"x\": [0, 2, 4, 6, 8, 10, 12, 14, 16, 18, 20, 22, 24, 26, 28, 30, 32, 34, 36, 38, 40, 42, 44, 46, 48, 51, 53, 55, 57, 59, 61, 63, 65, 67, 69, 71, 73, 75, 77, 79, 81, 83, 85, 87, 89, 91, 93, 95, 97, 99, 101, 103, 105, 107, 109, 111, 113, 115, 117, 119, 121, 123, 125, 127, 129, 131, 133, 135, 137, 139, 141, 143, 145, 147, 149, 152, 154, 156, 158, 160, 162, 164, 166, 168, 170, 172, 174, 176, 178, 180, 182, 184, 186, 188, 190, 192, 194, 196, 198, 200], \"y\": [0.0, 0.07, 0.14, 0.21, 0.28, 0.35, 0.41, 0.48, 0.55, 0.62, 0.69, 0.76, 0.83, 0.9, 0.97, 1.04, 1.11, 1.17, 1.24, 1.31, 1.38, 1.45, 1.52, 1.59, 1.66, 1.73, 1.8, 1.87, 1.93, 2.0, 2.07, 2.14, 2.21, 2.28, 2.35, 2.42, 2.49, 2.56, 2.63, 2.69, 2.76, 2.83, 2.9, 2.97, 3.04, 3.11, 3.18, 3.25, 3.32, 3.39, 3.45, 3.52, 3.59, 3.66, 3.73, 3.8, 3.87, 3.94, 4.01, 4.08, 4.15, 4.21, 4.28, 4.35, 4.42, 4.49, 4.56, 4.63, 4.7, 4.77, 4.84, 4.91, 4.97, 5.04, 5.11, 5.18, 5.25, 5.32, 5.39, 5.46, 5.53, 5.6, 5.67, 5.73, 5.8, 5.87, 5.94, 6.01, 6.08, 6.15, 6.22, 6.29, 6.36, 6.43, 6.49, 6.56, 6.63, 6.7, 6.77, 6.84]}, {\"line\": {\"color\": \"gray\", \"width\": 2}, \"name\": \"Pipe Invert\", \"showlegend\": false, \"type\": \"scatter\", \"visible\": false, \"x\": [0, 2, 4, 6, 8, 10, 12, 14, 16, 18, 20, 22, 24, 26, 28, 30, 32, 34, 36, 38, 40, 42, 44, 46, 48, 51, 53, 55, 57, 59, 61, 63, 65, 67, 69, 71, 73, 75, 77, 79, 81, 83, 85, 87, 89, 91, 93, 95, 97, 99, 101, 103, 105, 107, 109, 111, 113, 115, 117, 119, 121, 123, 125, 127, 129, 131, 133, 135, 137, 139, 141, 143, 145, 147, 149, 152, 154, 156, 158, 160, 162, 164, 166, 168, 170, 172, 174, 176, 178, 180, 182, 184, 186, 188, 190, 192, 194, 196, 198, 200], \"y\": [0.0, 0.07, 0.15, 0.22, 0.3, 0.37, 0.45, 0.52, 0.59, 0.67, 0.74, 0.82, 0.89, 0.97, 1.04, 1.12, 1.19, 1.26, 1.34, 1.41, 1.49, 1.56, 1.64, 1.71, 1.78, 1.86, 1.93, 2.01, 2.08, 2.16, 2.23, 2.3, 2.38, 2.45, 2.53, 2.6, 2.68, 2.75, 2.83, 2.9, 2.97, 3.05, 3.12, 3.2, 3.27, 3.35, 3.42, 3.49, 3.57, 3.64, 3.72, 3.79, 3.87, 3.94, 4.01, 4.09, 4.16, 4.24, 4.31, 4.39, 4.46, 4.53, 4.61, 4.68, 4.76, 4.83, 4.91, 4.98, 5.06, 5.13, 5.2, 5.28, 5.35, 5.43, 5.5, 5.58, 5.65, 5.72, 5.8, 5.87, 5.95, 6.02, 6.1, 6.17, 6.24, 6.32, 6.39, 6.47, 6.54, 6.62, 6.69, 6.77, 6.84, 6.91, 6.99, 7.06, 7.14, 7.21, 7.29, 7.36]}, {\"line\": {\"color\": \"gray\", \"width\": 2}, \"name\": \"Pipe Invert\", \"showlegend\": false, \"type\": \"scatter\", \"visible\": false, \"x\": [0, 2, 4, 6, 8, 10, 12, 14, 16, 18, 20, 22, 24, 26, 28, 30, 32, 34, 36, 38, 40, 42, 44, 46, 48, 51, 53, 55, 57, 59, 61, 63, 65, 67, 69, 71, 73, 75, 77, 79, 81, 83, 85, 87, 89, 91, 93, 95, 97, 99, 101, 103, 105, 107, 109, 111, 113, 115, 117, 119, 121, 123, 125, 127, 129, 131, 133, 135, 137, 139, 141, 143, 145, 147, 149, 152, 154, 156, 158, 160, 162, 164, 166, 168, 170, 172, 174, 176, 178, 180, 182, 184, 186, 188, 190, 192, 194, 196, 198, 200], \"y\": [0.0, 0.08, 0.16, 0.24, 0.32, 0.4, 0.48, 0.56, 0.64, 0.72, 0.8, 0.88, 0.96, 1.04, 1.12, 1.2, 1.28, 1.36, 1.44, 1.52, 1.6, 1.68, 1.76, 1.84, 1.92, 1.99, 2.07, 2.15, 2.23, 2.31, 2.39, 2.47, 2.55, 2.63, 2.71, 2.79, 2.87, 2.95, 3.03, 3.11, 3.19, 3.27, 3.35, 3.43, 3.51, 3.59, 3.67, 3.75, 3.83, 3.91, 3.99, 4.07, 4.15, 4.23, 4.31, 4.39, 4.47, 4.55, 4.63, 4.71, 4.79, 4.87, 4.95, 5.03, 5.11, 5.19, 5.27, 5.35, 5.43, 5.51, 5.59, 5.67, 5.75, 5.83, 5.91, 5.98, 6.06, 6.14, 6.22, 6.3, 6.38, 6.46, 6.54, 6.62, 6.7, 6.78, 6.86, 6.94, 7.02, 7.1, 7.18, 7.26, 7.34, 7.42, 7.5, 7.58, 7.66, 7.74, 7.82, 7.9]}, {\"line\": {\"color\": \"gray\", \"width\": 2}, \"name\": \"Pipe Invert\", \"showlegend\": false, \"type\": \"scatter\", \"visible\": false, \"x\": [0, 2, 4, 6, 8, 10, 12, 14, 16, 18, 20, 22, 24, 26, 28, 30, 32, 34, 36, 38, 40, 42, 44, 46, 48, 51, 53, 55, 57, 59, 61, 63, 65, 67, 69, 71, 73, 75, 77, 79, 81, 83, 85, 87, 89, 91, 93, 95, 97, 99, 101, 103, 105, 107, 109, 111, 113, 115, 117, 119, 121, 123, 125, 127, 129, 131, 133, 135, 137, 139, 141, 143, 145, 147, 149, 152, 154, 156, 158, 160, 162, 164, 166, 168, 170, 172, 174, 176, 178, 180, 182, 184, 186, 188, 190, 192, 194, 196, 198, 200], \"y\": [0.0, 0.09, 0.17, 0.26, 0.34, 0.43, 0.51, 0.6, 0.68, 0.77, 0.85, 0.94, 1.02, 1.11, 1.19, 1.28, 1.36, 1.45, 1.53, 1.62, 1.7, 1.79, 1.87, 1.96, 2.04, 2.13, 2.21, 2.3, 2.38, 2.47, 2.55, 2.64, 2.72, 2.81, 2.89, 2.98, 3.06, 3.15, 3.23, 3.32, 3.4, 3.49, 3.57, 3.66, 3.74, 3.83, 3.91, 4.0, 4.08, 4.17, 4.25, 4.34, 4.42, 4.51, 4.59, 4.68, 4.76, 4.85, 4.93, 5.02, 5.1, 5.19, 5.27, 5.36, 5.44, 5.53, 5.61, 5.7, 5.78, 5.87, 5.95, 6.04, 6.12, 6.21, 6.29, 6.38, 6.46, 6.55, 6.63, 6.72, 6.8, 6.89, 6.97, 7.06, 7.14, 7.23, 7.31, 7.4, 7.48, 7.57, 7.65, 7.74, 7.82, 7.91, 7.99, 8.08, 8.16, 8.25, 8.33, 8.42]}, {\"line\": {\"color\": \"gray\", \"width\": 2}, \"name\": \"Pipe Invert\", \"showlegend\": false, \"type\": \"scatter\", \"visible\": false, \"x\": [0, 2, 4, 6, 8, 10, 12, 14, 16, 18, 20, 22, 24, 26, 28, 30, 32, 34, 36, 38, 40, 42, 44, 46, 48, 51, 53, 55, 57, 59, 61, 63, 65, 67, 69, 71, 73, 75, 77, 79, 81, 83, 85, 87, 89, 91, 93, 95, 97, 99, 101, 103, 105, 107, 109, 111, 113, 115, 117, 119, 121, 123, 125, 127, 129, 131, 133, 135, 137, 139, 141, 143, 145, 147, 149, 152, 154, 156, 158, 160, 162, 164, 166, 168, 170, 172, 174, 176, 178, 180, 182, 184, 186, 188, 190, 192, 194, 196, 198, 200], \"y\": [0.0, 0.09, 0.18, 0.27, 0.36, 0.45, 0.54, 0.63, 0.72, 0.81, 0.9, 0.99, 1.08, 1.17, 1.26, 1.35, 1.44, 1.54, 1.63, 1.72, 1.81, 1.9, 1.99, 2.08, 2.17, 2.26, 2.35, 2.44, 2.53, 2.62, 2.71, 2.8, 2.89, 2.98, 3.07, 3.16, 3.25, 3.34, 3.43, 3.52, 3.61, 3.7, 3.79, 3.88, 3.97, 4.06, 4.15, 4.24, 4.33, 4.42, 4.52, 4.61, 4.7, 4.79, 4.88, 4.97, 5.06, 5.15, 5.24, 5.33, 5.42, 5.51, 5.6, 5.69, 5.78, 5.87, 5.96, 6.05, 6.14, 6.23, 6.32, 6.41, 6.5, 6.59, 6.68, 6.77, 6.86, 6.95, 7.04, 7.13, 7.22, 7.31, 7.4, 7.5, 7.59, 7.68, 7.77, 7.86, 7.95, 8.04, 8.13, 8.22, 8.31, 8.4, 8.49, 8.58, 8.67, 8.76, 8.85, 8.94]}, {\"line\": {\"color\": \"gray\", \"width\": 2}, \"name\": \"Pipe Invert\", \"showlegend\": false, \"type\": \"scatter\", \"visible\": false, \"x\": [0, 2, 4, 6, 8, 10, 12, 14, 16, 18, 20, 22, 24, 26, 28, 30, 32, 34, 36, 38, 40, 42, 44, 46, 48, 51, 53, 55, 57, 59, 61, 63, 65, 67, 69, 71, 73, 75, 77, 79, 81, 83, 85, 87, 89, 91, 93, 95, 97, 99, 101, 103, 105, 107, 109, 111, 113, 115, 117, 119, 121, 123, 125, 127, 129, 131, 133, 135, 137, 139, 141, 143, 145, 147, 149, 152, 154, 156, 158, 160, 162, 164, 166, 168, 170, 172, 174, 176, 178, 180, 182, 184, 186, 188, 190, 192, 194, 196, 198, 200], \"y\": [0.0, 0.1, 0.19, 0.29, 0.38, 0.48, 0.57, 0.67, 0.77, 0.86, 0.96, 1.05, 1.15, 1.24, 1.34, 1.44, 1.53, 1.63, 1.72, 1.82, 1.92, 2.01, 2.11, 2.2, 2.3, 2.39, 2.49, 2.59, 2.68, 2.78, 2.87, 2.97, 3.06, 3.16, 3.26, 3.35, 3.45, 3.54, 3.64, 3.73, 3.83, 3.93, 4.02, 4.12, 4.21, 4.31, 4.4, 4.5, 4.6, 4.69, 4.79, 4.88, 4.98, 5.08, 5.17, 5.27, 5.36, 5.46, 5.55, 5.65, 5.75, 5.84, 5.94, 6.03, 6.13, 6.22, 6.32, 6.42, 6.51, 6.61, 6.7, 6.8, 6.89, 6.99, 7.09, 7.18, 7.28, 7.37, 7.47, 7.56, 7.66, 7.76, 7.85, 7.95, 8.04, 8.14, 8.24, 8.33, 8.43, 8.52, 8.62, 8.71, 8.81, 8.91, 9.0, 9.1, 9.19, 9.29, 9.38, 9.48]}, {\"line\": {\"color\": \"gray\", \"width\": 2}, \"name\": \"Pipe Invert\", \"showlegend\": false, \"type\": \"scatter\", \"visible\": false, \"x\": [0, 2, 4, 6, 8, 10, 12, 14, 16, 18, 20, 22, 24, 26, 28, 30, 32, 34, 36, 38, 40, 42, 44, 46, 48, 51, 53, 55, 57, 59, 61, 63, 65, 67, 69, 71, 73, 75, 77, 79, 81, 83, 85, 87, 89, 91, 93, 95, 97, 99, 101, 103, 105, 107, 109, 111, 113, 115, 117, 119, 121, 123, 125, 127, 129, 131, 133, 135, 137, 139, 141, 143, 145, 147, 149, 152, 154, 156, 158, 160, 162, 164, 166, 168, 170, 172, 174, 176, 178, 180, 182, 184, 186, 188, 190, 192, 194, 196, 198, 200], \"y\": [0.0, 0.1, 0.2, 0.3, 0.4, 0.51, 0.61, 0.71, 0.81, 0.91, 1.01, 1.11, 1.21, 1.31, 1.41, 1.52, 1.62, 1.72, 1.82, 1.92, 2.02, 2.12, 2.22, 2.32, 2.42, 2.53, 2.63, 2.73, 2.83, 2.93, 3.03, 3.13, 3.23, 3.33, 3.43, 3.54, 3.64, 3.74, 3.84, 3.94, 4.04, 4.14, 4.24, 4.34, 4.44, 4.55, 4.65, 4.75, 4.85, 4.95, 5.05, 5.15, 5.25, 5.35, 5.45, 5.56, 5.66, 5.76, 5.86, 5.96, 6.06, 6.16, 6.26, 6.36, 6.46, 6.57, 6.67, 6.77, 6.87, 6.97, 7.07, 7.17, 7.27, 7.37, 7.47, 7.58, 7.68, 7.78, 7.88, 7.98, 8.08, 8.18, 8.28, 8.38, 8.48, 8.59, 8.69, 8.79, 8.89, 8.99, 9.09, 9.19, 9.29, 9.39, 9.49, 9.6, 9.7, 9.8, 9.9, 10.0]}, {\"line\": {\"color\": \"gray\", \"width\": 2}, \"name\": \"Pipe Crown\", \"showlegend\": false, \"type\": \"scatter\", \"visible\": true, \"x\": [0, 2, 4, 6, 8, 10, 12, 14, 16, 18, 20, 22, 24, 26, 28, 30, 32, 34, 36, 38, 40, 42, 44, 46, 48, 51, 53, 55, 57, 59, 61, 63, 65, 67, 69, 71, 73, 75, 77, 79, 81, 83, 85, 87, 89, 91, 93, 95, 97, 99, 101, 103, 105, 107, 109, 111, 113, 115, 117, 119, 121, 123, 125, 127, 129, 131, 133, 135, 137, 139, 141, 143, 145, 147, 149, 152, 154, 156, 158, 160, 162, 164, 166, 168, 170, 172, 174, 176, 178, 180, 182, 184, 186, 188, 190, 192, 194, 196, 198, 200], \"y\": [2.0, 2.0, 2.0, 2.0, 2.0, 2.0, 2.0, 2.0, 2.0, 2.0, 2.0, 2.0, 2.0, 2.0, 2.0, 2.0, 2.0, 2.0, 2.0, 2.0, 2.0, 2.0, 2.0, 2.0, 2.0, 2.0, 2.0, 2.0, 2.0, 2.0, 2.0, 2.0, 2.0, 2.0, 2.0, 2.0, 2.0, 2.0, 2.0, 2.0, 2.0, 2.0, 2.0, 2.0, 2.0, 2.0, 2.0, 2.0, 2.0, 2.0, 2.0, 2.0, 2.0, 2.0, 2.0, 2.0, 2.0, 2.0, 2.0, 2.0, 2.0, 2.0, 2.0, 2.0, 2.0, 2.0, 2.0, 2.0, 2.0, 2.0, 2.0, 2.0, 2.0, 2.0, 2.0, 2.0, 2.0, 2.0, 2.0, 2.0, 2.0, 2.0, 2.0, 2.0, 2.0, 2.0, 2.0, 2.0, 2.0, 2.0, 2.0, 2.0, 2.0, 2.0, 2.0, 2.0, 2.0, 2.0, 2.0, 2.0]}, {\"line\": {\"color\": \"gray\", \"width\": 2}, \"name\": \"Pipe Crown\", \"showlegend\": false, \"type\": \"scatter\", \"visible\": false, \"x\": [0, 2, 4, 6, 8, 10, 12, 14, 16, 18, 20, 22, 24, 26, 28, 30, 32, 34, 36, 38, 40, 42, 44, 46, 48, 51, 53, 55, 57, 59, 61, 63, 65, 67, 69, 71, 73, 75, 77, 79, 81, 83, 85, 87, 89, 91, 93, 95, 97, 99, 101, 103, 105, 107, 109, 111, 113, 115, 117, 119, 121, 123, 125, 127, 129, 131, 133, 135, 137, 139, 141, 143, 145, 147, 149, 152, 154, 156, 158, 160, 162, 164, 166, 168, 170, 172, 174, 176, 178, 180, 182, 184, 186, 188, 190, 192, 194, 196, 198, 200], \"y\": [2.0, 2.01, 2.01, 2.02, 2.02, 2.03, 2.03, 2.04, 2.04, 2.05, 2.05, 2.06, 2.06, 2.07, 2.07, 2.08, 2.08, 2.09, 2.09, 2.1, 2.11, 2.11, 2.12, 2.12, 2.13, 2.13, 2.14, 2.14, 2.15, 2.15, 2.16, 2.16, 2.17, 2.17, 2.18, 2.18, 2.19, 2.19, 2.2, 2.2, 2.21, 2.22, 2.22, 2.23, 2.23, 2.24, 2.24, 2.25, 2.25, 2.26, 2.26, 2.27, 2.27, 2.28, 2.28, 2.29, 2.29, 2.3, 2.3, 2.31, 2.32, 2.32, 2.33, 2.33, 2.34, 2.34, 2.35, 2.35, 2.36, 2.36, 2.37, 2.37, 2.38, 2.38, 2.39, 2.39, 2.4, 2.4, 2.41, 2.41, 2.42, 2.43, 2.43, 2.44, 2.44, 2.45, 2.45, 2.46, 2.46, 2.47, 2.47, 2.48, 2.48, 2.49, 2.49, 2.5, 2.5, 2.51, 2.51, 2.52]}, {\"line\": {\"color\": \"gray\", \"width\": 2}, \"name\": \"Pipe Crown\", \"showlegend\": false, \"type\": \"scatter\", \"visible\": false, \"x\": [0, 2, 4, 6, 8, 10, 12, 14, 16, 18, 20, 22, 24, 26, 28, 30, 32, 34, 36, 38, 40, 42, 44, 46, 48, 51, 53, 55, 57, 59, 61, 63, 65, 67, 69, 71, 73, 75, 77, 79, 81, 83, 85, 87, 89, 91, 93, 95, 97, 99, 101, 103, 105, 107, 109, 111, 113, 115, 117, 119, 121, 123, 125, 127, 129, 131, 133, 135, 137, 139, 141, 143, 145, 147, 149, 152, 154, 156, 158, 160, 162, 164, 166, 168, 170, 172, 174, 176, 178, 180, 182, 184, 186, 188, 190, 192, 194, 196, 198, 200], \"y\": [2.0, 2.01, 2.02, 2.03, 2.04, 2.05, 2.06, 2.07, 2.09, 2.1, 2.11, 2.12, 2.13, 2.14, 2.15, 2.16, 2.17, 2.18, 2.19, 2.2, 2.21, 2.22, 2.24, 2.25, 2.26, 2.27, 2.28, 2.29, 2.3, 2.31, 2.32, 2.33, 2.34, 2.35, 2.36, 2.37, 2.39, 2.4, 2.41, 2.42, 2.43, 2.44, 2.45, 2.46, 2.47, 2.48, 2.49, 2.5, 2.51, 2.52, 2.54, 2.55, 2.56, 2.57, 2.58, 2.59, 2.6, 2.61, 2.62, 2.63, 2.64, 2.65, 2.66, 2.67, 2.69, 2.7, 2.71, 2.72, 2.73, 2.74, 2.75, 2.76, 2.77, 2.78, 2.79, 2.8, 2.81, 2.82, 2.84, 2.85, 2.86, 2.87, 2.88, 2.89, 2.9, 2.91, 2.92, 2.93, 2.94, 2.95, 2.96, 2.97, 2.99, 3.0, 3.01, 3.02, 3.03, 3.04, 3.05, 3.06]}, {\"line\": {\"color\": \"gray\", \"width\": 2}, \"name\": \"Pipe Crown\", \"showlegend\": false, \"type\": \"scatter\", \"visible\": false, \"x\": [0, 2, 4, 6, 8, 10, 12, 14, 16, 18, 20, 22, 24, 26, 28, 30, 32, 34, 36, 38, 40, 42, 44, 46, 48, 51, 53, 55, 57, 59, 61, 63, 65, 67, 69, 71, 73, 75, 77, 79, 81, 83, 85, 87, 89, 91, 93, 95, 97, 99, 101, 103, 105, 107, 109, 111, 113, 115, 117, 119, 121, 123, 125, 127, 129, 131, 133, 135, 137, 139, 141, 143, 145, 147, 149, 152, 154, 156, 158, 160, 162, 164, 166, 168, 170, 172, 174, 176, 178, 180, 182, 184, 186, 188, 190, 192, 194, 196, 198, 200], \"y\": [2.0, 2.02, 2.03, 2.05, 2.06, 2.08, 2.1, 2.11, 2.13, 2.14, 2.16, 2.18, 2.19, 2.21, 2.22, 2.24, 2.26, 2.27, 2.29, 2.3, 2.32, 2.34, 2.35, 2.37, 2.38, 2.4, 2.41, 2.43, 2.45, 2.46, 2.48, 2.49, 2.51, 2.53, 2.54, 2.56, 2.57, 2.59, 2.61, 2.62, 2.64, 2.65, 2.67, 2.69, 2.7, 2.72, 2.73, 2.75, 2.77, 2.78, 2.8, 2.81, 2.83, 2.85, 2.86, 2.88, 2.89, 2.91, 2.93, 2.94, 2.96, 2.97, 2.99, 3.01, 3.02, 3.04, 3.05, 3.07, 3.09, 3.1, 3.12, 3.13, 3.15, 3.17, 3.18, 3.2, 3.21, 3.23, 3.24, 3.26, 3.28, 3.29, 3.31, 3.32, 3.34, 3.36, 3.37, 3.39, 3.4, 3.42, 3.44, 3.45, 3.47, 3.48, 3.5, 3.52, 3.53, 3.55, 3.56, 3.58]}, {\"line\": {\"color\": \"gray\", \"width\": 2}, \"name\": \"Pipe Crown\", \"showlegend\": false, \"type\": \"scatter\", \"visible\": false, \"x\": [0, 2, 4, 6, 8, 10, 12, 14, 16, 18, 20, 22, 24, 26, 28, 30, 32, 34, 36, 38, 40, 42, 44, 46, 48, 51, 53, 55, 57, 59, 61, 63, 65, 67, 69, 71, 73, 75, 77, 79, 81, 83, 85, 87, 89, 91, 93, 95, 97, 99, 101, 103, 105, 107, 109, 111, 113, 115, 117, 119, 121, 123, 125, 127, 129, 131, 133, 135, 137, 139, 141, 143, 145, 147, 149, 152, 154, 156, 158, 160, 162, 164, 166, 168, 170, 172, 174, 176, 178, 180, 182, 184, 186, 188, 190, 192, 194, 196, 198, 200], \"y\": [2.0, 2.02, 2.04, 2.06, 2.08, 2.11, 2.13, 2.15, 2.17, 2.19, 2.21, 2.23, 2.25, 2.28, 2.3, 2.32, 2.34, 2.36, 2.38, 2.4, 2.42, 2.45, 2.47, 2.49, 2.51, 2.53, 2.55, 2.57, 2.59, 2.62, 2.64, 2.66, 2.68, 2.7, 2.72, 2.74, 2.76, 2.78, 2.81, 2.83, 2.85, 2.87, 2.89, 2.91, 2.93, 2.95, 2.98, 3.0, 3.02, 3.04, 3.06, 3.08, 3.1, 3.12, 3.15, 3.17, 3.19, 3.21, 3.23, 3.25, 3.27, 3.29, 3.32, 3.34, 3.36, 3.38, 3.4, 3.42, 3.44, 3.46, 3.48, 3.51, 3.53, 3.55, 3.57, 3.59, 3.61, 3.63, 3.65, 3.68, 3.7, 3.72, 3.74, 3.76, 3.78, 3.8, 3.82, 3.85, 3.87, 3.89, 3.91, 3.93, 3.95, 3.97, 3.99, 4.02, 4.04, 4.06, 4.08, 4.1]}, {\"line\": {\"color\": \"gray\", \"width\": 2}, \"name\": \"Pipe Crown\", \"showlegend\": false, \"type\": \"scatter\", \"visible\": false, \"x\": [0, 2, 4, 6, 8, 10, 12, 14, 16, 18, 20, 22, 24, 26, 28, 30, 32, 34, 36, 38, 40, 42, 44, 46, 48, 51, 53, 55, 57, 59, 61, 63, 65, 67, 69, 71, 73, 75, 77, 79, 81, 83, 85, 87, 89, 91, 93, 95, 97, 99, 101, 103, 105, 107, 109, 111, 113, 115, 117, 119, 121, 123, 125, 127, 129, 131, 133, 135, 137, 139, 141, 143, 145, 147, 149, 152, 154, 156, 158, 160, 162, 164, 166, 168, 170, 172, 174, 176, 178, 180, 182, 184, 186, 188, 190, 192, 194, 196, 198, 200], \"y\": [2.0, 2.03, 2.05, 2.08, 2.11, 2.13, 2.16, 2.19, 2.21, 2.24, 2.27, 2.29, 2.32, 2.35, 2.37, 2.4, 2.43, 2.45, 2.48, 2.51, 2.53, 2.56, 2.59, 2.61, 2.64, 2.67, 2.69, 2.72, 2.75, 2.77, 2.8, 2.83, 2.85, 2.88, 2.91, 2.93, 2.96, 2.99, 3.01, 3.04, 3.07, 3.09, 3.12, 3.15, 3.17, 3.2, 3.23, 3.25, 3.28, 3.31, 3.33, 3.36, 3.39, 3.41, 3.44, 3.47, 3.49, 3.52, 3.55, 3.57, 3.6, 3.63, 3.65, 3.68, 3.71, 3.73, 3.76, 3.79, 3.81, 3.84, 3.87, 3.89, 3.92, 3.95, 3.97, 4.0, 4.03, 4.05, 4.08, 4.11, 4.13, 4.16, 4.19, 4.21, 4.24, 4.27, 4.29, 4.32, 4.35, 4.37, 4.4, 4.43, 4.45, 4.48, 4.51, 4.53, 4.56, 4.59, 4.61, 4.64]}, {\"line\": {\"color\": \"gray\", \"width\": 2}, \"name\": \"Pipe Crown\", \"showlegend\": false, \"type\": \"scatter\", \"visible\": false, \"x\": [0, 2, 4, 6, 8, 10, 12, 14, 16, 18, 20, 22, 24, 26, 28, 30, 32, 34, 36, 38, 40, 42, 44, 46, 48, 51, 53, 55, 57, 59, 61, 63, 65, 67, 69, 71, 73, 75, 77, 79, 81, 83, 85, 87, 89, 91, 93, 95, 97, 99, 101, 103, 105, 107, 109, 111, 113, 115, 117, 119, 121, 123, 125, 127, 129, 131, 133, 135, 137, 139, 141, 143, 145, 147, 149, 152, 154, 156, 158, 160, 162, 164, 166, 168, 170, 172, 174, 176, 178, 180, 182, 184, 186, 188, 190, 192, 194, 196, 198, 200], \"y\": [2.0, 2.03, 2.06, 2.1, 2.13, 2.16, 2.19, 2.22, 2.26, 2.29, 2.32, 2.35, 2.38, 2.41, 2.45, 2.48, 2.51, 2.54, 2.57, 2.61, 2.64, 2.67, 2.7, 2.73, 2.77, 2.8, 2.83, 2.86, 2.89, 2.93, 2.96, 2.99, 3.02, 3.05, 3.09, 3.12, 3.15, 3.18, 3.21, 3.24, 3.28, 3.31, 3.34, 3.37, 3.4, 3.44, 3.47, 3.5, 3.53, 3.56, 3.6, 3.63, 3.66, 3.69, 3.72, 3.76, 3.79, 3.82, 3.85, 3.88, 3.92, 3.95, 3.98, 4.01, 4.04, 4.07, 4.11, 4.14, 4.17, 4.2, 4.23, 4.27, 4.3, 4.33, 4.36, 4.39, 4.43, 4.46, 4.49, 4.52, 4.55, 4.59, 4.62, 4.65, 4.68, 4.71, 4.75, 4.78, 4.81, 4.84, 4.87, 4.9, 4.94, 4.97, 5.0, 5.03, 5.06, 5.1, 5.13, 5.16]}, {\"line\": {\"color\": \"gray\", \"width\": 2}, \"name\": \"Pipe Crown\", \"showlegend\": false, \"type\": \"scatter\", \"visible\": false, \"x\": [0, 2, 4, 6, 8, 10, 12, 14, 16, 18, 20, 22, 24, 26, 28, 30, 32, 34, 36, 38, 40, 42, 44, 46, 48, 51, 53, 55, 57, 59, 61, 63, 65, 67, 69, 71, 73, 75, 77, 79, 81, 83, 85, 87, 89, 91, 93, 95, 97, 99, 101, 103, 105, 107, 109, 111, 113, 115, 117, 119, 121, 123, 125, 127, 129, 131, 133, 135, 137, 139, 141, 143, 145, 147, 149, 152, 154, 156, 158, 160, 162, 164, 166, 168, 170, 172, 174, 176, 178, 180, 182, 184, 186, 188, 190, 192, 194, 196, 198, 200], \"y\": [2.0, 2.04, 2.07, 2.11, 2.15, 2.19, 2.22, 2.26, 2.3, 2.33, 2.37, 2.41, 2.45, 2.48, 2.52, 2.56, 2.59, 2.63, 2.67, 2.71, 2.74, 2.78, 2.82, 2.85, 2.89, 2.93, 2.97, 3.0, 3.04, 3.08, 3.12, 3.15, 3.19, 3.23, 3.26, 3.3, 3.34, 3.38, 3.41, 3.45, 3.49, 3.52, 3.56, 3.6, 3.64, 3.67, 3.71, 3.75, 3.78, 3.82, 3.86, 3.9, 3.93, 3.97, 4.01, 4.04, 4.08, 4.12, 4.16, 4.19, 4.23, 4.27, 4.3, 4.34, 4.38, 4.42, 4.45, 4.49, 4.53, 4.56, 4.6, 4.64, 4.68, 4.71, 4.75, 4.79, 4.83, 4.86, 4.9, 4.94, 4.97, 5.01, 5.05, 5.09, 5.12, 5.16, 5.2, 5.23, 5.27, 5.31, 5.35, 5.38, 5.42, 5.46, 5.49, 5.53, 5.57, 5.61, 5.64, 5.68]}, {\"line\": {\"color\": \"gray\", \"width\": 2}, \"name\": \"Pipe Crown\", \"showlegend\": false, \"type\": \"scatter\", \"visible\": false, \"x\": [0, 2, 4, 6, 8, 10, 12, 14, 16, 18, 20, 22, 24, 26, 28, 30, 32, 34, 36, 38, 40, 42, 44, 46, 48, 51, 53, 55, 57, 59, 61, 63, 65, 67, 69, 71, 73, 75, 77, 79, 81, 83, 85, 87, 89, 91, 93, 95, 97, 99, 101, 103, 105, 107, 109, 111, 113, 115, 117, 119, 121, 123, 125, 127, 129, 131, 133, 135, 137, 139, 141, 143, 145, 147, 149, 152, 154, 156, 158, 160, 162, 164, 166, 168, 170, 172, 174, 176, 178, 180, 182, 184, 186, 188, 190, 192, 194, 196, 198, 200], \"y\": [2.0, 2.04, 2.09, 2.13, 2.17, 2.21, 2.26, 2.3, 2.34, 2.38, 2.43, 2.47, 2.51, 2.55, 2.6, 2.64, 2.68, 2.72, 2.77, 2.81, 2.85, 2.9, 2.94, 2.98, 3.02, 3.07, 3.11, 3.15, 3.19, 3.24, 3.28, 3.32, 3.36, 3.41, 3.45, 3.49, 3.53, 3.58, 3.62, 3.66, 3.71, 3.75, 3.79, 3.83, 3.88, 3.92, 3.96, 4.0, 4.05, 4.09, 4.13, 4.17, 4.22, 4.26, 4.3, 4.34, 4.39, 4.43, 4.47, 4.51, 4.56, 4.6, 4.64, 4.69, 4.73, 4.77, 4.81, 4.86, 4.9, 4.94, 4.98, 5.03, 5.07, 5.11, 5.15, 5.2, 5.24, 5.28, 5.32, 5.37, 5.41, 5.45, 5.5, 5.54, 5.58, 5.62, 5.67, 5.71, 5.75, 5.79, 5.84, 5.88, 5.92, 5.96, 6.01, 6.05, 6.09, 6.13, 6.18, 6.22]}, {\"line\": {\"color\": \"gray\", \"width\": 2}, \"name\": \"Pipe Crown\", \"showlegend\": false, \"type\": \"scatter\", \"visible\": false, \"x\": [0, 2, 4, 6, 8, 10, 12, 14, 16, 18, 20, 22, 24, 26, 28, 30, 32, 34, 36, 38, 40, 42, 44, 46, 48, 51, 53, 55, 57, 59, 61, 63, 65, 67, 69, 71, 73, 75, 77, 79, 81, 83, 85, 87, 89, 91, 93, 95, 97, 99, 101, 103, 105, 107, 109, 111, 113, 115, 117, 119, 121, 123, 125, 127, 129, 131, 133, 135, 137, 139, 141, 143, 145, 147, 149, 152, 154, 156, 158, 160, 162, 164, 166, 168, 170, 172, 174, 176, 178, 180, 182, 184, 186, 188, 190, 192, 194, 196, 198, 200], \"y\": [2.0, 2.05, 2.1, 2.14, 2.19, 2.24, 2.29, 2.34, 2.38, 2.43, 2.48, 2.53, 2.57, 2.62, 2.67, 2.72, 2.77, 2.81, 2.86, 2.91, 2.96, 3.01, 3.05, 3.1, 3.15, 3.2, 3.24, 3.29, 3.34, 3.39, 3.44, 3.48, 3.53, 3.58, 3.63, 3.68, 3.72, 3.77, 3.82, 3.87, 3.92, 3.96, 4.01, 4.06, 4.11, 4.15, 4.2, 4.25, 4.3, 4.35, 4.39, 4.44, 4.49, 4.54, 4.59, 4.63, 4.68, 4.73, 4.78, 4.82, 4.87, 4.92, 4.97, 5.02, 5.06, 5.11, 5.16, 5.21, 5.26, 5.3, 5.35, 5.4, 5.45, 5.5, 5.54, 5.59, 5.64, 5.69, 5.73, 5.78, 5.83, 5.88, 5.93, 5.97, 6.02, 6.07, 6.12, 6.17, 6.21, 6.26, 6.31, 6.36, 6.4, 6.45, 6.5, 6.55, 6.6, 6.64, 6.69, 6.74]}, {\"line\": {\"color\": \"gray\", \"width\": 2}, \"name\": \"Pipe Crown\", \"showlegend\": false, \"type\": \"scatter\", \"visible\": false, \"x\": [0, 2, 4, 6, 8, 10, 12, 14, 16, 18, 20, 22, 24, 26, 28, 30, 32, 34, 36, 38, 40, 42, 44, 46, 48, 51, 53, 55, 57, 59, 61, 63, 65, 67, 69, 71, 73, 75, 77, 79, 81, 83, 85, 87, 89, 91, 93, 95, 97, 99, 101, 103, 105, 107, 109, 111, 113, 115, 117, 119, 121, 123, 125, 127, 129, 131, 133, 135, 137, 139, 141, 143, 145, 147, 149, 152, 154, 156, 158, 160, 162, 164, 166, 168, 170, 172, 174, 176, 178, 180, 182, 184, 186, 188, 190, 192, 194, 196, 198, 200], \"y\": [2.0, 2.05, 2.11, 2.16, 2.21, 2.27, 2.32, 2.37, 2.43, 2.48, 2.53, 2.58, 2.64, 2.69, 2.74, 2.8, 2.85, 2.9, 2.96, 3.01, 3.06, 3.12, 3.17, 3.22, 3.28, 3.33, 3.38, 3.43, 3.49, 3.54, 3.59, 3.65, 3.7, 3.75, 3.81, 3.86, 3.91, 3.97, 4.02, 4.07, 4.13, 4.18, 4.23, 4.28, 4.34, 4.39, 4.44, 4.5, 4.55, 4.6, 4.66, 4.71, 4.76, 4.82, 4.87, 4.92, 4.98, 5.03, 5.08, 5.13, 5.19, 5.24, 5.29, 5.35, 5.4, 5.45, 5.51, 5.56, 5.61, 5.67, 5.72, 5.77, 5.83, 5.88, 5.93, 5.98, 6.04, 6.09, 6.14, 6.2, 6.25, 6.3, 6.36, 6.41, 6.46, 6.52, 6.57, 6.62, 6.68, 6.73, 6.78, 6.83, 6.89, 6.94, 6.99, 7.05, 7.1, 7.15, 7.21, 7.26]}, {\"line\": {\"color\": \"gray\", \"width\": 2}, \"name\": \"Pipe Crown\", \"showlegend\": false, \"type\": \"scatter\", \"visible\": false, \"x\": [0, 2, 4, 6, 8, 10, 12, 14, 16, 18, 20, 22, 24, 26, 28, 30, 32, 34, 36, 38, 40, 42, 44, 46, 48, 51, 53, 55, 57, 59, 61, 63, 65, 67, 69, 71, 73, 75, 77, 79, 81, 83, 85, 87, 89, 91, 93, 95, 97, 99, 101, 103, 105, 107, 109, 111, 113, 115, 117, 119, 121, 123, 125, 127, 129, 131, 133, 135, 137, 139, 141, 143, 145, 147, 149, 152, 154, 156, 158, 160, 162, 164, 166, 168, 170, 172, 174, 176, 178, 180, 182, 184, 186, 188, 190, 192, 194, 196, 198, 200], \"y\": [2.0, 2.06, 2.12, 2.18, 2.23, 2.29, 2.35, 2.41, 2.47, 2.53, 2.58, 2.64, 2.7, 2.76, 2.82, 2.88, 2.93, 2.99, 3.05, 3.11, 3.17, 3.23, 3.28, 3.34, 3.4, 3.46, 3.52, 3.58, 3.63, 3.69, 3.75, 3.81, 3.87, 3.93, 3.99, 4.04, 4.1, 4.16, 4.22, 4.28, 4.34, 4.39, 4.45, 4.51, 4.57, 4.63, 4.69, 4.74, 4.8, 4.86, 4.92, 4.98, 5.04, 5.09, 5.15, 5.21, 5.27, 5.33, 5.39, 5.44, 5.5, 5.56, 5.62, 5.68, 5.74, 5.79, 5.85, 5.91, 5.97, 6.03, 6.09, 6.15, 6.2, 6.26, 6.32, 6.38, 6.44, 6.5, 6.55, 6.61, 6.67, 6.73, 6.79, 6.85, 6.9, 6.96, 7.02, 7.08, 7.14, 7.2, 7.25, 7.31, 7.37, 7.43, 7.49, 7.55, 7.6, 7.66, 7.72, 7.78]}, {\"line\": {\"color\": \"gray\", \"width\": 2}, \"name\": \"Pipe Crown\", \"showlegend\": false, \"type\": \"scatter\", \"visible\": false, \"x\": [0, 2, 4, 6, 8, 10, 12, 14, 16, 18, 20, 22, 24, 26, 28, 30, 32, 34, 36, 38, 40, 42, 44, 46, 48, 51, 53, 55, 57, 59, 61, 63, 65, 67, 69, 71, 73, 75, 77, 79, 81, 83, 85, 87, 89, 91, 93, 95, 97, 99, 101, 103, 105, 107, 109, 111, 113, 115, 117, 119, 121, 123, 125, 127, 129, 131, 133, 135, 137, 139, 141, 143, 145, 147, 149, 152, 154, 156, 158, 160, 162, 164, 166, 168, 170, 172, 174, 176, 178, 180, 182, 184, 186, 188, 190, 192, 194, 196, 198, 200], \"y\": [2.0, 2.06, 2.13, 2.19, 2.26, 2.32, 2.38, 2.45, 2.51, 2.57, 2.64, 2.7, 2.77, 2.83, 2.89, 2.96, 3.02, 3.09, 3.15, 3.21, 3.28, 3.34, 3.4, 3.47, 3.53, 3.6, 3.66, 3.72, 3.79, 3.85, 3.92, 3.98, 4.04, 4.11, 4.17, 4.23, 4.3, 4.36, 4.43, 4.49, 4.55, 4.62, 4.68, 4.75, 4.81, 4.87, 4.94, 5.0, 5.06, 5.13, 5.19, 5.26, 5.32, 5.38, 5.45, 5.51, 5.57, 5.64, 5.7, 5.77, 5.83, 5.89, 5.96, 6.02, 6.09, 6.15, 6.21, 6.28, 6.34, 6.4, 6.47, 6.53, 6.6, 6.66, 6.72, 6.79, 6.85, 6.92, 6.98, 7.04, 7.11, 7.17, 7.23, 7.3, 7.36, 7.43, 7.49, 7.55, 7.62, 7.68, 7.75, 7.81, 7.87, 7.94, 8.0, 8.06, 8.13, 8.19, 8.26, 8.32]}, {\"line\": {\"color\": \"gray\", \"width\": 2}, \"name\": \"Pipe Crown\", \"showlegend\": false, \"type\": \"scatter\", \"visible\": false, \"x\": [0, 2, 4, 6, 8, 10, 12, 14, 16, 18, 20, 22, 24, 26, 28, 30, 32, 34, 36, 38, 40, 42, 44, 46, 48, 51, 53, 55, 57, 59, 61, 63, 65, 67, 69, 71, 73, 75, 77, 79, 81, 83, 85, 87, 89, 91, 93, 95, 97, 99, 101, 103, 105, 107, 109, 111, 113, 115, 117, 119, 121, 123, 125, 127, 129, 131, 133, 135, 137, 139, 141, 143, 145, 147, 149, 152, 154, 156, 158, 160, 162, 164, 166, 168, 170, 172, 174, 176, 178, 180, 182, 184, 186, 188, 190, 192, 194, 196, 198, 200], \"y\": [2.0, 2.07, 2.14, 2.21, 2.28, 2.35, 2.41, 2.48, 2.55, 2.62, 2.69, 2.76, 2.83, 2.9, 2.97, 3.04, 3.11, 3.17, 3.24, 3.31, 3.38, 3.45, 3.52, 3.59, 3.66, 3.73, 3.8, 3.87, 3.93, 4.0, 4.07, 4.14, 4.21, 4.28, 4.35, 4.42, 4.49, 4.56, 4.63, 4.69, 4.76, 4.83, 4.9, 4.97, 5.04, 5.11, 5.18, 5.25, 5.32, 5.39, 5.45, 5.52, 5.59, 5.66, 5.73, 5.8, 5.87, 5.94, 6.01, 6.08, 6.15, 6.21, 6.28, 6.35, 6.42, 6.49, 6.56, 6.63, 6.7, 6.77, 6.84, 6.91, 6.97, 7.04, 7.11, 7.18, 7.25, 7.32, 7.39, 7.46, 7.53, 7.6, 7.67, 7.73, 7.8, 7.87, 7.94, 8.01, 8.08, 8.15, 8.22, 8.29, 8.36, 8.43, 8.49, 8.56, 8.63, 8.7, 8.77, 8.84]}, {\"line\": {\"color\": \"gray\", \"width\": 2}, \"name\": \"Pipe Crown\", \"showlegend\": false, \"type\": \"scatter\", \"visible\": false, \"x\": [0, 2, 4, 6, 8, 10, 12, 14, 16, 18, 20, 22, 24, 26, 28, 30, 32, 34, 36, 38, 40, 42, 44, 46, 48, 51, 53, 55, 57, 59, 61, 63, 65, 67, 69, 71, 73, 75, 77, 79, 81, 83, 85, 87, 89, 91, 93, 95, 97, 99, 101, 103, 105, 107, 109, 111, 113, 115, 117, 119, 121, 123, 125, 127, 129, 131, 133, 135, 137, 139, 141, 143, 145, 147, 149, 152, 154, 156, 158, 160, 162, 164, 166, 168, 170, 172, 174, 176, 178, 180, 182, 184, 186, 188, 190, 192, 194, 196, 198, 200], \"y\": [2.0, 2.07, 2.15, 2.22, 2.3, 2.37, 2.45, 2.52, 2.59, 2.67, 2.74, 2.82, 2.89, 2.97, 3.04, 3.12, 3.19, 3.26, 3.34, 3.41, 3.49, 3.56, 3.64, 3.71, 3.78, 3.86, 3.93, 4.01, 4.08, 4.16, 4.23, 4.3, 4.38, 4.45, 4.53, 4.6, 4.68, 4.75, 4.83, 4.9, 4.97, 5.05, 5.12, 5.2, 5.27, 5.35, 5.42, 5.49, 5.57, 5.64, 5.72, 5.79, 5.87, 5.94, 6.01, 6.09, 6.16, 6.24, 6.31, 6.39, 6.46, 6.53, 6.61, 6.68, 6.76, 6.83, 6.91, 6.98, 7.06, 7.13, 7.2, 7.28, 7.35, 7.43, 7.5, 7.58, 7.65, 7.72, 7.8, 7.87, 7.95, 8.02, 8.1, 8.17, 8.24, 8.32, 8.39, 8.47, 8.54, 8.62, 8.69, 8.77, 8.84, 8.91, 8.99, 9.06, 9.14, 9.21, 9.29, 9.36]}, {\"line\": {\"color\": \"gray\", \"width\": 2}, \"name\": \"Pipe Crown\", \"showlegend\": false, \"type\": \"scatter\", \"visible\": false, \"x\": [0, 2, 4, 6, 8, 10, 12, 14, 16, 18, 20, 22, 24, 26, 28, 30, 32, 34, 36, 38, 40, 42, 44, 46, 48, 51, 53, 55, 57, 59, 61, 63, 65, 67, 69, 71, 73, 75, 77, 79, 81, 83, 85, 87, 89, 91, 93, 95, 97, 99, 101, 103, 105, 107, 109, 111, 113, 115, 117, 119, 121, 123, 125, 127, 129, 131, 133, 135, 137, 139, 141, 143, 145, 147, 149, 152, 154, 156, 158, 160, 162, 164, 166, 168, 170, 172, 174, 176, 178, 180, 182, 184, 186, 188, 190, 192, 194, 196, 198, 200], \"y\": [2.0, 2.08, 2.16, 2.24, 2.32, 2.4, 2.48, 2.56, 2.64, 2.72, 2.8, 2.88, 2.96, 3.04, 3.12, 3.2, 3.28, 3.36, 3.44, 3.52, 3.6, 3.68, 3.76, 3.84, 3.92, 3.99, 4.07, 4.15, 4.23, 4.31, 4.39, 4.47, 4.55, 4.63, 4.71, 4.79, 4.87, 4.95, 5.03, 5.11, 5.19, 5.27, 5.35, 5.43, 5.51, 5.59, 5.67, 5.75, 5.83, 5.91, 5.99, 6.07, 6.15, 6.23, 6.31, 6.39, 6.47, 6.55, 6.63, 6.71, 6.79, 6.87, 6.95, 7.03, 7.11, 7.19, 7.27, 7.35, 7.43, 7.51, 7.59, 7.67, 7.75, 7.83, 7.91, 7.98, 8.06, 8.14, 8.22, 8.3, 8.38, 8.46, 8.54, 8.62, 8.7, 8.78, 8.86, 8.94, 9.02, 9.1, 9.18, 9.26, 9.34, 9.42, 9.5, 9.58, 9.66, 9.74, 9.82, 9.9]}, {\"line\": {\"color\": \"gray\", \"width\": 2}, \"name\": \"Pipe Crown\", \"showlegend\": false, \"type\": \"scatter\", \"visible\": false, \"x\": [0, 2, 4, 6, 8, 10, 12, 14, 16, 18, 20, 22, 24, 26, 28, 30, 32, 34, 36, 38, 40, 42, 44, 46, 48, 51, 53, 55, 57, 59, 61, 63, 65, 67, 69, 71, 73, 75, 77, 79, 81, 83, 85, 87, 89, 91, 93, 95, 97, 99, 101, 103, 105, 107, 109, 111, 113, 115, 117, 119, 121, 123, 125, 127, 129, 131, 133, 135, 137, 139, 141, 143, 145, 147, 149, 152, 154, 156, 158, 160, 162, 164, 166, 168, 170, 172, 174, 176, 178, 180, 182, 184, 186, 188, 190, 192, 194, 196, 198, 200], \"y\": [2.0, 2.09, 2.17, 2.26, 2.34, 2.43, 2.51, 2.6, 2.68, 2.77, 2.85, 2.94, 3.02, 3.11, 3.19, 3.28, 3.36, 3.45, 3.53, 3.62, 3.7, 3.79, 3.87, 3.96, 4.04, 4.13, 4.21, 4.3, 4.38, 4.47, 4.55, 4.64, 4.72, 4.81, 4.89, 4.98, 5.06, 5.15, 5.23, 5.32, 5.4, 5.49, 5.57, 5.66, 5.74, 5.83, 5.91, 6.0, 6.08, 6.17, 6.25, 6.34, 6.42, 6.51, 6.59, 6.68, 6.76, 6.85, 6.93, 7.02, 7.1, 7.19, 7.27, 7.36, 7.44, 7.53, 7.61, 7.7, 7.78, 7.87, 7.95, 8.04, 8.12, 8.21, 8.29, 8.38, 8.46, 8.55, 8.63, 8.72, 8.8, 8.89, 8.97, 9.06, 9.14, 9.23, 9.31, 9.4, 9.48, 9.57, 9.65, 9.74, 9.82, 9.91, 9.99, 10.08, 10.16, 10.25, 10.33, 10.42]}, {\"line\": {\"color\": \"gray\", \"width\": 2}, \"name\": \"Pipe Crown\", \"showlegend\": false, \"type\": \"scatter\", \"visible\": false, \"x\": [0, 2, 4, 6, 8, 10, 12, 14, 16, 18, 20, 22, 24, 26, 28, 30, 32, 34, 36, 38, 40, 42, 44, 46, 48, 51, 53, 55, 57, 59, 61, 63, 65, 67, 69, 71, 73, 75, 77, 79, 81, 83, 85, 87, 89, 91, 93, 95, 97, 99, 101, 103, 105, 107, 109, 111, 113, 115, 117, 119, 121, 123, 125, 127, 129, 131, 133, 135, 137, 139, 141, 143, 145, 147, 149, 152, 154, 156, 158, 160, 162, 164, 166, 168, 170, 172, 174, 176, 178, 180, 182, 184, 186, 188, 190, 192, 194, 196, 198, 200], \"y\": [2.0, 2.09, 2.18, 2.27, 2.36, 2.45, 2.54, 2.63, 2.72, 2.81, 2.9, 2.99, 3.08, 3.17, 3.26, 3.35, 3.44, 3.54, 3.63, 3.72, 3.81, 3.9, 3.99, 4.08, 4.17, 4.26, 4.35, 4.44, 4.53, 4.62, 4.71, 4.8, 4.89, 4.98, 5.07, 5.16, 5.25, 5.34, 5.43, 5.52, 5.61, 5.7, 5.79, 5.88, 5.97, 6.06, 6.15, 6.24, 6.33, 6.42, 6.52, 6.61, 6.7, 6.79, 6.88, 6.97, 7.06, 7.15, 7.24, 7.33, 7.42, 7.51, 7.6, 7.69, 7.78, 7.87, 7.96, 8.05, 8.14, 8.23, 8.32, 8.41, 8.5, 8.59, 8.68, 8.77, 8.86, 8.95, 9.04, 9.13, 9.22, 9.31, 9.4, 9.5, 9.59, 9.68, 9.77, 9.86, 9.95, 10.04, 10.13, 10.22, 10.31, 10.4, 10.49, 10.58, 10.67, 10.76, 10.85, 10.94]}, {\"line\": {\"color\": \"gray\", \"width\": 2}, \"name\": \"Pipe Crown\", \"showlegend\": false, \"type\": \"scatter\", \"visible\": false, \"x\": [0, 2, 4, 6, 8, 10, 12, 14, 16, 18, 20, 22, 24, 26, 28, 30, 32, 34, 36, 38, 40, 42, 44, 46, 48, 51, 53, 55, 57, 59, 61, 63, 65, 67, 69, 71, 73, 75, 77, 79, 81, 83, 85, 87, 89, 91, 93, 95, 97, 99, 101, 103, 105, 107, 109, 111, 113, 115, 117, 119, 121, 123, 125, 127, 129, 131, 133, 135, 137, 139, 141, 143, 145, 147, 149, 152, 154, 156, 158, 160, 162, 164, 166, 168, 170, 172, 174, 176, 178, 180, 182, 184, 186, 188, 190, 192, 194, 196, 198, 200], \"y\": [2.0, 2.1, 2.19, 2.29, 2.38, 2.48, 2.57, 2.67, 2.77, 2.86, 2.96, 3.05, 3.15, 3.24, 3.34, 3.44, 3.53, 3.63, 3.72, 3.82, 3.92, 4.01, 4.11, 4.2, 4.3, 4.39, 4.49, 4.59, 4.68, 4.78, 4.87, 4.97, 5.06, 5.16, 5.26, 5.35, 5.45, 5.54, 5.64, 5.73, 5.83, 5.93, 6.02, 6.12, 6.21, 6.31, 6.4, 6.5, 6.6, 6.69, 6.79, 6.88, 6.98, 7.08, 7.17, 7.27, 7.36, 7.46, 7.55, 7.65, 7.75, 7.84, 7.94, 8.03, 8.13, 8.22, 8.32, 8.42, 8.51, 8.61, 8.7, 8.8, 8.89, 8.99, 9.09, 9.18, 9.28, 9.37, 9.47, 9.56, 9.66, 9.76, 9.85, 9.95, 10.04, 10.14, 10.24, 10.33, 10.43, 10.52, 10.62, 10.71, 10.81, 10.91, 11.0, 11.1, 11.19, 11.29, 11.38, 11.48]}, {\"line\": {\"color\": \"gray\", \"width\": 2}, \"name\": \"Pipe Crown\", \"showlegend\": false, \"type\": \"scatter\", \"visible\": false, \"x\": [0, 2, 4, 6, 8, 10, 12, 14, 16, 18, 20, 22, 24, 26, 28, 30, 32, 34, 36, 38, 40, 42, 44, 46, 48, 51, 53, 55, 57, 59, 61, 63, 65, 67, 69, 71, 73, 75, 77, 79, 81, 83, 85, 87, 89, 91, 93, 95, 97, 99, 101, 103, 105, 107, 109, 111, 113, 115, 117, 119, 121, 123, 125, 127, 129, 131, 133, 135, 137, 139, 141, 143, 145, 147, 149, 152, 154, 156, 158, 160, 162, 164, 166, 168, 170, 172, 174, 176, 178, 180, 182, 184, 186, 188, 190, 192, 194, 196, 198, 200], \"y\": [2.0, 2.1, 2.2, 2.3, 2.4, 2.51, 2.61, 2.71, 2.81, 2.91, 3.01, 3.11, 3.21, 3.31, 3.41, 3.52, 3.62, 3.72, 3.82, 3.92, 4.02, 4.12, 4.22, 4.32, 4.42, 4.53, 4.63, 4.73, 4.83, 4.93, 5.03, 5.13, 5.23, 5.33, 5.43, 5.54, 5.64, 5.74, 5.84, 5.94, 6.04, 6.14, 6.24, 6.34, 6.44, 6.55, 6.65, 6.75, 6.85, 6.95, 7.05, 7.15, 7.25, 7.35, 7.45, 7.56, 7.66, 7.76, 7.86, 7.96, 8.06, 8.16, 8.26, 8.36, 8.46, 8.57, 8.67, 8.77, 8.87, 8.97, 9.07, 9.17, 9.27, 9.37, 9.47, 9.58, 9.68, 9.78, 9.88, 9.98, 10.08, 10.18, 10.28, 10.38, 10.48, 10.59, 10.69, 10.79, 10.89, 10.99, 11.09, 11.19, 11.29, 11.39, 11.49, 11.6, 11.7, 11.8, 11.9, 12.0]}, {\"line\": {\"color\": \"royalblue\", \"width\": 2}, \"name\": \"Liquid Level\", \"type\": \"scatter\", \"visible\": true, \"x\": [0, 2, 4, 6, 8, 10, 12, 14, 16, 18, 20, 22, 24, 26, 28, 30, 32, 34, 36, 38, 40, 42, 44, 46, 48, 51, 53, 55, 57, 59, 61, 63, 65, 67, 69, 71, 73, 75, 77, 79, 81, 83, 85, 87, 89, 91, 93, 95, 97, 99, 101, 103, 105, 107, 109, 111, 113, 115, 117, 119, 121, 123, 125, 127, 129, 131, 133, 135, 137, 139, 141, 143, 145, 147, 149, 152, 154, 156, 158, 160, 162, 164, 166, 168, 170, 172, 174, 176, 178, 180, 182, 184, 186, 188, 190, 192, 194, 196, 198, 200], \"y\": [1, 1, 1, 1, 1, 1, 1, 1, 1, 1, 1, 1, 1, 1, 1, 1, 1, 1, 1, 1, 1, 1, 1, 1, 1, 1, 1, 1, 1, 1, 1, 1, 1, 1, 1, 1, 1, 1, 1, 1, 1, 1, 1, 1, 1, 1, 1, 1, 1, 1, 1, 1, 1, 1, 1, 1, 1, 1, 1, 1, 1, 1, 1, 1, 1, 1, 1, 1, 1, 1, 1, 1, 1, 1, 1, 1, 1, 1, 1, 1, 1, 1, 1, 1, 1, 1, 1, 1, 1, 1, 1, 1, 1, 1, 1, 1, 1, 1, 1, 1]}, {\"line\": {\"color\": \"royalblue\", \"width\": 2}, \"name\": \"Liquid Level\", \"type\": \"scatter\", \"visible\": false, \"x\": [0, 2, 4, 6, 8, 10, 12, 14, 16, 18, 20, 22, 24, 26, 28, 30, 32, 34, 36, 38, 40, 42, 44, 46, 48, 51, 53, 55, 57, 59, 61, 63, 65, 67, 69, 71, 73, 75, 77, 79, 81, 83, 85, 87, 89, 91, 93, 95, 97, 99, 101, 103, 105, 107, 109, 111, 113, 115, 117, 119, 121, 123, 125, 127, 129, 131, 133, 135, 137, 139, 141, 143, 145, 147, 149, 152, 154, 156, 158, 160, 162, 164, 166, 168, 170, 172, 174, 176, 178, 180, 182, 184, 186, 188, 190, 192, 194, 196, 198, 200], \"y\": [1, 1, 1, 1, 1, 1, 1, 1, 1, 1, 1, 1, 1, 1, 1, 1, 1, 1, 1, 1, 1, 1, 1, 1, 1, 1, 1, 1, 1, 1, 1, 1, 1, 1, 1, 1, 1, 1, 1, 1, 1, 1, 1, 1, 1, 1, 1, 1, 1, 1, 1, 1, 1, 1, 1, 1, 1, 1, 1, 1, 1, 1, 1, 1, 1, 1, 1, 1, 1, 1, 1, 1, 1, 1, 1, 1, 1, 1, 1, 1, 1, 1, 1, 1, 1, 1, 1, 1, 1, 1, 1, 1, 1, 1, 1, 1, 1, 1, 1, 1]}, {\"line\": {\"color\": \"royalblue\", \"width\": 2}, \"name\": \"Liquid Level\", \"type\": \"scatter\", \"visible\": false, \"x\": [0, 2, 4, 6, 8, 10, 12, 14, 16, 18, 20, 22, 24, 26, 28, 30, 32, 34, 36, 38, 40, 42, 44, 46, 48, 51, 53, 55, 57, 59, 61, 63, 65, 67, 69, 71, 73, 75, 77, 79, 81, 83, 85, 87, 89, 91, 93, 95, 97, 99, 101, 103, 105, 107, 109, 111, 113, 115, 117, 119, 121, 123, 125, 127, 129, 131, 133, 135, 137, 139, 141, 143, 145, 147, 149, 152, 154, 156, 158, 160, 162, 164, 166, 168, 170, 172, 174, 176, 178, 180, 182, 184, 186, 188, 190, 192, 194, 196, 198, 200], \"y\": [1.0, 1.0, 1.0, 1.0, 1.0, 1.0, 1.0, 1.0, 1.0, 1.0, 1.0, 1.0, 1.0, 1.0, 1.0, 1.0, 1.0, 1.0, 1.0, 1.0, 1.0, 1.0, 1.0, 1.0, 1.0, 1.0, 1.0, 1.0, 1.0, 1.0, 1.0, 1.0, 1.0, 1.0, 1.0, 1.0, 1.0, 1.0, 1.0, 1.0, 1.0, 1.0, 1.0, 1.0, 1.0, 1.0, 1.0, 1.0, 1.0, 1.0, 1.0, 1.0, 1.0, 1.0, 1.0, 1.0, 1.0, 1.0, 1.0, 1.0, 1.0, 1.0, 1.0, 1.0, 1.0, 1.0, 1.0, 1.0, 1.0, 1.0, 1.0, 1.0, 1.0, 1.0, 1.0, 1.0, 1.0, 1.0, 1.0, 1.0, 1.0, 1.0, 1.0, 1.0, 1.0, 1.0, 1.0, 1.0, 1.0, 1.0, 1.0, 1.0, 1.0, 1.0, null, null, null, null, null, null]}, {\"line\": {\"color\": \"royalblue\", \"width\": 2}, \"name\": \"Liquid Level\", \"type\": \"scatter\", \"visible\": false, \"x\": [0, 2, 4, 6, 8, 10, 12, 14, 16, 18, 20, 22, 24, 26, 28, 30, 32, 34, 36, 38, 40, 42, 44, 46, 48, 51, 53, 55, 57, 59, 61, 63, 65, 67, 69, 71, 73, 75, 77, 79, 81, 83, 85, 87, 89, 91, 93, 95, 97, 99, 101, 103, 105, 107, 109, 111, 113, 115, 117, 119, 121, 123, 125, 127, 129, 131, 133, 135, 137, 139, 141, 143, 145, 147, 149, 152, 154, 156, 158, 160, 162, 164, 166, 168, 170, 172, 174, 176, 178, 180, 182, 184, 186, 188, 190, 192, 194, 196, 198, 200], \"y\": [1.0, 1.0, 1.0, 1.0, 1.0, 1.0, 1.0, 1.0, 1.0, 1.0, 1.0, 1.0, 1.0, 1.0, 1.0, 1.0, 1.0, 1.0, 1.0, 1.0, 1.0, 1.0, 1.0, 1.0, 1.0, 1.0, 1.0, 1.0, 1.0, 1.0, 1.0, 1.0, 1.0, 1.0, 1.0, 1.0, 1.0, 1.0, 1.0, 1.0, 1.0, 1.0, 1.0, 1.0, 1.0, 1.0, 1.0, 1.0, 1.0, 1.0, 1.0, 1.0, 1.0, 1.0, 1.0, 1.0, 1.0, 1.0, 1.0, 1.0, 1.0, 1.0, 1.0, null, null, null, null, null, null, null, null, null, null, null, null, null, null, null, null, null, null, null, null, null, null, null, null, null, null, null, null, null, null, null, null, null, null, null, null, null]}, {\"line\": {\"color\": \"royalblue\", \"width\": 2}, \"name\": \"Liquid Level\", \"type\": \"scatter\", \"visible\": false, \"x\": [0, 2, 4, 6, 8, 10, 12, 14, 16, 18, 20, 22, 24, 26, 28, 30, 32, 34, 36, 38, 40, 42, 44, 46, 48, 51, 53, 55, 57, 59, 61, 63, 65, 67, 69, 71, 73, 75, 77, 79, 81, 83, 85, 87, 89, 91, 93, 95, 97, 99, 101, 103, 105, 107, 109, 111, 113, 115, 117, 119, 121, 123, 125, 127, 129, 131, 133, 135, 137, 139, 141, 143, 145, 147, 149, 152, 154, 156, 158, 160, 162, 164, 166, 168, 170, 172, 174, 176, 178, 180, 182, 184, 186, 188, 190, 192, 194, 196, 198, 200], \"y\": [1.0, 1.0, 1.0, 1.0, 1.0, 1.0, 1.0, 1.0, 1.0, 1.0, 1.0, 1.0, 1.0, 1.0, 1.0, 1.0, 1.0, 1.0, 1.0, 1.0, 1.0, 1.0, 1.0, 1.0, 1.0, 1.0, 1.0, 1.0, 1.0, 1.0, 1.0, 1.0, 1.0, 1.0, 1.0, 1.0, 1.0, 1.0, 1.0, 1.0, 1.0, 1.0, 1.0, 1.0, 1.0, 1.0, 1.0, 1.0, null, null, null, null, null, null, null, null, null, null, null, null, null, null, null, null, null, null, null, null, null, null, null, null, null, null, null, null, null, null, null, null, null, null, null, null, null, null, null, null, null, null, null, null, null, null, null, null, null, null, null, null]}, {\"line\": {\"color\": \"royalblue\", \"width\": 2}, \"name\": \"Liquid Level\", \"type\": \"scatter\", \"visible\": false, \"x\": [0, 2, 4, 6, 8, 10, 12, 14, 16, 18, 20, 22, 24, 26, 28, 30, 32, 34, 36, 38, 40, 42, 44, 46, 48, 51, 53, 55, 57, 59, 61, 63, 65, 67, 69, 71, 73, 75, 77, 79, 81, 83, 85, 87, 89, 91, 93, 95, 97, 99, 101, 103, 105, 107, 109, 111, 113, 115, 117, 119, 121, 123, 125, 127, 129, 131, 133, 135, 137, 139, 141, 143, 145, 147, 149, 152, 154, 156, 158, 160, 162, 164, 166, 168, 170, 172, 174, 176, 178, 180, 182, 184, 186, 188, 190, 192, 194, 196, 198, 200], \"y\": [1.0, 1.0, 1.0, 1.0, 1.0, 1.0, 1.0, 1.0, 1.0, 1.0, 1.0, 1.0, 1.0, 1.0, 1.0, 1.0, 1.0, 1.0, 1.0, 1.0, 1.0, 1.0, 1.0, 1.0, 1.0, 1.0, 1.0, 1.0, 1.0, 1.0, 1.0, 1.0, 1.0, 1.0, 1.0, 1.0, 1.0, 1.0, null, null, null, null, null, null, null, null, null, null, null, null, null, null, null, null, null, null, null, null, null, null, null, null, null, null, null, null, null, null, null, null, null, null, null, null, null, null, null, null, null, null, null, null, null, null, null, null, null, null, null, null, null, null, null, null, null, null, null, null, null, null]}, {\"line\": {\"color\": \"royalblue\", \"width\": 2}, \"name\": \"Liquid Level\", \"type\": \"scatter\", \"visible\": false, \"x\": [0, 2, 4, 6, 8, 10, 12, 14, 16, 18, 20, 22, 24, 26, 28, 30, 32, 34, 36, 38, 40, 42, 44, 46, 48, 51, 53, 55, 57, 59, 61, 63, 65, 67, 69, 71, 73, 75, 77, 79, 81, 83, 85, 87, 89, 91, 93, 95, 97, 99, 101, 103, 105, 107, 109, 111, 113, 115, 117, 119, 121, 123, 125, 127, 129, 131, 133, 135, 137, 139, 141, 143, 145, 147, 149, 152, 154, 156, 158, 160, 162, 164, 166, 168, 170, 172, 174, 176, 178, 180, 182, 184, 186, 188, 190, 192, 194, 196, 198, 200], \"y\": [1.0, 1.0, 1.0, 1.0, 1.0, 1.0, 1.0, 1.0, 1.0, 1.0, 1.0, 1.0, 1.0, 1.0, 1.0, 1.0, 1.0, 1.0, 1.0, 1.0, 1.0, 1.0, 1.0, 1.0, 1.0, 1.0, 1.0, 1.0, 1.0, 1.0, 1.0, 1.0, null, null, null, null, null, null, null, null, null, null, null, null, null, null, null, null, null, null, null, null, null, null, null, null, null, null, null, null, null, null, null, null, null, null, null, null, null, null, null, null, null, null, null, null, null, null, null, null, null, null, null, null, null, null, null, null, null, null, null, null, null, null, null, null, null, null, null, null]}, {\"line\": {\"color\": \"royalblue\", \"width\": 2}, \"name\": \"Liquid Level\", \"type\": \"scatter\", \"visible\": false, \"x\": [0, 2, 4, 6, 8, 10, 12, 14, 16, 18, 20, 22, 24, 26, 28, 30, 32, 34, 36, 38, 40, 42, 44, 46, 48, 51, 53, 55, 57, 59, 61, 63, 65, 67, 69, 71, 73, 75, 77, 79, 81, 83, 85, 87, 89, 91, 93, 95, 97, 99, 101, 103, 105, 107, 109, 111, 113, 115, 117, 119, 121, 123, 125, 127, 129, 131, 133, 135, 137, 139, 141, 143, 145, 147, 149, 152, 154, 156, 158, 160, 162, 164, 166, 168, 170, 172, 174, 176, 178, 180, 182, 184, 186, 188, 190, 192, 194, 196, 198, 200], \"y\": [1.0, 1.0, 1.0, 1.0, 1.0, 1.0, 1.0, 1.0, 1.0, 1.0, 1.0, 1.0, 1.0, 1.0, 1.0, 1.0, 1.0, 1.0, 1.0, 1.0, 1.0, 1.0, 1.0, 1.0, 1.0, 1.0, 1.0, 1.0, null, null, null, null, null, null, null, null, null, null, null, null, null, null, null, null, null, null, null, null, null, null, null, null, null, null, null, null, null, null, null, null, null, null, null, null, null, null, null, null, null, null, null, null, null, null, null, null, null, null, null, null, null, null, null, null, null, null, null, null, null, null, null, null, null, null, null, null, null, null, null, null]}, {\"line\": {\"color\": \"royalblue\", \"width\": 2}, \"name\": \"Liquid Level\", \"type\": \"scatter\", \"visible\": false, \"x\": [0, 2, 4, 6, 8, 10, 12, 14, 16, 18, 20, 22, 24, 26, 28, 30, 32, 34, 36, 38, 40, 42, 44, 46, 48, 51, 53, 55, 57, 59, 61, 63, 65, 67, 69, 71, 73, 75, 77, 79, 81, 83, 85, 87, 89, 91, 93, 95, 97, 99, 101, 103, 105, 107, 109, 111, 113, 115, 117, 119, 121, 123, 125, 127, 129, 131, 133, 135, 137, 139, 141, 143, 145, 147, 149, 152, 154, 156, 158, 160, 162, 164, 166, 168, 170, 172, 174, 176, 178, 180, 182, 184, 186, 188, 190, 192, 194, 196, 198, 200], \"y\": [1.0, 1.0, 1.0, 1.0, 1.0, 1.0, 1.0, 1.0, 1.0, 1.0, 1.0, 1.0, 1.0, 1.0, 1.0, 1.0, 1.0, 1.0, 1.0, 1.0, 1.0, 1.0, 1.0, 1.0, null, null, null, null, null, null, null, null, null, null, null, null, null, null, null, null, null, null, null, null, null, null, null, null, null, null, null, null, null, null, null, null, null, null, null, null, null, null, null, null, null, null, null, null, null, null, null, null, null, null, null, null, null, null, null, null, null, null, null, null, null, null, null, null, null, null, null, null, null, null, null, null, null, null, null, null]}, {\"line\": {\"color\": \"royalblue\", \"width\": 2}, \"name\": \"Liquid Level\", \"type\": \"scatter\", \"visible\": false, \"x\": [0, 2, 4, 6, 8, 10, 12, 14, 16, 18, 20, 22, 24, 26, 28, 30, 32, 34, 36, 38, 40, 42, 44, 46, 48, 51, 53, 55, 57, 59, 61, 63, 65, 67, 69, 71, 73, 75, 77, 79, 81, 83, 85, 87, 89, 91, 93, 95, 97, 99, 101, 103, 105, 107, 109, 111, 113, 115, 117, 119, 121, 123, 125, 127, 129, 131, 133, 135, 137, 139, 141, 143, 145, 147, 149, 152, 154, 156, 158, 160, 162, 164, 166, 168, 170, 172, 174, 176, 178, 180, 182, 184, 186, 188, 190, 192, 194, 196, 198, 200], \"y\": [1.0, 1.0, 1.0, 1.0, 1.0, 1.0, 1.0, 1.0, 1.0, 1.0, 1.0, 1.0, 1.0, 1.0, 1.0, 1.0, 1.0, 1.0, 1.0, 1.0, 1.0, null, null, null, null, null, null, null, null, null, null, null, null, null, null, null, null, null, null, null, null, null, null, null, null, null, null, null, null, null, null, null, null, null, null, null, null, null, null, null, null, null, null, null, null, null, null, null, null, null, null, null, null, null, null, null, null, null, null, null, null, null, null, null, null, null, null, null, null, null, null, null, null, null, null, null, null, null, null, null]}, {\"line\": {\"color\": \"royalblue\", \"width\": 2}, \"name\": \"Liquid Level\", \"type\": \"scatter\", \"visible\": false, \"x\": [0, 2, 4, 6, 8, 10, 12, 14, 16, 18, 20, 22, 24, 26, 28, 30, 32, 34, 36, 38, 40, 42, 44, 46, 48, 51, 53, 55, 57, 59, 61, 63, 65, 67, 69, 71, 73, 75, 77, 79, 81, 83, 85, 87, 89, 91, 93, 95, 97, 99, 101, 103, 105, 107, 109, 111, 113, 115, 117, 119, 121, 123, 125, 127, 129, 131, 133, 135, 137, 139, 141, 143, 145, 147, 149, 152, 154, 156, 158, 160, 162, 164, 166, 168, 170, 172, 174, 176, 178, 180, 182, 184, 186, 188, 190, 192, 194, 196, 198, 200], \"y\": [1.0, 1.0, 1.0, 1.0, 1.0, 1.0, 1.0, 1.0, 1.0, 1.0, 1.0, 1.0, 1.0, 1.0, 1.0, 1.0, 1.0, 1.0, 1.0, null, null, null, null, null, null, null, null, null, null, null, null, null, null, null, null, null, null, null, null, null, null, null, null, null, null, null, null, null, null, null, null, null, null, null, null, null, null, null, null, null, null, null, null, null, null, null, null, null, null, null, null, null, null, null, null, null, null, null, null, null, null, null, null, null, null, null, null, null, null, null, null, null, null, null, null, null, null, null, null, null]}, {\"line\": {\"color\": \"royalblue\", \"width\": 2}, \"name\": \"Liquid Level\", \"type\": \"scatter\", \"visible\": false, \"x\": [0, 2, 4, 6, 8, 10, 12, 14, 16, 18, 20, 22, 24, 26, 28, 30, 32, 34, 36, 38, 40, 42, 44, 46, 48, 51, 53, 55, 57, 59, 61, 63, 65, 67, 69, 71, 73, 75, 77, 79, 81, 83, 85, 87, 89, 91, 93, 95, 97, 99, 101, 103, 105, 107, 109, 111, 113, 115, 117, 119, 121, 123, 125, 127, 129, 131, 133, 135, 137, 139, 141, 143, 145, 147, 149, 152, 154, 156, 158, 160, 162, 164, 166, 168, 170, 172, 174, 176, 178, 180, 182, 184, 186, 188, 190, 192, 194, 196, 198, 200], \"y\": [1.0, 1.0, 1.0, 1.0, 1.0, 1.0, 1.0, 1.0, 1.0, 1.0, 1.0, 1.0, 1.0, 1.0, 1.0, 1.0, 1.0, 1.0, null, null, null, null, null, null, null, null, null, null, null, null, null, null, null, null, null, null, null, null, null, null, null, null, null, null, null, null, null, null, null, null, null, null, null, null, null, null, null, null, null, null, null, null, null, null, null, null, null, null, null, null, null, null, null, null, null, null, null, null, null, null, null, null, null, null, null, null, null, null, null, null, null, null, null, null, null, null, null, null, null, null]}, {\"line\": {\"color\": \"royalblue\", \"width\": 2}, \"name\": \"Liquid Level\", \"type\": \"scatter\", \"visible\": false, \"x\": [0, 2, 4, 6, 8, 10, 12, 14, 16, 18, 20, 22, 24, 26, 28, 30, 32, 34, 36, 38, 40, 42, 44, 46, 48, 51, 53, 55, 57, 59, 61, 63, 65, 67, 69, 71, 73, 75, 77, 79, 81, 83, 85, 87, 89, 91, 93, 95, 97, 99, 101, 103, 105, 107, 109, 111, 113, 115, 117, 119, 121, 123, 125, 127, 129, 131, 133, 135, 137, 139, 141, 143, 145, 147, 149, 152, 154, 156, 158, 160, 162, 164, 166, 168, 170, 172, 174, 176, 178, 180, 182, 184, 186, 188, 190, 192, 194, 196, 198, 200], \"y\": [1.0, 1.0, 1.0, 1.0, 1.0, 1.0, 1.0, 1.0, 1.0, 1.0, 1.0, 1.0, 1.0, 1.0, 1.0, 1.0, null, null, null, null, null, null, null, null, null, null, null, null, null, null, null, null, null, null, null, null, null, null, null, null, null, null, null, null, null, null, null, null, null, null, null, null, null, null, null, null, null, null, null, null, null, null, null, null, null, null, null, null, null, null, null, null, null, null, null, null, null, null, null, null, null, null, null, null, null, null, null, null, null, null, null, null, null, null, null, null, null, null, null, null]}, {\"line\": {\"color\": \"royalblue\", \"width\": 2}, \"name\": \"Liquid Level\", \"type\": \"scatter\", \"visible\": false, \"x\": [0, 2, 4, 6, 8, 10, 12, 14, 16, 18, 20, 22, 24, 26, 28, 30, 32, 34, 36, 38, 40, 42, 44, 46, 48, 51, 53, 55, 57, 59, 61, 63, 65, 67, 69, 71, 73, 75, 77, 79, 81, 83, 85, 87, 89, 91, 93, 95, 97, 99, 101, 103, 105, 107, 109, 111, 113, 115, 117, 119, 121, 123, 125, 127, 129, 131, 133, 135, 137, 139, 141, 143, 145, 147, 149, 152, 154, 156, 158, 160, 162, 164, 166, 168, 170, 172, 174, 176, 178, 180, 182, 184, 186, 188, 190, 192, 194, 196, 198, 200], \"y\": [1.0, 1.0, 1.0, 1.0, 1.0, 1.0, 1.0, 1.0, 1.0, 1.0, 1.0, 1.0, 1.0, 1.0, 1.0, null, null, null, null, null, null, null, null, null, null, null, null, null, null, null, null, null, null, null, null, null, null, null, null, null, null, null, null, null, null, null, null, null, null, null, null, null, null, null, null, null, null, null, null, null, null, null, null, null, null, null, null, null, null, null, null, null, null, null, null, null, null, null, null, null, null, null, null, null, null, null, null, null, null, null, null, null, null, null, null, null, null, null, null, null]}, {\"line\": {\"color\": \"royalblue\", \"width\": 2}, \"name\": \"Liquid Level\", \"type\": \"scatter\", \"visible\": false, \"x\": [0, 2, 4, 6, 8, 10, 12, 14, 16, 18, 20, 22, 24, 26, 28, 30, 32, 34, 36, 38, 40, 42, 44, 46, 48, 51, 53, 55, 57, 59, 61, 63, 65, 67, 69, 71, 73, 75, 77, 79, 81, 83, 85, 87, 89, 91, 93, 95, 97, 99, 101, 103, 105, 107, 109, 111, 113, 115, 117, 119, 121, 123, 125, 127, 129, 131, 133, 135, 137, 139, 141, 143, 145, 147, 149, 152, 154, 156, 158, 160, 162, 164, 166, 168, 170, 172, 174, 176, 178, 180, 182, 184, 186, 188, 190, 192, 194, 196, 198, 200], \"y\": [1.0, 1.0, 1.0, 1.0, 1.0, 1.0, 1.0, 1.0, 1.0, 1.0, 1.0, 1.0, 1.0, 1.0, null, null, null, null, null, null, null, null, null, null, null, null, null, null, null, null, null, null, null, null, null, null, null, null, null, null, null, null, null, null, null, null, null, null, null, null, null, null, null, null, null, null, null, null, null, null, null, null, null, null, null, null, null, null, null, null, null, null, null, null, null, null, null, null, null, null, null, null, null, null, null, null, null, null, null, null, null, null, null, null, null, null, null, null, null, null]}, {\"line\": {\"color\": \"royalblue\", \"width\": 2}, \"name\": \"Liquid Level\", \"type\": \"scatter\", \"visible\": false, \"x\": [0, 2, 4, 6, 8, 10, 12, 14, 16, 18, 20, 22, 24, 26, 28, 30, 32, 34, 36, 38, 40, 42, 44, 46, 48, 51, 53, 55, 57, 59, 61, 63, 65, 67, 69, 71, 73, 75, 77, 79, 81, 83, 85, 87, 89, 91, 93, 95, 97, 99, 101, 103, 105, 107, 109, 111, 113, 115, 117, 119, 121, 123, 125, 127, 129, 131, 133, 135, 137, 139, 141, 143, 145, 147, 149, 152, 154, 156, 158, 160, 162, 164, 166, 168, 170, 172, 174, 176, 178, 180, 182, 184, 186, 188, 190, 192, 194, 196, 198, 200], \"y\": [1.0, 1.0, 1.0, 1.0, 1.0, 1.0, 1.0, 1.0, 1.0, 1.0, 1.0, 1.0, 1.0, null, null, null, null, null, null, null, null, null, null, null, null, null, null, null, null, null, null, null, null, null, null, null, null, null, null, null, null, null, null, null, null, null, null, null, null, null, null, null, null, null, null, null, null, null, null, null, null, null, null, null, null, null, null, null, null, null, null, null, null, null, null, null, null, null, null, null, null, null, null, null, null, null, null, null, null, null, null, null, null, null, null, null, null, null, null, null]}, {\"line\": {\"color\": \"royalblue\", \"width\": 2}, \"name\": \"Liquid Level\", \"type\": \"scatter\", \"visible\": false, \"x\": [0, 2, 4, 6, 8, 10, 12, 14, 16, 18, 20, 22, 24, 26, 28, 30, 32, 34, 36, 38, 40, 42, 44, 46, 48, 51, 53, 55, 57, 59, 61, 63, 65, 67, 69, 71, 73, 75, 77, 79, 81, 83, 85, 87, 89, 91, 93, 95, 97, 99, 101, 103, 105, 107, 109, 111, 113, 115, 117, 119, 121, 123, 125, 127, 129, 131, 133, 135, 137, 139, 141, 143, 145, 147, 149, 152, 154, 156, 158, 160, 162, 164, 166, 168, 170, 172, 174, 176, 178, 180, 182, 184, 186, 188, 190, 192, 194, 196, 198, 200], \"y\": [1.0, 1.0, 1.0, 1.0, 1.0, 1.0, 1.0, 1.0, 1.0, 1.0, 1.0, 1.0, null, null, null, null, null, null, null, null, null, null, null, null, null, null, null, null, null, null, null, null, null, null, null, null, null, null, null, null, null, null, null, null, null, null, null, null, null, null, null, null, null, null, null, null, null, null, null, null, null, null, null, null, null, null, null, null, null, null, null, null, null, null, null, null, null, null, null, null, null, null, null, null, null, null, null, null, null, null, null, null, null, null, null, null, null, null, null, null]}, {\"line\": {\"color\": \"royalblue\", \"width\": 2}, \"name\": \"Liquid Level\", \"type\": \"scatter\", \"visible\": false, \"x\": [0, 2, 4, 6, 8, 10, 12, 14, 16, 18, 20, 22, 24, 26, 28, 30, 32, 34, 36, 38, 40, 42, 44, 46, 48, 51, 53, 55, 57, 59, 61, 63, 65, 67, 69, 71, 73, 75, 77, 79, 81, 83, 85, 87, 89, 91, 93, 95, 97, 99, 101, 103, 105, 107, 109, 111, 113, 115, 117, 119, 121, 123, 125, 127, 129, 131, 133, 135, 137, 139, 141, 143, 145, 147, 149, 152, 154, 156, 158, 160, 162, 164, 166, 168, 170, 172, 174, 176, 178, 180, 182, 184, 186, 188, 190, 192, 194, 196, 198, 200], \"y\": [1.0, 1.0, 1.0, 1.0, 1.0, 1.0, 1.0, 1.0, 1.0, 1.0, 1.0, 1.0, null, null, null, null, null, null, null, null, null, null, null, null, null, null, null, null, null, null, null, null, null, null, null, null, null, null, null, null, null, null, null, null, null, null, null, null, null, null, null, null, null, null, null, null, null, null, null, null, null, null, null, null, null, null, null, null, null, null, null, null, null, null, null, null, null, null, null, null, null, null, null, null, null, null, null, null, null, null, null, null, null, null, null, null, null, null, null, null]}, {\"line\": {\"color\": \"royalblue\", \"width\": 2}, \"name\": \"Liquid Level\", \"type\": \"scatter\", \"visible\": false, \"x\": [0, 2, 4, 6, 8, 10, 12, 14, 16, 18, 20, 22, 24, 26, 28, 30, 32, 34, 36, 38, 40, 42, 44, 46, 48, 51, 53, 55, 57, 59, 61, 63, 65, 67, 69, 71, 73, 75, 77, 79, 81, 83, 85, 87, 89, 91, 93, 95, 97, 99, 101, 103, 105, 107, 109, 111, 113, 115, 117, 119, 121, 123, 125, 127, 129, 131, 133, 135, 137, 139, 141, 143, 145, 147, 149, 152, 154, 156, 158, 160, 162, 164, 166, 168, 170, 172, 174, 176, 178, 180, 182, 184, 186, 188, 190, 192, 194, 196, 198, 200], \"y\": [1.0, 1.0, 1.0, 1.0, 1.0, 1.0, 1.0, 1.0, 1.0, 1.0, 1.0, null, null, null, null, null, null, null, null, null, null, null, null, null, null, null, null, null, null, null, null, null, null, null, null, null, null, null, null, null, null, null, null, null, null, null, null, null, null, null, null, null, null, null, null, null, null, null, null, null, null, null, null, null, null, null, null, null, null, null, null, null, null, null, null, null, null, null, null, null, null, null, null, null, null, null, null, null, null, null, null, null, null, null, null, null, null, null, null, null]}, {\"line\": {\"color\": \"royalblue\", \"width\": 2}, \"name\": \"Liquid Level\", \"type\": \"scatter\", \"visible\": false, \"x\": [0, 2, 4, 6, 8, 10, 12, 14, 16, 18, 20, 22, 24, 26, 28, 30, 32, 34, 36, 38, 40, 42, 44, 46, 48, 51, 53, 55, 57, 59, 61, 63, 65, 67, 69, 71, 73, 75, 77, 79, 81, 83, 85, 87, 89, 91, 93, 95, 97, 99, 101, 103, 105, 107, 109, 111, 113, 115, 117, 119, 121, 123, 125, 127, 129, 131, 133, 135, 137, 139, 141, 143, 145, 147, 149, 152, 154, 156, 158, 160, 162, 164, 166, 168, 170, 172, 174, 176, 178, 180, 182, 184, 186, 188, 190, 192, 194, 196, 198, 200], \"y\": [1.0, 1.0, 1.0, 1.0, 1.0, 1.0, 1.0, 1.0, 1.0, 1.0, null, null, null, null, null, null, null, null, null, null, null, null, null, null, null, null, null, null, null, null, null, null, null, null, null, null, null, null, null, null, null, null, null, null, null, null, null, null, null, null, null, null, null, null, null, null, null, null, null, null, null, null, null, null, null, null, null, null, null, null, null, null, null, null, null, null, null, null, null, null, null, null, null, null, null, null, null, null, null, null, null, null, null, null, null, null, null, null, null, null]}],\n",
              "                        {\"legend\": {\"orientation\": \"h\", \"x\": 1, \"xanchor\": \"right\", \"y\": 1.02, \"yanchor\": \"bottom\"}, \"sliders\": [{\"active\": 0.1, \"currentvalue\": {\"prefix\": \"Grade: \", \"suffix\": \" %\"}, \"pad\": {\"t\": 50}, \"steps\": [{\"args\": [{\"visible\": [true, false, false, false, false, false, false, false, false, false, false, false, false, false, false, false, false, false, false, false, true, false, false, false, false, false, false, false, false, false, false, false, false, false, false, false, false, false, false, false, true, false, false, false, false, false, false, false, false, false, false, false, false, false, false, false, false, false, false, false]}, {\"title\": \"Liquid Level Along Pipe at 0.0 % Grade\"}], \"label\": \"0.0\", \"method\": \"update\"}, {\"args\": [{\"visible\": [false, true, false, false, false, false, false, false, false, false, false, false, false, false, false, false, false, false, false, false, false, true, false, false, false, false, false, false, false, false, false, false, false, false, false, false, false, false, false, false, false, true, false, false, false, false, false, false, false, false, false, false, false, false, false, false, false, false, false, false]}, {\"title\": \"Liquid Level Along Pipe at 0.26 % Grade\"}], \"label\": \"0.26\", \"method\": \"update\"}, {\"args\": [{\"visible\": [false, false, true, false, false, false, false, false, false, false, false, false, false, false, false, false, false, false, false, false, false, false, true, false, false, false, false, false, false, false, false, false, false, false, false, false, false, false, false, false, false, false, true, false, false, false, false, false, false, false, false, false, false, false, false, false, false, false, false, false]}, {\"title\": \"Liquid Level Along Pipe at 0.53 % Grade\"}], \"label\": \"0.53\", \"method\": \"update\"}, {\"args\": [{\"visible\": [false, false, false, true, false, false, false, false, false, false, false, false, false, false, false, false, false, false, false, false, false, false, false, true, false, false, false, false, false, false, false, false, false, false, false, false, false, false, false, false, false, false, false, true, false, false, false, false, false, false, false, false, false, false, false, false, false, false, false, false]}, {\"title\": \"Liquid Level Along Pipe at 0.79 % Grade\"}], \"label\": \"0.79\", \"method\": \"update\"}, {\"args\": [{\"visible\": [false, false, false, false, true, false, false, false, false, false, false, false, false, false, false, false, false, false, false, false, false, false, false, false, true, false, false, false, false, false, false, false, false, false, false, false, false, false, false, false, false, false, false, false, true, false, false, false, false, false, false, false, false, false, false, false, false, false, false, false]}, {\"title\": \"Liquid Level Along Pipe at 1.05 % Grade\"}], \"label\": \"1.05\", \"method\": \"update\"}, {\"args\": [{\"visible\": [false, false, false, false, false, true, false, false, false, false, false, false, false, false, false, false, false, false, false, false, false, false, false, false, false, true, false, false, false, false, false, false, false, false, false, false, false, false, false, false, false, false, false, false, false, true, false, false, false, false, false, false, false, false, false, false, false, false, false, false]}, {\"title\": \"Liquid Level Along Pipe at 1.32 % Grade\"}], \"label\": \"1.32\", \"method\": \"update\"}, {\"args\": [{\"visible\": [false, false, false, false, false, false, true, false, false, false, false, false, false, false, false, false, false, false, false, false, false, false, false, false, false, false, true, false, false, false, false, false, false, false, false, false, false, false, false, false, false, false, false, false, false, false, true, false, false, false, false, false, false, false, false, false, false, false, false, false]}, {\"title\": \"Liquid Level Along Pipe at 1.58 % Grade\"}], \"label\": \"1.58\", \"method\": \"update\"}, {\"args\": [{\"visible\": [false, false, false, false, false, false, false, true, false, false, false, false, false, false, false, false, false, false, false, false, false, false, false, false, false, false, false, true, false, false, false, false, false, false, false, false, false, false, false, false, false, false, false, false, false, false, false, true, false, false, false, false, false, false, false, false, false, false, false, false]}, {\"title\": \"Liquid Level Along Pipe at 1.84 % Grade\"}], \"label\": \"1.84\", \"method\": \"update\"}, {\"args\": [{\"visible\": [false, false, false, false, false, false, false, false, true, false, false, false, false, false, false, false, false, false, false, false, false, false, false, false, false, false, false, false, true, false, false, false, false, false, false, false, false, false, false, false, false, false, false, false, false, false, false, false, true, false, false, false, false, false, false, false, false, false, false, false]}, {\"title\": \"Liquid Level Along Pipe at 2.11 % Grade\"}], \"label\": \"2.11\", \"method\": \"update\"}, {\"args\": [{\"visible\": [false, false, false, false, false, false, false, false, false, true, false, false, false, false, false, false, false, false, false, false, false, false, false, false, false, false, false, false, false, true, false, false, false, false, false, false, false, false, false, false, false, false, false, false, false, false, false, false, false, true, false, false, false, false, false, false, false, false, false, false]}, {\"title\": \"Liquid Level Along Pipe at 2.37 % Grade\"}], \"label\": \"2.37\", \"method\": \"update\"}, {\"args\": [{\"visible\": [false, false, false, false, false, false, false, false, false, false, true, false, false, false, false, false, false, false, false, false, false, false, false, false, false, false, false, false, false, false, true, false, false, false, false, false, false, false, false, false, false, false, false, false, false, false, false, false, false, false, true, false, false, false, false, false, false, false, false, false]}, {\"title\": \"Liquid Level Along Pipe at 2.63 % Grade\"}], \"label\": \"2.63\", \"method\": \"update\"}, {\"args\": [{\"visible\": [false, false, false, false, false, false, false, false, false, false, false, true, false, false, false, false, false, false, false, false, false, false, false, false, false, false, false, false, false, false, false, true, false, false, false, false, false, false, false, false, false, false, false, false, false, false, false, false, false, false, false, true, false, false, false, false, false, false, false, false]}, {\"title\": \"Liquid Level Along Pipe at 2.89 % Grade\"}], \"label\": \"2.89\", \"method\": \"update\"}, {\"args\": [{\"visible\": [false, false, false, false, false, false, false, false, false, false, false, false, true, false, false, false, false, false, false, false, false, false, false, false, false, false, false, false, false, false, false, false, true, false, false, false, false, false, false, false, false, false, false, false, false, false, false, false, false, false, false, false, true, false, false, false, false, false, false, false]}, {\"title\": \"Liquid Level Along Pipe at 3.16 % Grade\"}], \"label\": \"3.16\", \"method\": \"update\"}, {\"args\": [{\"visible\": [false, false, false, false, false, false, false, false, false, false, false, false, false, true, false, false, false, false, false, false, false, false, false, false, false, false, false, false, false, false, false, false, false, true, false, false, false, false, false, false, false, false, false, false, false, false, false, false, false, false, false, false, false, true, false, false, false, false, false, false]}, {\"title\": \"Liquid Level Along Pipe at 3.42 % Grade\"}], \"label\": \"3.42\", \"method\": \"update\"}, {\"args\": [{\"visible\": [false, false, false, false, false, false, false, false, false, false, false, false, false, false, true, false, false, false, false, false, false, false, false, false, false, false, false, false, false, false, false, false, false, false, true, false, false, false, false, false, false, false, false, false, false, false, false, false, false, false, false, false, false, false, true, false, false, false, false, false]}, {\"title\": \"Liquid Level Along Pipe at 3.68 % Grade\"}], \"label\": \"3.68\", \"method\": \"update\"}, {\"args\": [{\"visible\": [false, false, false, false, false, false, false, false, false, false, false, false, false, false, false, true, false, false, false, false, false, false, false, false, false, false, false, false, false, false, false, false, false, false, false, true, false, false, false, false, false, false, false, false, false, false, false, false, false, false, false, false, false, false, false, true, false, false, false, false]}, {\"title\": \"Liquid Level Along Pipe at 3.95 % Grade\"}], \"label\": \"3.95\", \"method\": \"update\"}, {\"args\": [{\"visible\": [false, false, false, false, false, false, false, false, false, false, false, false, false, false, false, false, true, false, false, false, false, false, false, false, false, false, false, false, false, false, false, false, false, false, false, false, true, false, false, false, false, false, false, false, false, false, false, false, false, false, false, false, false, false, false, false, true, false, false, false]}, {\"title\": \"Liquid Level Along Pipe at 4.21 % Grade\"}], \"label\": \"4.21\", \"method\": \"update\"}, {\"args\": [{\"visible\": [false, false, false, false, false, false, false, false, false, false, false, false, false, false, false, false, false, true, false, false, false, false, false, false, false, false, false, false, false, false, false, false, false, false, false, false, false, true, false, false, false, false, false, false, false, false, false, false, false, false, false, false, false, false, false, false, false, true, false, false]}, {\"title\": \"Liquid Level Along Pipe at 4.47 % Grade\"}], \"label\": \"4.47\", \"method\": \"update\"}, {\"args\": [{\"visible\": [false, false, false, false, false, false, false, false, false, false, false, false, false, false, false, false, false, false, true, false, false, false, false, false, false, false, false, false, false, false, false, false, false, false, false, false, false, false, true, false, false, false, false, false, false, false, false, false, false, false, false, false, false, false, false, false, false, false, true, false]}, {\"title\": \"Liquid Level Along Pipe at 4.74 % Grade\"}], \"label\": \"4.74\", \"method\": \"update\"}, {\"args\": [{\"visible\": [false, false, false, false, false, false, false, false, false, false, false, false, false, false, false, false, false, false, false, true, false, false, false, false, false, false, false, false, false, false, false, false, false, false, false, false, false, false, false, true, false, false, false, false, false, false, false, false, false, false, false, false, false, false, false, false, false, false, false, true]}, {\"title\": \"Liquid Level Along Pipe at 5.0 % Grade\"}], \"label\": \"5.0\", \"method\": \"update\"}]}], \"template\": {\"data\": {\"bar\": [{\"error_x\": {\"color\": \"rgb(36,36,36)\"}, \"error_y\": {\"color\": \"rgb(36,36,36)\"}, \"marker\": {\"line\": {\"color\": \"white\", \"width\": 0.5}}, \"type\": \"bar\"}], \"barpolar\": [{\"marker\": {\"line\": {\"color\": \"white\", \"width\": 0.5}}, \"type\": \"barpolar\"}], \"carpet\": [{\"aaxis\": {\"endlinecolor\": \"rgb(36,36,36)\", \"gridcolor\": \"white\", \"linecolor\": \"white\", \"minorgridcolor\": \"white\", \"startlinecolor\": \"rgb(36,36,36)\"}, \"baxis\": {\"endlinecolor\": \"rgb(36,36,36)\", \"gridcolor\": \"white\", \"linecolor\": \"white\", \"minorgridcolor\": \"white\", \"startlinecolor\": \"rgb(36,36,36)\"}, \"type\": \"carpet\"}], \"choropleth\": [{\"colorbar\": {\"outlinewidth\": 10, \"tickcolor\": \"rgb(36,36,36)\", \"ticklen\": 8, \"ticks\": \"outside\", \"tickwidth\": 2}, \"type\": \"choropleth\"}], \"contour\": [{\"colorbar\": {\"outlinewidth\": 10, \"tickcolor\": \"rgb(36,36,36)\", \"ticklen\": 8, \"ticks\": \"outside\", \"tickwidth\": 2}, \"colorscale\": [[0.0, \"#440154\"], [0.1111111111111111, \"#482878\"], [0.2222222222222222, \"#3e4989\"], [0.3333333333333333, \"#31688e\"], [0.4444444444444444, \"#26828e\"], [0.5555555555555556, \"#1f9e89\"], [0.6666666666666666, \"#35b779\"], [0.7777777777777778, \"#6ece58\"], [0.8888888888888888, \"#b5de2b\"], [1.0, \"#fde725\"]], \"type\": \"contour\"}], \"contourcarpet\": [{\"colorbar\": {\"outlinewidth\": 10, \"tickcolor\": \"rgb(36,36,36)\", \"ticklen\": 8, \"ticks\": \"outside\", \"tickwidth\": 2}, \"type\": \"contourcarpet\"}], \"heatmap\": [{\"colorbar\": {\"outlinewidth\": 10, \"tickcolor\": \"rgb(36,36,36)\", \"ticklen\": 8, \"ticks\": \"outside\", \"tickwidth\": 2}, \"colorscale\": [[0.0, \"#440154\"], [0.1111111111111111, \"#482878\"], [0.2222222222222222, \"#3e4989\"], [0.3333333333333333, \"#31688e\"], [0.4444444444444444, \"#26828e\"], [0.5555555555555556, \"#1f9e89\"], [0.6666666666666666, \"#35b779\"], [0.7777777777777778, \"#6ece58\"], [0.8888888888888888, \"#b5de2b\"], [1.0, \"#fde725\"]], \"type\": \"heatmap\"}], \"heatmapgl\": [{\"colorbar\": {\"outlinewidth\": 10, \"tickcolor\": \"rgb(36,36,36)\", \"ticklen\": 8, \"ticks\": \"outside\", \"tickwidth\": 2}, \"colorscale\": [[0.0, \"#440154\"], [0.1111111111111111, \"#482878\"], [0.2222222222222222, \"#3e4989\"], [0.3333333333333333, \"#31688e\"], [0.4444444444444444, \"#26828e\"], [0.5555555555555556, \"#1f9e89\"], [0.6666666666666666, \"#35b779\"], [0.7777777777777778, \"#6ece58\"], [0.8888888888888888, \"#b5de2b\"], [1.0, \"#fde725\"]], \"type\": \"heatmapgl\"}], \"histogram\": [{\"marker\": {\"line\": {\"color\": \"white\", \"width\": 0.6}}, \"type\": \"histogram\"}], \"histogram2d\": [{\"colorbar\": {\"outlinewidth\": 10, \"tickcolor\": \"rgb(36,36,36)\", \"ticklen\": 8, \"ticks\": \"outside\", \"tickwidth\": 2}, \"colorscale\": [[0.0, \"#440154\"], [0.1111111111111111, \"#482878\"], [0.2222222222222222, \"#3e4989\"], [0.3333333333333333, \"#31688e\"], [0.4444444444444444, \"#26828e\"], [0.5555555555555556, \"#1f9e89\"], [0.6666666666666666, \"#35b779\"], [0.7777777777777778, \"#6ece58\"], [0.8888888888888888, \"#b5de2b\"], [1.0, \"#fde725\"]], \"type\": \"histogram2d\"}], \"histogram2dcontour\": [{\"colorbar\": {\"outlinewidth\": 10, \"tickcolor\": \"rgb(36,36,36)\", \"ticklen\": 8, \"ticks\": \"outside\", \"tickwidth\": 2}, \"colorscale\": [[0.0, \"#440154\"], [0.1111111111111111, \"#482878\"], [0.2222222222222222, \"#3e4989\"], [0.3333333333333333, \"#31688e\"], [0.4444444444444444, \"#26828e\"], [0.5555555555555556, \"#1f9e89\"], [0.6666666666666666, \"#35b779\"], [0.7777777777777778, \"#6ece58\"], [0.8888888888888888, \"#b5de2b\"], [1.0, \"#fde725\"]], \"type\": \"histogram2dcontour\"}], \"mesh3d\": [{\"colorbar\": {\"outlinewidth\": 10, \"tickcolor\": \"rgb(36,36,36)\", \"ticklen\": 8, \"ticks\": \"outside\", \"tickwidth\": 2}, \"type\": \"mesh3d\"}], \"parcoords\": [{\"line\": {\"colorbar\": {\"outlinewidth\": 10, \"tickcolor\": \"rgb(36,36,36)\", \"ticklen\": 8, \"ticks\": \"outside\", \"tickwidth\": 2}}, \"type\": \"parcoords\"}], \"pie\": [{\"automargin\": true, \"type\": \"pie\"}], \"scatter\": [{\"marker\": {\"colorbar\": {\"outlinewidth\": 10, \"tickcolor\": \"rgb(36,36,36)\", \"ticklen\": 8, \"ticks\": \"outside\", \"tickwidth\": 2}}, \"type\": \"scatter\"}], \"scatter3d\": [{\"line\": {\"colorbar\": {\"outlinewidth\": 10, \"tickcolor\": \"rgb(36,36,36)\", \"ticklen\": 8, \"ticks\": \"outside\", \"tickwidth\": 2}}, \"marker\": {\"colorbar\": {\"outlinewidth\": 10, \"tickcolor\": \"rgb(36,36,36)\", \"ticklen\": 8, \"ticks\": \"outside\", \"tickwidth\": 2}}, \"type\": \"scatter3d\"}], \"scattercarpet\": [{\"marker\": {\"colorbar\": {\"outlinewidth\": 10, \"tickcolor\": \"rgb(36,36,36)\", \"ticklen\": 8, \"ticks\": \"outside\", \"tickwidth\": 2}}, \"type\": \"scattercarpet\"}], \"scattergeo\": [{\"marker\": {\"colorbar\": {\"outlinewidth\": 10, \"tickcolor\": \"rgb(36,36,36)\", \"ticklen\": 8, \"ticks\": \"outside\", \"tickwidth\": 2}}, \"type\": \"scattergeo\"}], \"scattergl\": [{\"marker\": {\"colorbar\": {\"outlinewidth\": 10, \"tickcolor\": \"rgb(36,36,36)\", \"ticklen\": 8, \"ticks\": \"outside\", \"tickwidth\": 2}}, \"type\": \"scattergl\"}], \"scattermapbox\": [{\"marker\": {\"colorbar\": {\"outlinewidth\": 10, \"tickcolor\": \"rgb(36,36,36)\", \"ticklen\": 8, \"ticks\": \"outside\", \"tickwidth\": 2}}, \"type\": \"scattermapbox\"}], \"scatterpolar\": [{\"marker\": {\"colorbar\": {\"outlinewidth\": 10, \"tickcolor\": \"rgb(36,36,36)\", \"ticklen\": 8, \"ticks\": \"outside\", \"tickwidth\": 2}}, \"type\": \"scatterpolar\"}], \"scatterpolargl\": [{\"marker\": {\"colorbar\": {\"outlinewidth\": 10, \"tickcolor\": \"rgb(36,36,36)\", \"ticklen\": 8, \"ticks\": \"outside\", \"tickwidth\": 2}}, \"type\": \"scatterpolargl\"}], \"scatterternary\": [{\"marker\": {\"colorbar\": {\"outlinewidth\": 10, \"tickcolor\": \"rgb(36,36,36)\", \"ticklen\": 8, \"ticks\": \"outside\", \"tickwidth\": 2}}, \"type\": \"scatterternary\"}], \"surface\": [{\"colorbar\": {\"outlinewidth\": 10, \"tickcolor\": \"rgb(36,36,36)\", \"ticklen\": 8, \"ticks\": \"outside\", \"tickwidth\": 2}, \"colorscale\": [[0.0, \"#440154\"], [0.1111111111111111, \"#482878\"], [0.2222222222222222, \"#3e4989\"], [0.3333333333333333, \"#31688e\"], [0.4444444444444444, \"#26828e\"], [0.5555555555555556, \"#1f9e89\"], [0.6666666666666666, \"#35b779\"], [0.7777777777777778, \"#6ece58\"], [0.8888888888888888, \"#b5de2b\"], [1.0, \"#fde725\"]], \"type\": \"surface\"}], \"table\": [{\"cells\": {\"fill\": {\"color\": \"rgb(237,237,237)\"}, \"line\": {\"color\": \"white\"}}, \"header\": {\"fill\": {\"color\": \"rgb(217,217,217)\"}, \"line\": {\"color\": \"white\"}}, \"type\": \"table\"}]}, \"layout\": {\"annotationdefaults\": {\"arrowhead\": 0, \"arrowwidth\": 1}, \"coloraxis\": {\"colorbar\": {\"outlinewidth\": 10, \"tickcolor\": \"rgb(36,36,36)\", \"ticklen\": 8, \"ticks\": \"outside\", \"tickwidth\": 2}}, \"colorscale\": {\"diverging\": [[0.0, \"rgb(103,0,31)\"], [0.1, \"rgb(178,24,43)\"], [0.2, \"rgb(214,96,77)\"], [0.3, \"rgb(244,165,130)\"], [0.4, \"rgb(253,219,199)\"], [0.5, \"rgb(247,247,247)\"], [0.6, \"rgb(209,229,240)\"], [0.7, \"rgb(146,197,222)\"], [0.8, \"rgb(67,147,195)\"], [0.9, \"rgb(33,102,172)\"], [1.0, \"rgb(5,48,97)\"]], \"sequential\": [[0.0, \"#440154\"], [0.1111111111111111, \"#482878\"], [0.2222222222222222, \"#3e4989\"], [0.3333333333333333, \"#31688e\"], [0.4444444444444444, \"#26828e\"], [0.5555555555555556, \"#1f9e89\"], [0.6666666666666666, \"#35b779\"], [0.7777777777777778, \"#6ece58\"], [0.8888888888888888, \"#b5de2b\"], [1.0, \"#fde725\"]], \"sequentialminus\": [[0.0, \"#440154\"], [0.1111111111111111, \"#482878\"], [0.2222222222222222, \"#3e4989\"], [0.3333333333333333, \"#31688e\"], [0.4444444444444444, \"#26828e\"], [0.5555555555555556, \"#1f9e89\"], [0.6666666666666666, \"#35b779\"], [0.7777777777777778, \"#6ece58\"], [0.8888888888888888, \"#b5de2b\"], [1.0, \"#fde725\"]]}, \"colorway\": [\"#1F77B4\", \"#FF7F0E\", \"#2CA02C\", \"#D62728\", \"#9467BD\", \"#8C564B\", \"#E377C2\", \"#7F7F7F\", \"#BCBD22\", \"#17BECF\"], \"font\": {\"color\": \"rgb(36,36,36)\"}, \"geo\": {\"bgcolor\": \"white\", \"lakecolor\": \"white\", \"landcolor\": \"white\", \"showlakes\": true, \"showland\": true, \"subunitcolor\": \"white\"}, \"hoverlabel\": {\"align\": \"left\"}, \"hovermode\": \"closest\", \"mapbox\": {\"style\": \"light\"}, \"paper_bgcolor\": \"white\", \"plot_bgcolor\": \"white\", \"polar\": {\"angularaxis\": {\"gridcolor\": \"rgb(232,232,232)\", \"linecolor\": \"rgb(36,36,36)\", \"showgrid\": false, \"showline\": true, \"ticks\": \"outside\"}, \"bgcolor\": \"white\", \"radialaxis\": {\"gridcolor\": \"rgb(232,232,232)\", \"linecolor\": \"rgb(36,36,36)\", \"showgrid\": false, \"showline\": true, \"ticks\": \"outside\"}}, \"scene\": {\"xaxis\": {\"backgroundcolor\": \"white\", \"gridcolor\": \"rgb(232,232,232)\", \"gridwidth\": 2, \"linecolor\": \"rgb(36,36,36)\", \"showbackground\": true, \"showgrid\": false, \"showline\": true, \"ticks\": \"outside\", \"zeroline\": false, \"zerolinecolor\": \"rgb(36,36,36)\"}, \"yaxis\": {\"backgroundcolor\": \"white\", \"gridcolor\": \"rgb(232,232,232)\", \"gridwidth\": 2, \"linecolor\": \"rgb(36,36,36)\", \"showbackground\": true, \"showgrid\": false, \"showline\": true, \"ticks\": \"outside\", \"zeroline\": false, \"zerolinecolor\": \"rgb(36,36,36)\"}, \"zaxis\": {\"backgroundcolor\": \"white\", \"gridcolor\": \"rgb(232,232,232)\", \"gridwidth\": 2, \"linecolor\": \"rgb(36,36,36)\", \"showbackground\": true, \"showgrid\": false, \"showline\": true, \"ticks\": \"outside\", \"zeroline\": false, \"zerolinecolor\": \"rgb(36,36,36)\"}}, \"shapedefaults\": {\"fillcolor\": \"black\", \"line\": {\"width\": 0}, \"opacity\": 0.3}, \"ternary\": {\"aaxis\": {\"gridcolor\": \"rgb(232,232,232)\", \"linecolor\": \"rgb(36,36,36)\", \"showgrid\": false, \"showline\": true, \"ticks\": \"outside\"}, \"baxis\": {\"gridcolor\": \"rgb(232,232,232)\", \"linecolor\": \"rgb(36,36,36)\", \"showgrid\": false, \"showline\": true, \"ticks\": \"outside\"}, \"bgcolor\": \"white\", \"caxis\": {\"gridcolor\": \"rgb(232,232,232)\", \"linecolor\": \"rgb(36,36,36)\", \"showgrid\": false, \"showline\": true, \"ticks\": \"outside\"}}, \"title\": {\"x\": 0.05}, \"xaxis\": {\"automargin\": true, \"gridcolor\": \"rgb(232,232,232)\", \"linecolor\": \"rgb(36,36,36)\", \"showgrid\": false, \"showline\": true, \"ticks\": \"outside\", \"title\": {\"standoff\": 15}, \"zeroline\": false, \"zerolinecolor\": \"rgb(36,36,36)\"}, \"yaxis\": {\"automargin\": true, \"gridcolor\": \"rgb(232,232,232)\", \"linecolor\": \"rgb(36,36,36)\", \"showgrid\": false, \"showline\": true, \"ticks\": \"outside\", \"title\": {\"standoff\": 15}, \"zeroline\": false, \"zerolinecolor\": \"rgb(36,36,36)\"}}}, \"title\": {\"text\": \"Liquid Level Along Pipe at 0 % Grade\"}, \"xaxis\": {\"showspikes\": true, \"spikecolor\": \"green\", \"spikemode\": \"across\", \"spikesnap\": \"cursor\", \"title\": {\"text\": \"Pipe Chainage (m)\"}}, \"yaxis\": {\"range\": [-1.0, 12.0], \"showspikes\": true, \"spikecolor\": \"green\", \"title\": {\"text\": \"Elevation (mGeodetic)\"}}},\n",
              "                        {\"responsive\": true}\n",
              "                    ).then(function(){\n",
              "                            \n",
              "var gd = document.getElementById('f85bf77f-d2ed-47f0-b628-e1cdbe0e1d59');\n",
              "var x = new MutationObserver(function (mutations, observer) {{\n",
              "        var display = window.getComputedStyle(gd).display;\n",
              "        if (!display || display === 'none') {{\n",
              "            console.log([gd, 'removed!']);\n",
              "            Plotly.purge(gd);\n",
              "            observer.disconnect();\n",
              "        }}\n",
              "}});\n",
              "\n",
              "// Listen for the removal of the full notebook cells\n",
              "var notebookContainer = gd.closest('#notebook-container');\n",
              "if (notebookContainer) {{\n",
              "    x.observe(notebookContainer, {childList: true});\n",
              "}}\n",
              "\n",
              "// Listen for the clearing of the current output cell\n",
              "var outputEl = gd.closest('.output');\n",
              "if (outputEl) {{\n",
              "    x.observe(outputEl, {childList: true});\n",
              "}}\n",
              "\n",
              "                        })\n",
              "                };\n",
              "                \n",
              "            </script>\n",
              "        </div>\n",
              "</body>\n",
              "</html>"
            ]
          },
          "metadata": {}
        }
      ]
    },
    {
      "cell_type": "code",
      "metadata": {
        "id": "pwkDWhYAsoZD"
      },
      "source": [
        ""
      ],
      "execution_count": 13,
      "outputs": []
    },
    {
      "cell_type": "markdown",
      "metadata": {
        "id": "I7yTumvIKTNW"
      },
      "source": [
        "# Plotting air/water volume percentage"
      ]
    },
    {
      "cell_type": "code",
      "metadata": {
        "id": "63k_bndiDd6G"
      },
      "source": [
        "def calculate_total_pipe_volume(pipe_diameter, pipe_length):\n",
        "  pipe_cross_sectional_area = np.pi / 4 * (pipe_diameter**2)\n",
        "  total_volume = pipe_cross_sectional_area * pipe_length\n",
        "  total_volume = round(total_volume, 2)\n",
        "  return total_volume\n"
      ],
      "execution_count": 14,
      "outputs": []
    },
    {
      "cell_type": "code",
      "metadata": {
        "colab": {
          "base_uri": "https://localhost:8080/"
        },
        "id": "Tz9dKo1gUdr8",
        "outputId": "682ddb44-9a0c-4e09-a7be-41e3bbb935f2"
      },
      "source": [
        "#Building a doct that holds the pipe volume for each grade %\n",
        "liquid_volume_grade_dict = {}\n",
        "for key, value in liquid_level_dict.items():\n",
        "  _pipe_radius = pipe_diameter/2\n",
        "  _tilt_angle = calculate_tilt_angle(key)\n",
        "  _pipe_volume = calculate_sloped_pipe_volume(pipe_diameter, _tilt_angle, pipe_length, lower_liquid_level)\n",
        "  liquid_volume_grade_dict.update({key:_pipe_volume})\n",
        "\n",
        "\n",
        "liquid_volume_grade_dict = {key: round(liquid_volume_grade_dict[key], 2) for key in liquid_volume_grade_dict} # rouding grades for plotting"
      ],
      "execution_count": 15,
      "outputs": [
        {
          "output_type": "stream",
          "name": "stderr",
          "text": [
            "/usr/local/lib/python3.7/dist-packages/ipykernel_launcher.py:45: RuntimeWarning:\n",
            "\n",
            "divide by zero encountered in double_scalars\n",
            "\n",
            "/usr/local/lib/python3.7/dist-packages/ipykernel_launcher.py:50: RuntimeWarning:\n",
            "\n",
            "invalid value encountered in double_scalars\n",
            "\n"
          ]
        }
      ]
    },
    {
      "cell_type": "code",
      "metadata": {
        "id": "kDjNDGJyGkGq"
      },
      "source": [
        "pipe_total_volume = calculate_total_pipe_volume(pipe_diameter, pipe_length)"
      ],
      "execution_count": 16,
      "outputs": []
    },
    {
      "cell_type": "code",
      "metadata": {
        "id": "voVYwU7IKuMZ"
      },
      "source": [
        "air_volume_dict = {} # Volume of air is just toal volume - volume of liquid\n",
        "for key, value in liquid_volume_grade_dict.items():\n",
        "  air_volume_dict.update({key: pipe_total_volume-value})\n",
        "  air_volume_dict = {key: round(air_volume_dict[key], 2) for key in air_volume_dict}"
      ],
      "execution_count": 17,
      "outputs": []
    },
    {
      "cell_type": "code",
      "metadata": {
        "id": "1slIeWQnLPGM"
      },
      "source": [
        "air_liquid_percent_dict = {}\n",
        "for key, value in liquid_volume_grade_dict.items():\n",
        "  _liquid_percent = (liquid_volume_grade_dict[key] / pipe_total_volume) *100\n",
        "  _liquid_percent = round(_liquid_percent,2)\n",
        "  _air_percent = 100 - _liquid_percent\n",
        "  _air_percent = round(_air_percent, 2)\n",
        "  air_liquid_percent_dict.update({key: [_liquid_percent, _air_percent]})\n"
      ],
      "execution_count": 18,
      "outputs": []
    },
    {
      "cell_type": "code",
      "metadata": {
        "colab": {
          "base_uri": "https://localhost:8080/",
          "height": 542
        },
        "id": "A-pigQpyLXPb",
        "outputId": "2b191224-da34-4c07-f95d-a9ff0c2a24f4"
      },
      "source": [
        "# two lists of air percents and liquid percents makes plotting a whole easier, so just use list comprehension to explode the dict\n",
        "air_percents_list = [list(air_liquid_percent_dict.values())[i][1] for i in range(len(air_liquid_percent_dict.values()))]\n",
        "liquid_percents_list = [list(air_liquid_percent_dict.values())[i][0] for i in range(len(air_liquid_percent_dict.values()))]\n",
        "\n",
        "\n",
        "fig3 = make_subplots(specs=[[{\"secondary_y\": True}]])\n",
        "fig3.add_trace(go.Scatter(x=list(air_liquid_percent_dict.keys()), y= air_percents_list, name = \"%  Air\",showlegend=True, line=dict(color='orange', width=2)))\n",
        "fig3.add_trace(go.Scatter(x=list(air_liquid_percent_dict.keys()), y= liquid_percents_list, name = \"% Liquid\",showlegend=True, line=dict(color='royalblue', width=2)))\n",
        "\n",
        "fig3.add_trace(go.Scatter(x=list(air_volume_dict.keys()), y= list(air_volume_dict.values()), name = \"Volume air\",showlegend=True, line=dict(color='orange', width=2, dash = \"dot\")), secondary_y = True)\n",
        "fig3.add_trace(go.Scatter(x=list(liquid_volume_grade_dict.keys()), y= list(liquid_volume_grade_dict.values()), name = \"Volume liquid\",showlegend=True, line=dict(color='royalblue', width=2, dash = \"dot\")), secondary_y = True)\n",
        "\n",
        "fig3.update_xaxes(showspikes=True, spikecolor=\"green\",spikesnap = \"cursor\", spikemode=\"across\", spikethickness = 2)\n",
        "fig3.update_yaxes(showspikes=True,spikecolor=\"green\",spikesnap = \"cursor\", spikemode=\"across\", spikethickness = 2)\n",
        "\n",
        "\n",
        "fig3.update_layout(\n",
        "    template = \"simple_white\", \n",
        "    title=\"Air/Liquid Volume Split at Various Grades\",\n",
        "    xaxis_title=\"Grade (%)\",\n",
        "\n",
        "    yaxis=dict(\n",
        "    title=\"% Pipe Volume\",\n",
        "    side=\"right\", \n",
        "    range = [0,100]\n",
        "  ),\n",
        "  yaxis2=dict(\n",
        "    title=r\"$\\text {Pipe Volume} \\: (m^3)$\",\n",
        "    anchor=\"free\",\n",
        "    overlaying=\"y\",\n",
        "    side=\"left\", \n",
        "  ),\n",
        "  #Legend info \n",
        "    legend=dict(\n",
        "    orientation=\"h\",\n",
        "    yanchor=\"bottom\",\n",
        "    y=1.02,\n",
        "    xanchor=\"right\",\n",
        "    x=1),\n",
        ")\n",
        "\n",
        "\n"
      ],
      "execution_count": 22,
      "outputs": [
        {
          "output_type": "display_data",
          "data": {
            "text/html": [
              "<html>\n",
              "<head><meta charset=\"utf-8\" /></head>\n",
              "<body>\n",
              "    <div>\n",
              "            <script src=\"https://cdnjs.cloudflare.com/ajax/libs/mathjax/2.7.5/MathJax.js?config=TeX-AMS-MML_SVG\"></script><script type=\"text/javascript\">if (window.MathJax) {MathJax.Hub.Config({SVG: {font: \"STIX-Web\"}});}</script>\n",
              "                <script type=\"text/javascript\">window.PlotlyConfig = {MathJaxConfig: 'local'};</script>\n",
              "        <script src=\"https://cdn.plot.ly/plotly-latest.min.js\"></script>    \n",
              "            <div id=\"b72bfd56-2e0c-4165-940c-28362a045808\" class=\"plotly-graph-div\" style=\"height:525px; width:100%;\"></div>\n",
              "            <script type=\"text/javascript\">\n",
              "                \n",
              "                    window.PLOTLYENV=window.PLOTLYENV || {};\n",
              "                    \n",
              "                if (document.getElementById(\"b72bfd56-2e0c-4165-940c-28362a045808\")) {\n",
              "                    Plotly.newPlot(\n",
              "                        'b72bfd56-2e0c-4165-940c-28362a045808',\n",
              "                        [{\"line\": {\"color\": \"orange\", \"width\": 2}, \"name\": \"%  Air\", \"showlegend\": true, \"type\": \"scatter\", \"x\": [0.0, 0.26, 0.53, 0.79, 1.05, 1.32, 1.58, 1.84, 2.11, 2.37, 2.63, 2.89, 3.16, 3.42, 3.68, 3.95, 4.21, 4.47, 4.74, 5.0], \"y\": [50.0, 66.17, 79.98, 86.57, 89.9, 91.96, 93.29, 94.23, 94.97, 95.52, 95.97, 96.33, 96.64, 96.9, 97.12, 97.31, 97.48, 97.63, 97.76, 97.88]}, {\"line\": {\"color\": \"royalblue\", \"width\": 2}, \"name\": \"% Liquid\", \"showlegend\": true, \"type\": \"scatter\", \"x\": [0.0, 0.26, 0.53, 0.79, 1.05, 1.32, 1.58, 1.84, 2.11, 2.37, 2.63, 2.89, 3.16, 3.42, 3.68, 3.95, 4.21, 4.47, 4.74, 5.0], \"y\": [50.0, 33.83, 20.02, 13.43, 10.1, 8.04, 6.71, 5.77, 5.03, 4.48, 4.03, 3.67, 3.36, 3.1, 2.88, 2.69, 2.52, 2.37, 2.24, 2.12]}, {\"line\": {\"color\": \"orange\", \"dash\": \"dot\", \"width\": 2}, \"name\": \"Volume air\", \"showlegend\": true, \"type\": \"scatter\", \"x\": [0.0, 0.26, 0.53, 0.79, 1.05, 1.32, 1.58, 1.84, 2.11, 2.37, 2.63, 2.89, 3.16, 3.42, 3.68, 3.95, 4.21, 4.47, 4.74, 5.0], \"xaxis\": \"x\", \"y\": [314.16, 415.75, 502.53, 543.93, 564.83, 577.81, 586.13, 592.09, 596.72, 600.19, 602.97, 605.25, 607.22, 608.83, 610.2, 611.44, 612.48, 613.41, 614.26, 614.99], \"yaxis\": \"y2\"}, {\"line\": {\"color\": \"royalblue\", \"dash\": \"dot\", \"width\": 2}, \"name\": \"Volume liquid\", \"showlegend\": true, \"type\": \"scatter\", \"x\": [0.0, 0.26, 0.53, 0.79, 1.05, 1.32, 1.58, 1.84, 2.11, 2.37, 2.63, 2.89, 3.16, 3.42, 3.68, 3.95, 4.21, 4.47, 4.74, 5.0], \"xaxis\": \"x\", \"y\": [314.16, 212.57, 125.79, 84.39, 63.49, 50.51, 42.19, 36.23, 31.6, 28.13, 25.35, 23.07, 21.1, 19.49, 18.12, 16.88, 15.84, 14.91, 14.06, 13.33], \"yaxis\": \"y2\"}],\n",
              "                        {\"legend\": {\"orientation\": \"h\", \"x\": 1, \"xanchor\": \"right\", \"y\": 1.02, \"yanchor\": \"bottom\"}, \"template\": {\"data\": {\"bar\": [{\"error_x\": {\"color\": \"rgb(36,36,36)\"}, \"error_y\": {\"color\": \"rgb(36,36,36)\"}, \"marker\": {\"line\": {\"color\": \"white\", \"width\": 0.5}}, \"type\": \"bar\"}], \"barpolar\": [{\"marker\": {\"line\": {\"color\": \"white\", \"width\": 0.5}}, \"type\": \"barpolar\"}], \"carpet\": [{\"aaxis\": {\"endlinecolor\": \"rgb(36,36,36)\", \"gridcolor\": \"white\", \"linecolor\": \"white\", \"minorgridcolor\": \"white\", \"startlinecolor\": \"rgb(36,36,36)\"}, \"baxis\": {\"endlinecolor\": \"rgb(36,36,36)\", \"gridcolor\": \"white\", \"linecolor\": \"white\", \"minorgridcolor\": \"white\", \"startlinecolor\": \"rgb(36,36,36)\"}, \"type\": \"carpet\"}], \"choropleth\": [{\"colorbar\": {\"outlinewidth\": 10, \"tickcolor\": \"rgb(36,36,36)\", \"ticklen\": 8, \"ticks\": \"outside\", \"tickwidth\": 2}, \"type\": \"choropleth\"}], \"contour\": [{\"colorbar\": {\"outlinewidth\": 10, \"tickcolor\": \"rgb(36,36,36)\", \"ticklen\": 8, \"ticks\": \"outside\", \"tickwidth\": 2}, \"colorscale\": [[0.0, \"#440154\"], [0.1111111111111111, \"#482878\"], [0.2222222222222222, \"#3e4989\"], [0.3333333333333333, \"#31688e\"], [0.4444444444444444, \"#26828e\"], [0.5555555555555556, \"#1f9e89\"], [0.6666666666666666, \"#35b779\"], [0.7777777777777778, \"#6ece58\"], [0.8888888888888888, \"#b5de2b\"], [1.0, \"#fde725\"]], \"type\": \"contour\"}], \"contourcarpet\": [{\"colorbar\": {\"outlinewidth\": 10, \"tickcolor\": \"rgb(36,36,36)\", \"ticklen\": 8, \"ticks\": \"outside\", \"tickwidth\": 2}, \"type\": \"contourcarpet\"}], \"heatmap\": [{\"colorbar\": {\"outlinewidth\": 10, \"tickcolor\": \"rgb(36,36,36)\", \"ticklen\": 8, \"ticks\": \"outside\", \"tickwidth\": 2}, \"colorscale\": [[0.0, \"#440154\"], [0.1111111111111111, \"#482878\"], [0.2222222222222222, \"#3e4989\"], [0.3333333333333333, \"#31688e\"], [0.4444444444444444, \"#26828e\"], [0.5555555555555556, \"#1f9e89\"], [0.6666666666666666, \"#35b779\"], [0.7777777777777778, \"#6ece58\"], [0.8888888888888888, \"#b5de2b\"], [1.0, \"#fde725\"]], \"type\": \"heatmap\"}], \"heatmapgl\": [{\"colorbar\": {\"outlinewidth\": 10, \"tickcolor\": \"rgb(36,36,36)\", \"ticklen\": 8, \"ticks\": \"outside\", \"tickwidth\": 2}, \"colorscale\": [[0.0, \"#440154\"], [0.1111111111111111, \"#482878\"], [0.2222222222222222, \"#3e4989\"], [0.3333333333333333, \"#31688e\"], [0.4444444444444444, \"#26828e\"], [0.5555555555555556, \"#1f9e89\"], [0.6666666666666666, \"#35b779\"], [0.7777777777777778, \"#6ece58\"], [0.8888888888888888, \"#b5de2b\"], [1.0, \"#fde725\"]], \"type\": \"heatmapgl\"}], \"histogram\": [{\"marker\": {\"line\": {\"color\": \"white\", \"width\": 0.6}}, \"type\": \"histogram\"}], \"histogram2d\": [{\"colorbar\": {\"outlinewidth\": 10, \"tickcolor\": \"rgb(36,36,36)\", \"ticklen\": 8, \"ticks\": \"outside\", \"tickwidth\": 2}, \"colorscale\": [[0.0, \"#440154\"], [0.1111111111111111, \"#482878\"], [0.2222222222222222, \"#3e4989\"], [0.3333333333333333, \"#31688e\"], [0.4444444444444444, \"#26828e\"], [0.5555555555555556, \"#1f9e89\"], [0.6666666666666666, \"#35b779\"], [0.7777777777777778, \"#6ece58\"], [0.8888888888888888, \"#b5de2b\"], [1.0, \"#fde725\"]], \"type\": \"histogram2d\"}], \"histogram2dcontour\": [{\"colorbar\": {\"outlinewidth\": 10, \"tickcolor\": \"rgb(36,36,36)\", \"ticklen\": 8, \"ticks\": \"outside\", \"tickwidth\": 2}, \"colorscale\": [[0.0, \"#440154\"], [0.1111111111111111, \"#482878\"], [0.2222222222222222, \"#3e4989\"], [0.3333333333333333, \"#31688e\"], [0.4444444444444444, \"#26828e\"], [0.5555555555555556, \"#1f9e89\"], [0.6666666666666666, \"#35b779\"], [0.7777777777777778, \"#6ece58\"], [0.8888888888888888, \"#b5de2b\"], [1.0, \"#fde725\"]], \"type\": \"histogram2dcontour\"}], \"mesh3d\": [{\"colorbar\": {\"outlinewidth\": 10, \"tickcolor\": \"rgb(36,36,36)\", \"ticklen\": 8, \"ticks\": \"outside\", \"tickwidth\": 2}, \"type\": \"mesh3d\"}], \"parcoords\": [{\"line\": {\"colorbar\": {\"outlinewidth\": 10, \"tickcolor\": \"rgb(36,36,36)\", \"ticklen\": 8, \"ticks\": \"outside\", \"tickwidth\": 2}}, \"type\": \"parcoords\"}], \"pie\": [{\"automargin\": true, \"type\": \"pie\"}], \"scatter\": [{\"marker\": {\"colorbar\": {\"outlinewidth\": 10, \"tickcolor\": \"rgb(36,36,36)\", \"ticklen\": 8, \"ticks\": \"outside\", \"tickwidth\": 2}}, \"type\": \"scatter\"}], \"scatter3d\": [{\"line\": {\"colorbar\": {\"outlinewidth\": 10, \"tickcolor\": \"rgb(36,36,36)\", \"ticklen\": 8, \"ticks\": \"outside\", \"tickwidth\": 2}}, \"marker\": {\"colorbar\": {\"outlinewidth\": 10, \"tickcolor\": \"rgb(36,36,36)\", \"ticklen\": 8, \"ticks\": \"outside\", \"tickwidth\": 2}}, \"type\": \"scatter3d\"}], \"scattercarpet\": [{\"marker\": {\"colorbar\": {\"outlinewidth\": 10, \"tickcolor\": \"rgb(36,36,36)\", \"ticklen\": 8, \"ticks\": \"outside\", \"tickwidth\": 2}}, \"type\": \"scattercarpet\"}], \"scattergeo\": [{\"marker\": {\"colorbar\": {\"outlinewidth\": 10, \"tickcolor\": \"rgb(36,36,36)\", \"ticklen\": 8, \"ticks\": \"outside\", \"tickwidth\": 2}}, \"type\": \"scattergeo\"}], \"scattergl\": [{\"marker\": {\"colorbar\": {\"outlinewidth\": 10, \"tickcolor\": \"rgb(36,36,36)\", \"ticklen\": 8, \"ticks\": \"outside\", \"tickwidth\": 2}}, \"type\": \"scattergl\"}], \"scattermapbox\": [{\"marker\": {\"colorbar\": {\"outlinewidth\": 10, \"tickcolor\": \"rgb(36,36,36)\", \"ticklen\": 8, \"ticks\": \"outside\", \"tickwidth\": 2}}, \"type\": \"scattermapbox\"}], \"scatterpolar\": [{\"marker\": {\"colorbar\": {\"outlinewidth\": 10, \"tickcolor\": \"rgb(36,36,36)\", \"ticklen\": 8, \"ticks\": \"outside\", \"tickwidth\": 2}}, \"type\": \"scatterpolar\"}], \"scatterpolargl\": [{\"marker\": {\"colorbar\": {\"outlinewidth\": 10, \"tickcolor\": \"rgb(36,36,36)\", \"ticklen\": 8, \"ticks\": \"outside\", \"tickwidth\": 2}}, \"type\": \"scatterpolargl\"}], \"scatterternary\": [{\"marker\": {\"colorbar\": {\"outlinewidth\": 10, \"tickcolor\": \"rgb(36,36,36)\", \"ticklen\": 8, \"ticks\": \"outside\", \"tickwidth\": 2}}, \"type\": \"scatterternary\"}], \"surface\": [{\"colorbar\": {\"outlinewidth\": 10, \"tickcolor\": \"rgb(36,36,36)\", \"ticklen\": 8, \"ticks\": \"outside\", \"tickwidth\": 2}, \"colorscale\": [[0.0, \"#440154\"], [0.1111111111111111, \"#482878\"], [0.2222222222222222, \"#3e4989\"], [0.3333333333333333, \"#31688e\"], [0.4444444444444444, \"#26828e\"], [0.5555555555555556, \"#1f9e89\"], [0.6666666666666666, \"#35b779\"], [0.7777777777777778, \"#6ece58\"], [0.8888888888888888, \"#b5de2b\"], [1.0, \"#fde725\"]], \"type\": \"surface\"}], \"table\": [{\"cells\": {\"fill\": {\"color\": \"rgb(237,237,237)\"}, \"line\": {\"color\": \"white\"}}, \"header\": {\"fill\": {\"color\": \"rgb(217,217,217)\"}, \"line\": {\"color\": \"white\"}}, \"type\": \"table\"}]}, \"layout\": {\"annotationdefaults\": {\"arrowhead\": 0, \"arrowwidth\": 1}, \"coloraxis\": {\"colorbar\": {\"outlinewidth\": 10, \"tickcolor\": \"rgb(36,36,36)\", \"ticklen\": 8, \"ticks\": \"outside\", \"tickwidth\": 2}}, \"colorscale\": {\"diverging\": [[0.0, \"rgb(103,0,31)\"], [0.1, \"rgb(178,24,43)\"], [0.2, \"rgb(214,96,77)\"], [0.3, \"rgb(244,165,130)\"], [0.4, \"rgb(253,219,199)\"], [0.5, \"rgb(247,247,247)\"], [0.6, \"rgb(209,229,240)\"], [0.7, \"rgb(146,197,222)\"], [0.8, \"rgb(67,147,195)\"], [0.9, \"rgb(33,102,172)\"], [1.0, \"rgb(5,48,97)\"]], \"sequential\": [[0.0, \"#440154\"], [0.1111111111111111, \"#482878\"], [0.2222222222222222, \"#3e4989\"], [0.3333333333333333, \"#31688e\"], [0.4444444444444444, \"#26828e\"], [0.5555555555555556, \"#1f9e89\"], [0.6666666666666666, \"#35b779\"], [0.7777777777777778, \"#6ece58\"], [0.8888888888888888, \"#b5de2b\"], [1.0, \"#fde725\"]], \"sequentialminus\": [[0.0, \"#440154\"], [0.1111111111111111, \"#482878\"], [0.2222222222222222, \"#3e4989\"], [0.3333333333333333, \"#31688e\"], [0.4444444444444444, \"#26828e\"], [0.5555555555555556, \"#1f9e89\"], [0.6666666666666666, \"#35b779\"], [0.7777777777777778, \"#6ece58\"], [0.8888888888888888, \"#b5de2b\"], [1.0, \"#fde725\"]]}, \"colorway\": [\"#1F77B4\", \"#FF7F0E\", \"#2CA02C\", \"#D62728\", \"#9467BD\", \"#8C564B\", \"#E377C2\", \"#7F7F7F\", \"#BCBD22\", \"#17BECF\"], \"font\": {\"color\": \"rgb(36,36,36)\"}, \"geo\": {\"bgcolor\": \"white\", \"lakecolor\": \"white\", \"landcolor\": \"white\", \"showlakes\": true, \"showland\": true, \"subunitcolor\": \"white\"}, \"hoverlabel\": {\"align\": \"left\"}, \"hovermode\": \"closest\", \"mapbox\": {\"style\": \"light\"}, \"paper_bgcolor\": \"white\", \"plot_bgcolor\": \"white\", \"polar\": {\"angularaxis\": {\"gridcolor\": \"rgb(232,232,232)\", \"linecolor\": \"rgb(36,36,36)\", \"showgrid\": false, \"showline\": true, \"ticks\": \"outside\"}, \"bgcolor\": \"white\", \"radialaxis\": {\"gridcolor\": \"rgb(232,232,232)\", \"linecolor\": \"rgb(36,36,36)\", \"showgrid\": false, \"showline\": true, \"ticks\": \"outside\"}}, \"scene\": {\"xaxis\": {\"backgroundcolor\": \"white\", \"gridcolor\": \"rgb(232,232,232)\", \"gridwidth\": 2, \"linecolor\": \"rgb(36,36,36)\", \"showbackground\": true, \"showgrid\": false, \"showline\": true, \"ticks\": \"outside\", \"zeroline\": false, \"zerolinecolor\": \"rgb(36,36,36)\"}, \"yaxis\": {\"backgroundcolor\": \"white\", \"gridcolor\": \"rgb(232,232,232)\", \"gridwidth\": 2, \"linecolor\": \"rgb(36,36,36)\", \"showbackground\": true, \"showgrid\": false, \"showline\": true, \"ticks\": \"outside\", \"zeroline\": false, \"zerolinecolor\": \"rgb(36,36,36)\"}, \"zaxis\": {\"backgroundcolor\": \"white\", \"gridcolor\": \"rgb(232,232,232)\", \"gridwidth\": 2, \"linecolor\": \"rgb(36,36,36)\", \"showbackground\": true, \"showgrid\": false, \"showline\": true, \"ticks\": \"outside\", \"zeroline\": false, \"zerolinecolor\": \"rgb(36,36,36)\"}}, \"shapedefaults\": {\"fillcolor\": \"black\", \"line\": {\"width\": 0}, \"opacity\": 0.3}, \"ternary\": {\"aaxis\": {\"gridcolor\": \"rgb(232,232,232)\", \"linecolor\": \"rgb(36,36,36)\", \"showgrid\": false, \"showline\": true, \"ticks\": \"outside\"}, \"baxis\": {\"gridcolor\": \"rgb(232,232,232)\", \"linecolor\": \"rgb(36,36,36)\", \"showgrid\": false, \"showline\": true, \"ticks\": \"outside\"}, \"bgcolor\": \"white\", \"caxis\": {\"gridcolor\": \"rgb(232,232,232)\", \"linecolor\": \"rgb(36,36,36)\", \"showgrid\": false, \"showline\": true, \"ticks\": \"outside\"}}, \"title\": {\"x\": 0.05}, \"xaxis\": {\"automargin\": true, \"gridcolor\": \"rgb(232,232,232)\", \"linecolor\": \"rgb(36,36,36)\", \"showgrid\": false, \"showline\": true, \"ticks\": \"outside\", \"title\": {\"standoff\": 15}, \"zeroline\": false, \"zerolinecolor\": \"rgb(36,36,36)\"}, \"yaxis\": {\"automargin\": true, \"gridcolor\": \"rgb(232,232,232)\", \"linecolor\": \"rgb(36,36,36)\", \"showgrid\": false, \"showline\": true, \"ticks\": \"outside\", \"title\": {\"standoff\": 15}, \"zeroline\": false, \"zerolinecolor\": \"rgb(36,36,36)\"}}}, \"title\": {\"text\": \"Air/Liquid Volume Split at Various Grades\"}, \"xaxis\": {\"anchor\": \"y\", \"domain\": [0.0, 0.94], \"nticks\": 10, \"showspikes\": true, \"spikecolor\": \"green\", \"spikemode\": \"across\", \"spikesnap\": \"cursor\", \"spikethickness\": 2, \"title\": {\"text\": \"Grade (%)\"}}, \"yaxis\": {\"anchor\": \"x\", \"domain\": [0.0, 1.0], \"range\": [0, 100], \"showspikes\": true, \"side\": \"right\", \"spikecolor\": \"green\", \"spikemode\": \"across\", \"spikesnap\": \"cursor\", \"spikethickness\": 2, \"title\": {\"text\": \"% Pipe Volume\"}}, \"yaxis2\": {\"anchor\": \"free\", \"overlaying\": \"y\", \"showspikes\": true, \"side\": \"left\", \"spikecolor\": \"green\", \"spikemode\": \"across\", \"spikesnap\": \"cursor\", \"spikethickness\": 2, \"title\": {\"text\": \"$\\\\text {Pipe Volume} \\\\: (m^3)$\"}}},\n",
              "                        {\"responsive\": true}\n",
              "                    ).then(function(){\n",
              "                            \n",
              "var gd = document.getElementById('b72bfd56-2e0c-4165-940c-28362a045808');\n",
              "var x = new MutationObserver(function (mutations, observer) {{\n",
              "        var display = window.getComputedStyle(gd).display;\n",
              "        if (!display || display === 'none') {{\n",
              "            console.log([gd, 'removed!']);\n",
              "            Plotly.purge(gd);\n",
              "            observer.disconnect();\n",
              "        }}\n",
              "}});\n",
              "\n",
              "// Listen for the removal of the full notebook cells\n",
              "var notebookContainer = gd.closest('#notebook-container');\n",
              "if (notebookContainer) {{\n",
              "    x.observe(notebookContainer, {childList: true});\n",
              "}}\n",
              "\n",
              "// Listen for the clearing of the current output cell\n",
              "var outputEl = gd.closest('.output');\n",
              "if (outputEl) {{\n",
              "    x.observe(outputEl, {childList: true});\n",
              "}}\n",
              "\n",
              "                        })\n",
              "                };\n",
              "                \n",
              "            </script>\n",
              "        </div>\n",
              "</body>\n",
              "</html>"
            ]
          },
          "metadata": {}
        }
      ]
    },
    {
      "cell_type": "code",
      "metadata": {
        "id": "ioIc_Kq-M9Vw"
      },
      "source": [
        ""
      ],
      "execution_count": 19,
      "outputs": []
    },
    {
      "cell_type": "code",
      "metadata": {
        "id": "_cuEzIW0NZ3D"
      },
      "source": [
        ""
      ],
      "execution_count": 19,
      "outputs": []
    },
    {
      "cell_type": "code",
      "metadata": {
        "id": "MQylYsAgOWQt"
      },
      "source": [
        ""
      ],
      "execution_count": 19,
      "outputs": []
    },
    {
      "cell_type": "code",
      "metadata": {
        "id": "xKGnl9nROd1T"
      },
      "source": [
        ""
      ],
      "execution_count": 19,
      "outputs": []
    }
  ]
}